{
 "cells": [
  {
   "cell_type": "code",
   "execution_count": 1,
   "metadata": {
    "collapsed": false
   },
   "outputs": [],
   "source": [
    "\n",
    "#This will create the futures symbol table, it will take 10-20 minutes\n",
    "\n",
    "import sys\n",
    "sys.path.append(r'C:\\Users\\kocat_000\\quantFinance\\PycharmProjects')\n",
    "import my_sql_routines.futures_symbol_generator as fsg\n",
    "fsg.generate_futures_symbol_table({'start_year': 1980, 'end_year': 2099})"
   ]
  },
  {
   "cell_type": "code",
   "execution_count": 1,
   "metadata": {
    "collapsed": false
   },
   "outputs": [],
   "source": [
    "import my_sql_routines.futures_symbol_generator as fsg\n",
    "fsg.generate_symbol_table(start_year=1980, end_year= 2099,instrument='futures',\n",
    "                          tickerhead_list=['ES','NQ', 'EC', 'JY', 'AD', 'CD', 'BP','TY', 'US', 'FV', 'TU', 'GC', 'SI'])"
   ]
  },
  {
   "cell_type": "code",
   "execution_count": null,
   "metadata": {
    "collapsed": true
   },
   "outputs": [],
   "source": []
  }
 ],
 "metadata": {
  "kernelspec": {
   "display_name": "Python 3",
   "language": "python",
   "name": "python3"
  },
  "language_info": {
   "codemirror_mode": {
    "name": "ipython",
    "version": 3
   },
   "file_extension": ".py",
   "mimetype": "text/x-python",
   "name": "python",
   "nbconvert_exporter": "python",
   "pygments_lexer": "ipython3",
   "version": "3.4.3"
  }
 },
 "nbformat": 4,
 "nbformat_minor": 0
}
