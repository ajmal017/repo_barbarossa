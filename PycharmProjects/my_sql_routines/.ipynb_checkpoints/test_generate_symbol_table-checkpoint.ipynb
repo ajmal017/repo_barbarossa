{
 "cells": [
  {
   "cell_type": "code",
   "execution_count": 1,
   "metadata": {
    "collapsed": false
   },
   "outputs": [],
   "source": [
    "\n",
    "#This will create the futures symbol table, it will take 10-20 minutes\n",
    "\n",
    "import sys\n",
    "sys.path.append(r'C:\\Users\\kocat_000\\quantFinance\\PycharmProjects')\n",
    "import my_sql_routines.futures_symbol_generator as fsg\n",
    "fsg.generate_futures_symbol_table({'start_year': 1980, 'end_year': 2099})"
   ]
  },
  {
   "cell_type": "code",
   "execution_count": 3,
   "metadata": {
    "collapsed": false
   },
   "outputs": [
    {
     "ename": "SyntaxError",
     "evalue": "keyword can't be an expression (<ipython-input-3-f139a1174c0d>, line 2)",
     "output_type": "error",
     "traceback": [
      "\u001b[1;36m  File \u001b[1;32m\"<ipython-input-3-f139a1174c0d>\"\u001b[1;36m, line \u001b[1;32m2\u001b[0m\n\u001b[1;33m    fsg.generate_symbol_table('start_year'=1980, 'end_year'= 2099,instrument='options')\u001b[0m\n\u001b[1;37m                             ^\u001b[0m\n\u001b[1;31mSyntaxError\u001b[0m\u001b[1;31m:\u001b[0m keyword can't be an expression\n"
     ]
    }
   ],
   "source": [
    "import my_sql_routines.futures_symbol_generator as fsg\n",
    "fsg.generate_symbol_table(start_year=1980, end_year= 2099,instrument='options')"
   ]
  },
  {
   "cell_type": "code",
   "execution_count": null,
   "metadata": {
    "collapsed": true
   },
   "outputs": [],
   "source": []
  }
 ],
 "metadata": {
  "kernelspec": {
   "display_name": "Python 3",
   "language": "python",
   "name": "python3"
  },
  "language_info": {
   "codemirror_mode": {
    "name": "ipython",
    "version": 3
   },
   "file_extension": ".py",
   "mimetype": "text/x-python",
   "name": "python",
   "nbconvert_exporter": "python",
   "pygments_lexer": "ipython3",
   "version": "3.4.3"
  }
 },
 "nbformat": 4,
 "nbformat_minor": 0
}
