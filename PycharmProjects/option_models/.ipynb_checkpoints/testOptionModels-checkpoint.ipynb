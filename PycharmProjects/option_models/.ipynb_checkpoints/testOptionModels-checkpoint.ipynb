{
 "cells": [
  {
   "cell_type": "code",
   "execution_count": null,
   "metadata": {
    "collapsed": false
   },
   "outputs": [],
   "source": [
    "import sys\n",
    "sys.path.append(r'C:\\Users\\kocat_000\\quantFinance\\PycharmProjects\\my_sql_routines')\n",
    "import futures_price_loader as fpl\n",
    "\n",
    "fpl.load_entire_history({}) \n"
   ]
  },
  {
   "cell_type": "code",
   "execution_count": null,
   "metadata": {
    "collapsed": false
   },
   "outputs": [],
   "source": []
  },
  {
   "cell_type": "code",
   "execution_count": 2,
   "metadata": {
    "collapsed": false
   },
   "outputs": [
    {
     "data": {
      "text/plain": [
       "(3.110062955486947,\n",
       " 0.5100646300291719,\n",
       " 0.04738866472234564,\n",
       " -8.489882049314813,\n",
       " -0.5188645380155832,\n",
       " 8.403190451059867,\n",
       " -0.08260705951415376,\n",
       " 0.1511046609784664)"
      ]
     },
     "execution_count": 2,
     "metadata": {},
     "output_type": "execute_result"
    }
   ],
   "source": [
    "from win32com.client import Dispatch\n",
    "modelsCom = Dispatch('RiskCenterLibsWrappers.RCIOptionModels')\n",
    "\n",
    "aeType = modelsCom.AmericanExerciseType\n",
    "callPut = modelsCom.CallType\n",
    "modelTypeRCI = modelsCom.bsWZModelType\n",
    "\n",
    "strike = 48\n",
    "underlying = 47.47\n",
    "T = 72/365\n",
    "rate = 0.003315\n",
    "price = 3.13\n",
    "accuracy = 10**(-6)\n",
    "max_step = 1000\n",
    "IVolLowBound = 0.00001 \n",
    "IVolHighBound = 5.0 \n",
    "\n",
    "#modelsCom.RCIImpliedVolatility(modelTypeRCI,callPut,aeType,underlying,strike,T,rate,price,accuracy,max_step,IVolLowBound,IVolHighBound)\n",
    "\n",
    "outArr = modelsCom.RCIFuturesModelGrid(modelTypeRCI, callPut, aeType, underlying, strike,T, rate, 0.399)\n",
    "outArr"
   ]
  },
  {
   "cell_type": "code",
   "execution_count": null,
   "metadata": {
    "collapsed": false
   },
   "outputs": [],
   "source": [
    "modelsCom.RCIOptionModelsReturnFormat()"
   ]
  },
  {
   "cell_type": "code",
   "execution_count": null,
   "metadata": {
    "collapsed": false
   },
   "outputs": [],
   "source": [
    "import sys\n",
    "sys.path.append(r'C:\\Users\\kocat_000\\quantFinance\\PycharmProjects\\my_sql_routines')\n",
    "import futures_price_loader as fpl\n",
    "import numpy as np\n",
    "kuwu = fpl.load_price_data_4ticker({'ticker': first_item[1],'expiration_date': first_item[2]})\n",
    "\n",
    "\n"
   ]
  },
  {
   "cell_type": "code",
   "execution_count": null,
   "metadata": {
    "collapsed": false
   },
   "outputs": [],
   "source": [
    "kuwu[kuwu['price_date']<=first_item[2]]\n",
    "\n"
   ]
  },
  {
   "cell_type": "code",
   "execution_count": null,
   "metadata": {
    "collapsed": false
   },
   "outputs": [],
   "source": [
    "#price_data['price_date'] = pd.Series(price_data.index, index=price_data.index)\n",
    "expiration_date = first_item[2]\n",
    "expiration_date\n",
    "import datetime\n",
    "\n",
    "data_vendor_id = 1\n",
    "symbol_id = 1\n",
    "now = datetime.datetime.utcnow()\n",
    "\n",
    "tuples = [tuple([data_vendor_id, symbol_id, x[8].to_datetime().date(),expiration_date-x[8].to_datetime().date(),\n",
    "                     now, now, x[0], x[1], x[2], x[5], x[6], x[7]]) for x in price_data.values]\n",
    "\n",
    "tuples"
   ]
  },
  {
   "cell_type": "code",
   "execution_count": null,
   "metadata": {
    "collapsed": false
   },
   "outputs": [],
   "source": []
  },
  {
   "cell_type": "code",
   "execution_count": null,
   "metadata": {
    "collapsed": false
   },
   "outputs": [],
   "source": [
    "tuples[379]"
   ]
  },
  {
   "cell_type": "code",
   "execution_count": null,
   "metadata": {
    "collapsed": false
   },
   "outputs": [],
   "source": [
    "ticker_class = 'Livestock'\n",
    "ticker_month_num = 11\n",
    "ticker_year = 2015\n",
    "import sys\n",
    "sys.path.append(r'C:\\Users\\kocat_000\\quantFinance\\PycharmProjects\\contract_utilities')\n",
    "import expiration as exp\n",
    "import pandas as pd\n",
    "from pandas.tseries.offsets import CustomBusinessDay\n",
    "\n",
    "\n",
    "    \n",
    "bday_us = CustomBusinessDay(calendar=exp.get_calendar_4ticker_class(ticker_class))\n",
    "\n",
    "#pd.tseries.holiday.USThanksgivingDay\n",
    "dts"
   ]
  },
  {
   "cell_type": "code",
   "execution_count": null,
   "metadata": {
    "collapsed": false
   },
   "outputs": [],
   "source": [
    "import pandas as pd\n",
    "from pandas.tseries.holiday import USFederalHolidayCalendar, get_calendar, HolidayCalendarFactory, AbstractHolidayCalendar\n",
    "USFederalHolidayCalendar.rules\n",
    "\n",
    "\n",
    "\n",
    "\n",
    "\n",
    "\n",
    "\n",
    "\n"
   ]
  },
  {
   "cell_type": "code",
   "execution_count": null,
   "metadata": {
    "collapsed": false
   },
   "outputs": [],
   "source": [
    "import sys\n",
    "sys.path.append(r'C:\\Users\\kocat_000\\quantFinance\\PycharmProjects\\contract_utilities')\n",
    "import expiration as exp\n",
    "kuzu = exp.get_calendar_4ticker_class('Ag')\n",
    "kuzu.rules"
   ]
  },
  {
   "cell_type": "code",
   "execution_count": null,
   "metadata": {
    "collapsed": false
   },
   "outputs": [],
   "source": [
    "USFederalHolidayCalendar.rules.index(pd.tseries.holiday.USColumbusDay)\n",
    "cal = get_calendar('USFederalHolidayCalendar')\n",
    "colombus_indx = USFederalHolidayCalendar.rules.index(pd.tseries.holiday.USColumbusDay)\n",
    "cal.rules.pop(colombus_indx)\n",
    "cal.rules"
   ]
  },
  {
   "cell_type": "code",
   "execution_count": null,
   "metadata": {
    "collapsed": false
   },
   "outputs": [],
   "source": [
    "good_thursdays"
   ]
  },
  {
   "cell_type": "code",
   "execution_count": null,
   "metadata": {
    "collapsed": false
   },
   "outputs": [],
   "source": [
    "#tradingCal = HolidayCalendarFactory('TradingCalendar', cal)\n",
    "#cal1 = tradingCal()\n",
    "bday_us1 = CustomBusinessDay(calendar=cal\n",
    "dts = pd.date_range(pd.datetime(2015,10,1), \n",
    "                    periods=15, freq=bday_us1)\n",
    "dts"
   ]
  },
  {
   "cell_type": "code",
   "execution_count": null,
   "metadata": {
    "collapsed": false
   },
   "outputs": [],
   "source": []
  },
  {
   "cell_type": "code",
   "execution_count": null,
   "metadata": {
    "collapsed": false
   },
   "outputs": [],
   "source": [
    "\n",
    "        \n",
    "    "
   ]
  },
  {
   "cell_type": "code",
   "execution_count": null,
   "metadata": {
    "collapsed": false
   },
   "outputs": [],
   "source": [
    "\n"
   ]
  },
  {
   "cell_type": "code",
   "execution_count": null,
   "metadata": {
    "collapsed": true
   },
   "outputs": [],
   "source": []
  }
 ],
 "metadata": {
  "kernelspec": {
   "display_name": "Python 3",
   "language": "python",
   "name": "python3"
  },
  "language_info": {
   "codemirror_mode": {
    "name": "ipython",
    "version": 3
   },
   "file_extension": ".py",
   "mimetype": "text/x-python",
   "name": "python",
   "nbconvert_exporter": "python",
   "pygments_lexer": "ipython3",
   "version": "3.4.3"
  }
 },
 "nbformat": 4,
 "nbformat_minor": 0
}
