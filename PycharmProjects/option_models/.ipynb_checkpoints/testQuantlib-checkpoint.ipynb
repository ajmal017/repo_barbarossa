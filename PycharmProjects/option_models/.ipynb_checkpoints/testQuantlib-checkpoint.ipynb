{
 "cells": [
  {
   "cell_type": "code",
   "execution_count": null,
   "metadata": {
    "collapsed": false
   },
   "outputs": [],
   "source": [
    "import QuantLib as ql\n",
    "\n",
    "day_count = ql.Actual365Fixed()\n",
    "calendar = ql.UnitedStates()\n",
    "\n",
    "spot_price = 127.62\n",
    "strike_price = 130\n",
    "risk_free_rate = 0.001\n",
    "volatility = 0.20\n",
    "dividend_rate = 0\n",
    "maturity_date = ql.Date(15,1,2016)\n",
    "calculation_date = ql.Date(8,5,2015)\n",
    "option_type = ql.Option.Call\n",
    "ql.Settings.instance().evaluationDate = calculation_date\n",
    "\n",
    "exercise = ql.AmericanExercise(calculation_date,maturity_date)\n",
    "\n",
    "spot_handle = ql.QuoteHandle(ql.SimpleQuote(spot_price))\n",
    "\n",
    "flat_ts = ql.YieldTermStructureHandle(ql.FlatForward(calculation_date, risk_free_rate, day_count))\n",
    "\n",
    "dividend_yield = ql.YieldTermStructureHandle(ql.FlatForward(calculation_date, dividend_rate, day_count))\n",
    "flat_vol_ts = ql.BlackVolTermStructureHandle(ql.BlackConstantVol(calculation_date, calendar, volatility, day_count))\n",
    "\n",
    "bsm_process = ql.BlackScholesMertonProcess(spot_handle, dividend_yield, flat_ts, flat_vol_ts)\n",
    "\n",
    "payoff = ql.PlainVanillaPayoff(option_type, strike_price)\n",
    "american_option = ql.VanillaOption(payoff, exercise)\n",
    "\n",
    "american_option.setPricingEngine(ql.BaroneAdesiWhaleyEngine(bsm_process))\n",
    "bs_price = american_option.NPV()\n",
    "\n",
    "bs_price\n",
    "\n",
    "american_option."
   ]
  },
  {
   "cell_type": "code",
   "execution_count": null,
   "metadata": {
    "collapsed": false
   },
   "outputs": [],
   "source": [
    "american_option.impliedVolatility"
   ]
  },
  {
   "cell_type": "code",
   "execution_count": null,
   "metadata": {
    "collapsed": false
   },
   "outputs": [],
   "source": [
    "american_option.impliedVolatility(7.63, bsm_process)"
   ]
  },
  {
   "cell_type": "code",
   "execution_count": null,
   "metadata": {
    "collapsed": true
   },
   "outputs": [],
   "source": [
    "ql.Option.Put"
   ]
  },
  {
   "cell_type": "code",
   "execution_count": null,
   "metadata": {
    "collapsed": false
   },
   "outputs": [],
   "source": [
    "report_date = 20160310\n",
    "import shared.calendar_utilities as cu\n",
    "report_datetime = cu.convert_doubledate_2datetime(report_date)\n",
    "report_datetime.year"
   ]
  },
  {
   "cell_type": "code",
   "execution_count": null,
   "metadata": {
    "collapsed": false
   },
   "outputs": [],
   "source": [
    "import option_models.quantlib_option_models as qom\n",
    "\n",
    "option_greeks = qom.get_option_greeks(underlying=127.62, \\\n",
    "                                              strike=130,        \\\n",
    "                                              risk_free_rate=0.1,\\\n",
    "                                              option_price=7.43,\\\n",
    "                                              expiration_date=20160115,\\\n",
    "                                              calculation_date=20150508,\\\n",
    "                                              exercise_type='a',\\\n",
    "                                              option_type='C')\n",
    "option_greeks"
   ]
  },
  {
   "cell_type": "code",
   "execution_count": null,
   "metadata": {
    "collapsed": false
   },
   "outputs": [],
   "source": [
    "import contract_utilities.expiration as exp\n",
    "wuhu = exp.get_expiration_from_db(ticker='ESZ2016',instrument='options')\n",
    "wuhu"
   ]
  },
  {
   "cell_type": "code",
   "execution_count": 3,
   "metadata": {
    "collapsed": false
   },
   "outputs": [
    {
     "name": "stdout",
     "output_type": "stream",
     "text": [
      "0.00340005618919\n"
     ]
    },
    {
     "data": {
      "text/plain": [
       "{'delta': 0.5107088772089969,\n",
       " 'gamma': 0.04715906794002005,\n",
       " 'implied_vol': 0.401366,\n",
       " 'option_price': 3.129714008010419,\n",
       " 'theta': -0.023616123820636166,\n",
       " 'vega': 8.40236086311518}"
      ]
     },
     "execution_count": 3,
     "metadata": {},
     "output_type": "execute_result"
    }
   ],
   "source": [
    "import option_models.utils as ou\n",
    "wuhu = ou.option_model_wrapper(ticker='CLF2016',calculation_date=20151005,\n",
    "                        underlying=47.47,\n",
    "                        strike = 48,\n",
    "                        implied_vol=0.401366,\n",
    "                       exercise_type = 'A',\n",
    "                        option_type='C')\n",
    "wuhu\n"
   ]
  },
  {
   "cell_type": "code",
   "execution_count": null,
   "metadata": {
    "collapsed": false
   },
   "outputs": [],
   "source": [
    "import contract_utilities.expiration as exp\n",
    "exp.get_expiration_from_db(ticker='CLF2016',instrument='options')"
   ]
  },
  {
   "cell_type": "code",
   "execution_count": null,
   "metadata": {
    "collapsed": true
   },
   "outputs": [],
   "source": [
    "import QuantLib as ql\n",
    "ql."
   ]
  },
  {
   "cell_type": "code",
   "execution_count": null,
   "metadata": {
    "collapsed": false
   },
   "outputs": [],
   "source": [
    "import contract_utilities.expiration as exp\n",
    "wuhu = exp.get_days2_expiration(ticker='ESZ2015',date_to=20151005,instrument='futures')\n",
    "\n",
    "wuhu['datetime_to'].date()-wuhu['expiration_datetime']"
   ]
  },
  {
   "cell_type": "code",
   "execution_count": 2,
   "metadata": {
    "collapsed": false
   },
   "outputs": [
    {
     "data": {
      "text/plain": [
       "settleDates                        20151005.000000\n",
       "TickerYear                             2016.000000\n",
       "TickerMonth                               1.000000\n",
       "trDTE                                    51.000000\n",
       "calDTE                                   72.000000\n",
       "underlying                               47.470000\n",
       "atmVol                                   40.318036\n",
       "strike                                   48.000000\n",
       "theoValue                                 3.130002\n",
       "theoPremium                            3130.002499\n",
       "impVol                                   40.136600\n",
       "delta                                     0.510431\n",
       "gamma                                     0.047107\n",
       "vega                                      8.403179\n",
       "theta                                    -8.539840\n",
       "rate2OptExp                               0.003315\n",
       "dollarVega                               84.031792\n",
       "dollarTheta                             -23.396821\n",
       "normDollarTheta                         -36.395796\n",
       "dollarGamma                              10.615144\n",
       "dailyPnL                                -32.089442\n",
       "dailyUnhedgedPnL                        360.002547\n",
       "close2CloseVol10                         29.844787\n",
       "close2CloseVol20                         40.660029\n",
       "close2CloseVol60                         47.620467\n",
       "dailySdMove                            1205.641894\n",
       "success                                   1.000000\n",
       "profit5                                        NaN\n",
       "unhedgedProfit5                                NaN\n",
       "onceHedgedProfit5                              NaN\n",
       "                                        ...       \n",
       "ImpSkewStickinessRatio                    2.653288\n",
       "SkewStickinessRatio                       1.359484\n",
       "dImpVolDk                                -0.152414\n",
       "BSHistKnsRzVar                            0.020791\n",
       "OUHistKnsRzVar                           48.056200\n",
       "KnsRzBsSkew                              -0.002869\n",
       "DRzOuSkewness                           448.698883\n",
       "DRzSkewness                               1.346886\n",
       "DRzKurtosis                               3.748636\n",
       "BiPowerVol                               41.468641\n",
       "BSHistBkmImpBipowerRzVolPremAnn           0.013189\n",
       "BSHistSkewPremiumAnn                      0.050448\n",
       "BSHistScaledKurtPremiumAnn                0.270219\n",
       "HistKnsImpVar                             0.631815\n",
       "HistKnsImpSkew                           -0.121581\n",
       "HistKnsImpKurt                            2.534465\n",
       "contINDX                             201601.000000\n",
       "optBpvs                                        NaN\n",
       "yzVol20                                        NaN\n",
       "timeValue                              3130.002499\n",
       "pastAtmVol20                             44.497688\n",
       "pastAtmVolChange20                       -4.179610\n",
       "pastAtmVolChange1                         0.033518\n",
       "expectedDailyMove                              NaN\n",
       "optionPnL                                 0.360003\n",
       "deltaPnL                                  0.392092\n",
       "gammaPnL                                 16.258040\n",
       "thetaPnL                                -67.024112\n",
       "dSpot                                     0.830000\n",
       "Theta30days                             -13.284466\n",
       "Name: 4111, dtype: float64"
      ]
     },
     "execution_count": 2,
     "metadata": {},
     "output_type": "execute_result"
    }
   ],
   "source": [
    "import get_price.get_options_price as gop\n",
    "import shared.statistics as stats\n",
    "data_frame = gop.load_aligend_options_data_file(ticker_head='CL',tr_dte_center=50)\n",
    "\n",
    "data_frame.iloc[-1]"
   ]
  },
  {
   "cell_type": "code",
   "execution_count": null,
   "metadata": {
    "collapsed": false
   },
   "outputs": [],
   "source": [
    "import QuantLib as ql\n",
    "\n",
    "start_date = ql.Date(5,10,2015)\n",
    "end_date = ql.Date(18,12,2015)\n",
    "end_date = ql.Date(16,12,2015)\n",
    "\n",
    "day_count_obj = ql.Actual365Fixed()\n",
    "\n",
    "day_count_obj.yearFraction(start_date,end_date)"
   ]
  },
  {
   "cell_type": "code",
   "execution_count": null,
   "metadata": {
    "collapsed": false
   },
   "outputs": [],
   "source": [
    "import math as m\n",
    "m.exp(day_count_obj.yearFraction(start_date,end_date)*0.003)"
   ]
  },
  {
   "cell_type": "code",
   "execution_count": 4,
   "metadata": {
    "collapsed": true
   },
   "outputs": [],
   "source": [
    "import QuantLib as ql\n",
    "ql."
   ]
  },
  {
   "cell_type": "code",
   "execution_count": null,
   "metadata": {
    "collapsed": true
   },
   "outputs": [],
   "source": []
  }
 ],
 "metadata": {
  "kernelspec": {
   "display_name": "Python 3",
   "language": "python",
   "name": "python3"
  },
  "language_info": {
   "codemirror_mode": {
    "name": "ipython",
    "version": 3
   },
   "file_extension": ".py",
   "mimetype": "text/x-python",
   "name": "python",
   "nbconvert_exporter": "python",
   "pygments_lexer": "ipython3",
   "version": "3.4.3"
  }
 },
 "nbformat": 4,
 "nbformat_minor": 0
}
