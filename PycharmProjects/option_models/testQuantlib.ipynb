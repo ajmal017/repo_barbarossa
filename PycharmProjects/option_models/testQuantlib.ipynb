{
 "cells": [
  {
   "cell_type": "code",
   "execution_count": 14,
   "metadata": {
    "collapsed": false
   },
   "outputs": [
    {
     "data": {
      "text/plain": [
       "<Swig Object of type 'VanillaOptionPtr *' at 0x0000000008005300>"
      ]
     },
     "execution_count": 14,
     "metadata": {},
     "output_type": "execute_result"
    }
   ],
   "source": [
    "import QuantLib as ql\n",
    "\n",
    "day_count = ql.Actual365Fixed()\n",
    "calendar = ql.UnitedStates()\n",
    "\n",
    "spot_price = 127.62\n",
    "strike_price = 130\n",
    "risk_free_rate = 0.001\n",
    "volatility = 0.20\n",
    "dividend_rate = 0\n",
    "maturity_date = ql.Date(15,1,2016)\n",
    "calculation_date = ql.Date(8,5,2015)\n",
    "option_type = ql.Option.Call\n",
    "ql.Settings.instance().evaluationDate = calculation_date\n",
    "\n",
    "exercise = ql.AmericanExercise(calculation_date,maturity_date)\n",
    "\n",
    "spot_handle = ql.QuoteHandle(ql.SimpleQuote(spot_price))\n",
    "\n",
    "flat_ts = ql.YieldTermStructureHandle(ql.FlatForward(calculation_date, risk_free_rate, day_count))\n",
    "\n",
    "dividend_yield = ql.YieldTermStructureHandle(ql.FlatForward(calculation_date, dividend_rate, day_count))\n",
    "flat_vol_ts = ql.BlackVolTermStructureHandle(ql.BlackConstantVol(calculation_date, calendar, volatility, day_count))\n",
    "\n",
    "bsm_process = ql.BlackScholesMertonProcess(spot_handle, dividend_yield, flat_ts, flat_vol_ts)\n",
    "\n",
    "payoff = ql.PlainVanillaPayoff(option_type, strike_price)\n",
    "american_option = ql.VanillaOption(payoff, exercise)\n",
    "\n",
    "american_option.setPricingEngine(ql.BaroneAdesiWhaleyEngine(bsm_process))\n",
    "bs_price = american_option.NPV()\n",
    "\n",
    "bs_price\n",
    "\n",
    "american_option."
   ]
  },
  {
   "cell_type": "code",
   "execution_count": 16,
   "metadata": {
    "collapsed": false
   },
   "outputs": [
    {
     "data": {
      "text/plain": [
       "<bound method VanillaOption.impliedVolatility of <QuantLib.QuantLib.VanillaOption; proxy of <Swig Object of type 'VanillaOptionPtr *' at 0x00000000053273F0> >>"
      ]
     },
     "execution_count": 16,
     "metadata": {},
     "output_type": "execute_result"
    }
   ],
   "source": [
    "american_option.impliedVolatility"
   ]
  },
  {
   "cell_type": "code",
   "execution_count": 17,
   "metadata": {
    "collapsed": false
   },
   "outputs": [
    {
     "data": {
      "text/plain": [
       "0.20471759623154892"
      ]
     },
     "execution_count": 17,
     "metadata": {},
     "output_type": "execute_result"
    }
   ],
   "source": [
    "american_option.impliedVolatility(7.63, bsm_process)"
   ]
  },
  {
   "cell_type": "code",
   "execution_count": null,
   "metadata": {
    "collapsed": true
   },
   "outputs": [],
   "source": [
    "ql.Option.Put"
   ]
  },
  {
   "cell_type": "code",
   "execution_count": 22,
   "metadata": {
    "collapsed": false
   },
   "outputs": [
    {
     "data": {
      "text/plain": [
       "2016"
      ]
     },
     "execution_count": 22,
     "metadata": {},
     "output_type": "execute_result"
    }
   ],
   "source": [
    "report_date = 20160310\n",
    "import shared.calendar_utilities as cu\n",
    "report_datetime = cu.convert_doubledate_2datetime(report_date)\n",
    "report_datetime.year"
   ]
  },
  {
   "cell_type": "code",
   "execution_count": 1,
   "metadata": {
    "collapsed": false
   },
   "outputs": [
    {
     "data": {
      "text/plain": [
       "{'delta': 0.49044520413690046,\n",
       " 'gamma': 0.018806467748866865,\n",
       " 'implied_vol': 0.19998879814131112,\n",
       " 'option_price': 7.429999486839421,\n",
       " 'theta': -0.01693271839945601,\n",
       " 'vega': 42.29198416280218}"
      ]
     },
     "execution_count": 1,
     "metadata": {},
     "output_type": "execute_result"
    }
   ],
   "source": [
    "import option_models.quantlib_option_models as qom\n",
    "\n",
    "option_greeks = qom.get_option_greeks(underlying=127.62, \\\n",
    "                                              strike=130,        \\\n",
    "                                              risk_free_rate=0.1,\\\n",
    "                                              option_price=7.43,\\\n",
    "                                              expiration_date=20160115,\\\n",
    "                                              calculation_date=20150508,\\\n",
    "                                              exercise_type='a',\\\n",
    "                                              option_type='C')\n",
    "option_greeks"
   ]
  },
  {
   "cell_type": "code",
   "execution_count": 5,
   "metadata": {
    "collapsed": false
   },
   "outputs": [
    {
     "data": {
      "text/plain": [
       "datetime.date(2016, 12, 16)"
      ]
     },
     "execution_count": 5,
     "metadata": {},
     "output_type": "execute_result"
    }
   ],
   "source": [
    "import contract_utilities.expiration as exp\n",
    "wuhu = exp.get_expiration_from_db(ticker='ESZ2016',instrument='options')\n",
    "wuhu[0][0]"
   ]
  },
  {
   "cell_type": "code",
   "execution_count": 8,
   "metadata": {
    "collapsed": false
   },
   "outputs": [
    {
     "data": {
      "text/plain": [
       "{'delta': 0.5057832623386288,\n",
       " 'implied_vol': 0.1759,\n",
       " 'option_price': 60.49487725360701}"
      ]
     },
     "execution_count": 8,
     "metadata": {},
     "output_type": "execute_result"
    }
   ],
   "source": [
    "import option_models.utils as ou\n",
    "ou.option_model_wrapper(ticker='ESZ2015',calculation_date=20151005,\n",
    "                        underlying=1974.7,\n",
    "                        strike = 1980,\n",
    "                        implied_vol=0.1759,\n",
    "                       exercise_type = 'A',\n",
    "                        option_type='C')"
   ]
  },
  {
   "cell_type": "code",
   "execution_count": 7,
   "metadata": {
    "collapsed": false
   },
   "outputs": [
    {
     "data": {
      "text/plain": [
       "datetime.timedelta(-74)"
      ]
     },
     "execution_count": 7,
     "metadata": {},
     "output_type": "execute_result"
    }
   ],
   "source": [
    "import contract_utilities.expiration as exp\n",
    "wuhu = exp.get_days2_expiration(ticker='ESZ2015',date_to=20151005,instrument='futures')\n",
    "\n",
    "wuhu['datetime_to'].date()-wuhu['expiration_datetime']"
   ]
  },
  {
   "cell_type": "code",
   "execution_count": 3,
   "metadata": {
    "collapsed": false
   },
   "outputs": [
    {
     "data": {
      "text/plain": [
       "settleDates                        20151005.000000\n",
       "TickerYear                             2015.000000\n",
       "TickerMonth                              12.000000\n",
       "trDTE                                    52.000000\n",
       "calDTE                                   73.000000\n",
       "underlying                             1974.700000\n",
       "atmVol                                   17.777711\n",
       "strike                                 1980.000000\n",
       "theoValue                                59.400108\n",
       "theoPremium                            2970.005417\n",
       "impVol                                   17.592900\n",
       "delta                                     0.501828\n",
       "gamma                                     0.002567\n",
       "vega                                    352.100403\n",
       "theta                                  -154.688950\n",
       "rate2OptExp                               0.003315\n",
       "dollarVega                              176.050201\n",
       "dollarTheta                             -21.190267\n",
       "normDollarTheta                         -33.424451\n",
       "dollarGamma                              50.042259\n",
       "dailyPnL                                -34.761667\n",
       "dailyUnhedgedPnL                        635.000324\n",
       "close2CloseVol10                         20.651952\n",
       "close2CloseVol20                         19.137574\n",
       "close2CloseVol60                         21.736429\n",
       "dailySdMove                            1105.723923\n",
       "success                                   1.000000\n",
       "profit5                                        NaN\n",
       "unhedgedProfit5                                NaN\n",
       "onceHedgedProfit5                              NaN\n",
       "                                        ...       \n",
       "ImpSkewStickinessRatio                    0.630453\n",
       "SkewStickinessRatio                       1.455425\n",
       "dImpVolDk                                -0.645963\n",
       "BSHistKnsRzVar                            0.004100\n",
       "OUHistKnsRzVar                        15294.360000\n",
       "KnsRzBsSkew                              -0.001560\n",
       "DRzOuSkewness                     -51659662.084984\n",
       "DRzSkewness                             -27.312069\n",
       "DRzKurtosis                            6635.785616\n",
       "BiPowerVol                               18.615340\n",
       "BSHistBkmImpBipowerRzVolPremAnn           0.022270\n",
       "BSHistSkewPremiumAnn                      0.124654\n",
       "BSHistScaledKurtPremiumAnn                0.297331\n",
       "HistKnsImpVar                             1.083093\n",
       "HistKnsImpSkew                            0.037473\n",
       "HistKnsImpKurt                            0.200597\n",
       "contINDX                             201512.000000\n",
       "optBpvs                                        NaN\n",
       "yzVol20                                        NaN\n",
       "timeValue                              2970.005417\n",
       "pastAtmVol20                             22.934002\n",
       "pastAtmVolChange20                       -5.156261\n",
       "pastAtmVolChange1                        -1.217014\n",
       "expectedDailyMove                              NaN\n",
       "optionPnL                                12.700006\n",
       "deltaPnL                                 13.395240\n",
       "gammaPnL                                 62.410003\n",
       "thetaPnL                                -60.855615\n",
       "dSpot                                    31.600000\n",
       "Theta30days                            -243.998491\n",
       "Name: 5122, dtype: float64"
      ]
     },
     "execution_count": 3,
     "metadata": {},
     "output_type": "execute_result"
    }
   ],
   "source": [
    "import opportunity_constructs.utilities as ocu\n",
    "import shared.statistics as stats\n",
    "#data_frame = ocu.load_aligend_options_data_file(ticker_head='SP',tr_dte_center=50)\n",
    "\n",
    "data_frame.iloc[-1]"
   ]
  },
  {
   "cell_type": "code",
   "execution_count": null,
   "metadata": {
    "collapsed": true
   },
   "outputs": [],
   "source": []
  }
 ],
 "metadata": {
  "kernelspec": {
   "display_name": "Python 3",
   "language": "python",
   "name": "python3"
  },
  "language_info": {
   "codemirror_mode": {
    "name": "ipython",
    "version": 3
   },
   "file_extension": ".py",
   "mimetype": "text/x-python",
   "name": "python",
   "nbconvert_exporter": "python",
   "pygments_lexer": "ipython3",
   "version": "3.4.3"
  }
 },
 "nbformat": 4,
 "nbformat_minor": 0
}
