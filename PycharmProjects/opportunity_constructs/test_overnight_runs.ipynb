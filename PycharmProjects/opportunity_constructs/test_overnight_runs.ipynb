{
 "cells": [
  {
   "cell_type": "code",
   "execution_count": 1,
   "metadata": {
    "collapsed": false
   },
   "outputs": [
    {
     "ename": "UnboundLocalError",
     "evalue": "local variable 'filter_string' referenced before assignment",
     "output_type": "error",
     "traceback": [
      "\u001b[1;31m---------------------------------------------------------------------------\u001b[0m",
      "\u001b[1;31mUnboundLocalError\u001b[0m                         Traceback (most recent call last)",
      "\u001b[1;32m<ipython-input-1-a2a47a74f93d>\u001b[0m in \u001b[0;36m<module>\u001b[1;34m()\u001b[0m\n\u001b[0;32m      2\u001b[0m \u001b[1;32mimport\u001b[0m \u001b[0mmy_sql_routines\u001b[0m\u001b[1;33m.\u001b[0m\u001b[0mfutures_price_loader\u001b[0m \u001b[1;32mas\u001b[0m \u001b[0mfpl\u001b[0m\u001b[1;33m\u001b[0m\u001b[0m\n\u001b[0;32m      3\u001b[0m \u001b[1;31m#fsg.generate_futures_symbol_table(start_year=1970,end_year=2099)\u001b[0m\u001b[1;33m\u001b[0m\u001b[1;33m\u001b[0m\u001b[0m\n\u001b[1;32m----> 4\u001b[1;33m \u001b[0mfpl\u001b[0m\u001b[1;33m.\u001b[0m\u001b[0mload_entire_history\u001b[0m\u001b[1;33m(\u001b[0m\u001b[1;33m)\u001b[0m\u001b[1;33m\u001b[0m\u001b[0m\n\u001b[0m",
      "\u001b[1;32mC:\\Research\\PycharmProjects\\my_sql_routines\\futures_price_loader.py\u001b[0m in \u001b[0;36mload_entire_history\u001b[1;34m(**kwargs)\u001b[0m\n\u001b[0;32m     86\u001b[0m \u001b[1;32mdef\u001b[0m \u001b[0mload_entire_history\u001b[0m\u001b[1;33m(\u001b[0m\u001b[1;33m**\u001b[0m\u001b[0mkwargs\u001b[0m\u001b[1;33m)\u001b[0m\u001b[1;33m:\u001b[0m\u001b[1;33m\u001b[0m\u001b[0m\n\u001b[0;32m     87\u001b[0m \u001b[1;33m\u001b[0m\u001b[0m\n\u001b[1;32m---> 88\u001b[1;33m     \u001b[0mcontract_list\u001b[0m \u001b[1;33m=\u001b[0m \u001b[0mcl\u001b[0m\u001b[1;33m.\u001b[0m\u001b[0mget_db_contract_list_filtered\u001b[0m\u001b[1;33m(\u001b[0m\u001b[0myear_from\u001b[0m\u001b[1;33m=\u001b[0m\u001b[1;36m1980\u001b[0m\u001b[1;33m,\u001b[0m\u001b[0myear_to\u001b[0m\u001b[1;33m=\u001b[0m\u001b[1;36m2022\u001b[0m\u001b[1;33m)\u001b[0m\u001b[1;33m\u001b[0m\u001b[0m\n\u001b[0m\u001b[0;32m     89\u001b[0m     \u001b[1;31m# length of contract_list is 6594\u001b[0m\u001b[1;33m\u001b[0m\u001b[1;33m\u001b[0m\u001b[0m\n\u001b[0;32m     90\u001b[0m \u001b[1;33m\u001b[0m\u001b[0m\n",
      "\u001b[1;32mC:\\Research\\PycharmProjects\\contract_utilities\\contract_lists.py\u001b[0m in \u001b[0;36mget_db_contract_list_filtered\u001b[1;34m(**kwargs)\u001b[0m\n\u001b[0;32m     47\u001b[0m         \u001b[0mfilter_string\u001b[0m \u001b[1;33m=\u001b[0m \u001b[0mfilter_string\u001b[0m \u001b[1;33m+\u001b[0m \u001b[1;34m' and ticker_head=\\''\u001b[0m \u001b[1;33m+\u001b[0m \u001b[0mkwargs\u001b[0m\u001b[1;33m[\u001b[0m\u001b[1;34m'ticker_head'\u001b[0m\u001b[1;33m]\u001b[0m \u001b[1;33m+\u001b[0m \u001b[1;34m'\\''\u001b[0m\u001b[1;33m\u001b[0m\u001b[0m\n\u001b[0;32m     48\u001b[0m \u001b[1;33m\u001b[0m\u001b[0m\n\u001b[1;32m---> 49\u001b[1;33m     \u001b[0msql_query\u001b[0m \u001b[1;33m=\u001b[0m \u001b[0msql_query\u001b[0m \u001b[1;33m+\u001b[0m \u001b[1;34m' WHERE '\u001b[0m \u001b[1;33m+\u001b[0m \u001b[0mfilter_string\u001b[0m \u001b[1;33m+\u001b[0m \u001b[1;34m' ORDER BY id ASC'\u001b[0m\u001b[1;33m\u001b[0m\u001b[0m\n\u001b[0m\u001b[0;32m     50\u001b[0m \u001b[1;33m\u001b[0m\u001b[0m\n\u001b[0;32m     51\u001b[0m     \u001b[0mcur\u001b[0m \u001b[1;33m=\u001b[0m \u001b[0mcon\u001b[0m\u001b[1;33m.\u001b[0m\u001b[0mcursor\u001b[0m\u001b[1;33m(\u001b[0m\u001b[1;33m)\u001b[0m\u001b[1;33m\u001b[0m\u001b[0m\n",
      "\u001b[1;31mUnboundLocalError\u001b[0m: local variable 'filter_string' referenced before assignment"
     ]
    }
   ],
   "source": [
    "import my_sql_routines.futures_symbol_generator as fsg\n",
    "import my_sql_routines.futures_price_loader as fpl\n",
    "#fsg.generate_futures_symbol_table(start_year=1970,end_year=2099)\n",
    "fpl.load_entire_history()\n"
   ]
  },
  {
   "cell_type": "code",
   "execution_count": null,
   "metadata": {
    "collapsed": false
   },
   "outputs": [
    {
     "name": "stdout",
     "output_type": "stream",
     "text": [
      "No : 0, KCH2016 loaded\n",
      "No : 1, KCH2017 loaded\n",
      "No : 2, KCK2016 loaded\n",
      "No : 3, KCK2017 loaded\n",
      "No : 4, KCN2016 loaded\n",
      "No : 5, KCN2017 loaded\n",
      "No : 6, KCU2016 loaded\n",
      "No : 7, KCU2017 loaded\n",
      "No : 8, KCZ2016 loaded\n",
      "No : 9, KCZ2017 loaded"
     ]
    }
   ],
   "source": []
  },
  {
   "cell_type": "code",
   "execution_count": null,
   "metadata": {
    "collapsed": true
   },
   "outputs": [],
   "source": [
    "import get_price.presave_price as pp\n",
    "pp.generate_and_update_futures_data_files()"
   ]
  },
  {
   "cell_type": "code",
   "execution_count": 1,
   "metadata": {
    "collapsed": false
   },
   "outputs": [
    {
     "data": {
      "text/plain": [
       "{'butterflies':      ticker1  ticker2  ticker3 tickerHead tickerClass  trDte1  trDte2  trDte3  \\\n",
       " 0     BJ2016   BK2016   BM2016          B      Energy      41      63      84   \n",
       " 1     BK2016   BM2016   BN2016          B      Energy      63      84     105   \n",
       " 2     BM2016   BN2016   BQ2016          B      Energy      84     105     127   \n",
       " 3     BN2016   BQ2016   BU2016          B      Energy     105     127     147   \n",
       " 4     BQ2016   BU2016   BV2016          B      Energy     127     147     169   \n",
       " 5     BU2016   BV2016   BX2016          B      Energy     147     169     191   \n",
       " 6     BV2016   BX2016   BZ2016          B      Energy     169     191     212   \n",
       " 7     BX2016   BZ2016   BF2017          B      Energy     191     212     233   \n",
       " 8     BZ2016   BF2017   BG2017          B      Energy     212     233     253   \n",
       " 9     BF2017   BG2017   BH2017          B      Energy     233     253     275   \n",
       " 10    BG2017   BH2017   BJ2017          B      Energy     253     275     295   \n",
       " 11    BH2017   BJ2017   BK2017          B      Energy     275     295     318   \n",
       " 12    BJ2017   BK2017   BM2017          B      Energy     295     318     337   \n",
       " 13    BK2017   BM2017   BN2017          B      Energy     318     337     359   \n",
       " 14    BM2017   BN2017   BQ2017          B      Energy     337     359     381   \n",
       " 15    BN2017   BQ2017   BU2017          B      Energy     359     381     401   \n",
       " 16    BQ2017   BU2017   BV2017          B      Energy     381     401     423   \n",
       " 17    BU2017   BV2017   BX2017          B      Energy     401     423     444   \n",
       " 18    BV2017   BX2017   BZ2017          B      Energy     423     444     466   \n",
       " 19    BJ2016   BM2016   BQ2016          B      Energy      41      84     127   \n",
       " 20    BK2016   BN2016   BU2016          B      Energy      63     105     147   \n",
       " 21    BM2016   BQ2016   BV2016          B      Energy      84     127     169   \n",
       " 22    BN2016   BU2016   BX2016          B      Energy     105     147     191   \n",
       " 23    BQ2016   BV2016   BZ2016          B      Energy     127     169     212   \n",
       " 24    BU2016   BX2016   BF2017          B      Energy     147     191     233   \n",
       " 25    BV2016   BZ2016   BG2017          B      Energy     169     212     253   \n",
       " 26    BX2016   BF2017   BH2017          B      Energy     191     233     275   \n",
       " 27    BZ2016   BG2017   BJ2017          B      Energy     212     253     295   \n",
       " 28    BF2017   BH2017   BK2017          B      Energy     233     275     318   \n",
       " 29    BG2017   BJ2017   BM2017          B      Energy     253     295     337   \n",
       " ..       ...      ...      ...        ...         ...     ...     ...     ...   \n",
       " 249  RBH2016  RBM2016  RBU2016         RB      Energy      39     103     168   \n",
       " 250  RBJ2016  RBN2016  RBV2016         RB      Energy      61     125     189   \n",
       " 251  RBK2016  RBQ2016  RBX2016         RB      Energy      82     145     210   \n",
       " 252  RBM2016  RBU2016  RBZ2016         RB      Energy     103     168     231   \n",
       " 253  RBN2016  RBV2016  RBZ2017         RB      Energy     125     189     483   \n",
       " 254   SH2016   SK2016   SN2016          S          Ag      49      92     134   \n",
       " 255   SK2016   SN2016   SQ2016          S          Ag      92     134     155   \n",
       " 256   SN2016   SQ2016   SU2016          S          Ag     134     155     177   \n",
       " 257   SQ2016   SU2016   SX2016          S          Ag     155     177     220   \n",
       " 258   SH2016   SN2016   SU2016          S          Ag      49     134     177   \n",
       " 259   SK2016   SQ2016   SX2016          S          Ag      92     155     220   \n",
       " 260  SBH2016  SBK2016  SBN2016         SB        Soft      39      82     125   \n",
       " 261  SBK2016  SBN2016  SBV2016         SB        Soft      82     125     189   \n",
       " 262  SBN2016  SBV2016  SBH2017         SB        Soft     125     189     291   \n",
       " 263  SBH2016  SBN2016  SBH2017         SB        Soft      39     125     291   \n",
       " 264  SMH2016  SMK2016  SMN2016         SM          Ag      49      92     134   \n",
       " 265  SMK2016  SMN2016  SMQ2016         SM          Ag      92     134     155   \n",
       " 266  SMN2016  SMQ2016  SMU2016         SM          Ag     134     155     177   \n",
       " 267  SMQ2016  SMU2016  SMV2016         SM          Ag     155     177     199   \n",
       " 268  SMU2016  SMV2016  SMZ2016         SM          Ag     177     199     241   \n",
       " 269  SMH2016  SMN2016  SMU2016         SM          Ag      49     134     177   \n",
       " 270  SMK2016  SMQ2016  SMV2016         SM          Ag      92     155     199   \n",
       " 271  SMN2016  SMU2016  SMZ2016         SM          Ag     134     177     241   \n",
       " 272  SMH2016  SMQ2016  SMZ2016         SM          Ag      49     155     241   \n",
       " 273   WH2016   WK2016   WN2016          W          Ag      49      92     134   \n",
       " 274   WK2016   WN2016   WU2016          W          Ag      92     134     177   \n",
       " 275   WN2016   WU2016   WZ2016          W          Ag     134     177     241   \n",
       " 276   WU2016   WZ2016   WH2017          W          Ag     177     241     301   \n",
       " 277   WH2016   WN2016   WZ2016          W          Ag      49     134     241   \n",
       " 278   WK2016   WU2016   WH2017          W          Ag      92     177     301   \n",
       " \n",
       "      multiplier  agg    ...     weight2  weight3   downside    upside  \\\n",
       " 0          1000    1    ...          -2        1    -73.704    95.509   \n",
       " 1          1000    1    ...          -2        1    -57.353    60.982   \n",
       " 2          1000    1    ...          -2        1    -50.878    48.087   \n",
       " 3          1000    1    ...          -2        1    -39.293    38.648   \n",
       " 4          1000    1    ...          -2        1    -35.461    33.946   \n",
       " 5          1000    1    ...          -2        1    -35.103    40.048   \n",
       " 6          1000    1    ...          -2        1    -32.950    36.196   \n",
       " 7          1000    1    ...          -2        1    -34.132    36.790   \n",
       " 8          1000    1    ...          -2        1    -35.343    29.021   \n",
       " 9          1000    1    ...          -2        1    -31.012    35.506   \n",
       " 10         1000    1    ...          -2        1    -35.732    30.111   \n",
       " 11         1000    1    ...          -2        1    -29.614    29.851   \n",
       " 12         1000    1    ...          -2        1    -30.478    33.144   \n",
       " 13         1000    1    ...          -2        1    -36.297    40.008   \n",
       " 14         1000    1    ...          -2        1    -37.886    34.886   \n",
       " 15         1000    1    ...          -2        1    -34.368    37.833   \n",
       " 16         1000    1    ...          -2        1    -34.307    35.764   \n",
       " 17         1000    1    ...          -2        1    -36.042    30.375   \n",
       " 18         1000    1    ...          -2        1    -33.711    41.003   \n",
       " 19         1000    1    ...          -2        1   -195.025   214.495   \n",
       " 20         1000    1    ...          -2        1   -154.966   155.983   \n",
       " 21         1000    1    ...          -2        1   -133.553   117.912   \n",
       " 22         1000    1    ...          -2        1   -104.904    91.069   \n",
       " 23         1000    1    ...          -2        1    -95.288   105.024   \n",
       " 24         1000    1    ...          -2        1    -91.445   103.487   \n",
       " 25         1000    1    ...          -2        1    -90.588    91.171   \n",
       " 26         1000    1    ...          -2        1    -86.748    73.850   \n",
       " 27         1000    1    ...          -2        1    -84.868    77.985   \n",
       " 28         1000    1    ...          -2        1    -79.323    77.961   \n",
       " 29         1000    1    ...          -2        1    -73.437    68.653   \n",
       " ..          ...  ...    ...         ...      ...        ...       ...   \n",
       " 249       42000   12    ...          -2        1  -1522.307  1186.052   \n",
       " 250       42000   12    ...          -2        1   -622.386   685.049   \n",
       " 251       42000   12    ...          -2        1   -575.156   633.073   \n",
       " 252       42000   12    ...          -2        1   -502.080   549.696   \n",
       " 253       42000   12    ...          -2        1   -525.854   746.478   \n",
       " 254          50   12    ...          -2        1   -509.854   253.544   \n",
       " 255          50   12    ...          -2        1   -170.769   205.533   \n",
       " 256          50   12    ...          -2        1   -232.503   230.550   \n",
       " 257          50   12    ...          -2        1   -161.248   372.453   \n",
       " 258          50   12    ...          -2        1   -491.886   342.903   \n",
       " 259          50   12    ...          -2        1   -383.760   387.644   \n",
       " 260        1120   12    ...          -2        1 -10157.616   378.740   \n",
       " 261        1120   12    ...          -2        1   -366.818   291.287   \n",
       " 262        1120   12    ...          -2        1   -147.293   155.535   \n",
       " 263        1120   12    ...          -2        1 -10130.221   627.995   \n",
       " 264         100   12    ...          -2        1   -377.480   237.794   \n",
       " 265         100   12    ...          -2        1   -177.075   121.280   \n",
       " 266         100   12    ...          -2        1   -155.380   177.068   \n",
       " 267         100   12    ...          -2        1   -163.512   250.474   \n",
       " 268         100   12    ...          -2        1   -352.162   396.574   \n",
       " 269         100   12    ...          -2        1   -501.144   341.800   \n",
       " 270         100   12    ...          -2        1   -319.419   352.861   \n",
       " 271         100   12    ...          -2        1   -328.142   522.700   \n",
       " 272         100   12    ...          -2        1   -723.122   598.020   \n",
       " 273          50   12    ...          -2        1   -168.070   302.233   \n",
       " 274          50   12    ...          -2        1   -432.086   523.378   \n",
       " 275          50   12    ...          -2        1   -183.436   130.546   \n",
       " 276          50   12    ...          -2        1   -141.593   146.902   \n",
       " 277          50   12    ...          -2        1   -588.041   738.371   \n",
       " 278          50   12    ...          -2        1   -559.072   484.908   \n",
       " \n",
       "      recent_5day_pnl  recent_vol_ratio  theo_pnl    price1    price2    price3  \n",
       " 0             -4.954              0.59   -86.087   38.5300   39.4000   40.2600  \n",
       " 1              3.765              0.75   -16.500   39.4000   40.2600   41.0700  \n",
       " 2             45.996              0.91    16.654   40.2600   41.0700   41.8100  \n",
       " 3             17.115              0.79   -15.091   41.0700   41.8100   42.5100  \n",
       " 4            -15.342              0.74    20.256   41.8100   42.5100   43.1500  \n",
       " 5             -6.119              0.62   -28.716   42.5100   43.1500   43.7800  \n",
       " 6              3.246              0.71   -20.487   43.1500   43.7800   44.4000  \n",
       " 7             -7.923              0.58    35.983   43.7800   44.4000   44.9600  \n",
       " 8             -8.660              0.59    -8.827   44.4000   44.9600   45.5100  \n",
       " 9             -9.109              0.66    -6.676   44.9600   45.5100   46.0500  \n",
       " 10             0.685              0.87    -2.266   45.5100   46.0500   46.5800  \n",
       " 11           -19.743              0.49    28.399   46.0500   46.5800   47.0700  \n",
       " 12            10.626              0.62    24.386   46.5800   47.0700   47.5200  \n",
       " 13            10.945              0.58    15.399   47.0700   47.5200   47.9400  \n",
       " 14            -9.335              0.54    -4.153   47.5200   47.9400   48.3500  \n",
       " 15             0.704              0.76    -3.720   47.9400   48.3500   48.7500  \n",
       " 16            -9.654              0.79    47.643   48.3500   48.7500   49.0900  \n",
       " 17           -10.000              0.84    29.659   48.7500   49.0900   49.3900  \n",
       " 18             0.000              0.71   -10.558   49.0900   49.3900   49.6900  \n",
       " 19            54.023              0.52  -102.530   38.5300   40.2600   41.8100  \n",
       " 20           118.204              0.75     1.931   39.4000   41.0700   42.5100  \n",
       " 21            64.544              0.63     6.867   40.2600   41.8100   43.1500  \n",
       " 22           -21.607              0.41    -3.890   41.0700   42.5100   43.7800  \n",
       " 23           -24.853              0.60   -58.478   41.8100   43.1500   44.4000  \n",
       " 24            -7.889              0.64   -34.273   42.5100   43.7800   44.9600  \n",
       " 25           -22.123              0.46    42.961   43.1500   44.4000   45.5100  \n",
       " 26           -35.041              0.71    10.373   43.7800   44.9600   46.0500  \n",
       " 27           -26.431              0.60   -26.265   44.4000   45.5100   46.5800  \n",
       " 28           -27.933              0.69    16.619   44.9600   46.0500   47.0700  \n",
       " 29           -28.377              0.44    78.800   45.5100   46.5800   47.5200  \n",
       " ..               ...               ...       ...       ...       ...       ...  \n",
       " 249          -51.648              0.41  5275.962    1.2982    1.5191    1.4516  \n",
       " 250          268.341              0.51  2279.252    1.5110    1.5039    1.3035  \n",
       " 251          213.683              0.51  1366.386    1.5225    1.4811    1.2714  \n",
       " 252          136.387              0.57   603.822    1.5191    1.4516    1.2534  \n",
       " 253         -106.513              0.54 -3898.317    1.5039    1.3035    1.2660  \n",
       " 254          -49.036              0.25   -98.907  864.2500  869.5000  876.7500  \n",
       " 255           20.586              0.30  -141.475  869.5000  876.7500  879.5000  \n",
       " 256          -30.966              0.34    27.094  876.7500  879.5000  879.5000  \n",
       " 257           -8.796              0.23   266.452  879.5000  879.5000  882.7500  \n",
       " 258          -34.025              0.22  -378.877  864.2500  876.7500  879.5000  \n",
       " 259          -33.440              0.36   -16.062  869.5000  879.5000  882.7500  \n",
       " 260          -43.973              0.01  -318.490   15.2400   14.9200   14.6400  \n",
       " 261          -56.083              0.34    75.772   14.9200   14.6400   14.6800  \n",
       " 262           41.816              0.26  -215.360   14.6400   14.6800   15.1000  \n",
       " 263         -105.074              0.02  -390.760   15.2400   14.6400   15.1000  \n",
       " 264           -6.193              0.23   125.948  265.5000  269.0000  272.5000  \n",
       " 265           -6.734              0.33    50.199  269.0000  272.5000  274.2000  \n",
       " 266          -29.400              0.26    25.104  272.5000  274.2000  275.7000  \n",
       " 267           10.583              0.21    81.342  274.2000  275.7000  276.5000  \n",
       " 268            2.677              0.29   516.685  275.7000  276.5000  278.0000  \n",
       " 269          -51.286              0.23   328.970  265.5000  272.5000  275.7000  \n",
       " 270          -47.267              0.19   135.632  269.0000  274.2000  276.5000  \n",
       " 271           -1.979              0.22   241.337  272.5000  275.7000  278.0000  \n",
       " 272          -79.168              0.17   513.801  265.5000  274.2000  278.0000  \n",
       " 273           25.377              0.28  -144.682  470.0000  476.5000  483.2500  \n",
       " 274          -79.017              0.37   446.955  476.5000  483.2500  492.2500  \n",
       " 275           84.809              0.52   -61.932  483.2500  492.2500  507.5000  \n",
       " 276          -70.770              0.55   -50.529  492.2500  507.5000  519.2500  \n",
       " 277          112.500              0.41   334.273  470.0000  483.2500  507.5000  \n",
       " 278          157.897              0.51    -6.999  476.5000  492.2500  519.2500  \n",
       " \n",
       " [279 rows x 39 columns], 'success': True}"
      ]
     },
     "execution_count": 1,
     "metadata": {},
     "output_type": "execute_result"
    }
   ],
   "source": [
    "import opportunity_constructs.futures_butterfly as fb\n",
    "import contract_utilities.expiration as exp\n",
    "report_date = exp.doubledate_shift_bus_days()\n",
    "fb.generate_futures_butterfly_sheet_4date(date_to = report_date)"
   ]
  },
  {
   "cell_type": "code",
   "execution_count": 2,
   "metadata": {
    "collapsed": false
   },
   "outputs": [],
   "source": [
    "import formats.futures_strategy_formats as fsf\n",
    "fsf.generate_futures_butterfly_formatted_output()\n"
   ]
  },
  {
   "cell_type": "code",
   "execution_count": 1,
   "metadata": {
    "collapsed": false
   },
   "outputs": [
    {
     "data": {
      "text/plain": [
       "6751"
      ]
     },
     "execution_count": 1,
     "metadata": {},
     "output_type": "execute_result"
    }
   ],
   "source": [
    "import contract_utilities.contract_lists as cl\n",
    "contract_list = cl.get_db_contract_list_filtered(ticker_year_from = 1980, ticker_year_to = 2022)\n",
    "len(contract_list)"
   ]
  },
  {
   "cell_type": "code",
   "execution_count": null,
   "metadata": {
    "collapsed": true
   },
   "outputs": [],
   "source": []
  }
 ],
 "metadata": {
  "kernelspec": {
   "display_name": "Python 3",
   "language": "python",
   "name": "python3"
  },
  "language_info": {
   "codemirror_mode": {
    "name": "ipython",
    "version": 3
   },
   "file_extension": ".py",
   "mimetype": "text/x-python",
   "name": "python",
   "nbconvert_exporter": "python",
   "pygments_lexer": "ipython3",
   "version": "3.4.3"
  }
 },
 "nbformat": 4,
 "nbformat_minor": 0
}
