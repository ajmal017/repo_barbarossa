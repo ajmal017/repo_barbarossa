{
 "cells": [
  {
   "cell_type": "code",
   "execution_count": 38,
   "metadata": {
    "collapsed": false
   },
   "outputs": [],
   "source": [
    "import reformat_intraday_data.reformat_ttapi_intraday_data as rid\n",
    "import backtesting.backtest_order_book_scalping as bobs\n",
    "import contract_utilities.contract_meta_info as cmi\n",
    "import ta.trade_fill_loader as tfl\n",
    "\n",
    "ticker = 'CZ2016'\n",
    "date_to = 20161104\n",
    "\n",
    "ticker_head = cmi.get_contract_specs(ticker)['ticker_head']\n",
    "\n",
    "data_frame_out = rid.load_csv_file_4ticker(ticker=ticker,folder_date=date_to)\n",
    "\n",
    "best_bid_p = data_frame_out[data_frame_out['field']=='BestBidPrice']\n",
    "best_ask_p = data_frame_out[data_frame_out['field']=='BestAskPrice']\n",
    "best_bid_p['value'] = best_bid_p['value'].astype('float64')\n",
    "best_ask_p['value'] = best_ask_p['value'].astype('float64')\n",
    "\n",
    "best_bid_p['value'] = [tfl.convert_trade_price_from_tt(price=x,ticker_head=ticker_head) for x in best_bid_p['value']]\n",
    "best_ask_p['value'] = [tfl.convert_trade_price_from_tt(price=x,ticker_head=ticker_head) for x in best_ask_p['value']]\n",
    "\n",
    "snapshot_data = bobs.get_order_book_signals_4date(ticker = ticker,trade_date=date_to)\n",
    "\n"
   ]
  },
  {
   "cell_type": "code",
   "execution_count": 31,
   "metadata": {
    "collapsed": true
   },
   "outputs": [],
   "source": [
    "import matplotlib.pyplot as plt\n",
    "plt.plot(range(len(best_ask_p['value'].index)),best_ask_p['value'])\n",
    "plt.grid()         \n",
    "         \n",
    "plt.show()"
   ]
  },
  {
   "cell_type": "code",
   "execution_count": 30,
   "metadata": {
    "collapsed": true
   },
   "outputs": [],
   "source": [
    "import matplotlib.pyplot as plt\n",
    "plt.plot(range(len(snapshot_data.index)),snapshot_data['best_bid_p'],\n",
    "         range(len(snapshot_data.index)),snapshot_data['best_ask_p'])\n",
    "plt.grid()         \n",
    "         \n",
    "plt.show()"
   ]
  },
  {
   "cell_type": "code",
   "execution_count": 4,
   "metadata": {
    "collapsed": false
   },
   "outputs": [
    {
     "name": "stdout",
     "output_type": "stream",
     "text": [
      "0\n",
      "1\n",
      "2\n",
      "3\n",
      "4\n",
      "5\n",
      "6\n",
      "7\n",
      "8\n",
      "9\n",
      "10\n",
      "11\n",
      "12\n",
      "13\n",
      "14\n",
      "15\n",
      "16\n",
      "17\n",
      "18\n",
      "19\n",
      "20\n",
      "21\n",
      "22\n",
      "23\n",
      "24\n",
      "25\n",
      "26\n",
      "27\n",
      "28\n",
      "29\n",
      "30\n",
      "31\n",
      "32\n",
      "33\n",
      "34\n",
      "35\n",
      "36\n",
      "37\n",
      "38\n",
      "39\n",
      "40\n"
     ]
    }
   ],
   "source": [
    "import backtesting.backtest_order_book_scalping as bobs\n",
    "import contract_utilities.expiration as exp\n",
    "date_list = exp.get_bus_day_list(date_from=20161004, date_to=20161130)\n",
    "daily_pnl_list = []\n",
    "\n",
    "for i in range(len(date_list)):\n",
    "    print(i)\n",
    "    pnl_frame = bobs.backtest_scalping_4date(ticker='CZ2016',trade_date=date_list[i],profit_target=2,stop_loss=20)\n",
    "    daily_pnl_list.append(pnl_frame['pnl'].sum())\n"
   ]
  },
  {
   "cell_type": "code",
   "execution_count": 5,
   "metadata": {
    "collapsed": false
   },
   "outputs": [
    {
     "data": {
      "text/plain": [
       "array([  1.5 ,   2.5 ,  -4.  ,  -5.5 ,  -4.  ,  -0.25, -11.25,  -4.75,\n",
       "        -4.25,  -5.5 ,  -5.25,  -1.  , -10.  ,  -8.75, -13.75, -14.  ,\n",
       "       -11.5 ,  -8.25,  -8.5 ,  -8.  , -14.25, -18.25, -18.  , -15.75,\n",
       "       -17.5 , -13.25, -26.  , -28.  , -29.  , -30.  , -28.25, -32.  ,\n",
       "       -28.75, -27.25, -24.25, -22.75, -20.25, -21.25, -20.75, -27.25,\n",
       "       -29.75])"
      ]
     },
     "execution_count": 5,
     "metadata": {},
     "output_type": "execute_result"
    }
   ],
   "source": [
    "import numpy as np\n",
    "daily_pnl_array = np.array(daily_pnl_list)\n",
    "daily_pnl_array.cumsum()\n",
    "# long only with no signals : -44.5\n",
    "# long only with signals : -43.5\n"
   ]
  },
  {
   "cell_type": "code",
   "execution_count": 3,
   "metadata": {
    "collapsed": true
   },
   "outputs": [],
   "source": [
    "import matplotlib.pyplot as plt\n",
    "plt.plot(daily_pnl_array.cumsum())\n",
    "plt.grid()         \n",
    "         \n",
    "plt.show()"
   ]
  },
  {
   "cell_type": "code",
   "execution_count": null,
   "metadata": {
    "collapsed": true
   },
   "outputs": [],
   "source": []
  }
 ],
 "metadata": {
  "kernelspec": {
   "display_name": "Python 3",
   "language": "python",
   "name": "python3"
  },
  "language_info": {
   "codemirror_mode": {
    "name": "ipython",
    "version": 3
   },
   "file_extension": ".py",
   "mimetype": "text/x-python",
   "name": "python",
   "nbconvert_exporter": "python",
   "pygments_lexer": "ipython3",
   "version": "3.4.3"
  }
 },
 "nbformat": 4,
 "nbformat_minor": 0
}
