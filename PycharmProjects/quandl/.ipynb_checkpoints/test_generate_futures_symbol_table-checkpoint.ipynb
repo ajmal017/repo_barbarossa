{
 "cells": [
  {
   "cell_type": "code",
   "execution_count": null,
   "metadata": {
    "collapsed": false
   },
   "outputs": [],
   "source": [
    "import sys\n",
    "sys.path.append(r'C:\\Users\\kocat_000\\quantFinance\\PycharmProjects')\n",
    "\n",
    "import backtesting.utilities as bu\n",
    "import contract_utilities.contract_meta_info as cmi\n",
    "import get_price.get_futures_price as gfp\n",
    "backtesting_out = bu.get_backtesting_dates({'date_to': 20151007, 'years_back': 10})\n",
    "double_dates = backtesting_out['double_dates']\n",
    "\n",
    "ticker_head_list = cmi.futures_butterfly_strategy_tickerhead_list\n",
    "futures_data_dictionary = {x: gfp.get_futures_price_preloaded({'ticker_head': x}) \n",
    "                           for x in cmi.futures_butterfly_strategy_tickerhead_list}\n",
    "\n",
    "\n",
    "double_dates"
   ]
  },
  {
   "cell_type": "code",
   "execution_count": 1,
   "metadata": {
    "collapsed": false
   },
   "outputs": [],
   "source": [
    "import sys\n",
    "sys.path.append(r'C:\\Users\\kocat_000\\quantFinance\\PycharmProjects')\n",
    "import my_sql_routines.futures_symbol_generator as fsg\n",
    "fsg.generate_futures_symbol_table({'start_year': 1980, 'end_year': 2099})"
   ]
  },
  {
   "cell_type": "code",
   "execution_count": null,
   "metadata": {
    "collapsed": true
   },
   "outputs": [],
   "source": [
    "import pandas as pd\n",
    "pd.DateOffset"
   ]
  },
  {
   "cell_type": "code",
   "execution_count": null,
   "metadata": {
    "collapsed": false
   },
   "outputs": [],
   "source": [
    "import sys\n",
    "sys.path.append(r'C:\\Users\\kocat_000\\quantFinance\\PycharmProjects')\n",
    "import contract_utilities.expiration as exp\n",
    "import pandas as pd\n",
    "wuhu = exp.get_futures_expiration('CTH2016')\n",
    "wuhu"
   ]
  },
  {
   "cell_type": "code",
   "execution_count": null,
   "metadata": {
    "collapsed": false
   },
   "outputs": [],
   "source": [
    "import sys\n",
    "sys.path.append(r'C:\\Users\\kocat_000\\quantFinance\\PycharmProjects')\n",
    "import shared.directory_names as dn\n",
    "import pandas as pd\n",
    "butterflies = pd.read_pickle(dn.strategy_output_folder + '/' + str(20051207) + '.pkl')\n",
    "butterflies.columns"
   ]
  },
  {
   "cell_type": "code",
   "execution_count": null,
   "metadata": {
    "collapsed": false
   },
   "outputs": [],
   "source": [
    "import backtesting.backtest_futures_butterfly as bfb\n",
    "backtest_output = []\n",
    "\n",
    "for report_date in double_dates:\n",
    "    backtest_output.append(bfb.backtest_futures_butterfly({'report_date': report_date,\n",
    "                                                           'futures_data_dictionary': futures_data_dictionary}))\n"
   ]
  },
  {
   "cell_type": "code",
   "execution_count": null,
   "metadata": {
    "collapsed": false
   },
   "outputs": [],
   "source": [
    "import backtesting.backtest_futures_butterfly as bfb\n",
    "import numpy as np\n",
    "backtest_output = bfb.backtest_futures_butterfly({'report_date': double_dates[9],\n",
    "                                                           'futures_data_dictionary': futures_data_dictionary})\n",
    "\n",
    "\n",
    "\n",
    "backtest_output['butterfly_pnl'].index(np.max(backtest_output['butterfly_pnl']))\n",
    "\n",
    "backtest_output['butterflies'][33:34]"
   ]
  },
  {
   "cell_type": "code",
   "execution_count": null,
   "metadata": {
    "collapsed": false
   },
   "outputs": [],
   "source": [
    "double_dates[9]"
   ]
  },
  {
   "cell_type": "code",
   "execution_count": null,
   "metadata": {
    "collapsed": false
   },
   "outputs": [],
   "source": [
    "import sys\n",
    "sys.path.append(r'C:\\Users\\kocat_000\\quantFinance\\PycharmProjects')\n",
    "import contract_utilities.expiration as exp\n",
    "import contract_utilities.contract_meta_info as cmu\n",
    "import shared.calendar_utilities as cu\n",
    "from pandas.tseries.offsets import CustomBusinessDay\n",
    "import pandas as pd\n",
    "import signals.futures_signals as fs\n",
    "\n",
    "expiration_date = exp.get_futures_expiration('CLH2008')\n",
    "\n",
    "signals_output = fs.get_futures_butterfly_signals({'ticker_list': ['CLH2008', 'CLJ2008' , 'CLK2008'], 'date_to': 20051214 })\n",
    "signals_output\n",
    "#ticker_list = ['CLH2008', 'CLJ2008' , 'CLK2008']\n",
    "#tr_dte_list = [548, 568, 591]\n",
    "\n",
    "#ticker = 'CLH2008'\n",
    "\n",
    "#exp.get_futures_days2_expiration({'ticker': ticker_list[2],'date_to': 20051214})\n",
    "\n"
   ]
  },
  {
   "cell_type": "code",
   "execution_count": null,
   "metadata": {
    "collapsed": false
   },
   "outputs": [],
   "source": [
    "import numpy as np\n",
    "total_pnl = [x['total_pnl'] for x in backtest_output]\n",
    "\n",
    "import matplotlib.pyplot as plt\n",
    "plt.plot(np.cumsum(total_pnl[200:]))\n",
    "plt.grid()\n",
    "         \n",
    "         \n",
    "plt.show()"
   ]
  },
  {
   "cell_type": "code",
   "execution_count": null,
   "metadata": {
    "collapsed": false
   },
   "outputs": [],
   "source": [
    "import sys\n",
    "sys.path.append(r'C:\\Users\\kocat_000\\quantFinance\\PycharmProjects')\n",
    "import get_price.get_futures_price as gfp\n",
    "import contract_utilities.contract_meta_info as cmi\n",
    "ticker_head_list = cmi.futures_butterfly_strategy_tickerhead_list\n",
    "\n",
    "futures_data = gfp.get_futures_price_4tickerhead({'ticker_head': ticker_head_list[0]})\n"
   ]
  },
  {
   "cell_type": "code",
   "execution_count": null,
   "metadata": {
    "collapsed": false
   },
   "outputs": [],
   "source": [
    "import get_price.get_futures_price as gfp\n",
    "my_data  = gfp.get_futures_price_preloaded({'ticker_head': 'W'})\n",
    "my_data = my_data[my_data['tr_dte']<300]\n",
    "\n",
    "print(np.isnan(my_data['change_5']).sum())\n",
    "\n",
    "print(len(my_data.index))\n",
    "\n",
    "dirty_data = my_data[np.isnan(my_data['change_5'])]\n",
    "\n",
    "print('min tr dte: ' +   str(dirty_data['tr_dte'].min()))\n",
    "dirty_data"
   ]
  },
  {
   "cell_type": "code",
   "execution_count": null,
   "metadata": {
    "collapsed": false
   },
   "outputs": [],
   "source": [
    "\n",
    "\n",
    "import sys\n",
    "sys.path.append(r'C:\\Users\\kocat_000\\quantFinance\\PycharmProjects')\n",
    "import get_price.get_futures_price as gfp\n",
    "import opportunity_constructs.futures_butterfly as fb\n",
    "import shared.calendar_utilities as cu\n",
    "import shared.statistics as stats\n",
    "import numpy as np\n",
    "\n",
    "#for date_to in double_dates:\n",
    "#    print(date_to)\n",
    "data_out = fb.generate_futures_butterfly_sheet_4date({'date_to': 20151006})"
   ]
  },
  {
   "cell_type": "code",
   "execution_count": null,
   "metadata": {
    "collapsed": false
   },
   "outputs": [],
   "source": [
    "data_out"
   ]
  },
  {
   "cell_type": "code",
   "execution_count": null,
   "metadata": {
    "collapsed": false
   },
   "outputs": [],
   "source": [
    "np.isnan(data_out['butterfly_5_change']).sum()"
   ]
  },
  {
   "cell_type": "code",
   "execution_count": null,
   "metadata": {
    "collapsed": false
   },
   "outputs": [],
   "source": []
  },
  {
   "cell_type": "code",
   "execution_count": null,
   "metadata": {
    "collapsed": false
   },
   "outputs": [],
   "source": [
    "import numpy as np\n",
    "np.percentile(data_out['butterfly_5_change'].values,range(1,100))\n",
    "\n",
    "np.argmin(abs(5-))"
   ]
  },
  {
   "cell_type": "code",
   "execution_count": null,
   "metadata": {
    "collapsed": false
   },
   "outputs": [],
   "source": [
    "\n",
    "\n",
    "import shared.calendar_utilities as cu\n",
    "\n",
    "\n",
    "num_butterflies = len(butterflies.index)\n",
    "butterfly_pnl = [None]*num_butterflies\n",
    "\n",
    "for contract_no in range(num_butterflies):\n",
    "    date_to_datetime = cu.convert_doubledate_2datetime(date_to)\n",
    "    ticker_head_current = butterflies['tickerHead'][contract_no]\n",
    "    futures_data = futures_data_dictionary[ticker_head_current]\n",
    "    data4_date = futures_data[futures_data['settle_date'] == date_to_datetime]\n",
    "\n",
    "    pnl1 = data4_date['change5'][data4_date['ticker'] == butterflies['ticker1'][contract_no]]\n",
    "    pnl2 = -2*data4_date['change5'][data4_date['ticker'] == butterflies['ticker2'][contract_no]]\n",
    "    pnl3 = data4_date['change5'][data4_date['ticker'] == butterflies['ticker3'][contract_no]]\n",
    "    quantity = round(20000/(abs(butterflies['downside'][contract_no])+abs(butterflies['upside'][contract_no])))\n",
    "\n",
    "    butterfly_pnl[contract_no] = quantity*(pnl1.values[0]+pnl2.values[0]+pnl3.values[0])*butterflies['multiplier'][contract_no]\n",
    "\n",
    "\n",
    "    \n",
    "butterfly_pnl    "
   ]
  },
  {
   "cell_type": "code",
   "execution_count": null,
   "metadata": {
    "collapsed": false
   },
   "outputs": [],
   "source": [
    "butterflies['trDte1']"
   ]
  },
  {
   "cell_type": "code",
   "execution_count": null,
   "metadata": {
    "collapsed": false
   },
   "outputs": [],
   "source": [
    "sellpnls = [butterfly_pnl[i] for i in range(num_butterflies) \\\n",
    "            if butterflies['Q'][i]>=85 and butterflies['QF'][i]>=60]\n",
    "buypnls = [butterfly_pnl[i] for i in range(num_butterflies) \\\n",
    "           if butterflies['Q'][i]<=15 and butterflies['QF'][i]<=40]\n",
    "\n",
    "\n",
    "\n",
    "\n",
    "import numpy as np\n",
    "np.nanmean(buypnls)\n",
    "\n",
    "buy_mean_pnl = [0]*len(ticker_head_list)\n",
    "sell_mean_pnl = [0]*len(ticker_head_list)\n",
    "\n",
    "buy_total_pnl = [0]*len(ticker_head_list)\n",
    "sell_total_pnl = [0]*len(ticker_head_list)\n",
    "\n",
    "\n",
    "for i in range(len(ticker_head_list)):\n",
    "    \n",
    "    sellpnls = [butterfly_pnl[j] for j in range(num_butterflies) \\\n",
    "            if butterflies['Q'][j]>=85 and butterflies['QF'][j]>=60 \\\n",
    "                and butterflies['tickerHead'][j]==ticker_head_list[i] \\\n",
    "               and butterflies['trDte1'][j]>=35]\n",
    "    buypnls = [butterfly_pnl[j] for j in range(num_butterflies) \\\n",
    "           if butterflies['Q'][j]<=15 and butterflies['QF'][j]<=40 \\\n",
    "               and butterflies['tickerHead'][j]==ticker_head_list[i] \\\n",
    "               and butterflies['trDte1'][j]>=35]\n",
    "    if len(buypnls)>0:\n",
    "        buy_mean_pnl[i] = np.nanmean(buypnls)\n",
    "        buy_total_pnl[i] = np.nansum(buypnls)\n",
    "    if len(sellpnls)>0:\n",
    "        sell_mean_pnl[i] = -np.nanmean(sellpnls)\n",
    "        sell_total_pnl[i] = -np.nansum(sellpnls)\n",
    "        \n",
    "\n"
   ]
  },
  {
   "cell_type": "code",
   "execution_count": null,
   "metadata": {
    "collapsed": false
   },
   "outputs": [],
   "source": [
    "i=10\n",
    "sellpnls = [butterfly_pnl[j] for j in range(num_butterflies) \\\n",
    "            if butterflies['Q'][j]>=85 and butterflies['QF'][j]>=60 and butterflies['tickerHead'][j]==ticker_head_list[i]]\n",
    "buypnls = [butterfly_pnl[j] for j in range(num_butterflies) \\\n",
    "           if butterflies['Q'][j]<=15 and butterflies['QF'][j]<=40 and butterflies['tickerHead'][j]==ticker_head_list[i]]\n",
    "\n",
    "sellpnls"
   ]
  },
  {
   "cell_type": "code",
   "execution_count": null,
   "metadata": {
    "collapsed": false
   },
   "outputs": [],
   "source": [
    "import pandas as pd\n",
    "pd.DataFrame({'tickerHead': ticker_head_list,\n",
    "              'totalLong': buy_total_pnl,\n",
    "              'totalShort': sell_total_pnl,\n",
    "              'meanLong': buy_mean_pnl,\n",
    "              'meanShort': sell_mean_pnl})\n",
    "\n",
    "sellpnls = [butterfly_pnl[i] for i in range(num_butterflies) \\\n",
    "            if butterflies['Q'][i]>=85 and butterflies['QF'][i]>=60]\n",
    "buypnls = [butterfly_pnl[i] for i in range(num_butterflies) \\\n",
    "           if butterflies['Q'][i]<=15 and butterflies['QF'][i]<=40]\n",
    "print(-np.nansum(sellpnls))\n",
    "print(np.nansum(buypnls))\n",
    "\n",
    "pd.DataFrame({'tickerHead': ticker_head_list,\n",
    "              'totalLong': buy_total_pnl,\n",
    "              'totalShort': sell_total_pnl,\n",
    "              'meanLong': buy_mean_pnl,\n",
    "              'meanShort': sell_mean_pnl})"
   ]
  },
  {
   "cell_type": "code",
   "execution_count": null,
   "metadata": {
    "collapsed": false
   },
   "outputs": [],
   "source": [
    "ticker_head_dictionary['BO'][(ticker_head_dictionary['BO']['tr_dte']<60)&(ticker_head_dictionary['BO']['tr_dte']>50)]"
   ]
  },
  {
   "cell_type": "code",
   "execution_count": null,
   "metadata": {
    "collapsed": false
   },
   "outputs": [],
   "source": [
    "import sys\n",
    "sys.path.append(r'C:\\Users\\kocat_000\\quantFinance\\PycharmProjects')\n",
    "import opportunity_constructs.utilities as ut\n",
    "\n",
    "aligned_output = ut.get_aligned_futures_data({'contract_list': [ticker1, ticker2, ticker3],\n",
    "                            'tr_dte_list': [trDte1, trDte2, trDte3],\n",
    "                             'aggregation_method': agggreation_method,\n",
    "                             'contracts_back': contracts_back,\n",
    "                             'date_to': 20151026})"
   ]
  },
  {
   "cell_type": "code",
   "execution_count": null,
   "metadata": {
    "collapsed": false
   },
   "outputs": [],
   "source": [
    "import sys\n",
    "sys.path.append(r'C:\\Users\\kocat_000\\quantFinance\\PycharmProjects')\n",
    "import get_price.get_futures_price as gfp\n",
    "import get_price.presave_price as psp\n",
    "\n",
    "psp.generate_and_update_futures_data_files()"
   ]
  },
  {
   "cell_type": "code",
   "execution_count": null,
   "metadata": {
    "collapsed": false
   },
   "outputs": [],
   "source": [
    "import pandas as pd\n",
    "wuhu = pd.read_pickle(r'C:\\Users\\kocat_000\\quantFinance\\data\\futures_data\\CL.pkl')\n",
    "wuhu"
   ]
  },
  {
   "cell_type": "code",
   "execution_count": null,
   "metadata": {
    "collapsed": false
   },
   "outputs": [],
   "source": [
    "import numpy as np\n",
    "\n",
    "x = price_ratio_current\n",
    "y = price_ratio\n",
    "\n",
    "import shared.statistics as stats\n",
    "\n",
    "print(stats.get_quantile({'x': price_ratio_current, 'y': price_ratio }))\n",
    "\n",
    "print(stats.get_quantile({'x': price_ratio_current, 'y': price_ratio[-40:]}))\n",
    "\n",
    "\n"
   ]
  },
  {
   "cell_type": "code",
   "execution_count": null,
   "metadata": {
    "collapsed": true
   },
   "outputs": [],
   "source": []
  },
  {
   "cell_type": "code",
   "execution_count": null,
   "metadata": {
    "collapsed": false
   },
   "outputs": [],
   "source": [
    "import pandas as pd\n",
    "merged_dataframe = pd.concat([data_1, data_2, data_3], axis=1, join='inner',keys=['c1', 'c2', 'c3'])\n",
    "merged_dataframe['c1']['close_price']\n",
    "merged_dataframe['c2']['close_price']\n",
    "merged_dataframe['c3']['close_price']"
   ]
  },
  {
   "cell_type": "code",
   "execution_count": null,
   "metadata": {
    "collapsed": false
   },
   "outputs": [],
   "source": [
    "merged_dataframe_list[1]"
   ]
  },
  {
   "cell_type": "code",
   "execution_count": null,
   "metadata": {
    "collapsed": false
   },
   "outputs": [],
   "source": [
    "import sys\n",
    "sys.path.append(r'C:\\Users\\kocat_000\\quantFinance\\PycharmProjects')\n",
    "import contract_utilities.contract_lists as cl\n",
    "cl.generate_futures_list_dataframe({'date_to': 20151026})"
   ]
  },
  {
   "cell_type": "code",
   "execution_count": null,
   "metadata": {
    "collapsed": false
   },
   "outputs": [],
   "source": [
    "merged_dataframe\n",
    "\n",
    "multi_columns = pd.MultiIndex.from_product([[ticker1, ticker2, ticker3],data_1.columns.values], names=['first', 'second'])\n"
   ]
  },
  {
   "cell_type": "code",
   "execution_count": null,
   "metadata": {
    "collapsed": false
   },
   "outputs": [],
   "source": [
    "import matplotlib.pyplot as plt\n",
    "plt.plot(aligned_dataframe.index,aligned_dataframe['c1']['close_price'],\n",
    "         aligned_dataframe.index,aligned_dataframe['c2']['close_price'],\n",
    "         aligned_dataframe.index,aligned_dataframe['c3']['close_price'])\n",
    "         \n",
    "         \n",
    "plt.show()"
   ]
  },
  {
   "cell_type": "code",
   "execution_count": null,
   "metadata": {
    "collapsed": false
   },
   "outputs": [],
   "source": [
    "import matplotlib.pyplot as plt\n",
    "plt.plot(merged_dataframe.index,(merged_dataframe['BOH2016']['close_price']+merged_dataframe['BON2016']['close_price'])/2-\n",
    "         merged_dataframe['BOK2016']['close_price'])\n",
    "         \n",
    "         \n",
    "plt.show()"
   ]
  },
  {
   "cell_type": "code",
   "execution_count": null,
   "metadata": {
    "collapsed": false
   },
   "outputs": [],
   "source": [
    "(merged_dataframe['BOH2016']['close_price']+merged_dataframe['BON2016']['close_price'])/2-merged_dataframe['BOK2016']['close_price']"
   ]
  },
  {
   "cell_type": "code",
   "execution_count": null,
   "metadata": {
    "collapsed": false
   },
   "outputs": [],
   "source": [
    "\n",
    "\n",
    "import matplotlib.pyplot as plt\n",
    "plt.plot(range(len(aligned_dataframe.index)),aligned_dataframe['c1']['tr_dte'],\n",
    "         range(len(aligned_dataframe.index)),aligned_dataframe['c2']['tr_dte'],\n",
    "         range(len(aligned_dataframe.index)),aligned_dataframe['c3']['tr_dte'])\n",
    "plt.grid()         \n",
    "         \n",
    "plt.show()\n",
    "\n",
    "    \n",
    "\n",
    "    "
   ]
  },
  {
   "cell_type": "code",
   "execution_count": null,
   "metadata": {
    "collapsed": false
   },
   "outputs": [],
   "source": [
    "merged_dataframe['c1']['tr_dte'].isnull().sum()\n",
    "merged_dataframe['c3']['tr_dte'].isnull().sum()"
   ]
  },
  {
   "cell_type": "code",
   "execution_count": null,
   "metadata": {
    "collapsed": false
   },
   "outputs": [],
   "source": [
    "futures_dataframe"
   ]
  },
  {
   "cell_type": "code",
   "execution_count": null,
   "metadata": {
    "collapsed": false
   },
   "outputs": [],
   "source": [
    "print(trDte1)\n",
    "print(trDte2)\n",
    "print(trDte3)"
   ]
  },
  {
   "cell_type": "code",
   "execution_count": null,
   "metadata": {
    "collapsed": false
   },
   "outputs": [],
   "source": [
    "bf_price = (aligned_dataframe['c1']['close_price']+aligned_dataframe['c3']['close_price'])/2-aligned_dataframe['c2']['close_price']"
   ]
  },
  {
   "cell_type": "code",
   "execution_count": null,
   "metadata": {
    "collapsed": false
   },
   "outputs": [],
   "source": [
    "plt.plot(range(len(aligned_dataframe.index)),bf_price)\n",
    "plt.grid()         \n",
    "         \n",
    "plt.show()"
   ]
  },
  {
   "cell_type": "code",
   "execution_count": null,
   "metadata": {
    "collapsed": true
   },
   "outputs": [],
   "source": [
    "import matplotlib.pyplot as plt\n",
    "plt.plot(price_ratio)\n",
    "plt.grid()\n",
    "plt.show()"
   ]
  },
  {
   "cell_type": "code",
   "execution_count": null,
   "metadata": {
    "collapsed": true
   },
   "outputs": [],
   "source": []
  }
 ],
 "metadata": {
  "kernelspec": {
   "display_name": "Python 3",
   "language": "python",
   "name": "python3"
  },
  "language_info": {
   "codemirror_mode": {
    "name": "ipython",
    "version": 3
   },
   "file_extension": ".py",
   "mimetype": "text/x-python",
   "name": "python",
   "nbconvert_exporter": "python",
   "pygments_lexer": "ipython3",
   "version": "3.4.3"
  }
 },
 "nbformat": 4,
 "nbformat_minor": 0
}
