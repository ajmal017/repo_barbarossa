{
 "cells": [
  {
   "cell_type": "code",
   "execution_count": null,
   "metadata": {
    "collapsed": false
   },
   "outputs": [],
   "source": [
    "import signals.futures_signals as fs\n",
    "import signals.utils as su\n",
    "signals_output = fs.get_futures_butterfly_signals(ticker_list=['LNJ2016','LNN2016','LNV2016'],date_to=20160114)\n",
    "\n",
    "price_ratio = signals_output['price_ratio']\n",
    "price_ratio"
   ]
  },
  {
   "cell_type": "code",
   "execution_count": 2,
   "metadata": {
    "collapsed": false
   },
   "outputs": [],
   "source": [
    "import opportunity_constructs.utilities as ocu\n",
    "#aligned_output = ocu.get_aligned_futures_data(contract_list=['HOV2007','HOX2007','HOZ2007'],aggregation_method=12,contracts_back=10,date_to=20070420)\n",
    "aligned_output = ocu.get_aligned_futures_data(contract_list=['HOV2007','HOX2007'],aggregation_method=12,contracts_back=10,date_to=20070420)\n",
    "aligned_data = aligned_output['aligned_data']\n",
    "#bf_price = aligned_data['c1']['close_price']+aligned_data['c3']['close_price']-2*aligned_data['c2']['close_price']\n",
    "bf_price = aligned_data['c1']['close_price']-aligned_data['c2']['close_price']\n",
    "bf_price_recent = bf_price[1:]\n",
    "aligned_data_recent = aligned_data[1:]\n",
    "import matplotlib.pyplot as plt\n",
    "plt.plot(bf_price_recent)\n",
    "plt.grid()         \n",
    "         \n",
    "plt.show()"
   ]
  },
  {
   "cell_type": "code",
   "execution_count": 37,
   "metadata": {
    "collapsed": false
   },
   "outputs": [
    {
     "data": {
      "text/plain": [
       "settle_date\n",
       "2006-04-24   -0.0320\n",
       "2006-04-25   -0.0325\n",
       "2006-04-26   -0.0340\n",
       "2006-04-27   -0.0350\n",
       "2006-04-28   -0.0355\n",
       "2006-05-01   -0.0360\n",
       "2006-05-02   -0.0350\n",
       "2006-05-03   -0.0340\n",
       "2006-05-04   -0.0340\n",
       "2006-05-05   -0.0335\n",
       "2006-05-08   -0.0345\n",
       "2006-05-09   -0.0345\n",
       "2006-05-10   -0.0340\n",
       "2006-05-11   -0.0325\n",
       "2006-05-12   -0.0330\n",
       "2006-05-15   -0.0345\n",
       "2006-05-16   -0.0345\n",
       "2006-05-17   -0.0355\n",
       "2006-05-18   -0.0355\n",
       "2006-05-19   -0.0360\n",
       "2006-05-22   -0.0365\n",
       "2006-05-23   -0.0350\n",
       "2006-05-24   -0.0370\n",
       "2006-05-25   -0.0370\n",
       "2006-05-26   -0.0365\n",
       "2006-05-30   -0.0365\n",
       "2006-05-31   -0.0380\n",
       "2006-06-01   -0.0375\n",
       "2006-06-02   -0.0360\n",
       "2006-06-05   -0.0360\n",
       "               ...  \n",
       "2006-06-27   -0.0345\n",
       "2006-06-28   -0.0350\n",
       "2006-06-29   -0.0345\n",
       "2006-06-30   -0.0360\n",
       "2007-02-09   -0.0295\n",
       "2007-02-12   -0.0300\n",
       "2007-02-13   -0.0315\n",
       "2007-02-16   -0.0305\n",
       "2007-02-27   -0.0316\n",
       "2007-02-28   -0.0310\n",
       "2007-03-02   -0.0305\n",
       "2007-03-08   -0.0323\n",
       "2007-03-09   -0.0305\n",
       "2007-03-13   -0.0306\n",
       "2007-03-14   -0.0293\n",
       "2007-03-16   -0.0315\n",
       "2007-03-21   -0.0360\n",
       "2007-03-23   -0.0350\n",
       "2007-03-26   -0.0273\n",
       "2007-03-27   -0.0323\n",
       "2007-03-28   -0.0272\n",
       "2007-03-30   -0.0295\n",
       "2007-04-02   -0.0291\n",
       "2007-04-05   -0.0315\n",
       "2007-04-11   -0.0280\n",
       "2007-04-12   -0.0271\n",
       "2007-04-13   -0.0275\n",
       "2007-04-16   -0.0242\n",
       "2007-04-17   -0.0283\n",
       "2007-04-20   -0.0275\n",
       "Name: close_price, dtype: float64"
      ]
     },
     "execution_count": 37,
     "metadata": {},
     "output_type": "execute_result"
    }
   ],
   "source": [
    "aligned_data_recent[bf_price_recent>-0.02]\n",
    "bf_price_recent"
   ]
  },
  {
   "cell_type": "code",
   "execution_count": 20,
   "metadata": {
    "collapsed": false
   },
   "outputs": [
    {
     "data": {
      "text/html": [
       "<div>\n",
       "<table border=\"1\" class=\"dataframe\">\n",
       "  <thead>\n",
       "    <tr style=\"text-align: right;\">\n",
       "      <th></th>\n",
       "      <th>ticker1</th>\n",
       "      <th>ticker2</th>\n",
       "      <th>tickerHead</th>\n",
       "      <th>front_tr_dte</th>\n",
       "      <th>carry</th>\n",
       "      <th>q_carry</th>\n",
       "      <th>reward_risk</th>\n",
       "      <th>price</th>\n",
       "      <th>q</th>\n",
       "      <th>upside</th>\n",
       "      <th>downside</th>\n",
       "      <th>change5</th>\n",
       "      <th>change10</th>\n",
       "      <th>change20</th>\n",
       "    </tr>\n",
       "  </thead>\n",
       "  <tbody>\n",
       "    <tr>\n",
       "      <th>0</th>\n",
       "      <td>SBH2016</td>\n",
       "      <td>SBK2016</td>\n",
       "      <td>SB</td>\n",
       "      <td>10</td>\n",
       "      <td>NaN</td>\n",
       "      <td>NaN</td>\n",
       "      <td>NaN</td>\n",
       "      <td>0.03</td>\n",
       "      <td>51</td>\n",
       "      <td>362.21</td>\n",
       "      <td>-267.46</td>\n",
       "      <td>NaN</td>\n",
       "      <td>NaN</td>\n",
       "      <td>NaN</td>\n",
       "    </tr>\n",
       "    <tr>\n",
       "      <th>1</th>\n",
       "      <td>SBK2016</td>\n",
       "      <td>SBN2016</td>\n",
       "      <td>SB</td>\n",
       "      <td>53</td>\n",
       "      <td>-22.4</td>\n",
       "      <td>12</td>\n",
       "      <td>-0.01</td>\n",
       "      <td>0.05</td>\n",
       "      <td>39</td>\n",
       "      <td>234.98</td>\n",
       "      <td>-162.40</td>\n",
       "      <td>NaN</td>\n",
       "      <td>NaN</td>\n",
       "      <td>NaN</td>\n",
       "    </tr>\n",
       "    <tr>\n",
       "      <th>2</th>\n",
       "      <td>SBN2016</td>\n",
       "      <td>SBV2016</td>\n",
       "      <td>SB</td>\n",
       "      <td>96</td>\n",
       "      <td>302.4</td>\n",
       "      <td>-1</td>\n",
       "      <td>0.20</td>\n",
       "      <td>-0.22</td>\n",
       "      <td>40</td>\n",
       "      <td>123.20</td>\n",
       "      <td>-173.60</td>\n",
       "      <td>NaN</td>\n",
       "      <td>NaN</td>\n",
       "      <td>NaN</td>\n",
       "    </tr>\n",
       "    <tr>\n",
       "      <th>3</th>\n",
       "      <td>SBV2016</td>\n",
       "      <td>SBH2017</td>\n",
       "      <td>SB</td>\n",
       "      <td>160</td>\n",
       "      <td>436.8</td>\n",
       "      <td>25</td>\n",
       "      <td>0.19</td>\n",
       "      <td>-0.61</td>\n",
       "      <td>15</td>\n",
       "      <td>150.98</td>\n",
       "      <td>-184.35</td>\n",
       "      <td>NaN</td>\n",
       "      <td>NaN</td>\n",
       "      <td>NaN</td>\n",
       "    </tr>\n",
       "  </tbody>\n",
       "</table>\n",
       "</div>"
      ],
      "text/plain": [
       "   ticker1  ticker2 tickerHead  front_tr_dte  carry  q_carry  reward_risk  \\\n",
       "0  SBH2016  SBK2016         SB            10    NaN      NaN          NaN   \n",
       "1  SBK2016  SBN2016         SB            53  -22.4       12        -0.01   \n",
       "2  SBN2016  SBV2016         SB            96  302.4       -1         0.20   \n",
       "3  SBV2016  SBH2017         SB           160  436.8       25         0.19   \n",
       "\n",
       "   price   q  upside  downside  change5  change10  change20  \n",
       "0   0.03  51  362.21   -267.46      NaN       NaN       NaN  \n",
       "1   0.05  39  234.98   -162.40      NaN       NaN       NaN  \n",
       "2  -0.22  40  123.20   -173.60      NaN       NaN       NaN  \n",
       "3  -0.61  15  150.98   -184.35      NaN       NaN       NaN  "
      ]
     },
     "execution_count": 20,
     "metadata": {},
     "output_type": "execute_result"
    }
   ],
   "source": [
    "import opportunity_constructs.spread_carry as sc\n",
    "\n",
    "#spread_carry_output = sc.generate_spread_carry_sheet_4date(report_date=20160212)\n",
    "#spread_report = spread_carry_output['spread_report']\n",
    "#ticker_head_list = list(spread_report['tickerHead'].unique())\n",
    "# Compare BO and S sizing\n",
    "\n",
    "spread_report[spread_report['tickerHead']==ticker_head_list[19]]\n",
    "#spread_report[spread_report['tickerHead']=='S']"
   ]
  },
  {
   "cell_type": "code",
   "execution_count": 6,
   "metadata": {
    "collapsed": false
   },
   "outputs": [
    {
     "data": {
      "text/plain": [
       "[\"260'3\",\n",
       " \"180'3\",\n",
       " \"170'3\",\n",
       " \"160'3\",\n",
       " \"150'3\",\n",
       " \"140'3\",\n",
       " \"130'3\",\n",
       " \"120'3\",\n",
       " \"110'3\",\n",
       " \"100'3\",\n",
       " \"95'3\",\n",
       " \"90'3\",\n",
       " \"85'3\",\n",
       " \"80'3\",\n",
       " \"75'3\",\n",
       " \"70'3\",\n",
       " \"65'3\",\n",
       " \"60'3\",\n",
       " \"55'3\",\n",
       " \"50'3\",\n",
       " \"45'3\",\n",
       " \"40'3\",\n",
       " \"35'3\",\n",
       " \"30'3\",\n",
       " \"25'3\",\n",
       " \"20'3\",\n",
       " \"15'4\",\n",
       " \"10'5\",\n",
       " \"6'2\",\n",
       " \"2'7\",\n",
       " \"1'0\",\n",
       " \"'3\",\n",
       " \"'1\",\n",
       " \"'1\",\n",
       " \"'1\",\n",
       " \"'1\",\n",
       " \"'1\",\n",
       " \"'1\",\n",
       " \"'1\",\n",
       " \"'1\",\n",
       " \"'1\",\n",
       " \"'1\",\n",
       " \"'1\",\n",
       " \"'1\",\n",
       " \"'1\",\n",
       " \"'1\",\n",
       " \"'1\",\n",
       " \"'1\",\n",
       " \"'1\",\n",
       " \"'1\",\n",
       " \"'1\",\n",
       " \"'1\",\n",
       " \"'1\",\n",
       " \"'1\",\n",
       " \"'1\",\n",
       " \"'1\",\n",
       " \"'1\",\n",
       " \"'1\",\n",
       " \"'1\",\n",
       " \"'1\",\n",
       " \"'1\",\n",
       " \"'1\",\n",
       " \"'1\",\n",
       " \"'1\",\n",
       " \"'1\",\n",
       " \"'1\",\n",
       " \"'1\",\n",
       " \"'1\",\n",
       " \"'1\",\n",
       " \"'1\",\n",
       " \"'1\",\n",
       " \"'1\",\n",
       " \"'1\",\n",
       " \"'1\",\n",
       " \"'1\"]"
      ]
     },
     "execution_count": 6,
     "metadata": {},
     "output_type": "execute_result"
    }
   ],
   "source": [
    "\n",
    "import read_exchange_files.read_cme_files as rcf\n",
    "import pandas as pd\n",
    "data_read_out = rcf.read_cme_settle_txt_files()\n",
    "    \n",
    "decoded_data = data_read_out['decoded_data']     \n",
    "data_start_list = data_read_out['data_start_list']     \n",
    "data_end_list = data_read_out['data_end_list']             \n",
    "title_list = data_read_out['title_list']     \n",
    "data_list = data_read_out['data_list']   \n",
    "volume_list = data_read_out['volume_list']  \n",
    "settle_list = data_read_out['settle_list'] \n",
    "month_strike_list = data_read_out['month_strike_list']  \n",
    "filter_1_list = data_read_out['filter_1_list']  \n",
    "filter_2_list = data_read_out['filter_2_list']  \n",
    "total_volume_list = data_read_out['total_volume_list']  \n",
    "title_frame = data_read_out['title_frame']  \n",
    "\n",
    "summary_data = pd.DataFrame.from_items([('title',title_list),('volume',total_volume_list)])\n",
    "summary_data[summary_data['volume']>0]\n",
    "\n",
    "summary_sorted = summary_data.sort('volume',ascending=False)\n",
    "summary_sorted\n",
    "\n",
    "title_frame[(title_frame['asset_type']=='option')&(title_frame['ticker_head']=='C')]\n",
    "\n",
    "settle_list[110]"
   ]
  },
  {
   "cell_type": "code",
   "execution_count": 11,
   "metadata": {
    "collapsed": false
   },
   "outputs": [
    {
     "data": {
      "text/plain": [
       "True"
      ]
     },
     "execution_count": 11,
     "metadata": {},
     "output_type": "execute_result"
    }
   ],
   "source": [
    "import contract_utilities.expiration as exp\n",
    "wuhu = exp.get_options_expiration('GCQ2016')\n",
    "bu_dts = wuhu['bu_dts']\n",
    "dts = wuhu['dts']\n",
    "\n",
    "bu_dts = bu_dts[bu_dts<dts[-1]]\n",
    "bu_dts[-4]\n",
    "\n",
    "dts = dts[bu_dts[-4]<dts]\n",
    "\n",
    "dts[0] in bu_dts"
   ]
  },
  {
   "cell_type": "code",
   "execution_count": 1,
   "metadata": {
    "collapsed": false
   },
   "outputs": [
    {
     "data": {
      "text/plain": [
       "datetime.datetime(2016, 3, 14, 0, 0)"
      ]
     },
     "execution_count": 1,
     "metadata": {},
     "output_type": "execute_result"
    }
   ],
   "source": [
    "import contract_utilities.expiration as exp\n",
    "exp.get_options_expiration('E0H2016')"
   ]
  },
  {
   "cell_type": "code",
   "execution_count": 1,
   "metadata": {
    "collapsed": false
   },
   "outputs": [
    {
     "name": "stdout",
     "output_type": "stream",
     "text": [
      "TEST FAILED:\n",
      "('GCH2016', datetime.datetime(2016, 2, 24, 0, 0))\n",
      "('GCJ2016', datetime.datetime(2016, 3, 28, 0, 0))\n",
      "('GCM2016', datetime.datetime(2016, 5, 25, 0, 0))\n",
      "('GCN2016', datetime.datetime(2016, 6, 27, 0, 0))\n",
      "('GCV2016', datetime.datetime(2016, 9, 27, 0, 0))\n",
      "('GCX2016', datetime.datetime(2016, 10, 26, 0, 0))\n",
      "('GCG2017', datetime.datetime(2017, 1, 26, 0, 0))\n",
      "('GCH2017', datetime.datetime(2017, 2, 23, 0, 0))\n",
      "('GCJ2017', datetime.datetime(2017, 3, 28, 0, 0))\n",
      "('GCM2017', datetime.datetime(2017, 5, 25, 0, 0))\n",
      "('GCN2017', datetime.datetime(2017, 6, 27, 0, 0))\n",
      "('GCQ2017', datetime.datetime(2017, 7, 26, 0, 0))\n",
      "('GCU2017', datetime.datetime(2017, 8, 28, 0, 0))\n",
      "('GCZ2017', datetime.datetime(2017, 11, 27, 0, 0))\n",
      "('GCZ2018', datetime.datetime(2018, 11, 27, 0, 0))\n",
      "('GCM2019', datetime.datetime(2019, 5, 28, 0, 0))\n",
      "('GCZ2020', datetime.datetime(2020, 11, 24, 0, 0))\n",
      "('GCM2021', datetime.datetime(2020, 5, 26, 0, 0))\n",
      "('GCZ2021', datetime.datetime(2020, 11, 24, 0, 0))\n"
     ]
    }
   ],
   "source": [
    "import contract_utilities.expiration_test"
   ]
  },
  {
   "cell_type": "code",
   "execution_count": 2,
   "metadata": {
    "collapsed": false
   },
   "outputs": [],
   "source": [
    "\n",
    "import contract_utilities.expiration as exp\n",
    "report_date = exp.doubledate_shift_bus_days()\n",
    "import futures_charts.futures_curve as fc\n",
    "bf_signals_output = fc.get_butterfly_scatter_plot(report_date=report_date,id=195)"
   ]
  },
  {
   "cell_type": "code",
   "execution_count": null,
   "metadata": {
    "collapsed": false
   },
   "outputs": [],
   "source": [
    "aligned_output = bf_signals_output['aligned_output']\n",
    "aligned_data = aligned_output['aligned_data']\n",
    "bf_price = aligned_data['c1']['close_price']+aligned_data['c3']['close_price']-2*aligned_data['c2']['close_price']"
   ]
  },
  {
   "cell_type": "code",
   "execution_count": null,
   "metadata": {
    "collapsed": false
   },
   "outputs": [],
   "source": [
    "import matplotlib.pyplot as plt\n",
    "plt.plot(bf_price)\n",
    "plt.grid()         \n",
    "         \n",
    "plt.show()"
   ]
  },
  {
   "cell_type": "code",
   "execution_count": null,
   "metadata": {
    "collapsed": false
   },
   "outputs": [],
   "source": [
    "bad_data = aligned_data[bf_price<-0.004]   #<-0.03\n",
    "bad_data\n",
    "\n",
    "# HOV2007,HOX2007, HOZ2007 20070213 to 20070413"
   ]
  },
  {
   "cell_type": "code",
   "execution_count": null,
   "metadata": {
    "collapsed": false
   },
   "outputs": [],
   "source": [
    "aligned_data.iloc[1047]"
   ]
  },
  {
   "cell_type": "code",
   "execution_count": null,
   "metadata": {
    "collapsed": false
   },
   "outputs": [],
   "source": [
    "import shared.directory_names as dn\n",
    "options_data_dir = dn.get_dated_directory_extension(folder_date=20160208,ext='comex_options_csv_address')\n",
    "options_data_dir"
   ]
  },
  {
   "cell_type": "code",
   "execution_count": null,
   "metadata": {
    "collapsed": false
   },
   "outputs": [],
   "source": [
    "import contract_utilities.expiration as exp\n",
    "report_date = exp.doubledate_shift_bus_days()\n",
    "report_date"
   ]
  },
  {
   "cell_type": "code",
   "execution_count": null,
   "metadata": {
    "collapsed": false
   },
   "outputs": [],
   "source": [
    "import scheduled_jobs.options_data_load_job as odlj\n",
    "import shared.downloads as sd\n",
    "sd.download_csv_from_web(web_address=odlj.comex_options_csv_address)\n"
   ]
  },
  {
   "cell_type": "code",
   "execution_count": null,
   "metadata": {
    "collapsed": false
   },
   "outputs": [],
   "source": [
    "import scheduled_jobs.options_data_load_job"
   ]
  },
  {
   "cell_type": "code",
   "execution_count": null,
   "metadata": {
    "collapsed": false
   },
   "outputs": [],
   "source": [
    "with open(r'C:\\Research\\data\\options_data_raw\\2016\\201602\\20160208\\interest_rate.pkl','rb') as handle:\n",
    "    wuhu = pickle.load(handle)"
   ]
  },
  {
   "cell_type": "code",
   "execution_count": null,
   "metadata": {
    "collapsed": false
   },
   "outputs": [],
   "source": [
    "scatter_matrix = np.zeros((3,3))\n",
    "\n",
    "for i in range(all_samples.shape[1]):\n",
    "    scatter_matrix +=(all_samples[:,i].reshape(3,1)).dot(\n",
    "    (all_samples[:,i].reshape(3,1)-mean_vector).T)\n",
    "print('Scatter Matrix\\n',scatter_matrix)    "
   ]
  },
  {
   "cell_type": "code",
   "execution_count": null,
   "metadata": {
    "collapsed": false
   },
   "outputs": [],
   "source": [
    "cov_mat = np.cov([all_samples[0,:], all_samples[1,:],all_samples[2,:]])\n",
    "print('Covariance Matrix:\\n', cov_mat)"
   ]
  },
  {
   "cell_type": "code",
   "execution_count": null,
   "metadata": {
    "collapsed": false
   },
   "outputs": [],
   "source": [
    "for i in range(len(eig_val_sc)):\n",
    "    eigv = eig_vec_sc[:,i].reshape(1,3).T\n",
    "    np.testing.assert_array_almost_equal(scatter_matrix.dot(eigv),\n",
    "                                         eig_val_sc[i] * eigv,\n",
    "                                         decimal=6, err_msg='', verbose=True)"
   ]
  },
  {
   "cell_type": "code",
   "execution_count": null,
   "metadata": {
    "collapsed": false
   },
   "outputs": [],
   "source": [
    "transformed = matrix_w.T.dot(all_samples)\n",
    "assert transformed.shape == (2,40), \"The matrix is not 2x40 dimensional.\"\n",
    "transformed\n",
    "matrix_w"
   ]
  },
  {
   "cell_type": "code",
   "execution_count": null,
   "metadata": {
    "collapsed": false
   },
   "outputs": [],
   "source": [
    "import matplotlib.pyplot as plt\n",
    "plt.plot(merged_dataframe.index,(merged_dataframe['BOH2016']['close_price']+merged_dataframe['BON2016']['close_price'])/2-\n",
    "         merged_dataframe['BOK2016']['close_price'])\n",
    "         \n",
    "         \n",
    "plt.show()"
   ]
  },
  {
   "cell_type": "code",
   "execution_count": null,
   "metadata": {
    "collapsed": false
   },
   "outputs": [],
   "source": [
    "(merged_dataframe['BOH2016']['close_price']+merged_dataframe['BON2016']['close_price'])/2-merged_dataframe['BOK2016']['close_price']"
   ]
  },
  {
   "cell_type": "code",
   "execution_count": null,
   "metadata": {
    "collapsed": false
   },
   "outputs": [],
   "source": [
    "\n",
    "\n",
    "import matplotlib.pyplot as plt\n",
    "plt.plot(range(len(aligned_dataframe.index)),aligned_dataframe['c1']['tr_dte'],\n",
    "         range(len(aligned_dataframe.index)),aligned_dataframe['c2']['tr_dte'],\n",
    "         range(len(aligned_dataframe.index)),aligned_dataframe['c3']['tr_dte'])\n",
    "plt.grid()         \n",
    "         \n",
    "plt.show()\n",
    "\n",
    "    \n",
    "\n",
    "    "
   ]
  },
  {
   "cell_type": "code",
   "execution_count": null,
   "metadata": {
    "collapsed": false
   },
   "outputs": [],
   "source": [
    "merged_dataframe['c1']['tr_dte'].isnull().sum()\n",
    "merged_dataframe['c3']['tr_dte'].isnull().sum()"
   ]
  },
  {
   "cell_type": "code",
   "execution_count": null,
   "metadata": {
    "collapsed": false
   },
   "outputs": [],
   "source": [
    "futures_dataframe"
   ]
  },
  {
   "cell_type": "code",
   "execution_count": null,
   "metadata": {
    "collapsed": false
   },
   "outputs": [],
   "source": [
    "print(trDte1)\n",
    "print(trDte2)\n",
    "print(trDte3)"
   ]
  },
  {
   "cell_type": "code",
   "execution_count": null,
   "metadata": {
    "collapsed": false
   },
   "outputs": [],
   "source": [
    "bf_price = (aligned_dataframe['c1']['close_price']+aligned_dataframe['c3']['close_price'])/2-aligned_dataframe['c2']['close_price']"
   ]
  },
  {
   "cell_type": "code",
   "execution_count": null,
   "metadata": {
    "collapsed": false
   },
   "outputs": [],
   "source": [
    "plt.plot(range(len(aligned_dataframe.index)),bf_price)\n",
    "plt.grid()         \n",
    "         \n",
    "plt.show()"
   ]
  },
  {
   "cell_type": "code",
   "execution_count": null,
   "metadata": {
    "collapsed": true
   },
   "outputs": [],
   "source": [
    "import matplotlib.pyplot as plt\n",
    "plt.plot(price_ratio)\n",
    "plt.grid()\n",
    "plt.show()"
   ]
  },
  {
   "cell_type": "code",
   "execution_count": null,
   "metadata": {
    "collapsed": false
   },
   "outputs": [],
   "source": [
    "import numpy as np\n",
    "nan_matrix = np.empty((2,2))\n",
    "nan_matrix[:] = np.NAN\n",
    "nan_matrix"
   ]
  },
  {
   "cell_type": "code",
   "execution_count": null,
   "metadata": {
    "collapsed": true
   },
   "outputs": [],
   "source": []
  }
 ],
 "metadata": {
  "kernelspec": {
   "display_name": "Python 3",
   "language": "python",
   "name": "python3"
  },
  "language_info": {
   "codemirror_mode": {
    "name": "ipython",
    "version": 3
   },
   "file_extension": ".py",
   "mimetype": "text/x-python",
   "name": "python",
   "nbconvert_exporter": "python",
   "pygments_lexer": "ipython3",
   "version": "3.4.3"
  }
 },
 "nbformat": 4,
 "nbformat_minor": 0
}
