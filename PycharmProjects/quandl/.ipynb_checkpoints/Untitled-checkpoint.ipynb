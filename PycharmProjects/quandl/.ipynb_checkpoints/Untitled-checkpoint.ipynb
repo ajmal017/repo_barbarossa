{
 "cells": [
  {
   "cell_type": "code",
   "execution_count": 1,
   "metadata": {
    "collapsed": false
   },
   "outputs": [],
   "source": [
    "from math import *\n",
    "def f(x):\n",
    "    return abs(cos(x))**0.5 + sin(2+3*x)"
   ]
  },
  {
   "cell_type": "code",
   "execution_count": 2,
   "metadata": {
    "collapsed": false
   },
   "outputs": [],
   "source": [
    "I = 500000\n",
    "a_py = range(I)"
   ]
  },
  {
   "cell_type": "code",
   "execution_count": 4,
   "metadata": {
    "collapsed": false
   },
   "outputs": [],
   "source": [
    "def f1(a):\n",
    "    res = []\n",
    "    for x in a:\n",
    "        res.append(f(x))\n",
    "    return res"
   ]
  },
  {
   "cell_type": "code",
   "execution_count": 5,
   "metadata": {
    "collapsed": false
   },
   "outputs": [],
   "source": [
    "def f2(a):\n",
    "    return [f(x) for x in a]"
   ]
  },
  {
   "cell_type": "code",
   "execution_count": 6,
   "metadata": {
    "collapsed": false
   },
   "outputs": [],
   "source": [
    "def f3(a):\n",
    "    ex = 'abs(cos(x)) ** 0.5 + sin(2 + 3 * x)'\n",
    "    return [eval(ex) for x in a]"
   ]
  },
  {
   "cell_type": "code",
   "execution_count": 7,
   "metadata": {
    "collapsed": false
   },
   "outputs": [],
   "source": [
    "import numpy as np\n",
    "a_np = np.arange(I)\n",
    "def f4(a):\n",
    "    return (np.abs(np.cos(a)) ** 0.5 + np.sin(2 + 3 * a))"
   ]
  },
  {
   "cell_type": "code",
   "execution_count": 9,
   "metadata": {
    "collapsed": false
   },
   "outputs": [],
   "source": [
    "import numexpr as ne\n",
    "def f5(a):\n",
    "    ex = 'abs(cos(a)) ** 0.5 + sin(2 + 3 * a)'\n",
    "    ne.set_num_threads(1)\n",
    "    return ne.evaluate(ex)"
   ]
  },
  {
   "cell_type": "code",
   "execution_count": 10,
   "metadata": {
    "collapsed": true
   },
   "outputs": [],
   "source": [
    "def f6(a):\n",
    "    ex = 'abs(cos(a)) ** 0.5 + sin(2 + 3 * a)'\n",
    "    ne.set_num_threads(16)\n",
    "    return ne.evaluate(ex)"
   ]
  },
  {
   "cell_type": "code",
   "execution_count": 11,
   "metadata": {
    "collapsed": false
   },
   "outputs": [
    {
     "name": "stdout",
     "output_type": "stream",
     "text": [
      "Wall time: 17.9 s\n"
     ]
    }
   ],
   "source": [
    "%%time\n",
    "r1 = f1(a_py)\n",
    "r2 = f2(a_py)\n",
    "r3 = f3(a_py)\n",
    "r4 = f4(a_np)\n",
    "r5 = f5(a_np)\n",
    "r6 = f6(a_np)"
   ]
  },
  {
   "cell_type": "code",
   "execution_count": 12,
   "metadata": {
    "collapsed": false
   },
   "outputs": [
    {
     "name": "stdout",
     "output_type": "stream",
     "text": [
      "Wall time: 40 s\n"
     ]
    }
   ],
   "source": [
    "%%time\n",
    "rand = np.random.standard_normal((n, n))\n",
    "for i in range(750):\n",
    "    ear.append(rand)\n",
    "    ear.flush()"
   ]
  },
  {
   "cell_type": "code",
   "execution_count": 13,
   "metadata": {
    "collapsed": false
   },
   "outputs": [
    {
     "data": {
      "text/plain": [
       "6000000000"
      ]
     },
     "execution_count": 13,
     "metadata": {},
     "output_type": "execute_result"
    }
   ],
   "source": [
    "ear.size_on_disk"
   ]
  },
  {
   "cell_type": "code",
   "execution_count": 17,
   "metadata": {
    "collapsed": false
   },
   "outputs": [],
   "source": [
    "out = h5.create_earray(h5.root, 'out2',\n",
    "atom=tb.Float64Atom(),\n",
    "shape=(0, n))"
   ]
  },
  {
   "cell_type": "code",
   "execution_count": 19,
   "metadata": {
    "collapsed": false
   },
   "outputs": [],
   "source": [
    "expr = tb.Expr('3 * sin(ear) + sqrt(abs(ear))')\n",
    "expr.set_output(out, append_mode=True)"
   ]
  },
  {
   "cell_type": "code",
   "execution_count": 20,
   "metadata": {
    "collapsed": false
   },
   "outputs": [
    {
     "name": "stdout",
     "output_type": "stream",
     "text": [
      "Wall time: 1min 38s\n"
     ]
    },
    {
     "data": {
      "text/plain": [
       "/out2 (EArray(750000, 1000)) ''\n",
       "  atom := Float64Atom(shape=(), dflt=0.0)\n",
       "  maindim := 0\n",
       "  flavor := 'numpy'\n",
       "  byteorder := 'little'\n",
       "  chunkshape := (8, 1000)"
      ]
     },
     "execution_count": 20,
     "metadata": {},
     "output_type": "execute_result"
    }
   ],
   "source": [
    "%time expr.eval()"
   ]
  },
  {
   "cell_type": "code",
   "execution_count": 21,
   "metadata": {
    "collapsed": false
   },
   "outputs": [
    {
     "data": {
      "text/plain": [
       "array([ 0.36553034, -1.7262693 ,  0.02481308,  2.01454166,  0.0383139 ,\n",
       "       -1.77443791, -1.40813109, -0.56626535,  2.79329782,  0.88516485])"
      ]
     },
     "execution_count": 21,
     "metadata": {},
     "output_type": "execute_result"
    }
   ],
   "source": [
    "out[0,:10]"
   ]
  },
  {
   "cell_type": "code",
   "execution_count": null,
   "metadata": {
    "collapsed": false
   },
   "outputs": [],
   "source": [
    "%time imarray = ear.read()"
   ]
  },
  {
   "cell_type": "code",
   "execution_count": 50,
   "metadata": {
    "collapsed": false
   },
   "outputs": [
    {
     "name": "stdout",
     "output_type": "stream",
     "text": [
      "Max %18.3f 5.6743\n",
      "Ave %18.3f -0.000411417505\n",
      "Min %18.3f -5.34433\n",
      "Std %18.3f 0.999532691802\n",
      "Wall time: 142 ms\n"
     ]
    }
   ],
   "source": [
    "import numexpr as ne\n",
    "expr = '3 * sin(imarray) + sqrt(abs(imarray))'"
   ]
  },
  {
   "cell_type": "code",
   "execution_count": 8,
   "metadata": {
    "collapsed": false
   },
   "outputs": [],
   "source": [
    "filename = path + 'tab.h5c'\n",
    "h5c = tb.open_file(filename, 'w')"
   ]
  },
  {
   "cell_type": "code",
   "execution_count": 54,
   "metadata": {
    "collapsed": false
   },
   "outputs": [],
   "source": [
    "filename = path + 'tab.h5c'\n",
    "h5c = tb.open_file(filename, 'w')"
   ]
  },
  {
   "cell_type": "code",
   "execution_count": 9,
   "metadata": {
    "collapsed": false
   },
   "outputs": [],
   "source": [
    "filters = tb.Filters(complevel=4, complib='blosc')"
   ]
  },
  {
   "cell_type": "code",
   "execution_count": null,
   "metadata": {
    "collapsed": true
   },
   "outputs": [],
   "source": [
    "tabc = h5c.create_table('/', 'ints_floats', sarray,\n",
    "title='Integers and Floats',\n",
    "expectedrows=rows, filters=filters)"
   ]
  },
  {
   "cell_type": "code",
   "execution_count": 35,
   "metadata": {
    "collapsed": false
   },
   "outputs": [
    {
     "name": "stdout",
     "output_type": "stream",
     "text": [
      "<class 'pandas.core.frame.DataFrame'>\n",
      "DatetimeIndex: 4357 entries, 1999-01-04 to 2016-02-12\n",
      "Data columns (total 9 columns):\n",
      "V2TX    4357 non-null float64\n",
      "V6I1    3906 non-null float64\n",
      "V6I2    4357 non-null float64\n",
      "V6I3    4296 non-null float64\n",
      "V6I4    4357 non-null float64\n",
      "V6I5    4357 non-null float64\n",
      "V6I6    4340 non-null float64\n",
      "V6I7    4357 non-null float64\n",
      "V6I8    4343 non-null float64\n",
      "dtypes: float64(9)\n",
      "memory usage: 340.4 KB\n"
     ]
    }
   ],
   "source": [
    "vs.info()"
   ]
  },
  {
   "cell_type": "code",
   "execution_count": 36,
   "metadata": {
    "collapsed": true
   },
   "outputs": [],
   "source": [
    "import datetime as dt\n",
    "data = pd.DataFrame({'EUROSTOXX' :\n",
    "es['SX5E'][es.index > dt.datetime(1999, 1, 1)]})\n",
    "data = data.join(pd.DataFrame({'VSTOXX' :\n",
    "vs['V2TX'][vs.index > dt.datetime(1999, 1, 1)]}))"
   ]
  },
  {
   "cell_type": "code",
   "execution_count": 40,
   "metadata": {
    "collapsed": false
   },
   "outputs": [
    {
     "name": "stdout",
     "output_type": "stream",
     "text": [
      "<class 'pandas.core.frame.DataFrame'>\n",
      "DatetimeIndex: 4417 entries, 1999-01-04 to 2016-03-25\n",
      "Data columns (total 2 columns):\n",
      "EUROSTOXX    4417 non-null float64\n",
      "VSTOXX       4417 non-null float64\n",
      "dtypes: float64(2)\n",
      "memory usage: 103.5 KB\n"
     ]
    }
   ],
   "source": [
    "data = data.fillna(method='ffill')\n",
    "data.info()"
   ]
  },
  {
   "cell_type": "code",
   "execution_count": 41,
   "metadata": {
    "collapsed": false
   },
   "outputs": [
    {
     "data": {
      "text/plain": [
       "array([<matplotlib.axes._subplots.AxesSubplot object at 0x00000000086832B0>,\n",
       "       <matplotlib.axes._subplots.AxesSubplot object at 0x000000000869E160>], dtype=object)"
      ]
     },
     "execution_count": 41,
     "metadata": {},
     "output_type": "execute_result"
    },
    {
     "data": {
      "image/png": "[encoded data removed]",
      "text/plain": [
       "<matplotlib.figure.Figure at 0x83cbeb8>"
      ]
     },
     "metadata": {},
     "output_type": "display_data"
    }
   ],
   "source": [
    "data.plot(subplots=True, grid=True, style='b', figsize=(8, 6))"
   ]
  },
  {
   "cell_type": "code",
   "execution_count": 42,
   "metadata": {
    "collapsed": false
   },
   "outputs": [
    {
     "data": {
      "text/html": [
       "<div>\n",
       "<table border=\"1\" class=\"dataframe\">\n",
       "  <thead>\n",
       "    <tr style=\"text-align: right;\">\n",
       "      <th></th>\n",
       "      <th>EUROSTOXX</th>\n",
       "      <th>VSTOXX</th>\n",
       "    </tr>\n",
       "  </thead>\n",
       "  <tbody>\n",
       "    <tr>\n",
       "      <th>1999-01-04</th>\n",
       "      <td>NaN</td>\n",
       "      <td>NaN</td>\n",
       "    </tr>\n",
       "    <tr>\n",
       "      <th>1999-01-05</th>\n",
       "      <td>0.017228</td>\n",
       "      <td>0.489248</td>\n",
       "    </tr>\n",
       "    <tr>\n",
       "      <th>1999-01-06</th>\n",
       "      <td>0.022138</td>\n",
       "      <td>-0.165317</td>\n",
       "    </tr>\n",
       "    <tr>\n",
       "      <th>1999-01-07</th>\n",
       "      <td>-0.015723</td>\n",
       "      <td>0.256337</td>\n",
       "    </tr>\n",
       "    <tr>\n",
       "      <th>1999-01-08</th>\n",
       "      <td>-0.003120</td>\n",
       "      <td>0.021570</td>\n",
       "    </tr>\n",
       "  </tbody>\n",
       "</table>\n",
       "</div>"
      ],
      "text/plain": [
       "            EUROSTOXX    VSTOXX\n",
       "1999-01-04        NaN       NaN\n",
       "1999-01-05   0.017228  0.489248\n",
       "1999-01-06   0.022138 -0.165317\n",
       "1999-01-07  -0.015723  0.256337\n",
       "1999-01-08  -0.003120  0.021570"
      ]
     },
     "execution_count": 42,
     "metadata": {},
     "output_type": "execute_result"
    }
   ],
   "source": [
    "rets = np.log(data / data.shift(1))\n",
    "rets.head()"
   ]
  },
  {
   "cell_type": "code",
   "execution_count": 43,
   "metadata": {
    "collapsed": false
   },
   "outputs": [
    {
     "data": {
      "text/plain": [
       "array([<matplotlib.axes._subplots.AxesSubplot object at 0x0000000008AD42B0>,\n",
       "       <matplotlib.axes._subplots.AxesSubplot object at 0x0000000008B1E5C0>], dtype=object)"
      ]
     },
     "execution_count": 43,
     "metadata": {},
     "output_type": "execute_result"
    },
    {
     "data": {
      "image/png": "[encoded data removed]",
      "text/plain": [
       "<matplotlib.figure.Figure at 0x8ad0a90>"
      ]
     },
     "metadata": {},
     "output_type": "display_data"
    }
   ],
   "source": [
    "rets.plot(subplots=True, grid=True, style='b', figsize=(8, 6))"
   ]
  },
  {
   "cell_type": "code",
   "execution_count": 48,
   "metadata": {
    "collapsed": false
   },
   "outputs": [
    {
     "data": {
      "text/plain": [
       "\n",
       "-------------------------Summary of Regression Analysis-------------------------\n",
       "\n",
       "Formula: Y ~ <x> + <intercept>\n",
       "\n",
       "Number of Observations:         4414\n",
       "Number of Degrees of Freedom:   2\n",
       "\n",
       "R-squared:         0.5400\n",
       "Adj R-squared:     0.5399\n",
       "\n",
       "Rmse:              0.0394\n",
       "\n",
       "F-stat (1, 4412):  5180.1196, p-value:     0.0000\n",
       "\n",
       "Degrees of Freedom: model 1, resid 4412\n",
       "\n",
       "-----------------------Summary of Estimated Coefficients------------------------\n",
       "      Variable       Coef    Std Err     t-stat    p-value    CI 2.5%   CI 97.5%\n",
       "--------------------------------------------------------------------------------\n",
       "             x    -2.8298     0.0393     -71.97     0.0000    -2.9069    -2.7527\n",
       "     intercept     0.0001     0.0006       0.09     0.9263    -0.0011     0.0012\n",
       "---------------------------------End of Summary---------------------------------"
      ]
     },
     "execution_count": 48,
     "metadata": {},
     "output_type": "execute_result"
    }
   ],
   "source": [
    "xdat = rets['EUROSTOXX']\n",
    "ydat = rets['VSTOXX']\n",
    "model = pd.ols(y=ydat[1:-2], x=xdat[1:-2])\n",
    "model"
   ]
  },
  {
   "cell_type": "code",
   "execution_count": 50,
   "metadata": {
    "collapsed": false
   },
   "outputs": [
    {
     "data": {
      "text/plain": [
       "<matplotlib.text.Text at 0xc105b70>"
      ]
     },
     "execution_count": 50,
     "metadata": {},
     "output_type": "execute_result"
    },
    {
     "data": {
      "image/png": "[encoded data removed]",
      "text/plain": [
       "<matplotlib.figure.Figure at 0xc0f4d30>"
      ]
     },
     "metadata": {},
     "output_type": "display_data"
    }
   ],
   "source": [
    "import matplotlib.pyplot as plt\n",
    "plt.plot(xdat, ydat, 'r.')\n",
    "ax = plt.axis() # grab axis values\n",
    "x = np.linspace(ax[0], ax[1] + 0.01)\n",
    "plt.plot(x, model.beta[1] + model.beta[0] * x, 'b', lw=2)\n",
    "plt.grid(True)\n",
    "plt.axis('tight')\n",
    "plt.xlabel('EURO STOXX 50 returns')\n",
    "plt.ylabel('VSTOXX returns')"
   ]
  },
  {
   "cell_type": "code",
   "execution_count": 52,
   "metadata": {
    "collapsed": false
   },
   "outputs": [
    {
     "data": {
      "text/plain": [
       "<matplotlib.axes._subplots.AxesSubplot at 0xc0f4ac8>"
      ]
     },
     "execution_count": 52,
     "metadata": {},
     "output_type": "execute_result"
    },
    {
     "data": {
      "image/png": "[encoded data removed]",
      "text/plain": [
       "<matplotlib.figure.Figure at 0xc0f47b8>"
      ]
     },
     "metadata": {},
     "output_type": "display_data"
    }
   ],
   "source": [
    "pd.rolling_corr(rets['EUROSTOXX'], rets['VSTOXX'],\n",
    "window=252).plot(grid=True, style='b')"
   ]
  },
  {
   "cell_type": "code",
   "execution_count": 53,
   "metadata": {
    "collapsed": false
   },
   "outputs": [
    {
     "ename": "ImportError",
     "evalue": "cannot import name 'urlretrieve'",
     "output_type": "error",
     "traceback": [
      "\u001b[1;31m---------------------------------------------------------------------------\u001b[0m",
      "\u001b[1;31mImportError\u001b[0m                               Traceback (most recent call last)",
      "\u001b[1;32m<ipython-input-53-8814d5b83ab5>\u001b[0m in \u001b[0;36m<module>\u001b[1;34m()\u001b[0m\n\u001b[0;32m      2\u001b[0m \u001b[1;32mimport\u001b[0m \u001b[0mpandas\u001b[0m \u001b[1;32mas\u001b[0m \u001b[0mpd\u001b[0m\u001b[1;33m\u001b[0m\u001b[0m\n\u001b[0;32m      3\u001b[0m \u001b[1;32mimport\u001b[0m \u001b[0mdatetime\u001b[0m \u001b[1;32mas\u001b[0m \u001b[0mdt\u001b[0m\u001b[1;33m\u001b[0m\u001b[0m\n\u001b[1;32m----> 4\u001b[1;33m \u001b[1;32mfrom\u001b[0m \u001b[0murllib\u001b[0m \u001b[1;32mimport\u001b[0m \u001b[0murlretrieve\u001b[0m\u001b[1;33m\u001b[0m\u001b[0m\n\u001b[0m\u001b[0;32m      5\u001b[0m \u001b[0mget_ipython\u001b[0m\u001b[1;33m(\u001b[0m\u001b[1;33m)\u001b[0m\u001b[1;33m.\u001b[0m\u001b[0mmagic\u001b[0m\u001b[1;33m(\u001b[0m\u001b[1;34m'matplotlib inline'\u001b[0m\u001b[1;33m)\u001b[0m\u001b[1;33m\u001b[0m\u001b[0m\n",
      "\u001b[1;31mImportError\u001b[0m: cannot import name 'urlretrieve'"
     ]
    }
   ],
   "source": [
    "import numpy as np\n",
    "import pandas as pd\n",
    "import datetime as dt\n",
    "from urllib import urlretrieve\n",
    "%matplotlib inline"
   ]
  },
  {
   "cell_type": "code",
   "execution_count": null,
   "metadata": {
    "collapsed": false
   },
   "outputs": [],
   "source": [
    "import opportunity_constructs.utilities as ocu\n",
    "aligned_output = ocu.get_aligned_futures_data(contract_list=['NGU2016','NGX2016','NGF2017'],aggregation_method=12,contracts_back=10,date_to=20160218)\n",
    "#aligned_output = ocu.get_aligned_futures_data(contract_list=['HOV2007','HOX2007'],aggregation_method=12,contracts_back=10,date_to=20070420)\n",
    "aligned_data = aligned_output['aligned_data']\n",
    "bf_price = aligned_data['c1']['close_price']+aligned_data['c3']['close_price']-2*aligned_data['c2']['close_price']\n",
    "#bf_price = aligned_data['c1']['close_price']-aligned_data['c2']['close_price']\n",
    "#bf_price_recent = bf_price[1:]\n",
    "#aligned_data_recent = aligned_data[1:]\n",
    "import matplotlib.pyplot as plt\n",
    "plt.plot(bf_price)\n",
    "plt.grid()         \n",
    "         \n",
    "plt.show()"
   ]
  },
  {
   "cell_type": "code",
   "execution_count": null,
   "metadata": {
    "collapsed": true
   },
   "outputs": [],
   "source": []
  },
  {
   "cell_type": "code",
   "execution_count": 1,
   "metadata": {
    "collapsed": false
   },
   "outputs": [
    {
     "data": {
      "text/html": [
       "<div>\n",
       "<table border=\"1\" class=\"dataframe\">\n",
       "  <thead>\n",
       "    <tr style=\"text-align: right;\">\n",
       "      <th></th>\n",
       "      <th>asset_type</th>\n",
       "      <th>maturity_string</th>\n",
       "      <th>option_type</th>\n",
       "      <th>ticker_head</th>\n",
       "      <th>ticker_year</th>\n",
       "      <th>ticker_month</th>\n",
       "      <th>ticker</th>\n",
       "    </tr>\n",
       "  </thead>\n",
       "  <tbody>\n",
       "  </tbody>\n",
       "</table>\n",
       "</div>"
      ],
      "text/plain": [
       "Empty DataFrame\n",
       "Columns: [asset_type, maturity_string, option_type, ticker_head, ticker_year, ticker_month, ticker]\n",
       "Index: []"
      ]
     },
     "execution_count": 1,
     "metadata": {},
     "output_type": "execute_result"
    }
   ],
   "source": [
    "import read_exchange_files.process_cme_options as pco\n",
    "selected_frame = pco.process_cme_options_4ticker(ticker='CDF2017',report_date=20160303)\n",
    "ticker='ECF2017'\n",
    "#selected_frame[(selected_frame['ticker'] == ticker)&(selected_frame['option_type'] == 'C')]\n",
    "selected_frame"
   ]
  },
  {
   "cell_type": "code",
   "execution_count": 5,
   "metadata": {
    "collapsed": false
   },
   "outputs": [
    {
     "data": {
      "text/plain": [
       "'C:\\\\Research/data/options_data_raw/2016/201602/20160226/commodity_formatted_.pkl'"
      ]
     },
     "execution_count": 5,
     "metadata": {},
     "output_type": "execute_result"
    }
   ],
   "source": [
    "import os.path\n",
    "import shared.directory_names as dn\n",
    "options_data_dir = dn.get_dated_directory_extension(folder_date=20160226, ext='raw_options_data')\n",
    "options_data_dir\n",
    "file_name='commodity'\n",
    "\n",
    "os.path.isfile(options_data_dir + '/' + file_name + '_formatted_.pkl')\n",
    "\n",
    "options_data_dir + '/' + file_name + '_formatted_.pkl'"
   ]
  },
  {
   "cell_type": "code",
   "execution_count": 6,
   "metadata": {
    "collapsed": false
   },
   "outputs": [
    {
     "data": {
      "text/plain": [
       "9.0283617430215042"
      ]
     },
     "execution_count": 6,
     "metadata": {},
     "output_type": "execute_result"
    }
   ],
   "source": [
    "import signals.imp_vol as siv\n",
    "skew_output = siv.calc_delta_vol_4ticker(ticker='ECK2016',settle_date=20160318,delta=0.5)\n",
    "\n",
    "skew_output\n"
   ]
  },
  {
   "cell_type": "code",
   "execution_count": 3,
   "metadata": {
    "collapsed": true
   },
   "outputs": [],
   "source": [
    "import matplotlib.pyplot as plt\n",
    "plt.scatter(skew_output['delta'],skew_output['imp_vol'])\n",
    "plt.grid()         \n",
    "         \n",
    "plt.show()"
   ]
  },
  {
   "cell_type": "code",
   "execution_count": 8,
   "metadata": {
    "collapsed": false
   },
   "outputs": [
    {
     "name": "stdout",
     "output_type": "stream",
     "text": [
      "Wall time: 0 ns\n",
      "Wall time: 29 ms\n",
      "0.15950071090498857\n",
      "0.15952697795216259\n"
     ]
    }
   ],
   "source": [
    "from scipy.interpolate import interp1d\n",
    "\n",
    "%time f = interp1d(skew_output['delta'],skew_output['imp_vol'])\n",
    "%time f2 = interp1d(skew_output['delta'],skew_output['imp_vol'],kind='cubic')\n",
    "print(f(0.5))\n",
    "print(f2(0.5))\n",
    "\n",
    "#skew_output['imp_vol']"
   ]
  },
  {
   "cell_type": "code",
   "execution_count": 20,
   "metadata": {
    "collapsed": false
   },
   "outputs": [
    {
     "data": {
      "text/html": [
       "<div>\n",
       "<table border=\"1\" class=\"dataframe\">\n",
       "  <thead>\n",
       "    <tr style=\"text-align: right;\">\n",
       "      <th></th>\n",
       "      <th>ticker1</th>\n",
       "      <th>ticker2</th>\n",
       "      <th>tickerHead</th>\n",
       "      <th>front_tr_dte</th>\n",
       "      <th>carry</th>\n",
       "      <th>q_carry</th>\n",
       "      <th>reward_risk</th>\n",
       "      <th>price</th>\n",
       "      <th>q</th>\n",
       "      <th>upside</th>\n",
       "      <th>downside</th>\n",
       "      <th>change5</th>\n",
       "      <th>change10</th>\n",
       "      <th>change20</th>\n",
       "    </tr>\n",
       "  </thead>\n",
       "  <tbody>\n",
       "    <tr>\n",
       "      <th>0</th>\n",
       "      <td>CK2016</td>\n",
       "      <td>CN2016</td>\n",
       "      <td>C</td>\n",
       "      <td>36</td>\n",
       "      <td>NaN</td>\n",
       "      <td>NaN</td>\n",
       "      <td>NaN</td>\n",
       "      <td>-4.75</td>\n",
       "      <td>65</td>\n",
       "      <td>532.81</td>\n",
       "      <td>-184.38</td>\n",
       "      <td>NaN</td>\n",
       "      <td>NaN</td>\n",
       "      <td>NaN</td>\n",
       "    </tr>\n",
       "    <tr>\n",
       "      <th>1</th>\n",
       "      <td>CN2016</td>\n",
       "      <td>CU2016</td>\n",
       "      <td>C</td>\n",
       "      <td>78</td>\n",
       "      <td>-12.5</td>\n",
       "      <td>13</td>\n",
       "      <td>0.00</td>\n",
       "      <td>-4.50</td>\n",
       "      <td>52</td>\n",
       "      <td>704.69</td>\n",
       "      <td>-914.06</td>\n",
       "      <td>NaN</td>\n",
       "      <td>NaN</td>\n",
       "      <td>NaN</td>\n",
       "    </tr>\n",
       "    <tr>\n",
       "      <th>2</th>\n",
       "      <td>CU2016</td>\n",
       "      <td>CZ2016</td>\n",
       "      <td>C</td>\n",
       "      <td>121</td>\n",
       "      <td>187.5</td>\n",
       "      <td>10</td>\n",
       "      <td>0.05</td>\n",
       "      <td>-8.25</td>\n",
       "      <td>42</td>\n",
       "      <td>393.75</td>\n",
       "      <td>-462.50</td>\n",
       "      <td>NaN</td>\n",
       "      <td>NaN</td>\n",
       "      <td>NaN</td>\n",
       "    </tr>\n",
       "    <tr>\n",
       "      <th>3</th>\n",
       "      <td>CZ2016</td>\n",
       "      <td>CH2017</td>\n",
       "      <td>C</td>\n",
       "      <td>185</td>\n",
       "      <td>12.5</td>\n",
       "      <td>-12</td>\n",
       "      <td>0.01</td>\n",
       "      <td>-8.50</td>\n",
       "      <td>54</td>\n",
       "      <td>81.25</td>\n",
       "      <td>-87.50</td>\n",
       "      <td>NaN</td>\n",
       "      <td>NaN</td>\n",
       "      <td>NaN</td>\n",
       "    </tr>\n",
       "    <tr>\n",
       "      <th>4</th>\n",
       "      <td>CH2017</td>\n",
       "      <td>CK2017</td>\n",
       "      <td>C</td>\n",
       "      <td>245</td>\n",
       "      <td>-200.0</td>\n",
       "      <td>-22</td>\n",
       "      <td>-0.34</td>\n",
       "      <td>-4.50</td>\n",
       "      <td>76</td>\n",
       "      <td>48.44</td>\n",
       "      <td>-56.25</td>\n",
       "      <td>NaN</td>\n",
       "      <td>NaN</td>\n",
       "      <td>NaN</td>\n",
       "    </tr>\n",
       "  </tbody>\n",
       "</table>\n",
       "</div>"
      ],
      "text/plain": [
       "  ticker1 ticker2 tickerHead  front_tr_dte  carry  q_carry  reward_risk  \\\n",
       "0  CK2016  CN2016          C            36    NaN      NaN          NaN   \n",
       "1  CN2016  CU2016          C            78  -12.5       13         0.00   \n",
       "2  CU2016  CZ2016          C           121  187.5       10         0.05   \n",
       "3  CZ2016  CH2017          C           185   12.5      -12         0.01   \n",
       "4  CH2017  CK2017          C           245 -200.0      -22        -0.34   \n",
       "\n",
       "   price   q  upside  downside  change5  change10  change20  \n",
       "0  -4.75  65  532.81   -184.38      NaN       NaN       NaN  \n",
       "1  -4.50  52  704.69   -914.06      NaN       NaN       NaN  \n",
       "2  -8.25  42  393.75   -462.50      NaN       NaN       NaN  \n",
       "3  -8.50  54   81.25    -87.50      NaN       NaN       NaN  \n",
       "4  -4.50  76   48.44    -56.25      NaN       NaN       NaN  "
      ]
     },
     "execution_count": 20,
     "metadata": {},
     "output_type": "execute_result"
    }
   ],
   "source": [
    "import opportunity_constructs.spread_carry as sc\n",
    "\n",
    "spread_carry_output = sc.generate_spread_carry_sheet_4date(report_date=20160323)\n",
    "spread_report = spread_carry_output['spread_report']\n",
    "ticker_head_list = list(spread_report['tickerHead'].unique())\n",
    "# Compare BO and S sizing\n",
    "\n",
    "spread_report[spread_report['tickerHead']==ticker_head_list[19]]\n",
    "#spread_report[spread_report['tickerHead']=='CC']"
   ]
  },
  {
   "cell_type": "code",
   "execution_count": 26,
   "metadata": {
    "collapsed": false
   },
   "outputs": [],
   "source": [
    "from openpyxl import Workbook\n",
    "wb=Workbook()\n",
    "ws=wb.active\n",
    "ws['A1']='=CMED.MD(1|G|XCME:F:ES:201606,\"LastTradePrice\")'\n",
    "\n",
    "ws['A1'].value\n",
    "wb.save(\"formula.xlsx\")"
   ]
  },
  {
   "cell_type": "code",
   "execution_count": 23,
   "metadata": {
    "collapsed": false
   },
   "outputs": [
    {
     "data": {
      "text/plain": [
       "set()"
      ]
     },
     "execution_count": 23,
     "metadata": {},
     "output_type": "execute_result"
    }
   ],
   "source": [
    "ticker_head_list = ['ED', 'C', 'S', 'SM', 'BO', 'W', 'KW', 'LC', 'LN', 'FC',\n",
    "                        'ES', 'NQ', 'AD', 'CD', 'EC', 'JY', 'BP',\n",
    "                        'FV', 'TU', 'TY', 'US', 'GC', 'SI', 'CL', 'NG', 'HO', 'RB']\n",
    "\n",
    "import contract_utilities.contract_meta_info as cmi\n",
    "new_list = cmi.cme_futures_tickerhead_list\n",
    "\n",
    "set(ticker_head_list)-set(new_list)"
   ]
  },
  {
   "cell_type": "code",
   "execution_count": null,
   "metadata": {
    "collapsed": false
   },
   "outputs": [],
   "source": [
    "import read_exchange_files.process_cme_futures as pcf\n",
    "import read_exchange_files.read_cme_files as rcf\n",
    "cme_output = pcf.process_cme_futures_4tickerhead(ticker_head='RB', report_date=20160225)\n",
    "#data_read_out = rcf.read_cme_future_settle_csv_files(file_name='nymex_futures', report_date=20160224)\n",
    "#title_frame = data_read_out['title_frame']\n",
    "#title_frame\n",
    "#title_frame[title_frame['ticker_head']=='LN']\n",
    "\n",
    "#data_read_out[data_read_out['ticker_head']=='CL']\n",
    "\n",
    "#data_read_out['month_strike_list'][68]\n",
    "cme_output['settle_frame']"
   ]
  },
  {
   "cell_type": "code",
   "execution_count": null,
   "metadata": {
    "collapsed": false
   },
   "outputs": [],
   "source": [
    "import get_price.get_futures_price as gfp\n",
    "import shared.calendar_utilities as cu\n",
    "import contract_utilities.expiration as exp\n",
    "price_frame = gfp.get_futures_price_preloaded(ticker_head='ED',settle_date=20160225)\n",
    "price_frame.sort('tr_dte',ascending=True,inplace=True)\n",
    "\n",
    "\n",
    "exp_date = 20170225\n",
    "\n",
    "\n",
    "exp_datetime = cu.convert_doubledate_2datetime(exp_date)\n",
    "\n",
    "price_frame['exp_date'] = [exp.get_futures_expiration(x) for x in price_frame['ticker']]\n",
    "price_frame = price_frame[price_frame['exp_date']<exp_datetime]\n",
    "\n",
    "price_frame['implied_rate'] = 100-price_frame['close_price']\n",
    "\n",
    "price_frame[['implied_rate','exp_date','cal_dte']]\n"
   ]
  },
  {
   "cell_type": "code",
   "execution_count": null,
   "metadata": {
    "collapsed": false
   },
   "outputs": [],
   "source": [
    "[1+(price_frame['implied_rate'].iloc[x]*(price_frame['cal_dte'].iloc[x+1]-price_frame['cal_dte'].iloc[x])/36500) for x in range(len(price_frame.index)-1)]\n",
    "\n",
    "1+(price_frame['implied_rate'].iloc[0]*price_frame['cal_dte'].iloc[0]/365000)\n",
    "\n",
    "\n",
    "1+((price_frame['implied_rate'].iloc[-1]*((exp_datetime-price_frame['exp_date'].iloc[-1].to_datetime()).days))/365000)\n"
   ]
  },
  {
   "cell_type": "code",
   "execution_count": 6,
   "metadata": {
    "collapsed": false
   },
   "outputs": [
    {
     "name": "stdout",
     "output_type": "stream",
     "text": [
      "0.00648406165771\n"
     ]
    },
    {
     "data": {
      "text/html": [
       "<div>\n",
       "<table border=\"1\" class=\"dataframe\">\n",
       "  <thead>\n",
       "    <tr style=\"text-align: right;\">\n",
       "      <th></th>\n",
       "      <th>ticker</th>\n",
       "      <th>cal_dte</th>\n",
       "      <th>exp_date</th>\n",
       "      <th>implied_rate</th>\n",
       "    </tr>\n",
       "  </thead>\n",
       "  <tbody>\n",
       "    <tr>\n",
       "      <th>126</th>\n",
       "      <td>EDG2016</td>\n",
       "      <td>-1</td>\n",
       "      <td>2016-02-15</td>\n",
       "      <td>0.6182</td>\n",
       "    </tr>\n",
       "    <tr>\n",
       "      <th>2500</th>\n",
       "      <td>EDH2016</td>\n",
       "      <td>27</td>\n",
       "      <td>2016-03-14</td>\n",
       "      <td>0.6375</td>\n",
       "    </tr>\n",
       "    <tr>\n",
       "      <th>82</th>\n",
       "      <td>EDJ2016</td>\n",
       "      <td>62</td>\n",
       "      <td>2016-04-18</td>\n",
       "      <td>0.6550</td>\n",
       "    </tr>\n",
       "    <tr>\n",
       "      <th>61</th>\n",
       "      <td>EDK2016</td>\n",
       "      <td>90</td>\n",
       "      <td>2016-05-16</td>\n",
       "      <td>0.6600</td>\n",
       "    </tr>\n",
       "    <tr>\n",
       "      <th>2432</th>\n",
       "      <td>EDM2016</td>\n",
       "      <td>118</td>\n",
       "      <td>2016-06-13</td>\n",
       "      <td>0.6650</td>\n",
       "    </tr>\n",
       "    <tr>\n",
       "      <th>20</th>\n",
       "      <td>EDN2016</td>\n",
       "      <td>153</td>\n",
       "      <td>2016-07-18</td>\n",
       "      <td>0.6750</td>\n",
       "    </tr>\n",
       "    <tr>\n",
       "      <th>1</th>\n",
       "      <td>EDQ2016</td>\n",
       "      <td>181</td>\n",
       "      <td>2016-08-15</td>\n",
       "      <td>0.6850</td>\n",
       "    </tr>\n",
       "    <tr>\n",
       "      <th>2369</th>\n",
       "      <td>EDU2016</td>\n",
       "      <td>216</td>\n",
       "      <td>2016-09-19</td>\n",
       "      <td>0.7000</td>\n",
       "    </tr>\n",
       "    <tr>\n",
       "      <th>2305</th>\n",
       "      <td>EDZ2016</td>\n",
       "      <td>307</td>\n",
       "      <td>2016-12-19</td>\n",
       "      <td>0.7500</td>\n",
       "    </tr>\n",
       "    <tr>\n",
       "      <th>2244</th>\n",
       "      <td>EDH2017</td>\n",
       "      <td>391</td>\n",
       "      <td>2017-03-13</td>\n",
       "      <td>0.7950</td>\n",
       "    </tr>\n",
       "    <tr>\n",
       "      <th>2178</th>\n",
       "      <td>EDM2017</td>\n",
       "      <td>489</td>\n",
       "      <td>2017-06-19</td>\n",
       "      <td>0.8500</td>\n",
       "    </tr>\n",
       "    <tr>\n",
       "      <th>2109</th>\n",
       "      <td>EDU2017</td>\n",
       "      <td>580</td>\n",
       "      <td>2017-09-18</td>\n",
       "      <td>0.9100</td>\n",
       "    </tr>\n",
       "    <tr>\n",
       "      <th>2054</th>\n",
       "      <td>EDZ2017</td>\n",
       "      <td>671</td>\n",
       "      <td>2017-12-18</td>\n",
       "      <td>0.9850</td>\n",
       "    </tr>\n",
       "    <tr>\n",
       "      <th>1984</th>\n",
       "      <td>EDH2018</td>\n",
       "      <td>762</td>\n",
       "      <td>2018-03-19</td>\n",
       "      <td>1.0550</td>\n",
       "    </tr>\n",
       "    <tr>\n",
       "      <th>1920</th>\n",
       "      <td>EDM2018</td>\n",
       "      <td>853</td>\n",
       "      <td>2018-06-18</td>\n",
       "      <td>1.1300</td>\n",
       "    </tr>\n",
       "    <tr>\n",
       "      <th>1856</th>\n",
       "      <td>EDU2018</td>\n",
       "      <td>944</td>\n",
       "      <td>2018-09-17</td>\n",
       "      <td>1.2050</td>\n",
       "    </tr>\n",
       "    <tr>\n",
       "      <th>1792</th>\n",
       "      <td>EDZ2018</td>\n",
       "      <td>1035</td>\n",
       "      <td>2018-12-17</td>\n",
       "      <td>1.2900</td>\n",
       "    </tr>\n",
       "    <tr>\n",
       "      <th>1731</th>\n",
       "      <td>EDH2019</td>\n",
       "      <td>1126</td>\n",
       "      <td>2019-03-18</td>\n",
       "      <td>1.3600</td>\n",
       "    </tr>\n",
       "    <tr>\n",
       "      <th>1668</th>\n",
       "      <td>EDM2019</td>\n",
       "      <td>1217</td>\n",
       "      <td>2019-06-17</td>\n",
       "      <td>1.4400</td>\n",
       "    </tr>\n",
       "    <tr>\n",
       "      <th>1604</th>\n",
       "      <td>EDU2019</td>\n",
       "      <td>1308</td>\n",
       "      <td>2019-09-16</td>\n",
       "      <td>1.5150</td>\n",
       "    </tr>\n",
       "    <tr>\n",
       "      <th>1540</th>\n",
       "      <td>EDZ2019</td>\n",
       "      <td>1399</td>\n",
       "      <td>2019-12-16</td>\n",
       "      <td>1.5950</td>\n",
       "    </tr>\n",
       "  </tbody>\n",
       "</table>\n",
       "</div>"
      ],
      "text/plain": [
       "       ticker  cal_dte   exp_date  implied_rate\n",
       "126   EDG2016       -1 2016-02-15        0.6182\n",
       "2500  EDH2016       27 2016-03-14        0.6375\n",
       "82    EDJ2016       62 2016-04-18        0.6550\n",
       "61    EDK2016       90 2016-05-16        0.6600\n",
       "2432  EDM2016      118 2016-06-13        0.6650\n",
       "20    EDN2016      153 2016-07-18        0.6750\n",
       "1     EDQ2016      181 2016-08-15        0.6850\n",
       "2369  EDU2016      216 2016-09-19        0.7000\n",
       "2305  EDZ2016      307 2016-12-19        0.7500\n",
       "2244  EDH2017      391 2017-03-13        0.7950\n",
       "2178  EDM2017      489 2017-06-19        0.8500\n",
       "2109  EDU2017      580 2017-09-18        0.9100\n",
       "2054  EDZ2017      671 2017-12-18        0.9850\n",
       "1984  EDH2018      762 2018-03-19        1.0550\n",
       "1920  EDM2018      853 2018-06-18        1.1300\n",
       "1856  EDU2018      944 2018-09-17        1.2050\n",
       "1792  EDZ2018     1035 2018-12-17        1.2900\n",
       "1731  EDH2019     1126 2019-03-18        1.3600\n",
       "1668  EDM2019     1217 2019-06-17        1.4400\n",
       "1604  EDU2019     1308 2019-09-16        1.5150\n",
       "1540  EDZ2019     1399 2019-12-16        1.5950"
      ]
     },
     "execution_count": 6,
     "metadata": {},
     "output_type": "execute_result"
    }
   ],
   "source": [
    "import interest_curve.get_rate_from_stir as grfs\n",
    "wuhu = grfs.get_simple_rate(as_of_date=20160216,date_to=20160718)\n",
    "\n",
    "print(wuhu['rate_output'])\n",
    "\n",
    "wuhu['price_frame']\n",
    "\n"
   ]
  },
  {
   "cell_type": "code",
   "execution_count": 3,
   "metadata": {
    "collapsed": false
   },
   "outputs": [
    {
     "ename": "KeyError",
     "evalue": "'middle_discount'",
     "output_type": "error",
     "traceback": [
      "\u001b[1;31m---------------------------------------------------------------------------\u001b[0m",
      "\u001b[1;31mKeyError\u001b[0m                                  Traceback (most recent call last)",
      "\u001b[1;32m<ipython-input-3-30f7a0ee3fd8>\u001b[0m in \u001b[0;36m<module>\u001b[1;34m()\u001b[0m\n\u001b[0;32m      1\u001b[0m \u001b[1;32mimport\u001b[0m \u001b[0mnumpy\u001b[0m \u001b[1;32mas\u001b[0m \u001b[0mnp\u001b[0m\u001b[1;33m\u001b[0m\u001b[0m\n\u001b[1;32m----> 2\u001b[1;33m \u001b[0mprint\u001b[0m\u001b[1;33m(\u001b[0m\u001b[0mwuhu\u001b[0m\u001b[1;33m[\u001b[0m\u001b[1;34m'middle_discount'\u001b[0m\u001b[1;33m]\u001b[0m\u001b[1;33m)\u001b[0m\u001b[1;33m\u001b[0m\u001b[0m\n\u001b[0m\u001b[0;32m      3\u001b[0m \u001b[1;33m\u001b[0m\u001b[0m\n\u001b[0;32m      4\u001b[0m \u001b[0mprint\u001b[0m\u001b[1;33m(\u001b[0m\u001b[0mwuhu\u001b[0m\u001b[1;33m[\u001b[0m\u001b[1;34m'total_discount'\u001b[0m\u001b[1;33m]\u001b[0m\u001b[1;33m)\u001b[0m\u001b[1;33m\u001b[0m\u001b[0m\n\u001b[0;32m      5\u001b[0m \u001b[1;33m\u001b[0m\u001b[0m\n",
      "\u001b[1;31mKeyError\u001b[0m: 'middle_discount'"
     ]
    }
   ],
   "source": [
    "import numpy as np\n",
    "print(wuhu['middle_discount'])\n",
    "\n",
    "print(wuhu['total_discount'])\n",
    "\n",
    "print(wuhu['first_rate'])\n",
    "print(wuhu['first_period'])\n",
    "\n",
    "print(wuhu['last_rate'])\n",
    "print(wuhu['last_period'])\n",
    "\n",
    "print(wuhu['total_period'])\n",
    "\n",
    "print(np.prod(np.array(wuhu['middle_discount'])))\n",
    "\n",
    "\n",
    "print((1+(wuhu['first_rate']*wuhu['first_period']/36500)))\n",
    "print((1+(wuhu['last_rate']*wuhu['last_period']/36500)))\n",
    "\n",
    "\n",
    "print((1+(wuhu['first_rate']*wuhu['first_period']/36500))*\n",
    "      (1+(wuhu['last_rate']*wuhu['last_period']/36500))*\n",
    "     np.prod(np.array(wuhu['middle_discount'])))"
   ]
  },
  {
   "cell_type": "code",
   "execution_count": 1,
   "metadata": {
    "collapsed": false
   },
   "outputs": [],
   "source": [
    "import get_price.presave_price as pp\n",
    "pp.generate_and_update_futures_data_files(ticker_head_list='cme_futures')\n",
    "#data_out = pp.generate_and_update_futures_data_file_4tickerhead(ticker_head='B')\n",
    "#data_out[data_out['ticker']=='BZ2016']"
   ]
  },
  {
   "cell_type": "code",
   "execution_count": null,
   "metadata": {
    "collapsed": false
   },
   "outputs": [],
   "source": [
    "\n",
    "import contract_utilities.expiration as exp\n",
    "report_date = exp.doubledate_shift_bus_days()\n",
    "import futures_charts.futures_curve as fc\n",
    "bf_signals_output = fc.get_butterfly_scatter_plot(report_date=report_date,id=195)"
   ]
  },
  {
   "cell_type": "code",
   "execution_count": null,
   "metadata": {
    "collapsed": false
   },
   "outputs": [],
   "source": [
    "aligned_output = bf_signals_output['aligned_output']\n",
    "aligned_data = aligned_output['aligned_data']\n",
    "bf_price = aligned_data['c1']['close_price']+aligned_data['c3']['close_price']-2*aligned_data['c2']['close_price']"
   ]
  },
  {
   "cell_type": "code",
   "execution_count": null,
   "metadata": {
    "collapsed": false
   },
   "outputs": [],
   "source": [
    "import matplotlib.pyplot as plt\n",
    "plt.plot(bf_price)\n",
    "plt.grid()         \n",
    "         \n",
    "plt.show()"
   ]
  },
  {
   "cell_type": "code",
   "execution_count": null,
   "metadata": {
    "collapsed": false
   },
   "outputs": [],
   "source": [
    "bad_data = aligned_data[bf_price<-0.004]   #<-0.03\n",
    "bad_data\n",
    "\n",
    "# HOV2007,HOX2007, HOZ2007 20070213 to 20070413"
   ]
  },
  {
   "cell_type": "code",
   "execution_count": null,
   "metadata": {
    "collapsed": false
   },
   "outputs": [],
   "source": [
    "aligned_data.iloc[1047]"
   ]
  },
  {
   "cell_type": "code",
   "execution_count": null,
   "metadata": {
    "collapsed": false
   },
   "outputs": [],
   "source": [
    "import shared.directory_names as dn\n",
    "options_data_dir = dn.get_dated_directory_extension(folder_date=20160208,ext='comex_options_csv_address')\n",
    "options_data_dir"
   ]
  },
  {
   "cell_type": "code",
   "execution_count": null,
   "metadata": {
    "collapsed": false
   },
   "outputs": [],
   "source": [
    "import contract_utilities.expiration as exp\n",
    "report_date = exp.doubledate_shift_bus_days()\n",
    "report_date"
   ]
  },
  {
   "cell_type": "code",
   "execution_count": null,
   "metadata": {
    "collapsed": false
   },
   "outputs": [],
   "source": [
    "import scheduled_jobs.options_data_load_job as odlj\n",
    "import shared.downloads as sd\n",
    "sd.download_csv_from_web(web_address=odlj.comex_options_csv_address)\n"
   ]
  },
  {
   "cell_type": "code",
   "execution_count": null,
   "metadata": {
    "collapsed": false
   },
   "outputs": [],
   "source": [
    "import scheduled_jobs.options_data_load_job"
   ]
  },
  {
   "cell_type": "code",
   "execution_count": null,
   "metadata": {
    "collapsed": false
   },
   "outputs": [],
   "source": [
    "with open(r'C:\\Research\\data\\options_data_raw\\2016\\201602\\20160208\\interest_rate.pkl','rb') as handle:\n",
    "    wuhu = pickle.load(handle)"
   ]
  },
  {
   "cell_type": "code",
   "execution_count": null,
   "metadata": {
    "collapsed": false
   },
   "outputs": [],
   "source": [
    "scatter_matrix = np.zeros((3,3))\n",
    "\n",
    "for i in range(all_samples.shape[1]):\n",
    "    scatter_matrix +=(all_samples[:,i].reshape(3,1)).dot(\n",
    "    (all_samples[:,i].reshape(3,1)-mean_vector).T)\n",
    "print('Scatter Matrix\\n',scatter_matrix)    "
   ]
  },
  {
   "cell_type": "code",
   "execution_count": null,
   "metadata": {
    "collapsed": false
   },
   "outputs": [],
   "source": [
    "cov_mat = np.cov([all_samples[0,:], all_samples[1,:],all_samples[2,:]])\n",
    "print('Covariance Matrix:\\n', cov_mat)"
   ]
  },
  {
   "cell_type": "code",
   "execution_count": null,
   "metadata": {
    "collapsed": false
   },
   "outputs": [],
   "source": [
    "for i in range(len(eig_val_sc)):\n",
    "    eigv = eig_vec_sc[:,i].reshape(1,3).T\n",
    "    np.testing.assert_array_almost_equal(scatter_matrix.dot(eigv),\n",
    "                                         eig_val_sc[i] * eigv,\n",
    "                                         decimal=6, err_msg='', verbose=True)"
   ]
  },
  {
   "cell_type": "code",
   "execution_count": null,
   "metadata": {
    "collapsed": false
   },
   "outputs": [],
   "source": [
    "transformed = matrix_w.T.dot(all_samples)\n",
    "assert transformed.shape == (2,40), \"The matrix is not 2x40 dimensional.\"\n",
    "transformed\n",
    "matrix_w"
   ]
  },
  {
   "cell_type": "code",
   "execution_count": null,
   "metadata": {
    "collapsed": false
   },
   "outputs": [],
   "source": [
    "import matplotlib.pyplot as plt\n",
    "plt.plot(merged_dataframe.index,(merged_dataframe['BOH2016']['close_price']+merged_dataframe['BON2016']['close_price'])/2-\n",
    "         merged_dataframe['BOK2016']['close_price'])\n",
    "         \n",
    "         \n",
    "plt.show()"
   ]
  },
  {
   "cell_type": "code",
   "execution_count": null,
   "metadata": {
    "collapsed": false
   },
   "outputs": [],
   "source": [
    "(merged_dataframe['BOH2016']['close_price']+merged_dataframe['BON2016']['close_price'])/2-merged_dataframe['BOK2016']['close_price']"
   ]
  },
  {
   "cell_type": "code",
   "execution_count": null,
   "metadata": {
    "collapsed": false
   },
   "outputs": [],
   "source": [
    "\n",
    "\n",
    "import matplotlib.pyplot as plt\n",
    "plt.plot(range(len(aligned_dataframe.index)),aligned_dataframe['c1']['tr_dte'],\n",
    "         range(len(aligned_dataframe.index)),aligned_dataframe['c2']['tr_dte'],\n",
    "         range(len(aligned_dataframe.index)),aligned_dataframe['c3']['tr_dte'])\n",
    "plt.grid()         \n",
    "         \n",
    "plt.show()\n",
    "\n",
    "    \n",
    "\n",
    "    "
   ]
  },
  {
   "cell_type": "code",
   "execution_count": null,
   "metadata": {
    "collapsed": false
   },
   "outputs": [],
   "source": [
    "merged_dataframe['c1']['tr_dte'].isnull().sum()\n",
    "merged_dataframe['c3']['tr_dte'].isnull().sum()"
   ]
  },
  {
   "cell_type": "code",
   "execution_count": null,
   "metadata": {
    "collapsed": false
   },
   "outputs": [],
   "source": [
    "futures_dataframe"
   ]
  },
  {
   "cell_type": "code",
   "execution_count": null,
   "metadata": {
    "collapsed": false
   },
   "outputs": [],
   "source": [
    "print(trDte1)\n",
    "print(trDte2)\n",
    "print(trDte3)"
   ]
  },
  {
   "cell_type": "code",
   "execution_count": null,
   "metadata": {
    "collapsed": false
   },
   "outputs": [],
   "source": [
    "bf_price = (aligned_dataframe['c1']['close_price']+aligned_dataframe['c3']['close_price'])/2-aligned_dataframe['c2']['close_price']"
   ]
  },
  {
   "cell_type": "code",
   "execution_count": null,
   "metadata": {
    "collapsed": false
   },
   "outputs": [],
   "source": [
    "plt.plot(range(len(aligned_dataframe.index)),bf_price)\n",
    "plt.grid()         \n",
    "         \n",
    "plt.show()"
   ]
  },
  {
   "cell_type": "code",
   "execution_count": null,
   "metadata": {
    "collapsed": true
   },
   "outputs": [],
   "source": [
    "import matplotlib.pyplot as plt\n",
    "plt.plot(price_ratio)\n",
    "plt.grid()\n",
    "plt.show()"
   ]
  },
  {
   "cell_type": "code",
   "execution_count": null,
   "metadata": {
    "collapsed": false
   },
   "outputs": [],
   "source": [
    "import numpy as np\n",
    "nan_matrix = np.empty((2,2))\n",
    "nan_matrix[:] = np.NAN\n",
    "nan_matrix"
   ]
  },
  {
   "cell_type": "code",
   "execution_count": null,
   "metadata": {
    "collapsed": true
   },
   "outputs": [],
   "source": []
  }
 ],
 "metadata": {
  "kernelspec": {
   "display_name": "Python 3",
   "language": "python",
   "name": "python3"
  },
  "language_info": {
   "codemirror_mode": {
    "name": "ipython",
    "version": 3
   },
   "file_extension": ".py",
   "mimetype": "text/x-python",
   "name": "python",
   "nbconvert_exporter": "python",
   "pygments_lexer": "ipython3",
   "version": "3.4.3"
  }
 },
 "nbformat": 4,
 "nbformat_minor": 0
}
