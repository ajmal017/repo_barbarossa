{
 "cells": [
  {
   "cell_type": "code",
   "execution_count": null,
   "metadata": {
    "collapsed": false
   },
   "outputs": [],
   "source": [
    "import get_price.get_futures_price as gfp\n",
    "panel_data = gfp.get_futures_price_preloaded(ticker_head='CL')\n",
    "unique_dates = panel_data['settle_date'].unique()\n",
    "\n",
    "data4day = panel_data[panel_data['settle_date']==unique_dates[4000]]\n"
   ]
  },
  {
   "cell_type": "code",
   "execution_count": null,
   "metadata": {
    "collapsed": false
   },
   "outputs": [],
   "source": [
    "import get_price.curve_data as cd\n",
    "rolling_data = cd.get_rolling_curve_data(ticker_head='CL',num_contracts=15,\n",
    "                                         front_tr_dte_limit=10,\n",
    "                                        date_from=20050101,\n",
    "                                        date_to=20160112)\n",
    "\n"
   ]
  },
  {
   "cell_type": "code",
   "execution_count": 23,
   "metadata": {
    "collapsed": false
   },
   "outputs": [
    {
     "ename": "IndexError",
     "evalue": "list index out of range",
     "output_type": "error",
     "traceback": [
      "\u001b[1;31m---------------------------------------------------------------------------\u001b[0m",
      "\u001b[1;31mIndexError\u001b[0m                                Traceback (most recent call last)",
      "\u001b[1;32m<ipython-input-23-e6ca111b2aa8>\u001b[0m in \u001b[0;36m<module>\u001b[1;34m()\u001b[0m\n\u001b[0;32m      9\u001b[0m \u001b[1;31m# adjust yor 2 C buy order if you get exexuted in S\u001b[0m\u001b[1;33m\u001b[0m\u001b[1;33m\u001b[0m\u001b[0m\n\u001b[0;32m     10\u001b[0m \u001b[1;33m\u001b[0m\u001b[0m\n\u001b[1;32m---> 11\u001b[1;33m \u001b[0mspread_report\u001b[0m\u001b[1;33m[\u001b[0m\u001b[0mspread_report\u001b[0m\u001b[1;33m[\u001b[0m\u001b[1;34m'ticker_head'\u001b[0m\u001b[1;33m]\u001b[0m\u001b[1;33m==\u001b[0m\u001b[0mticker_head_list\u001b[0m\u001b[1;33m[\u001b[0m\u001b[1;36m20\u001b[0m\u001b[1;33m]\u001b[0m\u001b[1;33m]\u001b[0m\u001b[1;33m\u001b[0m\u001b[0m\n\u001b[0m",
      "\u001b[1;31mIndexError\u001b[0m: list index out of range"
     ]
    }
   ],
   "source": [
    "import opportunity_constructs.spread_carry as sc\n",
    "#spread_carry_output = sc.generate_spread_carry_sheet_4date(report_date=20160120)\n",
    "#spread_report = spread_carry_output['spread_report']\n",
    "#ticker_head_list = list(spread_report['ticker_head'].unique())\n",
    "# SB might be a good buy but cannot trade on 6\n",
    "# KC on 7 might be a good trade \n",
    "# work on 1 lot LN Z-G on 8\n",
    "# CT might be a good buy on 9\n",
    "# adjust yor 2 C buy order if you get exexuted in S\n",
    "\n",
    "spread_report[spread_report['ticker_head']==ticker_head_list[20]]\n"
   ]
  },
  {
   "cell_type": "code",
   "execution_count": 39,
   "metadata": {
    "collapsed": false
   },
   "outputs": [],
   "source": [
    "import opportunity_constructs.curve_pca as cpc\n",
    "daily_report = cpc.get_curve_pca_report(ticker_head='B',date_to=20160115)\n",
    "daily_report = daily_report['pca_results']\n",
    "median_factor_load2 = daily_report['factor_load2'].median()\n",
    "\n",
    "if median_factor_load2>0:\n",
    "    daily_report_filtered = daily_report[daily_report['factor_load2']>=0]\n",
    "else:\n",
    "    daily_report_filtered = daily_report[daily_report['factor_load2']<=0]\n",
    "\n",
    "daily_report_filtered.sort('z',ascending=True,inplace=True)\n",
    "\n",
    "daily_report_filtered.sort('z',ascending=True,inplace=True)\n",
    "num_contract_4side = round(len(daily_report_filtered.index)/4)\n",
    "long_side = daily_report_filtered.iloc[:num_contract_4side]\n",
    "short_side = daily_report_filtered.iloc[-num_contract_4side:]\n"
   ]
  },
  {
   "cell_type": "code",
   "execution_count": 44,
   "metadata": {
    "collapsed": false
   },
   "outputs": [
    {
     "data": {
      "text/html": [
       "<div>\n",
       "<table border=\"1\" class=\"dataframe\">\n",
       "  <thead>\n",
       "    <tr style=\"text-align: right;\">\n",
       "      <th></th>\n",
       "      <th>ticker1</th>\n",
       "      <th>ticker2</th>\n",
       "      <th>tr_dte_front</th>\n",
       "      <th>residuals</th>\n",
       "      <th>price</th>\n",
       "      <th>yield</th>\n",
       "      <th>z</th>\n",
       "      <th>factor_load1</th>\n",
       "      <th>factor_load2</th>\n",
       "      <th>change5</th>\n",
       "    </tr>\n",
       "  </thead>\n",
       "  <tbody>\n",
       "    <tr>\n",
       "      <th>3</th>\n",
       "      <td>BM2016</td>\n",
       "      <td>BN2016</td>\n",
       "      <td>74</td>\n",
       "      <td>0.025403</td>\n",
       "      <td>-0.70</td>\n",
       "      <td>-2.195045</td>\n",
       "      <td>0.255899</td>\n",
       "      <td>0.292913</td>\n",
       "      <td>0.027801</td>\n",
       "      <td>NaN</td>\n",
       "    </tr>\n",
       "    <tr>\n",
       "      <th>4</th>\n",
       "      <td>BN2016</td>\n",
       "      <td>BQ2016</td>\n",
       "      <td>95</td>\n",
       "      <td>0.016966</td>\n",
       "      <td>-0.67</td>\n",
       "      <td>-2.057740</td>\n",
       "      <td>0.221736</td>\n",
       "      <td>0.271024</td>\n",
       "      <td>0.086501</td>\n",
       "      <td>NaN</td>\n",
       "    </tr>\n",
       "    <tr>\n",
       "      <th>5</th>\n",
       "      <td>BQ2016</td>\n",
       "      <td>BU2016</td>\n",
       "      <td>117</td>\n",
       "      <td>0.010150</td>\n",
       "      <td>-0.63</td>\n",
       "      <td>-1.898162</td>\n",
       "      <td>0.155809</td>\n",
       "      <td>0.249270</td>\n",
       "      <td>0.115627</td>\n",
       "      <td>NaN</td>\n",
       "    </tr>\n",
       "    <tr>\n",
       "      <th>6</th>\n",
       "      <td>BU2016</td>\n",
       "      <td>BV2016</td>\n",
       "      <td>137</td>\n",
       "      <td>-0.022387</td>\n",
       "      <td>-0.61</td>\n",
       "      <td>-1.804734</td>\n",
       "      <td>-0.400337</td>\n",
       "      <td>0.231779</td>\n",
       "      <td>0.143138</td>\n",
       "      <td>NaN</td>\n",
       "    </tr>\n",
       "    <tr>\n",
       "      <th>7</th>\n",
       "      <td>BV2016</td>\n",
       "      <td>BX2016</td>\n",
       "      <td>159</td>\n",
       "      <td>-0.158810</td>\n",
       "      <td>-0.63</td>\n",
       "      <td>-1.829800</td>\n",
       "      <td>-3.096943</td>\n",
       "      <td>0.215974</td>\n",
       "      <td>0.166994</td>\n",
       "      <td>NaN</td>\n",
       "    </tr>\n",
       "    <tr>\n",
       "      <th>8</th>\n",
       "      <td>BX2016</td>\n",
       "      <td>BZ2016</td>\n",
       "      <td>181</td>\n",
       "      <td>-0.138205</td>\n",
       "      <td>-0.60</td>\n",
       "      <td>-1.712818</td>\n",
       "      <td>-2.726027</td>\n",
       "      <td>0.202539</td>\n",
       "      <td>0.184185</td>\n",
       "      <td>NaN</td>\n",
       "    </tr>\n",
       "    <tr>\n",
       "      <th>9</th>\n",
       "      <td>BZ2016</td>\n",
       "      <td>BF2017</td>\n",
       "      <td>202</td>\n",
       "      <td>0.028762</td>\n",
       "      <td>-0.52</td>\n",
       "      <td>-1.462729</td>\n",
       "      <td>0.557160</td>\n",
       "      <td>0.192636</td>\n",
       "      <td>0.192235</td>\n",
       "      <td>NaN</td>\n",
       "    </tr>\n",
       "    <tr>\n",
       "      <th>10</th>\n",
       "      <td>BF2017</td>\n",
       "      <td>BG2017</td>\n",
       "      <td>223</td>\n",
       "      <td>0.003467</td>\n",
       "      <td>-0.51</td>\n",
       "      <td>-1.414309</td>\n",
       "      <td>0.069428</td>\n",
       "      <td>0.185425</td>\n",
       "      <td>0.185756</td>\n",
       "      <td>NaN</td>\n",
       "    </tr>\n",
       "    <tr>\n",
       "      <th>11</th>\n",
       "      <td>BG2017</td>\n",
       "      <td>BH2017</td>\n",
       "      <td>243</td>\n",
       "      <td>-0.060557</td>\n",
       "      <td>-0.52</td>\n",
       "      <td>-1.421542</td>\n",
       "      <td>-1.215556</td>\n",
       "      <td>0.178891</td>\n",
       "      <td>0.192739</td>\n",
       "      <td>NaN</td>\n",
       "    </tr>\n",
       "    <tr>\n",
       "      <th>12</th>\n",
       "      <td>BH2017</td>\n",
       "      <td>BJ2017</td>\n",
       "      <td>265</td>\n",
       "      <td>-0.038346</td>\n",
       "      <td>-0.50</td>\n",
       "      <td>-1.348436</td>\n",
       "      <td>-0.712612</td>\n",
       "      <td>0.173057</td>\n",
       "      <td>0.198482</td>\n",
       "      <td>NaN</td>\n",
       "    </tr>\n",
       "    <tr>\n",
       "      <th>13</th>\n",
       "      <td>BJ2017</td>\n",
       "      <td>BK2017</td>\n",
       "      <td>285</td>\n",
       "      <td>0.062632</td>\n",
       "      <td>-0.45</td>\n",
       "      <td>-1.199041</td>\n",
       "      <td>1.065604</td>\n",
       "      <td>0.167273</td>\n",
       "      <td>0.201284</td>\n",
       "      <td>NaN</td>\n",
       "    </tr>\n",
       "    <tr>\n",
       "      <th>14</th>\n",
       "      <td>BK2017</td>\n",
       "      <td>BM2017</td>\n",
       "      <td>308</td>\n",
       "      <td>0.125587</td>\n",
       "      <td>-0.41</td>\n",
       "      <td>-1.080654</td>\n",
       "      <td>1.954034</td>\n",
       "      <td>0.161121</td>\n",
       "      <td>0.200583</td>\n",
       "      <td>NaN</td>\n",
       "    </tr>\n",
       "    <tr>\n",
       "      <th>15</th>\n",
       "      <td>BM2017</td>\n",
       "      <td>BN2017</td>\n",
       "      <td>327</td>\n",
       "      <td>0.106796</td>\n",
       "      <td>-0.40</td>\n",
       "      <td>-1.043297</td>\n",
       "      <td>1.571422</td>\n",
       "      <td>0.155725</td>\n",
       "      <td>0.189984</td>\n",
       "      <td>NaN</td>\n",
       "    </tr>\n",
       "    <tr>\n",
       "      <th>16</th>\n",
       "      <td>BN2017</td>\n",
       "      <td>BQ2017</td>\n",
       "      <td>349</td>\n",
       "      <td>0.093754</td>\n",
       "      <td>-0.39</td>\n",
       "      <td>-1.006971</td>\n",
       "      <td>1.298260</td>\n",
       "      <td>0.149834</td>\n",
       "      <td>0.187028</td>\n",
       "      <td>NaN</td>\n",
       "    </tr>\n",
       "  </tbody>\n",
       "</table>\n",
       "</div>"
      ],
      "text/plain": [
       "   ticker1 ticker2  tr_dte_front  residuals  price     yield         z  \\\n",
       "3   BM2016  BN2016            74   0.025403  -0.70 -2.195045  0.255899   \n",
       "4   BN2016  BQ2016            95   0.016966  -0.67 -2.057740  0.221736   \n",
       "5   BQ2016  BU2016           117   0.010150  -0.63 -1.898162  0.155809   \n",
       "6   BU2016  BV2016           137  -0.022387  -0.61 -1.804734 -0.400337   \n",
       "7   BV2016  BX2016           159  -0.158810  -0.63 -1.829800 -3.096943   \n",
       "8   BX2016  BZ2016           181  -0.138205  -0.60 -1.712818 -2.726027   \n",
       "9   BZ2016  BF2017           202   0.028762  -0.52 -1.462729  0.557160   \n",
       "10  BF2017  BG2017           223   0.003467  -0.51 -1.414309  0.069428   \n",
       "11  BG2017  BH2017           243  -0.060557  -0.52 -1.421542 -1.215556   \n",
       "12  BH2017  BJ2017           265  -0.038346  -0.50 -1.348436 -0.712612   \n",
       "13  BJ2017  BK2017           285   0.062632  -0.45 -1.199041  1.065604   \n",
       "14  BK2017  BM2017           308   0.125587  -0.41 -1.080654  1.954034   \n",
       "15  BM2017  BN2017           327   0.106796  -0.40 -1.043297  1.571422   \n",
       "16  BN2017  BQ2017           349   0.093754  -0.39 -1.006971  1.298260   \n",
       "\n",
       "    factor_load1  factor_load2  change5  \n",
       "3       0.292913      0.027801      NaN  \n",
       "4       0.271024      0.086501      NaN  \n",
       "5       0.249270      0.115627      NaN  \n",
       "6       0.231779      0.143138      NaN  \n",
       "7       0.215974      0.166994      NaN  \n",
       "8       0.202539      0.184185      NaN  \n",
       "9       0.192636      0.192235      NaN  \n",
       "10      0.185425      0.185756      NaN  \n",
       "11      0.178891      0.192739      NaN  \n",
       "12      0.173057      0.198482      NaN  \n",
       "13      0.167273      0.201284      NaN  \n",
       "14      0.161121      0.200583      NaN  \n",
       "15      0.155725      0.189984      NaN  \n",
       "16      0.149834      0.187028      NaN  "
      ]
     },
     "execution_count": 44,
     "metadata": {},
     "output_type": "execute_result"
    }
   ],
   "source": [
    "\n",
    "if median_factor_load2>0:\n",
    "    daily_report_filtered = daily_report[daily_report['factor_load2']>=0]\n",
    "else:\n",
    "    daily_report_filtered = daily_report[daily_report['factor_load2']<=0]\n",
    "    \n",
    "daily_report_filtered    "
   ]
  },
  {
   "cell_type": "code",
   "execution_count": 3,
   "metadata": {
    "collapsed": false
   },
   "outputs": [
    {
     "name": "stderr",
     "output_type": "stream",
     "text": [
      "C:\\Anaconda3\\lib\\site-packages\\pandas\\core\\frame.py:2915: SettingWithCopyWarning: \n",
      "A value is trying to be set on a copy of a slice from a DataFrame\n",
      "\n",
      "See the the caveats in the documentation: http://pandas.pydata.org/pandas-docs/stable/indexing.html#indexing-view-versus-copy\n",
      "  inplace=inplace, kind=kind, na_position=na_position)\n"
     ]
    },
    {
     "data": {
      "text/html": [
       "<div>\n",
       "<table border=\"1\" class=\"dataframe\">\n",
       "  <thead>\n",
       "    <tr style=\"text-align: right;\">\n",
       "      <th></th>\n",
       "      <th>ticker1</th>\n",
       "      <th>ticker2</th>\n",
       "      <th>tr_dte_front</th>\n",
       "      <th>residuals</th>\n",
       "      <th>price</th>\n",
       "      <th>yield</th>\n",
       "      <th>z</th>\n",
       "      <th>factor_load1</th>\n",
       "      <th>factor_load2</th>\n",
       "      <th>change5</th>\n",
       "    </tr>\n",
       "  </thead>\n",
       "  <tbody>\n",
       "    <tr>\n",
       "      <th>7</th>\n",
       "      <td>BV2016</td>\n",
       "      <td>BX2016</td>\n",
       "      <td>159</td>\n",
       "      <td>-0.158810</td>\n",
       "      <td>-0.63</td>\n",
       "      <td>-1.829800</td>\n",
       "      <td>-3.096943</td>\n",
       "      <td>0.215974</td>\n",
       "      <td>0.166994</td>\n",
       "      <td>NaN</td>\n",
       "    </tr>\n",
       "    <tr>\n",
       "      <th>8</th>\n",
       "      <td>BX2016</td>\n",
       "      <td>BZ2016</td>\n",
       "      <td>181</td>\n",
       "      <td>-0.138205</td>\n",
       "      <td>-0.60</td>\n",
       "      <td>-1.712818</td>\n",
       "      <td>-2.726027</td>\n",
       "      <td>0.202539</td>\n",
       "      <td>0.184185</td>\n",
       "      <td>NaN</td>\n",
       "    </tr>\n",
       "    <tr>\n",
       "      <th>11</th>\n",
       "      <td>BG2017</td>\n",
       "      <td>BH2017</td>\n",
       "      <td>243</td>\n",
       "      <td>-0.060557</td>\n",
       "      <td>-0.52</td>\n",
       "      <td>-1.421542</td>\n",
       "      <td>-1.215556</td>\n",
       "      <td>0.178891</td>\n",
       "      <td>0.192739</td>\n",
       "      <td>NaN</td>\n",
       "    </tr>\n",
       "    <tr>\n",
       "      <th>12</th>\n",
       "      <td>BH2017</td>\n",
       "      <td>BJ2017</td>\n",
       "      <td>265</td>\n",
       "      <td>-0.038346</td>\n",
       "      <td>-0.50</td>\n",
       "      <td>-1.348436</td>\n",
       "      <td>-0.712612</td>\n",
       "      <td>0.173057</td>\n",
       "      <td>0.198482</td>\n",
       "      <td>NaN</td>\n",
       "    </tr>\n",
       "    <tr>\n",
       "      <th>13</th>\n",
       "      <td>BJ2017</td>\n",
       "      <td>BK2017</td>\n",
       "      <td>285</td>\n",
       "      <td>0.062632</td>\n",
       "      <td>-0.45</td>\n",
       "      <td>-1.199041</td>\n",
       "      <td>1.065604</td>\n",
       "      <td>0.167273</td>\n",
       "      <td>0.201284</td>\n",
       "      <td>NaN</td>\n",
       "    </tr>\n",
       "    <tr>\n",
       "      <th>14</th>\n",
       "      <td>BK2017</td>\n",
       "      <td>BM2017</td>\n",
       "      <td>308</td>\n",
       "      <td>0.125587</td>\n",
       "      <td>-0.41</td>\n",
       "      <td>-1.080654</td>\n",
       "      <td>1.954034</td>\n",
       "      <td>0.161121</td>\n",
       "      <td>0.200583</td>\n",
       "      <td>NaN</td>\n",
       "    </tr>\n",
       "    <tr>\n",
       "      <th>15</th>\n",
       "      <td>BM2017</td>\n",
       "      <td>BN2017</td>\n",
       "      <td>327</td>\n",
       "      <td>0.106796</td>\n",
       "      <td>-0.40</td>\n",
       "      <td>-1.043297</td>\n",
       "      <td>1.571422</td>\n",
       "      <td>0.155725</td>\n",
       "      <td>0.189984</td>\n",
       "      <td>NaN</td>\n",
       "    </tr>\n",
       "    <tr>\n",
       "      <th>16</th>\n",
       "      <td>BN2017</td>\n",
       "      <td>BQ2017</td>\n",
       "      <td>349</td>\n",
       "      <td>0.093754</td>\n",
       "      <td>-0.39</td>\n",
       "      <td>-1.006971</td>\n",
       "      <td>1.298260</td>\n",
       "      <td>0.149834</td>\n",
       "      <td>0.187028</td>\n",
       "      <td>NaN</td>\n",
       "    </tr>\n",
       "  </tbody>\n",
       "</table>\n",
       "</div>"
      ],
      "text/plain": [
       "   ticker1 ticker2  tr_dte_front  residuals  price     yield         z  \\\n",
       "7   BV2016  BX2016           159  -0.158810  -0.63 -1.829800 -3.096943   \n",
       "8   BX2016  BZ2016           181  -0.138205  -0.60 -1.712818 -2.726027   \n",
       "11  BG2017  BH2017           243  -0.060557  -0.52 -1.421542 -1.215556   \n",
       "12  BH2017  BJ2017           265  -0.038346  -0.50 -1.348436 -0.712612   \n",
       "13  BJ2017  BK2017           285   0.062632  -0.45 -1.199041  1.065604   \n",
       "14  BK2017  BM2017           308   0.125587  -0.41 -1.080654  1.954034   \n",
       "15  BM2017  BN2017           327   0.106796  -0.40 -1.043297  1.571422   \n",
       "16  BN2017  BQ2017           349   0.093754  -0.39 -1.006971  1.298260   \n",
       "\n",
       "    factor_load1  factor_load2  change5  \n",
       "7       0.215974      0.166994      NaN  \n",
       "8       0.202539      0.184185      NaN  \n",
       "11      0.178891      0.192739      NaN  \n",
       "12      0.173057      0.198482      NaN  \n",
       "13      0.167273      0.201284      NaN  \n",
       "14      0.161121      0.200583      NaN  \n",
       "15      0.155725      0.189984      NaN  \n",
       "16      0.149834      0.187028      NaN  "
      ]
     },
     "execution_count": 3,
     "metadata": {},
     "output_type": "execute_result"
    }
   ],
   "source": [
    "import signals.futures_filters as ff\n",
    "import opportunity_constructs.curve_pca as cpc\n",
    "import shared.utils as su\n",
    "daily_report = cpc.get_curve_pca_report(ticker_head='B',date_to=20160115)\n",
    "daily_report = daily_report['pca_results']\n",
    "wuhu = ff.get_curve_pca_filters(data_frame_input=daily_report,filter_list =['long1','short1'])\n",
    "\n",
    "wuhu['selected_frame']"
   ]
  },
  {
   "cell_type": "code",
   "execution_count": 1,
   "metadata": {
    "collapsed": false
   },
   "outputs": [],
   "source": [
    "import formats.futures_strategy_formats as ff\n",
    "import ta.prepare_daily as tpd\n",
    "tpd.prepare_curve_pca()\n"
   ]
  },
  {
   "cell_type": "code",
   "execution_count": null,
   "metadata": {
    "collapsed": false
   },
   "outputs": [],
   "source": [
    "import matplotlib.pyplot as plt\n",
    "import numpy as np\n",
    "plt.plot(yield_history[5].values)\n",
    "plt.grid()               \n",
    "plt.show()\n"
   ]
  },
  {
   "cell_type": "code",
   "execution_count": null,
   "metadata": {
    "collapsed": false
   },
   "outputs": [],
   "source": [
    "import contract_utilities.contract_meta_info as cmi\n",
    "cmi.get_contract_specs(wuhu['ticker1'][0])['ticker_head']"
   ]
  },
  {
   "cell_type": "code",
   "execution_count": null,
   "metadata": {
    "collapsed": false
   },
   "outputs": [],
   "source": [
    "residuals = yield_data-pca_out['model_fit']\n",
    "residuals"
   ]
  },
  {
   "cell_type": "code",
   "execution_count": null,
   "metadata": {
    "collapsed": false
   },
   "outputs": [],
   "source": [
    "import backtesting.backtest_curve_pca as bcp\n",
    "\n",
    "pnl_path = []\n",
    "\n",
    "unique_dates = rolling_data[0].index\n",
    "\n",
    "for i in range(len(unique_dates)):\n",
    "    \n",
    "    pnl_path.append(bcp.backtest_curve_pca_4date(residuals=residuals[i,:],\n",
    "                                                 change_data=change5_data[i,:],\n",
    "                                                 tr_dte_data = tr_dte_data[i,:]))\n",
    "\n",
    "\n",
    "\n",
    "\n",
    "\n"
   ]
  },
  {
   "cell_type": "code",
   "execution_count": null,
   "metadata": {
    "collapsed": false
   },
   "outputs": [],
   "source": [
    "from sklearn.decomposition import PCA\n",
    "pca = PCA(n_components=2)\n",
    "pca_fit = pca.fit(yield_data)\n",
    "pca_fit."
   ]
  },
  {
   "cell_type": "code",
   "execution_count": null,
   "metadata": {
    "collapsed": false
   },
   "outputs": [],
   "source": [
    "\n",
    "import matplotlib.pyplot as plt\n",
    "import numpy as np\n",
    "plt.plot(np.cumsum(pnl_path))\n",
    "plt.grid()               \n",
    "plt.show()"
   ]
  },
  {
   "cell_type": "code",
   "execution_count": null,
   "metadata": {
    "collapsed": false
   },
   "outputs": [],
   "source": [
    "import opportunity_constructs.curve_pca as cpc\n",
    "import pandas as pd\n",
    "#report_out = cpc.get_curve_pca_report(ticker_head='CL', date_to=20160112 )\n",
    "\n",
    "report_out['factor_load1']\n",
    "\n",
    "\n",
    "\n",
    "\n",
    "\n"
   ]
  },
  {
   "cell_type": "code",
   "execution_count": null,
   "metadata": {
    "collapsed": false
   },
   "outputs": [],
   "source": [
    "np.mean(pnl_path)"
   ]
  },
  {
   "cell_type": "code",
   "execution_count": null,
   "metadata": {
    "collapsed": false
   },
   "outputs": [],
   "source": [
    "%pylab inline\n",
    "from matplotlib import pyplot as plt\n",
    "from mpl_toolkits.mplot3d import Axes3D\n",
    "from mpl_toolkits.mplot3d import proj3d\n",
    "\n",
    "fig = plt.figure(figsize=(8,8))\n",
    "ax = fig.add_subplot(111, projection='3d')\n",
    "plt.rcParams['legend.fontsize'] = 10\n",
    "ax.plot(class1_sample[0,:], class1_sample[1,:], class1_sample[2,:],\n",
    "        'o', markersize=8, color='blue', alpha=0.5, label='class1')\n",
    "ax.plot(class2_sample[0,:], class2_sample[1,:], class2_sample[2,:],\n",
    "        '^', markersize=8, alpha=0.5, color='red', label='class2')\n",
    "\n",
    "plt.title('Samples for class 1 and class 2')\n",
    "ax.legend(loc='upper right')\n",
    "\n",
    "plt.show()"
   ]
  },
  {
   "cell_type": "code",
   "execution_count": null,
   "metadata": {
    "collapsed": false
   },
   "outputs": [],
   "source": [
    "all_samples = np.concatenate((class1_sample, class2_sample), axis=1)\n",
    "assert all_samples.shape ==(3,40), \"The matrix has not the dimensions 3x40\""
   ]
  },
  {
   "cell_type": "code",
   "execution_count": null,
   "metadata": {
    "collapsed": false
   },
   "outputs": [],
   "source": [
    "mean_x = np.mean(all_samples[0,:])\n",
    "mean_y = np.mean(all_samples[1,:])\n",
    "mean_z = np.mean(all_samples[2,:])\n",
    "\n",
    "mean_vector = np.array([[mean_x],[mean_y],[mean_z]])\n",
    "print('Mean Vector:\\n', mean_vector)\n",
    "\n",
    "\n",
    "\n",
    "\n"
   ]
  },
  {
   "cell_type": "code",
   "execution_count": null,
   "metadata": {
    "collapsed": false
   },
   "outputs": [],
   "source": [
    "scatter_matrix = np.zeros((3,3))\n",
    "\n",
    "for i in range(all_samples.shape[1]):\n",
    "    scatter_matrix +=(all_samples[:,i].reshape(3,1)).dot(\n",
    "    (all_samples[:,i].reshape(3,1)-mean_vector).T)\n",
    "print('Scatter Matrix\\n',scatter_matrix)    "
   ]
  },
  {
   "cell_type": "code",
   "execution_count": null,
   "metadata": {
    "collapsed": false
   },
   "outputs": [],
   "source": [
    "cov_mat = np.cov([all_samples[0,:], all_samples[1,:],all_samples[2,:]])\n",
    "print('Covariance Matrix:\\n', cov_mat)"
   ]
  },
  {
   "cell_type": "code",
   "execution_count": null,
   "metadata": {
    "collapsed": false
   },
   "outputs": [],
   "source": [
    "# eigenvectors and eigenvalues for the from the scatter matrix\n",
    "eig_val_sc, eig_vec_sc = np.linalg.eig(scatter_matrix)\n",
    "\n",
    "# eigenvectors and eigenvalues for the from the covariance matrix\n",
    "eig_val_cov, eig_vec_cov = np.linalg.eig(cov_mat)\n",
    "\n",
    "for i in range(len(eig_val_sc)):\n",
    "    eigvec_sc = eig_vec_sc[:,i].reshape(1,3).T\n",
    "    eigvec_cov = eig_vec_cov[:,i].reshape(1,3).T\n",
    "    assert eigvec_sc.all() == eigvec_cov.all(), 'Eigenvectors are not identical'\n",
    "\n",
    "    print('Eigenvector {}: \\n{}'.format(i+1, eigvec_sc))\n",
    "    print('Eigenvalue {} from scatter matrix: {}'.format(i+1, eig_val_sc[i]))\n",
    "    print('Eigenvalue {} from covariance matrix: {}'.format(i+1, eig_val_cov[i]))\n",
    "    print('Scaling factor: ', eig_val_sc[i]/eig_val_cov[i])\n",
    "    print(40 * '-')"
   ]
  },
  {
   "cell_type": "code",
   "execution_count": null,
   "metadata": {
    "collapsed": false
   },
   "outputs": [],
   "source": [
    "for i in range(len(eig_val_sc)):\n",
    "    eigv = eig_vec_sc[:,i].reshape(1,3).T\n",
    "    np.testing.assert_array_almost_equal(scatter_matrix.dot(eigv),\n",
    "                                         eig_val_sc[i] * eigv,\n",
    "                                         decimal=6, err_msg='', verbose=True)"
   ]
  },
  {
   "cell_type": "code",
   "execution_count": null,
   "metadata": {
    "collapsed": false
   },
   "outputs": [],
   "source": [
    "%matplotlib inline\n",
    "\n",
    "from matplotlib import pyplot as plt\n",
    "from mpl_toolkits.mplot3d import Axes3D\n",
    "from mpl_toolkits.mplot3d import proj3d\n",
    "from matplotlib.patches import FancyArrowPatch\n",
    "\n",
    "\n",
    "class Arrow3D(FancyArrowPatch):\n",
    "    def __init__(self, xs, ys, zs, *args, **kwargs):\n",
    "        FancyArrowPatch.__init__(self, (0,0), (0,0), *args, **kwargs)\n",
    "        self._verts3d = xs, ys, zs\n",
    "\n",
    "    def draw(self, renderer):\n",
    "        xs3d, ys3d, zs3d = self._verts3d\n",
    "        xs, ys, zs = proj3d.proj_transform(xs3d, ys3d, zs3d, renderer.M)\n",
    "        self.set_positions((xs[0],ys[0]),(xs[1],ys[1]))\n",
    "        FancyArrowPatch.draw(self, renderer)\n",
    "\n",
    "fig = plt.figure(figsize=(7,7))\n",
    "ax = fig.add_subplot(111, projection='3d')\n",
    "\n",
    "ax.plot(all_samples[0,:], all_samples[1,:], all_samples[2,:],\n",
    "        'o', markersize=8, color='green', alpha=0.2)\n",
    "ax.plot([mean_x], [mean_y], [mean_z],\n",
    "        'o', markersize=10, color='red', alpha=0.5)\n",
    "for v in eig_vec_sc.T:\n",
    "    a = Arrow3D([mean_x, v[0]+mean_x],\n",
    "                [mean_y, v[1]+mean_y],\n",
    "                [mean_z, v[2]+mean_z],\n",
    "                mutation_scale=20, lw=3, arrowstyle=\"-|>\", color=\"r\")\n",
    "\n",
    "    ax.add_artist(a)\n",
    "ax.set_xlabel('x_values')\n",
    "ax.set_ylabel('y_values')\n",
    "ax.set_zlabel('z_values')\n",
    "\n",
    "plt.title('Eigenvectors')\n",
    "\n",
    "plt.show()\n",
    "multi_columns = pd.MultiIndex.from_product([[ticker1, ticker2, ticker3],data_1.columns.values], names=['first', 'second'])\n"
   ]
  },
  {
   "cell_type": "code",
   "execution_count": null,
   "metadata": {
    "collapsed": false
   },
   "outputs": [],
   "source": [
    "transformed = matrix_w.T.dot(all_samples)\n",
    "assert transformed.shape == (2,40), \"The matrix is not 2x40 dimensional.\"\n",
    "transformed\n",
    "matrix_w"
   ]
  },
  {
   "cell_type": "code",
   "execution_count": null,
   "metadata": {
    "collapsed": false
   },
   "outputs": [],
   "source": [
    "import matplotlib.pyplot as plt\n",
    "plt.plot(merged_dataframe.index,(merged_dataframe['BOH2016']['close_price']+merged_dataframe['BON2016']['close_price'])/2-\n",
    "         merged_dataframe['BOK2016']['close_price'])\n",
    "         \n",
    "         \n",
    "plt.show()"
   ]
  },
  {
   "cell_type": "code",
   "execution_count": null,
   "metadata": {
    "collapsed": false
   },
   "outputs": [],
   "source": [
    "(merged_dataframe['BOH2016']['close_price']+merged_dataframe['BON2016']['close_price'])/2-merged_dataframe['BOK2016']['close_price']"
   ]
  },
  {
   "cell_type": "code",
   "execution_count": null,
   "metadata": {
    "collapsed": false
   },
   "outputs": [],
   "source": [
    "\n",
    "\n",
    "import matplotlib.pyplot as plt\n",
    "plt.plot(range(len(aligned_dataframe.index)),aligned_dataframe['c1']['tr_dte'],\n",
    "         range(len(aligned_dataframe.index)),aligned_dataframe['c2']['tr_dte'],\n",
    "         range(len(aligned_dataframe.index)),aligned_dataframe['c3']['tr_dte'])\n",
    "plt.grid()         \n",
    "         \n",
    "plt.show()\n",
    "\n",
    "    \n",
    "\n",
    "    "
   ]
  },
  {
   "cell_type": "code",
   "execution_count": null,
   "metadata": {
    "collapsed": false
   },
   "outputs": [],
   "source": [
    "merged_dataframe['c1']['tr_dte'].isnull().sum()\n",
    "merged_dataframe['c3']['tr_dte'].isnull().sum()"
   ]
  },
  {
   "cell_type": "code",
   "execution_count": null,
   "metadata": {
    "collapsed": false
   },
   "outputs": [],
   "source": [
    "futures_dataframe"
   ]
  },
  {
   "cell_type": "code",
   "execution_count": null,
   "metadata": {
    "collapsed": false
   },
   "outputs": [],
   "source": [
    "print(trDte1)\n",
    "print(trDte2)\n",
    "print(trDte3)"
   ]
  },
  {
   "cell_type": "code",
   "execution_count": null,
   "metadata": {
    "collapsed": false
   },
   "outputs": [],
   "source": [
    "bf_price = (aligned_dataframe['c1']['close_price']+aligned_dataframe['c3']['close_price'])/2-aligned_dataframe['c2']['close_price']"
   ]
  },
  {
   "cell_type": "code",
   "execution_count": null,
   "metadata": {
    "collapsed": false
   },
   "outputs": [],
   "source": [
    "plt.plot(range(len(aligned_dataframe.index)),bf_price)\n",
    "plt.grid()         \n",
    "         \n",
    "plt.show()"
   ]
  },
  {
   "cell_type": "code",
   "execution_count": null,
   "metadata": {
    "collapsed": true
   },
   "outputs": [],
   "source": [
    "import matplotlib.pyplot as plt\n",
    "plt.plot(price_ratio)\n",
    "plt.grid()\n",
    "plt.show()"
   ]
  },
  {
   "cell_type": "code",
   "execution_count": null,
   "metadata": {
    "collapsed": false
   },
   "outputs": [],
   "source": [
    "import numpy as np\n",
    "nan_matrix = np.empty((2,2))\n",
    "nan_matrix[:] = np.NAN\n",
    "nan_matrix"
   ]
  },
  {
   "cell_type": "code",
   "execution_count": null,
   "metadata": {
    "collapsed": true
   },
   "outputs": [],
   "source": []
  }
 ],
 "metadata": {
  "kernelspec": {
   "display_name": "Python 3",
   "language": "python",
   "name": "python3"
  },
  "language_info": {
   "codemirror_mode": {
    "name": "ipython",
    "version": 3
   },
   "file_extension": ".py",
   "mimetype": "text/x-python",
   "name": "python",
   "nbconvert_exporter": "python",
   "pygments_lexer": "ipython3",
   "version": "3.4.3"
  }
 },
 "nbformat": 4,
 "nbformat_minor": 0
}
