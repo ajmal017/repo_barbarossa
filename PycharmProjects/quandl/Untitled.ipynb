{
 "cells": [
  {
   "cell_type": "code",
   "execution_count": 29,
   "metadata": {
    "collapsed": false
   },
   "outputs": [
    {
     "data": {
      "text/plain": [
       "array([ 0.86200964,  0.85750766,  0.8602261 ,  0.85745394,  0.85608856,\n",
       "        0.85531629,  0.85361345,  0.85719178,  0.85223426,  0.85784636,\n",
       "        0.85960265,  0.86857905,  0.86705491,  0.86693548,  0.86248753,\n",
       "        0.86350099,  0.86252479,  0.86559843,  0.86420157,  0.8575172 ,\n",
       "        0.85272965,  0.83825481,  0.83829365,  0.83783333,  0.84105298,\n",
       "        0.83927404,  0.84165593,  0.84314039,  0.84382022,  0.84532605,\n",
       "        0.84489403,  0.84512705,  0.84705317,  0.84937238,  0.85191808,\n",
       "        0.84986988,  0.8516537 ,  0.86154835,  0.86219081,  0.86453674])"
      ]
     },
     "execution_count": 29,
     "metadata": {},
     "output_type": "execute_result"
    }
   ],
   "source": [
    "import signals.futures_signals as fs\n",
    "import signals.utils as su\n",
    "signals_output = fs.get_futures_butterfly_signals(ticker_list=['LNJ2016','LNN2016','LNV2016'],date_to=20160114)\n",
    "\n",
    "price_ratio = signals_output['price_ratio']\n",
    "price_ratio"
   ]
  },
  {
   "cell_type": "code",
   "execution_count": 1,
   "metadata": {
    "collapsed": false
   },
   "outputs": [
    {
     "data": {
      "text/plain": [
       "{'butterflies':      ticker1  ticker2  ticker3 tickerHead tickerClass  trDte1  trDte2  trDte3  \\\n",
       " 0     BK2016   BM2016   BN2016          B      Energy      54      75      96   \n",
       " 1     BM2016   BN2016   BQ2016          B      Energy      75      96     118   \n",
       " 2     BN2016   BQ2016   BU2016          B      Energy      96     118     138   \n",
       " 3     BQ2016   BU2016   BV2016          B      Energy     118     138     160   \n",
       " 4     BU2016   BV2016   BX2016          B      Energy     138     160     182   \n",
       " 5     BV2016   BX2016   BZ2016          B      Energy     160     182     203   \n",
       " 6     BX2016   BZ2016   BF2017          B      Energy     182     203     224   \n",
       " 7     BZ2016   BF2017   BG2017          B      Energy     203     224     244   \n",
       " 8     BF2017   BG2017   BH2017          B      Energy     224     244     266   \n",
       " 9     BG2017   BH2017   BJ2017          B      Energy     244     266     286   \n",
       " 10    BH2017   BJ2017   BK2017          B      Energy     266     286     309   \n",
       " 11    BJ2017   BK2017   BM2017          B      Energy     286     309     328   \n",
       " 12    BK2017   BM2017   BN2017          B      Energy     309     328     350   \n",
       " 13    BM2017   BN2017   BQ2017          B      Energy     328     350     372   \n",
       " 14    BN2017   BQ2017   BU2017          B      Energy     350     372     392   \n",
       " 15    BQ2017   BU2017   BV2017          B      Energy     372     392     414   \n",
       " 16    BU2017   BV2017   BX2017          B      Energy     392     414     435   \n",
       " 17    BV2017   BX2017   BZ2017          B      Energy     414     435     457   \n",
       " 18    BX2017   BZ2017   BF2018          B      Energy     435     457     478   \n",
       " 19    BK2016   BN2016   BU2016          B      Energy      54      96     138   \n",
       " 20    BM2016   BQ2016   BV2016          B      Energy      75     118     160   \n",
       " 21    BN2016   BU2016   BX2016          B      Energy      96     138     182   \n",
       " 22    BQ2016   BV2016   BZ2016          B      Energy     118     160     203   \n",
       " 23    BU2016   BX2016   BF2017          B      Energy     138     182     224   \n",
       " 24    BV2016   BZ2016   BG2017          B      Energy     160     203     244   \n",
       " 25    BX2016   BF2017   BH2017          B      Energy     182     224     266   \n",
       " 26    BZ2016   BG2017   BJ2017          B      Energy     203     244     286   \n",
       " 27    BF2017   BH2017   BK2017          B      Energy     224     266     309   \n",
       " 28    BG2017   BJ2017   BM2017          B      Energy     244     286     328   \n",
       " 29    BH2017   BK2017   BN2017          B      Energy     266     309     350   \n",
       " ..       ...      ...      ...        ...         ...     ...     ...     ...   \n",
       " 289   SK2016   SU2016   SH2017          S          Ag      83     168     292   \n",
       " 290   SN2016   SX2016   SK2017          S          Ag     125     211     334   \n",
       " 291   SQ2016   SF2017   SN2017          S          Ag     146     252     377   \n",
       " 292  SBK2016  SBN2016  SBV2016         SB        Soft      73     116     180   \n",
       " 293  SBN2016  SBV2016  SBH2017         SB        Soft     116     180     282   \n",
       " 294  SBV2016  SBH2017  SBK2017         SB        Soft     180     282     324   \n",
       " 295  SBH2017  SBK2017  SBN2017         SB        Soft     282     324     368   \n",
       " 296  SBK2017  SBN2017  SBV2017         SB        Soft     324     368     431   \n",
       " 297  SBK2016  SBV2016  SBK2017         SB        Soft      73     180     324   \n",
       " 298  SBN2016  SBH2017  SBN2017         SB        Soft     116     282     368   \n",
       " 299  SBV2016  SBK2017  SBV2017         SB        Soft     180     324     431   \n",
       " 300  SBK2016  SBH2017  SBV2017         SB        Soft      73     282     431   \n",
       " 301  SMH2016  SMK2016  SMN2016         SM          Ag      40      83     125   \n",
       " 302  SMK2016  SMN2016  SMQ2016         SM          Ag      83     125     146   \n",
       " 303  SMN2016  SMQ2016  SMU2016         SM          Ag     125     146     168   \n",
       " 304  SMQ2016  SMU2016  SMV2016         SM          Ag     146     168     190   \n",
       " 305  SMU2016  SMV2016  SMZ2016         SM          Ag     168     190     232   \n",
       " 306  SMV2016  SMZ2016  SMF2017         SM          Ag     190     232     252   \n",
       " 307  SMH2016  SMN2016  SMU2016         SM          Ag      40     125     168   \n",
       " 308  SMK2016  SMQ2016  SMV2016         SM          Ag      83     146     190   \n",
       " 309  SMN2016  SMU2016  SMZ2016         SM          Ag     125     168     232   \n",
       " 310  SMQ2016  SMV2016  SMF2017         SM          Ag     146     190     252   \n",
       " 311  SMH2016  SMQ2016  SMZ2016         SM          Ag      40     146     232   \n",
       " 312  SMK2016  SMU2016  SMF2017         SM          Ag      83     168     252   \n",
       " 313   WH2016   WK2016   WN2016          W          Ag      40      83     125   \n",
       " 314   WK2016   WN2016   WU2016          W          Ag      83     125     168   \n",
       " 315   WN2016   WU2016   WZ2016          W          Ag     125     168     232   \n",
       " 316   WU2016   WZ2016   WH2017          W          Ag     168     232     292   \n",
       " 317   WH2016   WN2016   WZ2016          W          Ag      40     125     232   \n",
       " 318   WK2016   WU2016   WH2017          W          Ag      83     168     292   \n",
       " \n",
       "      multiplier  agg          ...            ratio_target5  ratio_target10  \\\n",
       " 0          1000    1          ...                 0.998986        0.999240   \n",
       " 1          1000    1          ...                 0.999260        0.999253   \n",
       " 2          1000    1          ...                 0.999521        0.999512   \n",
       " 3          1000    1          ...                 0.999774        0.999684   \n",
       " 4          1000    1          ...                 0.999898        0.999884   \n",
       " 5          1000    1          ...                 0.999615        0.999697   \n",
       " 6          1000    1          ...                 0.998839        0.998920   \n",
       " 7          1000    1          ...                 0.999805        0.999721   \n",
       " 8          1000    1          ...                 1.000131        1.000079   \n",
       " 9          1000    1          ...                 0.999613        0.999683   \n",
       " 10         1000    1          ...                 0.999535        0.999641   \n",
       " 11         1000    1          ...                 0.999534        0.999562   \n",
       " 12         1000    1          ...                 0.999788        0.999777   \n",
       " 13         1000    1          ...                 0.999896        0.999889   \n",
       " 14         1000    1          ...                 0.999888        0.999893   \n",
       " 15         1000    1          ...                 0.999440        0.999483   \n",
       " 16         1000    1          ...                 0.999634        0.999618   \n",
       " 17         1000    1          ...                 1.000107        1.000033   \n",
       " 18         1000    1          ...                 1.000562        1.000539   \n",
       " 19         1000    1          ...                 0.997016        0.996974   \n",
       " 20         1000    1          ...                 0.997898        0.997649   \n",
       " 21         1000    1          ...                 0.998940        0.998459   \n",
       " 22         1000    1          ...                 0.999494        0.999442   \n",
       " 23         1000    1          ...                 0.998640        0.998818   \n",
       " 24         1000    1          ...                 0.997418        0.997701   \n",
       " 25         1000    1          ...                 0.998860        0.998827   \n",
       " 26         1000    1          ...                 0.999741        0.999664   \n",
       " 27         1000    1          ...                 0.998823        0.999107   \n",
       " 28         1000    1          ...                 0.998244        0.998587   \n",
       " 29         1000    1          ...                 0.998313        0.998397   \n",
       " ..          ...  ...          ...                      ...             ...   \n",
       " 289          50   12          ...                 1.250202        1.250389   \n",
       " 290          50   12          ...                 1.254146        1.254008   \n",
       " 291          50   12          ...                 1.101929        1.101876   \n",
       " 292        1120   12          ...                 1.266311        1.266248   \n",
       " 293        1120   12          ...                 1.343014        1.343333   \n",
       " 294        1120   12          ...                 0.685762        0.685873   \n",
       " 295        1120   12          ...                 0.998626        0.998646   \n",
       " 296        1120   12          ...                 1.261870        1.261817   \n",
       " 297        1120   12          ...                 1.214738        1.215641   \n",
       " 298        1120   12          ...                 0.723148        0.723498   \n",
       " 299        1120   12          ...                 0.839385        0.839713   \n",
       " 300        1120   12          ...                 0.823526        0.824542   \n",
       " 301         100   12          ...                 1.000000        1.000000   \n",
       " 302         100   12          ...                 0.749723        0.749742   \n",
       " 303         100   12          ...                 0.999811        0.999659   \n",
       " 304         100   12          ...                 0.997842        0.998047   \n",
       " 305         100   12          ...                 1.502194        1.502112   \n",
       " 306         100   12          ...                 0.751409        0.751337   \n",
       " 307         100   12          ...                 0.749183        0.749226   \n",
       " 308         100   12          ...                 0.830340        0.830361   \n",
       " 309         100   12          ...                 1.245202        1.245448   \n",
       " 310         100   12          ...                 1.251403        1.251294   \n",
       " 311         100   12          ...                 0.894039        0.894251   \n",
       " 312         100   12          ...                 0.994553        0.994616   \n",
       " 313          50   12          ...                 1.000527        1.000512   \n",
       " 314          50   12          ...                 1.002790        1.003105   \n",
       " 315          50   12          ...                 1.250134        1.249891   \n",
       " 316          50   12          ...                 0.997169        0.997097   \n",
       " 317          50   12          ...                 1.132989        1.133326   \n",
       " 318          50   12          ...                 1.251536        1.251270   \n",
       " \n",
       "      ratio_target15  ratio_target20  ratio_target25  price1  price2  price3  \\\n",
       " 0          0.999349        0.999506        0.999625   32.54   33.32   34.03   \n",
       " 1          0.999243        0.999204        0.999157   33.32   34.03   34.69   \n",
       " 2          0.999482        0.999262        0.999073   34.03   34.69   35.32   \n",
       " 3          0.999667        0.999600        0.999594   34.69   35.32   35.94   \n",
       " 4          0.999882        0.999851        0.999797   35.32   35.94   36.57   \n",
       " 5          0.999700        0.999702        0.999769   35.94   36.57   37.17   \n",
       " 6          0.999062        0.999268        0.999579   36.57   37.17   37.68   \n",
       " 7          0.999572        0.999499        0.999480   37.17   37.68   38.18   \n",
       " 8          1.000000        1.000000        1.000000   37.68   38.18   38.71   \n",
       " 9          0.999772        0.999808        0.999824   38.18   38.71   39.20   \n",
       " 10         0.999669        0.999677        0.999760   38.71   39.20   39.64   \n",
       " 11         0.999585        0.999599        0.999608   39.20   39.64   40.04   \n",
       " 12         0.999762        0.999719        0.999717   39.64   40.04   40.43   \n",
       " 13         0.999820        0.999799        0.999789   40.04   40.43   40.82   \n",
       " 14         0.999896        0.999897        0.999907   40.43   40.82   41.20   \n",
       " 15         0.999707        0.999720        0.999724   40.82   41.20   41.53   \n",
       " 16         0.999603        0.999591        0.999587   41.20   41.53   41.83   \n",
       " 17         1.000000        1.000000        1.000000   41.53   41.83   42.14   \n",
       " 18         1.000511        1.000034        1.000000   41.83   42.14   42.50   \n",
       " 19         0.996936        0.996866        0.996756   32.54   34.03   35.32   \n",
       " 20         0.997527        0.997487        0.997420   33.32   34.69   35.94   \n",
       " 21         0.998237        0.998142        0.998080   34.03   35.32   36.57   \n",
       " 22         0.999283        0.999064        0.999049   34.69   35.94   37.17   \n",
       " 23         0.998943        0.999025        0.999096   35.32   36.57   37.68   \n",
       " 24         0.998254        0.998572        0.998997   35.94   37.17   38.18   \n",
       " 25         0.998797        0.998768        0.998734   36.57   37.68   38.71   \n",
       " 26         0.999560        0.999552        0.999524   37.17   38.18   39.20   \n",
       " 27         0.999182        0.999226        0.999237   37.68   38.71   39.64   \n",
       " 28         0.998611        0.998944        0.999135   38.18   39.20   40.04   \n",
       " 29         0.998406        0.998435        0.998481   38.71   39.64   40.43   \n",
       " ..              ...             ...             ...     ...     ...     ...   \n",
       " 289        1.250880        1.250967        1.251109  883.00  888.50  896.75   \n",
       " 290        1.253860        1.253823        1.253723  888.25  890.25  900.75   \n",
       " 291        1.101849        1.101519        1.101393  889.75  895.75  906.50   \n",
       " 292        1.266214        1.266054        1.265880   14.44   14.17   14.23   \n",
       " 293        1.343559        1.343908        1.344142   14.17   14.23   14.60   \n",
       " 294        0.685942        0.685969        0.686018   14.23   14.60   14.33   \n",
       " 295        0.998658        0.998943        0.998963   14.60   14.33   14.02   \n",
       " 296        1.261606        1.261523        1.261441   14.33   14.02   13.89   \n",
       " 297        1.216305        1.216823        1.216971   14.44   14.23   14.33   \n",
       " 298        0.723681        0.723975        0.724274   14.17   14.60   14.02   \n",
       " 299        0.839854        0.840018        0.840399   14.23   14.33   13.89   \n",
       " 300        0.824750        0.824820        0.824954   14.44   14.60   13.89   \n",
       " 301        1.000172        1.000180        1.000331  274.20  277.00  279.80   \n",
       " 302        0.749745        0.749817        0.749818  277.00  279.80  281.00   \n",
       " 303        0.999658        0.999657        0.999649  279.80  281.00  282.10   \n",
       " 304        0.998068        0.998089        0.998138  281.00  282.10  281.90   \n",
       " 305        1.502057        1.502039        1.501836  282.10  281.90  282.80   \n",
       " 306        0.751319        0.751292        0.751279  281.90  282.80  284.10   \n",
       " 307        0.749230        0.749309        0.749353  274.20  279.80  282.10   \n",
       " 308        0.830512        0.830551        0.830661  277.00  281.00  281.90   \n",
       " 309        1.245567        1.245720        1.245828  279.80  282.10  282.80   \n",
       " 310        1.251204        1.250873        1.250796  281.00  281.90  284.10   \n",
       " 311        0.894335        0.894475        0.894535  274.20  281.00  282.80   \n",
       " 312        0.994749        0.994997        0.995095  277.00  282.10  284.10   \n",
       " 313        1.000262        1.000015        1.000000  468.75  474.25  480.50   \n",
       " 314        1.003470        1.003540        1.003704  474.25  480.50  489.25   \n",
       " 315        1.249871        1.249747        1.249625  480.50  489.25  502.75   \n",
       " 316        0.996672        0.996472        0.996381  489.25  502.75  513.50   \n",
       " 317        1.133739        1.133959        1.134362  468.75  480.50  502.75   \n",
       " 318        1.251170        1.250839        1.250629  474.25  489.25  513.50   \n",
       " \n",
       "      mean_reversion_rsquared  mean_reversion_signif  \n",
       " 0                       1.17                   True  \n",
       " 1                       4.91                   True  \n",
       " 2                       8.78                   True  \n",
       " 3                      18.49                   True  \n",
       " 4                      17.88                   True  \n",
       " 5                      10.16                   True  \n",
       " 6                       8.70                   True  \n",
       " 7                      11.12                   True  \n",
       " 8                      12.72                   True  \n",
       " 9                       7.47                   True  \n",
       " 10                      9.52                   True  \n",
       " 11                     18.98                   True  \n",
       " 12                     19.52                   True  \n",
       " 13                     16.60                   True  \n",
       " 14                     22.14                   True  \n",
       " 15                     14.26                   True  \n",
       " 16                     11.83                   True  \n",
       " 17                     14.89                   True  \n",
       " 18                     12.45                   True  \n",
       " 19                      2.45                   True  \n",
       " 20                      7.42                   True  \n",
       " 21                     13.51                   True  \n",
       " 22                     13.21                   True  \n",
       " 23                     11.76                   True  \n",
       " 24                      5.79                   True  \n",
       " 25                     10.01                   True  \n",
       " 26                     10.44                   True  \n",
       " 27                      5.91                   True  \n",
       " 28                      5.86                   True  \n",
       " 29                     14.39                   True  \n",
       " ..                       ...                    ...  \n",
       " 289                     0.61                   True  \n",
       " 290                     0.01                  False  \n",
       " 291                     0.59                   True  \n",
       " 292                     2.01                   True  \n",
       " 293                    16.25                   True  \n",
       " 294                     3.60                   True  \n",
       " 295                     5.98                   True  \n",
       " 296                      NaN                  False  \n",
       " 297                     4.24                   True  \n",
       " 298                     2.15                   True  \n",
       " 299                      NaN                  False  \n",
       " 300                      NaN                  False  \n",
       " 301                     4.10                   True  \n",
       " 302                     6.46                   True  \n",
       " 303                    12.10                   True  \n",
       " 304                     4.36                   True  \n",
       " 305                     9.61                   True  \n",
       " 306                     5.37                   True  \n",
       " 307                     2.63                   True  \n",
       " 308                     0.37                   True  \n",
       " 309                     0.91                   True  \n",
       " 310                     6.19                   True  \n",
       " 311                     1.59                   True  \n",
       " 312                     0.03                  False  \n",
       " 313                     5.59                   True  \n",
       " 314                     7.10                   True  \n",
       " 315                     6.92                   True  \n",
       " 316                    11.93                   True  \n",
       " 317                     8.05                   True  \n",
       " 318                     5.58                   True  \n",
       " \n",
       " [319 rows x 54 columns], 'success': True}"
      ]
     },
     "execution_count": 1,
     "metadata": {},
     "output_type": "execute_result"
    }
   ],
   "source": [
    "import opportunity_constructs.futures_butterfly as fb\n",
    "fb.generate_futures_butterfly_sheet_4date(date_to=20160114)\n",
    "\n"
   ]
  },
  {
   "cell_type": "code",
   "execution_count": 31,
   "metadata": {
    "collapsed": false
   },
   "outputs": [
    {
     "data": {
      "text/plain": [
       "array([ 0.86443954,  0.84087509])"
      ]
     },
     "execution_count": 31,
     "metadata": {},
     "output_type": "execute_result"
    }
   ],
   "source": [
    "import signals.utils as su\n",
    "import shared.statistics as stats\n",
    "starting_quantile=26\n",
    "favorable_quantile_move_list=[5,10,15,20,25]\n",
    "stats.get_number_from_quantile(y=price_ratio,quantile_list=[89,10])\n",
    "\n"
   ]
  },
  {
   "cell_type": "code",
   "execution_count": 3,
   "metadata": {
    "collapsed": false
   },
   "outputs": [
    {
     "data": {
      "text/html": [
       "<div>\n",
       "<table border=\"1\" class=\"dataframe\">\n",
       "  <thead>\n",
       "    <tr style=\"text-align: right;\">\n",
       "      <th></th>\n",
       "      <th>ticker1</th>\n",
       "      <th>ticker2</th>\n",
       "      <th>tickerHead</th>\n",
       "      <th>front_tr_dte</th>\n",
       "      <th>carry</th>\n",
       "      <th>q_carry</th>\n",
       "      <th>reward_risk</th>\n",
       "      <th>price</th>\n",
       "      <th>q</th>\n",
       "      <th>upside</th>\n",
       "      <th>downside</th>\n",
       "      <th>change5</th>\n",
       "      <th>change10</th>\n",
       "      <th>change20</th>\n",
       "    </tr>\n",
       "  </thead>\n",
       "  <tbody>\n",
       "    <tr>\n",
       "      <th>0</th>\n",
       "      <td>BOH2016</td>\n",
       "      <td>BOK2016</td>\n",
       "      <td>BO</td>\n",
       "      <td>35</td>\n",
       "      <td>NaN</td>\n",
       "      <td>NaN</td>\n",
       "      <td>NaN</td>\n",
       "      <td>-0.19</td>\n",
       "      <td>78</td>\n",
       "      <td>60.00</td>\n",
       "      <td>-32.19</td>\n",
       "      <td>NaN</td>\n",
       "      <td>NaN</td>\n",
       "      <td>NaN</td>\n",
       "    </tr>\n",
       "    <tr>\n",
       "      <th>1</th>\n",
       "      <td>BOK2016</td>\n",
       "      <td>BON2016</td>\n",
       "      <td>BO</td>\n",
       "      <td>78</td>\n",
       "      <td>18</td>\n",
       "      <td>16</td>\n",
       "      <td>0.05</td>\n",
       "      <td>-0.22</td>\n",
       "      <td>62</td>\n",
       "      <td>47.19</td>\n",
       "      <td>-42.00</td>\n",
       "      <td>NaN</td>\n",
       "      <td>NaN</td>\n",
       "      <td>NaN</td>\n",
       "    </tr>\n",
       "    <tr>\n",
       "      <th>2</th>\n",
       "      <td>BON2016</td>\n",
       "      <td>BOQ2016</td>\n",
       "      <td>BO</td>\n",
       "      <td>120</td>\n",
       "      <td>-102</td>\n",
       "      <td>1</td>\n",
       "      <td>-0.17</td>\n",
       "      <td>-0.05</td>\n",
       "      <td>61</td>\n",
       "      <td>69.57</td>\n",
       "      <td>-45.00</td>\n",
       "      <td>NaN</td>\n",
       "      <td>NaN</td>\n",
       "      <td>NaN</td>\n",
       "    </tr>\n",
       "    <tr>\n",
       "      <th>3</th>\n",
       "      <td>BOQ2016</td>\n",
       "      <td>BOU2016</td>\n",
       "      <td>BO</td>\n",
       "      <td>141</td>\n",
       "      <td>-12</td>\n",
       "      <td>3</td>\n",
       "      <td>-0.03</td>\n",
       "      <td>-0.03</td>\n",
       "      <td>58</td>\n",
       "      <td>89.85</td>\n",
       "      <td>-68.19</td>\n",
       "      <td>NaN</td>\n",
       "      <td>NaN</td>\n",
       "      <td>NaN</td>\n",
       "    </tr>\n",
       "    <tr>\n",
       "      <th>4</th>\n",
       "      <td>BOU2016</td>\n",
       "      <td>BOV2016</td>\n",
       "      <td>BO</td>\n",
       "      <td>163</td>\n",
       "      <td>-48</td>\n",
       "      <td>-3</td>\n",
       "      <td>-0.08</td>\n",
       "      <td>0.05</td>\n",
       "      <td>61</td>\n",
       "      <td>135.00</td>\n",
       "      <td>-92.19</td>\n",
       "      <td>NaN</td>\n",
       "      <td>NaN</td>\n",
       "      <td>NaN</td>\n",
       "    </tr>\n",
       "    <tr>\n",
       "      <th>5</th>\n",
       "      <td>BOV2016</td>\n",
       "      <td>BOZ2016</td>\n",
       "      <td>BO</td>\n",
       "      <td>185</td>\n",
       "      <td>60</td>\n",
       "      <td>-1</td>\n",
       "      <td>0.18</td>\n",
       "      <td>-0.05</td>\n",
       "      <td>62</td>\n",
       "      <td>63.00</td>\n",
       "      <td>-74.19</td>\n",
       "      <td>NaN</td>\n",
       "      <td>NaN</td>\n",
       "      <td>NaN</td>\n",
       "    </tr>\n",
       "    <tr>\n",
       "      <th>6</th>\n",
       "      <td>BOZ2016</td>\n",
       "      <td>BOF2017</td>\n",
       "      <td>BO</td>\n",
       "      <td>227</td>\n",
       "      <td>96</td>\n",
       "      <td>33</td>\n",
       "      <td>0.22</td>\n",
       "      <td>-0.21</td>\n",
       "      <td>29</td>\n",
       "      <td>45.00</td>\n",
       "      <td>-51.00</td>\n",
       "      <td>NaN</td>\n",
       "      <td>NaN</td>\n",
       "      <td>NaN</td>\n",
       "    </tr>\n",
       "    <tr>\n",
       "      <th>7</th>\n",
       "      <td>BOF2017</td>\n",
       "      <td>BOH2017</td>\n",
       "      <td>BO</td>\n",
       "      <td>247</td>\n",
       "      <td>-24</td>\n",
       "      <td>-13</td>\n",
       "      <td>-0.13</td>\n",
       "      <td>-0.17</td>\n",
       "      <td>42</td>\n",
       "      <td>47.19</td>\n",
       "      <td>-53.19</td>\n",
       "      <td>NaN</td>\n",
       "      <td>NaN</td>\n",
       "      <td>NaN</td>\n",
       "    </tr>\n",
       "  </tbody>\n",
       "</table>\n",
       "</div>"
      ],
      "text/plain": [
       "   ticker1  ticker2 tickerHead  front_tr_dte  carry  q_carry  reward_risk  \\\n",
       "0  BOH2016  BOK2016         BO            35    NaN      NaN          NaN   \n",
       "1  BOK2016  BON2016         BO            78     18       16         0.05   \n",
       "2  BON2016  BOQ2016         BO           120   -102        1        -0.17   \n",
       "3  BOQ2016  BOU2016         BO           141    -12        3        -0.03   \n",
       "4  BOU2016  BOV2016         BO           163    -48       -3        -0.08   \n",
       "5  BOV2016  BOZ2016         BO           185     60       -1         0.18   \n",
       "6  BOZ2016  BOF2017         BO           227     96       33         0.22   \n",
       "7  BOF2017  BOH2017         BO           247    -24      -13        -0.13   \n",
       "\n",
       "   price   q  upside  downside  change5  change10  change20  \n",
       "0  -0.19  78   60.00    -32.19      NaN       NaN       NaN  \n",
       "1  -0.22  62   47.19    -42.00      NaN       NaN       NaN  \n",
       "2  -0.05  61   69.57    -45.00      NaN       NaN       NaN  \n",
       "3  -0.03  58   89.85    -68.19      NaN       NaN       NaN  \n",
       "4   0.05  61  135.00    -92.19      NaN       NaN       NaN  \n",
       "5  -0.05  62   63.00    -74.19      NaN       NaN       NaN  \n",
       "6  -0.21  29   45.00    -51.00      NaN       NaN       NaN  \n",
       "7  -0.17  42   47.19    -53.19      NaN       NaN       NaN  "
      ]
     },
     "execution_count": 3,
     "metadata": {},
     "output_type": "execute_result"
    }
   ],
   "source": [
    "import opportunity_constructs.spread_carry as sc\n",
    "spread_carry_output = sc.generate_spread_carry_sheet_4date(report_date=20160122)\n",
    "spread_report = spread_carry_output['spread_report']\n",
    "ticker_head_list = list(spread_report['tickerHead'].unique())\n",
    "# SB might be a good buy but cannot trade on 6\n",
    "# KC on 7 might be a good trade \n",
    "# work on 1 lot LN Z-G on 8\n",
    "# CT might be a good buy on 9\n",
    "# adjust yor 2 C buy order if you get exexuted in S\n",
    "\n",
    "spread_report[spread_report['tickerHead']=='BO']\n"
   ]
  },
  {
   "cell_type": "code",
   "execution_count": 9,
   "metadata": {
    "collapsed": false
   },
   "outputs": [
    {
     "name": "stdout",
     "output_type": "stream",
     "text": [
      "True\n"
     ]
    },
    {
     "data": {
      "text/plain": [
       "-668"
      ]
     },
     "execution_count": 9,
     "metadata": {},
     "output_type": "execute_result"
    }
   ],
   "source": [
    "import ta.strategy as ts\n",
    "import ta.pnl as tapnl\n",
    "net_position = ts.get_net_position_4strategy_alias(alias='HON2016Q2016Q2016U2016')\n",
    "print(net_position.empty)\n",
    "\n",
    "wuhu = tapnl.get_strategy_pnl(alias='HON2016Q2016Q2016U2016')\n",
    "total_pnl = wuhu['total_pnl']\n",
    "\n",
    "total_pnl\n",
    "\n",
    "\n",
    "\n"
   ]
  },
  {
   "cell_type": "code",
   "execution_count": 1,
   "metadata": {
    "collapsed": false
   },
   "outputs": [],
   "source": [
    "import ta.pnl as tapnl\n",
    "tapnl.close_strategy(alias='HON2016Q2016Q2016U2016')"
   ]
  },
  {
   "cell_type": "code",
   "execution_count": null,
   "metadata": {
    "collapsed": false
   },
   "outputs": [],
   "source": [
    "butterfly_followup_frame = pd.DataFrame(results)"
   ]
  },
  {
   "cell_type": "code",
   "execution_count": null,
   "metadata": {
    "collapsed": false
   },
   "outputs": [],
   "source": [
    "import formats.futures_strategy_formats as ff\n",
    "import ta.prepare_daily as tpd\n",
    "tpd.prepare_curve_pca()\n"
   ]
  },
  {
   "cell_type": "code",
   "execution_count": 32,
   "metadata": {
    "collapsed": false
   },
   "outputs": [],
   "source": [
    "import matplotlib.pyplot as plt\n",
    "import numpy as np\n",
    "plt.plot(price_ratio)\n",
    "plt.grid()               \n",
    "plt.show()\n"
   ]
  },
  {
   "cell_type": "code",
   "execution_count": null,
   "metadata": {
    "collapsed": false
   },
   "outputs": [],
   "source": [
    "import contract_utilities.contract_meta_info as cmi\n",
    "cmi.get_contract_specs(wuhu['ticker1'][0])['ticker_head']"
   ]
  },
  {
   "cell_type": "code",
   "execution_count": null,
   "metadata": {
    "collapsed": false
   },
   "outputs": [],
   "source": [
    "residuals = yield_data-pca_out['model_fit']\n",
    "residuals"
   ]
  },
  {
   "cell_type": "code",
   "execution_count": null,
   "metadata": {
    "collapsed": false
   },
   "outputs": [],
   "source": [
    "import backtesting.backtest_curve_pca as bcp\n",
    "\n",
    "pnl_path = []\n",
    "\n",
    "unique_dates = rolling_data[0].index\n",
    "\n",
    "for i in range(len(unique_dates)):\n",
    "    \n",
    "    pnl_path.append(bcp.backtest_curve_pca_4date(residuals=residuals[i,:],\n",
    "                                                 change_data=change5_data[i,:],\n",
    "                                                 tr_dte_data = tr_dte_data[i,:]))\n",
    "\n",
    "\n",
    "\n",
    "\n",
    "\n"
   ]
  },
  {
   "cell_type": "code",
   "execution_count": null,
   "metadata": {
    "collapsed": false
   },
   "outputs": [],
   "source": [
    "from sklearn.decomposition import PCA\n",
    "pca = PCA(n_components=2)\n",
    "pca_fit = pca.fit(yield_data)\n",
    "pca_fit."
   ]
  },
  {
   "cell_type": "code",
   "execution_count": null,
   "metadata": {
    "collapsed": false
   },
   "outputs": [],
   "source": [
    "\n",
    "import matplotlib.pyplot as plt\n",
    "import numpy as np\n",
    "plt.plot(np.cumsum(pnl_path))\n",
    "plt.grid()               \n",
    "plt.show()"
   ]
  },
  {
   "cell_type": "code",
   "execution_count": null,
   "metadata": {
    "collapsed": false
   },
   "outputs": [],
   "source": [
    "import opportunity_constructs.curve_pca as cpc\n",
    "import pandas as pd\n",
    "#report_out = cpc.get_curve_pca_report(ticker_head='CL', date_to=20160112 )\n",
    "\n",
    "report_out['factor_load1']\n",
    "\n",
    "\n",
    "\n",
    "\n",
    "\n"
   ]
  },
  {
   "cell_type": "code",
   "execution_count": null,
   "metadata": {
    "collapsed": false
   },
   "outputs": [],
   "source": [
    "np.mean(pnl_path)"
   ]
  },
  {
   "cell_type": "code",
   "execution_count": null,
   "metadata": {
    "collapsed": false
   },
   "outputs": [],
   "source": [
    "%pylab inline\n",
    "from matplotlib import pyplot as plt\n",
    "from mpl_toolkits.mplot3d import Axes3D\n",
    "from mpl_toolkits.mplot3d import proj3d\n",
    "\n",
    "fig = plt.figure(figsize=(8,8))\n",
    "ax = fig.add_subplot(111, projection='3d')\n",
    "plt.rcParams['legend.fontsize'] = 10\n",
    "ax.plot(class1_sample[0,:], class1_sample[1,:], class1_sample[2,:],\n",
    "        'o', markersize=8, color='blue', alpha=0.5, label='class1')\n",
    "ax.plot(class2_sample[0,:], class2_sample[1,:], class2_sample[2,:],\n",
    "        '^', markersize=8, alpha=0.5, color='red', label='class2')\n",
    "\n",
    "plt.title('Samples for class 1 and class 2')\n",
    "ax.legend(loc='upper right')\n",
    "\n",
    "plt.show()"
   ]
  },
  {
   "cell_type": "code",
   "execution_count": null,
   "metadata": {
    "collapsed": false
   },
   "outputs": [],
   "source": [
    "all_samples = np.concatenate((class1_sample, class2_sample), axis=1)\n",
    "assert all_samples.shape ==(3,40), \"The matrix has not the dimensions 3x40\""
   ]
  },
  {
   "cell_type": "code",
   "execution_count": null,
   "metadata": {
    "collapsed": false
   },
   "outputs": [],
   "source": [
    "mean_x = np.mean(all_samples[0,:])\n",
    "mean_y = np.mean(all_samples[1,:])\n",
    "mean_z = np.mean(all_samples[2,:])\n",
    "\n",
    "mean_vector = np.array([[mean_x],[mean_y],[mean_z]])\n",
    "print('Mean Vector:\\n', mean_vector)\n",
    "\n",
    "\n",
    "\n",
    "\n"
   ]
  },
  {
   "cell_type": "code",
   "execution_count": null,
   "metadata": {
    "collapsed": false
   },
   "outputs": [],
   "source": [
    "scatter_matrix = np.zeros((3,3))\n",
    "\n",
    "for i in range(all_samples.shape[1]):\n",
    "    scatter_matrix +=(all_samples[:,i].reshape(3,1)).dot(\n",
    "    (all_samples[:,i].reshape(3,1)-mean_vector).T)\n",
    "print('Scatter Matrix\\n',scatter_matrix)    "
   ]
  },
  {
   "cell_type": "code",
   "execution_count": null,
   "metadata": {
    "collapsed": false
   },
   "outputs": [],
   "source": [
    "cov_mat = np.cov([all_samples[0,:], all_samples[1,:],all_samples[2,:]])\n",
    "print('Covariance Matrix:\\n', cov_mat)"
   ]
  },
  {
   "cell_type": "code",
   "execution_count": null,
   "metadata": {
    "collapsed": false
   },
   "outputs": [],
   "source": [
    "# eigenvectors and eigenvalues for the from the scatter matrix\n",
    "eig_val_sc, eig_vec_sc = np.linalg.eig(scatter_matrix)\n",
    "\n",
    "# eigenvectors and eigenvalues for the from the covariance matrix\n",
    "eig_val_cov, eig_vec_cov = np.linalg.eig(cov_mat)\n",
    "\n",
    "for i in range(len(eig_val_sc)):\n",
    "    eigvec_sc = eig_vec_sc[:,i].reshape(1,3).T\n",
    "    eigvec_cov = eig_vec_cov[:,i].reshape(1,3).T\n",
    "    assert eigvec_sc.all() == eigvec_cov.all(), 'Eigenvectors are not identical'\n",
    "\n",
    "    print('Eigenvector {}: \\n{}'.format(i+1, eigvec_sc))\n",
    "    print('Eigenvalue {} from scatter matrix: {}'.format(i+1, eig_val_sc[i]))\n",
    "    print('Eigenvalue {} from covariance matrix: {}'.format(i+1, eig_val_cov[i]))\n",
    "    print('Scaling factor: ', eig_val_sc[i]/eig_val_cov[i])\n",
    "    print(40 * '-')"
   ]
  },
  {
   "cell_type": "code",
   "execution_count": null,
   "metadata": {
    "collapsed": false
   },
   "outputs": [],
   "source": [
    "for i in range(len(eig_val_sc)):\n",
    "    eigv = eig_vec_sc[:,i].reshape(1,3).T\n",
    "    np.testing.assert_array_almost_equal(scatter_matrix.dot(eigv),\n",
    "                                         eig_val_sc[i] * eigv,\n",
    "                                         decimal=6, err_msg='', verbose=True)"
   ]
  },
  {
   "cell_type": "code",
   "execution_count": null,
   "metadata": {
    "collapsed": false
   },
   "outputs": [],
   "source": [
    "%matplotlib inline\n",
    "\n",
    "from matplotlib import pyplot as plt\n",
    "from mpl_toolkits.mplot3d import Axes3D\n",
    "from mpl_toolkits.mplot3d import proj3d\n",
    "from matplotlib.patches import FancyArrowPatch\n",
    "\n",
    "\n",
    "class Arrow3D(FancyArrowPatch):\n",
    "    def __init__(self, xs, ys, zs, *args, **kwargs):\n",
    "        FancyArrowPatch.__init__(self, (0,0), (0,0), *args, **kwargs)\n",
    "        self._verts3d = xs, ys, zs\n",
    "\n",
    "    def draw(self, renderer):\n",
    "        xs3d, ys3d, zs3d = self._verts3d\n",
    "        xs, ys, zs = proj3d.proj_transform(xs3d, ys3d, zs3d, renderer.M)\n",
    "        self.set_positions((xs[0],ys[0]),(xs[1],ys[1]))\n",
    "        FancyArrowPatch.draw(self, renderer)\n",
    "\n",
    "fig = plt.figure(figsize=(7,7))\n",
    "ax = fig.add_subplot(111, projection='3d')\n",
    "\n",
    "ax.plot(all_samples[0,:], all_samples[1,:], all_samples[2,:],\n",
    "        'o', markersize=8, color='green', alpha=0.2)\n",
    "ax.plot([mean_x], [mean_y], [mean_z],\n",
    "        'o', markersize=10, color='red', alpha=0.5)\n",
    "for v in eig_vec_sc.T:\n",
    "    a = Arrow3D([mean_x, v[0]+mean_x],\n",
    "                [mean_y, v[1]+mean_y],\n",
    "                [mean_z, v[2]+mean_z],\n",
    "                mutation_scale=20, lw=3, arrowstyle=\"-|>\", color=\"r\")\n",
    "\n",
    "    ax.add_artist(a)\n",
    "ax.set_xlabel('x_values')\n",
    "ax.set_ylabel('y_values')\n",
    "ax.set_zlabel('z_values')\n",
    "\n",
    "plt.title('Eigenvectors')\n",
    "\n",
    "plt.show()\n",
    "multi_columns = pd.MultiIndex.from_product([[ticker1, ticker2, ticker3],data_1.columns.values], names=['first', 'second'])\n"
   ]
  },
  {
   "cell_type": "code",
   "execution_count": null,
   "metadata": {
    "collapsed": false
   },
   "outputs": [],
   "source": [
    "transformed = matrix_w.T.dot(all_samples)\n",
    "assert transformed.shape == (2,40), \"The matrix is not 2x40 dimensional.\"\n",
    "transformed\n",
    "matrix_w"
   ]
  },
  {
   "cell_type": "code",
   "execution_count": null,
   "metadata": {
    "collapsed": false
   },
   "outputs": [],
   "source": [
    "import matplotlib.pyplot as plt\n",
    "plt.plot(merged_dataframe.index,(merged_dataframe['BOH2016']['close_price']+merged_dataframe['BON2016']['close_price'])/2-\n",
    "         merged_dataframe['BOK2016']['close_price'])\n",
    "         \n",
    "         \n",
    "plt.show()"
   ]
  },
  {
   "cell_type": "code",
   "execution_count": null,
   "metadata": {
    "collapsed": false
   },
   "outputs": [],
   "source": [
    "(merged_dataframe['BOH2016']['close_price']+merged_dataframe['BON2016']['close_price'])/2-merged_dataframe['BOK2016']['close_price']"
   ]
  },
  {
   "cell_type": "code",
   "execution_count": null,
   "metadata": {
    "collapsed": false
   },
   "outputs": [],
   "source": [
    "\n",
    "\n",
    "import matplotlib.pyplot as plt\n",
    "plt.plot(range(len(aligned_dataframe.index)),aligned_dataframe['c1']['tr_dte'],\n",
    "         range(len(aligned_dataframe.index)),aligned_dataframe['c2']['tr_dte'],\n",
    "         range(len(aligned_dataframe.index)),aligned_dataframe['c3']['tr_dte'])\n",
    "plt.grid()         \n",
    "         \n",
    "plt.show()\n",
    "\n",
    "    \n",
    "\n",
    "    "
   ]
  },
  {
   "cell_type": "code",
   "execution_count": null,
   "metadata": {
    "collapsed": false
   },
   "outputs": [],
   "source": [
    "merged_dataframe['c1']['tr_dte'].isnull().sum()\n",
    "merged_dataframe['c3']['tr_dte'].isnull().sum()"
   ]
  },
  {
   "cell_type": "code",
   "execution_count": null,
   "metadata": {
    "collapsed": false
   },
   "outputs": [],
   "source": [
    "futures_dataframe"
   ]
  },
  {
   "cell_type": "code",
   "execution_count": null,
   "metadata": {
    "collapsed": false
   },
   "outputs": [],
   "source": [
    "print(trDte1)\n",
    "print(trDte2)\n",
    "print(trDte3)"
   ]
  },
  {
   "cell_type": "code",
   "execution_count": null,
   "metadata": {
    "collapsed": false
   },
   "outputs": [],
   "source": [
    "bf_price = (aligned_dataframe['c1']['close_price']+aligned_dataframe['c3']['close_price'])/2-aligned_dataframe['c2']['close_price']"
   ]
  },
  {
   "cell_type": "code",
   "execution_count": null,
   "metadata": {
    "collapsed": false
   },
   "outputs": [],
   "source": [
    "plt.plot(range(len(aligned_dataframe.index)),bf_price)\n",
    "plt.grid()         \n",
    "         \n",
    "plt.show()"
   ]
  },
  {
   "cell_type": "code",
   "execution_count": null,
   "metadata": {
    "collapsed": true
   },
   "outputs": [],
   "source": [
    "import matplotlib.pyplot as plt\n",
    "plt.plot(price_ratio)\n",
    "plt.grid()\n",
    "plt.show()"
   ]
  },
  {
   "cell_type": "code",
   "execution_count": null,
   "metadata": {
    "collapsed": false
   },
   "outputs": [],
   "source": [
    "import numpy as np\n",
    "nan_matrix = np.empty((2,2))\n",
    "nan_matrix[:] = np.NAN\n",
    "nan_matrix"
   ]
  },
  {
   "cell_type": "code",
   "execution_count": null,
   "metadata": {
    "collapsed": true
   },
   "outputs": [],
   "source": []
  }
 ],
 "metadata": {
  "kernelspec": {
   "display_name": "Python 3",
   "language": "python",
   "name": "python3"
  },
  "language_info": {
   "codemirror_mode": {
    "name": "ipython",
    "version": 3
   },
   "file_extension": ".py",
   "mimetype": "text/x-python",
   "name": "python",
   "nbconvert_exporter": "python",
   "pygments_lexer": "ipython3",
   "version": "3.4.3"
  }
 },
 "nbformat": 4,
 "nbformat_minor": 0
}
