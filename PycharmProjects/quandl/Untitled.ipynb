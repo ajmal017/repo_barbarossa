{
 "cells": [
  {
   "cell_type": "code",
   "execution_count": 3,
   "metadata": {
    "collapsed": false
   },
   "outputs": [
    {
     "name": "stdout",
     "output_type": "stream",
     "text": [
      "REPLACE INTO option_ticker_indicators (ticker, ticker_head, ticker_month, ticker_year,  cal_dte, tr_dte, atm_vol, price_date, created_date, last_updated_date) VALUES (%s, %s, %s, %s, %s, %s, %s, %s, %s, %s)\n"
     ]
    }
   ],
   "source": [
    "import my_sql_routines.options_signal_loader as osl\n",
    "osl.load_atm_vols_4settle_date(settle_date=20160322)\n"
   ]
  },
  {
   "cell_type": "code",
   "execution_count": 1,
   "metadata": {
    "collapsed": false
   },
   "outputs": [
    {
     "data": {
      "text/plain": [
       "{'current': {'imp_vol_ratio': 0.9148910991765964},\n",
       " 'hist':       settleDates  TickerYear1  TickerMonth1  trDTE1  calDTE1  underlying1  \\\n",
       " 0        19940103         1994             6     116      164       467.05   \n",
       " 1        19940104         1994             6     115      163       468.65   \n",
       " 2        19940105         1994             6     114      162       469.20   \n",
       " 3        19940106         1994             6     113      161       469.00   \n",
       " 4        19940107         1994             6     112      160       472.35   \n",
       " 5        19940110         1994             6     111      157       477.10   \n",
       " 6        19940111         1994             6     110      156       476.45   \n",
       " 7        19940112         1994             6     109      155       475.20   \n",
       " 8        19940113         1994             6     108      154       474.60   \n",
       " 9        19940114         1994             6     107      153       475.65   \n",
       " 10       19940117         1994             6     106      150       474.65   \n",
       " 11       19940118         1994             6     105      149       475.40   \n",
       " 12       19940119         1994             6     104      148       475.15   \n",
       " 13       19940120         1994             6     103      147       476.30   \n",
       " 14       19940121         1994             6     102      146       474.55   \n",
       " 15       19940124         1994             6     101      143       473.60   \n",
       " 16       19940125         1994             6     100      142       472.55   \n",
       " 17       19940126         1994             6      99      141       474.90   \n",
       " 18       19940127         1994             6      98      140       478.55   \n",
       " 19       19940128         1994             6      97      139       479.70   \n",
       " 20       19940131         1994             6      96      136       482.65   \n",
       " 21       19940201         1994             6      95      135       480.95   \n",
       " 22       19940202         1994             6      94      134       483.35   \n",
       " 23       19940203         1994             6      93      133       481.25   \n",
       " 24       19940204         1994             6      92      132       470.00   \n",
       " 25       19940207         1994             6      91      129       473.20   \n",
       " 26       19940208         1994             6      90      128       473.10   \n",
       " 27       19940209         1994             6      89      127       474.50   \n",
       " 28       19940210         1994             6      88      126       470.65   \n",
       " 29       19940211         1994             6      87      125       471.25   \n",
       " ...           ...          ...           ...     ...      ...          ...   \n",
       " 4453     20150828         2016             1      96      140      1974.70   \n",
       " 4454     20150831         2016             1      95      137      1954.40   \n",
       " 4455     20150901         2016             1      94      136      1900.90   \n",
       " 4456     20150902         2016             1      93      135      1932.00   \n",
       " 4457     20150903         2016             1      92      134      1930.90   \n",
       " 4458     20150904         2016             1      91      133      1906.40   \n",
       " 4459     20150908         2016             1      90      129      1950.50   \n",
       " 4460     20150909         2016             1      89      128      1927.10   \n",
       " 4461     20150910         2016             1      88      127      1933.30   \n",
       " 4462     20150911         2016             1      87      126      1943.60   \n",
       " 4463     20150914         2016             1      86      123      1937.20   \n",
       " 4464     20150915         2016             1      85      122      1962.90   \n",
       " 4465     20150916         2016             1      84      121      1981.10   \n",
       " 4466     20150917         2016             1      83      120      1970.40   \n",
       " 4467     20150918         2016             1      82      119      1943.20   \n",
       " 4468     20150921         2016             1      81      116      1955.50   \n",
       " 4469     20150922         2016             1      80      115      1924.50   \n",
       " 4470     20150923         2016             1      79      114      1920.90   \n",
       " 4471     20150924         2016             1      78      113      1910.80   \n",
       " 4472     20150925         2016             1      77      112      1911.30   \n",
       " 4473     20150928         2016             1      76      109      1864.10   \n",
       " 4474     20150929         2016             1      75      108      1866.20   \n",
       " 4475     20150930         2016             1      74      107      1900.40   \n",
       " 4476     20151001         2016             1      73      106      1908.60   \n",
       " 4477     20151002         2016             1      72      105      1934.80   \n",
       " 4478     20151005         2016             1      71      102      1966.30   \n",
       " 4479     20151006         2016             1      70      101      1960.20   \n",
       " 4480     20151007         2016             1      69      100      1978.90   \n",
       " 4481     20151008         2016             3     110      161      1998.40   \n",
       " 4482     20151009         2016             3     109      160      1999.30   \n",
       " \n",
       "         atmVol1  strike1  theoValue1  theoPremium1      ...        \\\n",
       " 0     11.826979      470   12.900006    645.000315      ...         \n",
       " 1     11.678550      470   13.649954    682.497692      ...         \n",
       " 2     11.490110      470   13.700033    685.001659      ...         \n",
       " 3     11.314593      470   13.300048    665.002394      ...         \n",
       " 4     11.223900      475   12.299983    614.999151      ...         \n",
       " 5     11.324771      480   12.300036    615.001822      ...         \n",
       " 6     11.427629      475   14.885863    744.293165      ...         \n",
       " 7     11.324567      475   13.948188    697.409391      ...         \n",
       " 8     11.411064      475   13.649979    682.498932      ...         \n",
       " 9     11.418151      475   14.243759    712.187958      ...         \n",
       " 10    11.617775      475   13.750051    687.502575      ...         \n",
       " 11    11.695381      475   14.246298    712.314892      ...         \n",
       " 12    11.775798      475   14.148636    707.431793      ...         \n",
       " 13    11.468528      475   14.438095    721.904755      ...         \n",
       " 14    11.402997      475   13.249964    662.498188      ...         \n",
       " 15    11.534820      475   12.700015    635.000753      ...         \n",
       " 16    11.556954      475   12.050005    602.500248      ...         \n",
       " 17    11.203363      475   13.000053    650.002670      ...         \n",
       " 18    10.833275      480   11.849943    592.497158      ...         \n",
       " 19    10.670505      480   12.299995    614.999771      ...         \n",
       " 20    10.559429      485   10.950056    547.502804      ...         \n",
       " 21    10.783966      480   13.041756    652.087784      ...         \n",
       " 22    10.411939      485   11.099996    554.999781      ...         \n",
       " 23    10.724072      480   13.038865    651.943254      ...         \n",
       " 24    12.367100      470   13.799992    689.999580      ...         \n",
       " 25    11.897201      475   12.200024    610.001183      ...         \n",
       " 26    11.787928      475   11.950011    597.500563      ...         \n",
       " 27    11.478094      475   12.400050    620.002508      ...         \n",
       " 28    12.367387      470   13.894435    694.721746      ...         \n",
       " 29    12.378957      470   14.239262    711.963081      ...         \n",
       " ...         ...      ...         ...           ...      ...         \n",
       " 4453  19.854817     1990   87.400101   4370.005035      ...         \n",
       " 4454  20.965870     1970   90.499863   4524.993134      ...         \n",
       " 4455  23.325959     1920   96.400047   4820.002365      ...         \n",
       " 4456  21.242264     1950   88.800110   4440.005493      ...         \n",
       " 4457  21.412781     1950   88.299873   4414.993668      ...         \n",
       " 4458  22.518435     1925   92.099976   4604.998779      ...         \n",
       " 4459  20.853013     1960   90.499847   4524.992371      ...         \n",
       " 4460  21.188715     1940   88.499855   4424.992752      ...         \n",
       " 4461  20.757668     1950   84.200066   4210.003281      ...         \n",
       " 4462  20.247442     1960   82.200012   4110.000610      ...         \n",
       " 4463  20.454787     1950   84.000153   4200.007629      ...         \n",
       " 4464  19.102219     1975   79.100014   3955.000687      ...         \n",
       " 4465  17.831951     1990   75.600136   3780.006790      ...         \n",
       " 4466  18.231797     1980   76.100029   3805.001450      ...         \n",
       " 4467  19.120879     1955   77.500137   3875.006866      ...         \n",
       " 4468  18.008271     1965   73.300133   3665.006638      ...         \n",
       " 4469  19.496612     1935   77.599854   3879.992676      ...         \n",
       " 4470  19.069417     1930   76.099953   3804.997635      ...         \n",
       " 4471  19.860901     1920   78.700203   3935.010147      ...         \n",
       " 4472  19.871543     1920   78.599846   3929.992294      ...         \n",
       " 4473  21.892843     1875   82.399872   4119.993591      ...         \n",
       " 4474  21.631883     1880   79.399834   3969.991684      ...         \n",
       " 4475  20.286655     1910   77.499916   3874.995804      ...         \n",
       " 4476  19.848941     1920   74.599998   3729.999924      ...         \n",
       " 4477  18.918012     1945   72.200180   3610.009003      ...         \n",
       " 4478  17.798732     1975   68.500160   3425.008011      ...         \n",
       " 4479  17.810526     1970   67.299812   3364.990616      ...         \n",
       " 4480  17.146581     1985   67.099976   3354.998779      ...         \n",
       " 4481  17.230254     2010   84.099937   4204.996872      ...         \n",
       " 4482  17.137960     2010   83.900230   4195.011520      ...         \n",
       " \n",
       "       pastAtmVolChange202  pastAtmVolChange12  expectedDailyMove2  optionPnL2  \\\n",
       " 0                     NaN                 NaN                 NaN         NaN   \n",
       " 1                     NaN           -0.062693                 NaN    0.849190   \n",
       " 2                     NaN           -0.033968                 NaN    0.241129   \n",
       " 3                     NaN            0.018770                 NaN   -0.096642   \n",
       " 4                     NaN           -0.251787                 NaN    1.453367   \n",
       " 5                     NaN            0.007024                 NaN    2.799989   \n",
       " 6                     NaN            0.054616                 NaN   -0.300036   \n",
       " 7                     NaN            0.048493                 NaN   -0.600059   \n",
       " 8                     NaN            0.002601                 NaN   -0.399925   \n",
       " 9                     NaN           -0.061032                 NaN    0.499951   \n",
       " 10                    NaN            0.143246                 NaN   -0.500028   \n",
       " 11                    NaN           -0.048887                 NaN    0.399987   \n",
       " 12                    NaN            0.165723                 NaN    0.000029   \n",
       " 13                    NaN           -0.183227                 NaN    0.300035   \n",
       " 14                    NaN            0.056437                 NaN   -0.900046   \n",
       " 15                    NaN           -0.073801                 NaN   -0.800030   \n",
       " 16                    NaN            0.143584                 NaN   -0.499972   \n",
       " 17                    NaN           -0.193638                 NaN    1.100057   \n",
       " 18                    NaN           -0.291431                 NaN    1.599956   \n",
       " 19                    NaN           -0.170129                 NaN    0.385716   \n",
       " 20              -0.841366           -0.111269                 NaN    1.409329   \n",
       " 21              -0.718541            0.060133                 NaN   -0.878404   \n",
       " 22              -0.740698           -0.056125                 NaN    1.049986   \n",
       " 23              -0.731646            0.027823                 NaN   -1.120018   \n",
       " 24               0.663167            1.143026                 NaN   -5.888505   \n",
       " 25               0.396646           -0.259497                 NaN    1.149981   \n",
       " 26               0.285134           -0.056896                 NaN   -0.149998   \n",
       " 27               0.076114           -0.160528                 NaN    0.499945   \n",
       " 28               0.738767            0.665254                 NaN   -1.693420   \n",
       " 29               0.923133            0.123334                 NaN    0.491520   \n",
       " ...                   ...                 ...                 ...         ...   \n",
       " 4453             4.065789            0.454797                 NaN    2.899658   \n",
       " 4454             4.940891            0.882878                 NaN   -7.799746   \n",
       " 4455             6.404747            1.621416                 NaN  -24.445786   \n",
       " 4456             5.452729           -1.115115                 NaN   11.300183   \n",
       " 4457             5.302680            0.160163                 NaN    0.000306   \n",
       " 4458             6.137251            0.820678                 NaN  -10.499599   \n",
       " 4459             5.492829           -1.066450                 NaN   18.299934   \n",
       " 4460             5.317648            0.359577                 NaN  -13.099904   \n",
       " 4461             5.054105           -0.304678                 NaN    1.399866   \n",
       " 4462             4.707350           -0.292118                 NaN    4.299599   \n",
       " 4463             5.259185            0.364666                 NaN   -2.300243   \n",
       " 4464             4.426691           -1.078567                 NaN    8.799795   \n",
       " 4465             3.256243           -0.968756                 NaN    4.499854   \n",
       " 4466             3.124754            0.230231                 NaN   -5.600214   \n",
       " 4467             2.541289            0.573571                 NaN  -14.489850   \n",
       " 4468             0.159312           -0.754280                 NaN    2.299850   \n",
       " 4469            -1.226798            1.030576                 NaN  -14.177547   \n",
       " 4470            -1.395598           -0.265195                 NaN   -4.100304   \n",
       " 4471             0.655985            0.480686                 NaN   -3.299968   \n",
       " 4472             1.242481            0.108399                 NaN    0.600252   \n",
       " 4473             2.044687            1.257003                 NaN  -23.164696   \n",
       " 4474             0.985315           -0.176494                 NaN   -0.200276   \n",
       " 4475            -1.359296           -0.723195                 NaN   15.799690   \n",
       " 4476            -0.485961           -0.241780                 NaN    3.400266   \n",
       " 4477            -1.352067           -0.705943                 NaN   10.800344   \n",
       " 4478            -2.899607           -0.726862                 NaN   14.200031   \n",
       " 4479            -1.756643            0.076515                 NaN   -3.600248   \n",
       " 4480            -2.489213           -0.372993                 NaN    8.799968   \n",
       " 4481            -2.818773           -0.634237                 NaN    8.199843   \n",
       " 4482            -2.567592           -0.040937                 NaN    0.000442   \n",
       " \n",
       "       deltaPnL2  gammaPnL2  thetaPnL2     dSpot2  Theta30days2  imp_vol_ratio  \n",
       " 0           NaN        NaN        NaN        NaN    -40.322979       0.936132  \n",
       " 1      0.798880   0.524800  -1.789233   1.600000    -40.257228       0.933360  \n",
       " 2      0.281875   0.061256  -1.802069   0.550000    -40.193957       0.921826  \n",
       " 3     -0.103380   0.008100  -1.805767  -0.200000    -40.237854       0.903017  \n",
       " 4      1.546500   1.822500  -1.814685   3.000000    -39.666319       0.888125  \n",
       " 5      2.227540   5.162150  -5.175986   4.900000    -40.105248       0.918404  \n",
       " 6     -0.273680   0.062769  -1.812315  -0.550000    -40.249670       0.958057  \n",
       " 7     -0.640900   0.354900  -1.816178  -1.300000    -40.299721       0.937890  \n",
       " 8     -0.217035   0.042525  -1.823534  -0.450000    -40.270210       0.948822  \n",
       " 9      0.501795   0.231525  -1.810658   1.050000    -40.157949       0.954217  \n",
       " 10    -0.511140   0.231525  -5.463740  -1.050000    -40.540492       0.958634  \n",
       " 11     0.382400   0.134400  -1.841493   0.800000    -40.447639       0.966928  \n",
       " 12    -0.121225   0.013125  -1.854206  -0.250000    -40.971882       0.963931  \n",
       " 13     0.507255   0.231525  -1.873781   1.050000    -40.457777       0.955138  \n",
       " 14    -0.810975   0.578531  -1.864014  -1.650000    -40.503513       0.941548  \n",
       " 15    -0.477200   0.212500  -5.567753  -1.000000    -40.176324       0.957321  \n",
       " 16    -0.514470   0.263175  -1.841685  -1.100000    -40.553184       0.948142  \n",
       " 17     1.053630   1.150575  -1.844356   2.300000    -40.113226       0.933049  \n",
       " 18     1.745430   2.897644  -1.867014   3.650000    -39.454931       0.901046  \n",
       " 19     0.611520   0.313200  -1.863096   1.200000    -38.988439       0.905410  \n",
       " 20     1.482000   1.786950  -5.542767   2.850000    -38.847587       0.880465  \n",
       " 21    -0.844750   0.528550  -1.855068  -1.550000    -38.923444       0.925865  \n",
       " 22     1.096750   1.437500  -1.769356   2.500000    -38.932252       0.923608  \n",
       " 23    -1.161720   0.959175  -1.862657  -2.100000    -38.846379       0.915050  \n",
       " 24    -6.852030  24.642000  -1.887315 -11.100000    -41.663974       0.957332  \n",
       " 25     1.358420   2.090175  -5.708877   3.100000    -41.092901       0.970069  \n",
       " 26     0.000000   0.000000  -1.924521   0.000000    -40.901204       0.964931  \n",
       " 27     0.602810   0.376025  -1.916726   1.300000    -40.485814       0.954393  \n",
       " 28    -2.165240   3.075669  -2.012288  -3.850000    -42.326306       0.944636  \n",
       " 29     0.318180   0.073800  -2.080356   0.600000    -42.782495       0.939857  \n",
       " ...         ...        ...        ...        ...           ...            ...  \n",
       " 4453   0.147810   0.002700 -10.965384   0.300000   -267.178052       1.027165  \n",
       " 4454 -10.659530  12.362700 -34.515369 -20.299999   -276.361837       1.031114  \n",
       " 4455 -29.692499  78.711873 -12.145260 -53.500000   -290.097517       1.066674  \n",
       " 4456  14.365090  26.598275 -11.921014  31.100000   -279.949799       1.024324  \n",
       " 4457  -0.544500   0.033275 -11.892452  -1.100000   -281.930787       1.022773  \n",
       " 4458 -12.967850  16.506875 -12.281096 -24.500000   -289.165885       1.030066  \n",
       " 4459  19.822950  53.482276 -47.254193  44.099998   -281.484641       1.016856  \n",
       " 4460 -12.355200  15.057901 -12.367877 -23.400000   -282.891951       1.009664  \n",
       " 4461   3.031800   1.153200 -12.086383   6.200000   -279.728599       1.002845  \n",
       " 4462   4.973870   3.182700 -11.892836  10.300000   -277.293140       0.992179  \n",
       " 4463  -3.244160   1.228800 -36.180493  -6.400000   -281.264735       0.987035  \n",
       " 4464  12.212640  19.814700 -11.975137  25.700001   -270.358059       0.965746  \n",
       " 4465   8.703240   9.937200 -11.593439  18.200001   -259.589761       0.954313  \n",
       " 4466  -5.523120   3.790800 -11.472959 -10.800000   -261.306820       0.962367  \n",
       " 4467 -14.694620  22.522800 -11.769973 -27.400000   -265.370587       0.977328  \n",
       " 4468   6.022080   4.916925 -34.674042  12.300000   -256.863502       0.955038  \n",
       " 4469 -17.133520  29.956800 -11.704384 -31.600000   -266.414899       0.981481  \n",
       " 4470  -1.813680   0.388800 -11.851630  -3.600000   -262.390479       0.977748  \n",
       " 4471  -5.163120   3.315325 -11.765589 -10.100000   -267.359526       0.993910  \n",
       " 4472   0.249700   0.007500 -11.924603   0.500000   -268.862314       0.989451  \n",
       " 4473 -26.019730  67.118698 -37.079507 -47.299999   -278.386789       1.029291  \n",
       " 4474   1.037610   0.132300 -12.449575   2.100000   -276.423800       1.020760  \n",
       " 4475  15.639660  35.089201 -11.986425  34.200001   -272.005878       0.992587  \n",
       " 4476   4.041780   2.017200 -12.196534   8.200000   -269.992867       0.976148  \n",
       " 4477  12.264390  22.139326 -11.907699  26.100000   -264.252829       0.967855  \n",
       " 4478  14.530950  32.248124 -34.593001  31.500000   -258.683128       0.943866  \n",
       " 4479  -3.103680   1.209325 -11.870205  -6.100000   -258.917309       0.939325  \n",
       " 4480   9.024000  11.486800 -11.642028  18.799999   -256.306297       0.926085  \n",
       " 4481   9.293700  13.308750 -11.466891  19.500000   -250.071046       0.956923  \n",
       " 4482   0.452070   0.028350 -11.507644   0.900000   -249.617198       0.954730  \n",
       " \n",
       " [4483 rows x 252 columns]}"
      ]
     },
     "execution_count": 1,
     "metadata": {},
     "output_type": "execute_result"
    }
   ],
   "source": [
    "import signals.option_signals as ops\n",
    "ops.get_vcs_signals(ticker1='ESM2016',ticker2='ESU2016',settle_date=20160322)\n"
   ]
  },
  {
   "cell_type": "code",
   "execution_count": 1,
   "metadata": {
    "collapsed": false
   },
   "outputs": [
    {
     "ename": "TypeError",
     "evalue": "string indices must be integers",
     "output_type": "error",
     "traceback": [
      "\u001b[1;31m---------------------------------------------------------------------------\u001b[0m",
      "\u001b[1;31mTypeError\u001b[0m                                 Traceback (most recent call last)",
      "\u001b[1;32m<ipython-input-1-61bc8931d529>\u001b[0m in \u001b[0;36m<module>\u001b[1;34m()\u001b[0m\n\u001b[0;32m      1\u001b[0m \u001b[1;32mimport\u001b[0m \u001b[0mfutures_charts\u001b[0m\u001b[1;33m.\u001b[0m\u001b[0moptions_curve\u001b[0m \u001b[1;32mas\u001b[0m \u001b[0moc\u001b[0m\u001b[1;33m\u001b[0m\u001b[0m\n\u001b[1;32m----> 2\u001b[1;33m \u001b[0moc\u001b[0m\u001b[1;33m.\u001b[0m\u001b[0mget_vcs_panel_plot\u001b[0m\u001b[1;33m(\u001b[0m\u001b[0mticker_list\u001b[0m\u001b[1;33m=\u001b[0m\u001b[1;33m[\u001b[0m\u001b[1;34m'LCQ2016'\u001b[0m\u001b[1;33m,\u001b[0m\u001b[1;34m'LCV2016'\u001b[0m\u001b[1;33m]\u001b[0m\u001b[1;33m,\u001b[0m\u001b[0mreport_date\u001b[0m\u001b[1;33m=\u001b[0m\u001b[1;36m20160322\u001b[0m\u001b[1;33m)\u001b[0m\u001b[1;33m\u001b[0m\u001b[0m\n\u001b[0m",
      "\u001b[1;32mC:\\Research\\PycharmProjects\\futures_charts\\options_curve.py\u001b[0m in \u001b[0;36mget_vcs_panel_plot\u001b[1;34m(**kwargs)\u001b[0m\n\u001b[0;32m     24\u001b[0m \u001b[1;33m\u001b[0m\u001b[0m\n\u001b[0;32m     25\u001b[0m     x_tick_values = [cmi.letter_month_string[hist['TickerMonth1'].values[x]-1]+\n\u001b[1;32m---> 26\u001b[1;33m                      str(front_contract_year.values[x]) for x in new_index if contract_change_indx[x]]\n\u001b[0m\u001b[0;32m     27\u001b[0m \u001b[1;33m\u001b[0m\u001b[0m\n\u001b[0;32m     28\u001b[0m     \u001b[0mplt\u001b[0m\u001b[1;33m.\u001b[0m\u001b[0mfigure\u001b[0m\u001b[1;33m(\u001b[0m\u001b[0mfigsize\u001b[0m\u001b[1;33m=\u001b[0m\u001b[1;33m(\u001b[0m\u001b[1;36m16\u001b[0m\u001b[1;33m,\u001b[0m \u001b[1;36m7\u001b[0m\u001b[1;33m)\u001b[0m\u001b[1;33m)\u001b[0m\u001b[1;33m\u001b[0m\u001b[0m\n",
      "\u001b[1;32mC:\\Research\\PycharmProjects\\futures_charts\\options_curve.py\u001b[0m in \u001b[0;36m<listcomp>\u001b[1;34m(.0)\u001b[0m\n\u001b[0;32m     24\u001b[0m \u001b[1;33m\u001b[0m\u001b[0m\n\u001b[0;32m     25\u001b[0m     x_tick_values = [cmi.letter_month_string[hist['TickerMonth1'].values[x]-1]+\n\u001b[1;32m---> 26\u001b[1;33m                      str(front_contract_year.values[x]) for x in new_index if contract_change_indx[x]]\n\u001b[0m\u001b[0;32m     27\u001b[0m \u001b[1;33m\u001b[0m\u001b[0m\n\u001b[0;32m     28\u001b[0m     \u001b[0mplt\u001b[0m\u001b[1;33m.\u001b[0m\u001b[0mfigure\u001b[0m\u001b[1;33m(\u001b[0m\u001b[0mfigsize\u001b[0m\u001b[1;33m=\u001b[0m\u001b[1;33m(\u001b[0m\u001b[1;36m16\u001b[0m\u001b[1;33m,\u001b[0m \u001b[1;36m7\u001b[0m\u001b[1;33m)\u001b[0m\u001b[1;33m)\u001b[0m\u001b[1;33m\u001b[0m\u001b[0m\n",
      "\u001b[1;31mTypeError\u001b[0m: string indices must be integers"
     ]
    }
   ],
   "source": [
    "import futures_charts.options_curve as oc\n",
    "oc.get_vcs_panel_plot(ticker_list=['LCQ2016','LCV2016'],report_date=20160322)"
   ]
  },
  {
   "cell_type": "code",
   "execution_count": 2,
   "metadata": {
    "collapsed": false
   },
   "outputs": [],
   "source": [
    "import matplotlib.pyplot as plt\n",
    "plt.plot(imp_vol_ratio)\n",
    "plt.grid()         \n",
    "         \n",
    "plt.show()"
   ]
  },
  {
   "cell_type": "code",
   "execution_count": null,
   "metadata": {
    "collapsed": true
   },
   "outputs": [],
   "source": []
  },
  {
   "cell_type": "code",
   "execution_count": null,
   "metadata": {
    "collapsed": false
   },
   "outputs": [],
   "source": [
    "import opportunity_constructs.utilities as ocu\n",
    "aligned_output = ocu.get_aligned_futures_data(contract_list=['NGU2016','NGX2016','NGF2017'],aggregation_method=12,contracts_back=10,date_to=20160218)\n",
    "#aligned_output = ocu.get_aligned_futures_data(contract_list=['HOV2007','HOX2007'],aggregation_method=12,contracts_back=10,date_to=20070420)\n",
    "aligned_data = aligned_output['aligned_data']\n",
    "bf_price = aligned_data['c1']['close_price']+aligned_data['c3']['close_price']-2*aligned_data['c2']['close_price']\n",
    "#bf_price = aligned_data['c1']['close_price']-aligned_data['c2']['close_price']\n",
    "#bf_price_recent = bf_price[1:]\n",
    "#aligned_data_recent = aligned_data[1:]\n",
    "import matplotlib.pyplot as plt\n",
    "plt.plot(bf_price)\n",
    "plt.grid()         \n",
    "         \n",
    "plt.show()"
   ]
  },
  {
   "cell_type": "code",
   "execution_count": 1,
   "metadata": {
    "collapsed": false
   },
   "outputs": [
    {
     "data": {
      "text/html": [
       "<div>\n",
       "<table border=\"1\" class=\"dataframe\">\n",
       "  <thead>\n",
       "    <tr style=\"text-align: right;\">\n",
       "      <th></th>\n",
       "      <th>asset_type</th>\n",
       "      <th>maturity_string</th>\n",
       "      <th>option_type</th>\n",
       "      <th>ticker_head</th>\n",
       "      <th>ticker_year</th>\n",
       "      <th>ticker_month</th>\n",
       "      <th>ticker</th>\n",
       "    </tr>\n",
       "  </thead>\n",
       "  <tbody>\n",
       "  </tbody>\n",
       "</table>\n",
       "</div>"
      ],
      "text/plain": [
       "Empty DataFrame\n",
       "Columns: [asset_type, maturity_string, option_type, ticker_head, ticker_year, ticker_month, ticker]\n",
       "Index: []"
      ]
     },
     "execution_count": 1,
     "metadata": {},
     "output_type": "execute_result"
    }
   ],
   "source": [
    "import read_exchange_files.process_cme_options as pco\n",
    "selected_frame = pco.process_cme_options_4ticker(ticker='CDF2017',report_date=20160303)\n",
    "ticker='ECF2017'\n",
    "#selected_frame[(selected_frame['ticker'] == ticker)&(selected_frame['option_type'] == 'C')]\n",
    "selected_frame"
   ]
  },
  {
   "cell_type": "code",
   "execution_count": 5,
   "metadata": {
    "collapsed": false
   },
   "outputs": [
    {
     "data": {
      "text/plain": [
       "'C:\\\\Research/data/options_data_raw/2016/201602/20160226/commodity_formatted_.pkl'"
      ]
     },
     "execution_count": 5,
     "metadata": {},
     "output_type": "execute_result"
    }
   ],
   "source": [
    "import os.path\n",
    "import shared.directory_names as dn\n",
    "options_data_dir = dn.get_dated_directory_extension(folder_date=20160226, ext='raw_options_data')\n",
    "options_data_dir\n",
    "file_name='commodity'\n",
    "\n",
    "os.path.isfile(options_data_dir + '/' + file_name + '_formatted_.pkl')\n",
    "\n",
    "options_data_dir + '/' + file_name + '_formatted_.pkl'"
   ]
  },
  {
   "cell_type": "code",
   "execution_count": 6,
   "metadata": {
    "collapsed": false
   },
   "outputs": [
    {
     "data": {
      "text/plain": [
       "9.0283617430215042"
      ]
     },
     "execution_count": 6,
     "metadata": {},
     "output_type": "execute_result"
    }
   ],
   "source": [
    "import signals.imp_vol as siv\n",
    "skew_output = siv.calc_delta_vol_4ticker(ticker='ECK2016',settle_date=20160318,delta=0.5)\n",
    "\n",
    "skew_output\n"
   ]
  },
  {
   "cell_type": "code",
   "execution_count": 3,
   "metadata": {
    "collapsed": true
   },
   "outputs": [],
   "source": [
    "import matplotlib.pyplot as plt\n",
    "plt.scatter(skew_output['delta'],skew_output['imp_vol'])\n",
    "plt.grid()         \n",
    "         \n",
    "plt.show()"
   ]
  },
  {
   "cell_type": "code",
   "execution_count": 8,
   "metadata": {
    "collapsed": false
   },
   "outputs": [
    {
     "name": "stdout",
     "output_type": "stream",
     "text": [
      "Wall time: 0 ns\n",
      "Wall time: 29 ms\n",
      "0.15950071090498857\n",
      "0.15952697795216259\n"
     ]
    }
   ],
   "source": [
    "from scipy.interpolate import interp1d\n",
    "\n",
    "%time f = interp1d(skew_output['delta'],skew_output['imp_vol'])\n",
    "%time f2 = interp1d(skew_output['delta'],skew_output['imp_vol'],kind='cubic')\n",
    "print(f(0.5))\n",
    "print(f2(0.5))\n",
    "\n",
    "#skew_output['imp_vol']"
   ]
  },
  {
   "cell_type": "code",
   "execution_count": 20,
   "metadata": {
    "collapsed": false
   },
   "outputs": [
    {
     "data": {
      "text/html": [
       "<div>\n",
       "<table border=\"1\" class=\"dataframe\">\n",
       "  <thead>\n",
       "    <tr style=\"text-align: right;\">\n",
       "      <th></th>\n",
       "      <th>ticker1</th>\n",
       "      <th>ticker2</th>\n",
       "      <th>tickerHead</th>\n",
       "      <th>front_tr_dte</th>\n",
       "      <th>carry</th>\n",
       "      <th>q_carry</th>\n",
       "      <th>reward_risk</th>\n",
       "      <th>price</th>\n",
       "      <th>q</th>\n",
       "      <th>upside</th>\n",
       "      <th>downside</th>\n",
       "      <th>change5</th>\n",
       "      <th>change10</th>\n",
       "      <th>change20</th>\n",
       "    </tr>\n",
       "  </thead>\n",
       "  <tbody>\n",
       "    <tr>\n",
       "      <th>0</th>\n",
       "      <td>CK2016</td>\n",
       "      <td>CN2016</td>\n",
       "      <td>C</td>\n",
       "      <td>36</td>\n",
       "      <td>NaN</td>\n",
       "      <td>NaN</td>\n",
       "      <td>NaN</td>\n",
       "      <td>-4.75</td>\n",
       "      <td>65</td>\n",
       "      <td>532.81</td>\n",
       "      <td>-184.38</td>\n",
       "      <td>NaN</td>\n",
       "      <td>NaN</td>\n",
       "      <td>NaN</td>\n",
       "    </tr>\n",
       "    <tr>\n",
       "      <th>1</th>\n",
       "      <td>CN2016</td>\n",
       "      <td>CU2016</td>\n",
       "      <td>C</td>\n",
       "      <td>78</td>\n",
       "      <td>-12.5</td>\n",
       "      <td>13</td>\n",
       "      <td>0.00</td>\n",
       "      <td>-4.50</td>\n",
       "      <td>52</td>\n",
       "      <td>704.69</td>\n",
       "      <td>-914.06</td>\n",
       "      <td>NaN</td>\n",
       "      <td>NaN</td>\n",
       "      <td>NaN</td>\n",
       "    </tr>\n",
       "    <tr>\n",
       "      <th>2</th>\n",
       "      <td>CU2016</td>\n",
       "      <td>CZ2016</td>\n",
       "      <td>C</td>\n",
       "      <td>121</td>\n",
       "      <td>187.5</td>\n",
       "      <td>10</td>\n",
       "      <td>0.05</td>\n",
       "      <td>-8.25</td>\n",
       "      <td>42</td>\n",
       "      <td>393.75</td>\n",
       "      <td>-462.50</td>\n",
       "      <td>NaN</td>\n",
       "      <td>NaN</td>\n",
       "      <td>NaN</td>\n",
       "    </tr>\n",
       "    <tr>\n",
       "      <th>3</th>\n",
       "      <td>CZ2016</td>\n",
       "      <td>CH2017</td>\n",
       "      <td>C</td>\n",
       "      <td>185</td>\n",
       "      <td>12.5</td>\n",
       "      <td>-12</td>\n",
       "      <td>0.01</td>\n",
       "      <td>-8.50</td>\n",
       "      <td>54</td>\n",
       "      <td>81.25</td>\n",
       "      <td>-87.50</td>\n",
       "      <td>NaN</td>\n",
       "      <td>NaN</td>\n",
       "      <td>NaN</td>\n",
       "    </tr>\n",
       "    <tr>\n",
       "      <th>4</th>\n",
       "      <td>CH2017</td>\n",
       "      <td>CK2017</td>\n",
       "      <td>C</td>\n",
       "      <td>245</td>\n",
       "      <td>-200.0</td>\n",
       "      <td>-22</td>\n",
       "      <td>-0.34</td>\n",
       "      <td>-4.50</td>\n",
       "      <td>76</td>\n",
       "      <td>48.44</td>\n",
       "      <td>-56.25</td>\n",
       "      <td>NaN</td>\n",
       "      <td>NaN</td>\n",
       "      <td>NaN</td>\n",
       "    </tr>\n",
       "  </tbody>\n",
       "</table>\n",
       "</div>"
      ],
      "text/plain": [
       "  ticker1 ticker2 tickerHead  front_tr_dte  carry  q_carry  reward_risk  \\\n",
       "0  CK2016  CN2016          C            36    NaN      NaN          NaN   \n",
       "1  CN2016  CU2016          C            78  -12.5       13         0.00   \n",
       "2  CU2016  CZ2016          C           121  187.5       10         0.05   \n",
       "3  CZ2016  CH2017          C           185   12.5      -12         0.01   \n",
       "4  CH2017  CK2017          C           245 -200.0      -22        -0.34   \n",
       "\n",
       "   price   q  upside  downside  change5  change10  change20  \n",
       "0  -4.75  65  532.81   -184.38      NaN       NaN       NaN  \n",
       "1  -4.50  52  704.69   -914.06      NaN       NaN       NaN  \n",
       "2  -8.25  42  393.75   -462.50      NaN       NaN       NaN  \n",
       "3  -8.50  54   81.25    -87.50      NaN       NaN       NaN  \n",
       "4  -4.50  76   48.44    -56.25      NaN       NaN       NaN  "
      ]
     },
     "execution_count": 20,
     "metadata": {},
     "output_type": "execute_result"
    }
   ],
   "source": [
    "import opportunity_constructs.spread_carry as sc\n",
    "\n",
    "spread_carry_output = sc.generate_spread_carry_sheet_4date(report_date=20160323)\n",
    "spread_report = spread_carry_output['spread_report']\n",
    "ticker_head_list = list(spread_report['tickerHead'].unique())\n",
    "# Compare BO and S sizing\n",
    "\n",
    "spread_report[spread_report['tickerHead']==ticker_head_list[19]]\n",
    "#spread_report[spread_report['tickerHead']=='CC']"
   ]
  },
  {
   "cell_type": "code",
   "execution_count": 26,
   "metadata": {
    "collapsed": false
   },
   "outputs": [],
   "source": [
    "from openpyxl import Workbook\n",
    "wb=Workbook()\n",
    "ws=wb.active\n",
    "ws['A1']='=CMED.MD(1|G|XCME:F:ES:201606,\"LastTradePrice\")'\n",
    "\n",
    "ws['A1'].value\n",
    "wb.save(\"formula.xlsx\")"
   ]
  },
  {
   "cell_type": "code",
   "execution_count": 23,
   "metadata": {
    "collapsed": false
   },
   "outputs": [
    {
     "data": {
      "text/plain": [
       "set()"
      ]
     },
     "execution_count": 23,
     "metadata": {},
     "output_type": "execute_result"
    }
   ],
   "source": [
    "ticker_head_list = ['ED', 'C', 'S', 'SM', 'BO', 'W', 'KW', 'LC', 'LN', 'FC',\n",
    "                        'ES', 'NQ', 'AD', 'CD', 'EC', 'JY', 'BP',\n",
    "                        'FV', 'TU', 'TY', 'US', 'GC', 'SI', 'CL', 'NG', 'HO', 'RB']\n",
    "\n",
    "import contract_utilities.contract_meta_info as cmi\n",
    "new_list = cmi.cme_futures_tickerhead_list\n",
    "\n",
    "set(ticker_head_list)-set(new_list)"
   ]
  },
  {
   "cell_type": "code",
   "execution_count": null,
   "metadata": {
    "collapsed": false
   },
   "outputs": [],
   "source": [
    "import read_exchange_files.process_cme_futures as pcf\n",
    "import read_exchange_files.read_cme_files as rcf\n",
    "cme_output = pcf.process_cme_futures_4tickerhead(ticker_head='RB', report_date=20160225)\n",
    "#data_read_out = rcf.read_cme_future_settle_csv_files(file_name='nymex_futures', report_date=20160224)\n",
    "#title_frame = data_read_out['title_frame']\n",
    "#title_frame\n",
    "#title_frame[title_frame['ticker_head']=='LN']\n",
    "\n",
    "#data_read_out[data_read_out['ticker_head']=='CL']\n",
    "\n",
    "#data_read_out['month_strike_list'][68]\n",
    "cme_output['settle_frame']"
   ]
  },
  {
   "cell_type": "code",
   "execution_count": null,
   "metadata": {
    "collapsed": false
   },
   "outputs": [],
   "source": [
    "import get_price.get_futures_price as gfp\n",
    "import shared.calendar_utilities as cu\n",
    "import contract_utilities.expiration as exp\n",
    "price_frame = gfp.get_futures_price_preloaded(ticker_head='ED',settle_date=20160225)\n",
    "price_frame.sort('tr_dte',ascending=True,inplace=True)\n",
    "\n",
    "\n",
    "exp_date = 20170225\n",
    "\n",
    "\n",
    "exp_datetime = cu.convert_doubledate_2datetime(exp_date)\n",
    "\n",
    "price_frame['exp_date'] = [exp.get_futures_expiration(x) for x in price_frame['ticker']]\n",
    "price_frame = price_frame[price_frame['exp_date']<exp_datetime]\n",
    "\n",
    "price_frame['implied_rate'] = 100-price_frame['close_price']\n",
    "\n",
    "price_frame[['implied_rate','exp_date','cal_dte']]\n"
   ]
  },
  {
   "cell_type": "code",
   "execution_count": null,
   "metadata": {
    "collapsed": false
   },
   "outputs": [],
   "source": [
    "[1+(price_frame['implied_rate'].iloc[x]*(price_frame['cal_dte'].iloc[x+1]-price_frame['cal_dte'].iloc[x])/36500) for x in range(len(price_frame.index)-1)]\n",
    "\n",
    "1+(price_frame['implied_rate'].iloc[0]*price_frame['cal_dte'].iloc[0]/365000)\n",
    "\n",
    "\n",
    "1+((price_frame['implied_rate'].iloc[-1]*((exp_datetime-price_frame['exp_date'].iloc[-1].to_datetime()).days))/365000)\n"
   ]
  },
  {
   "cell_type": "code",
   "execution_count": 6,
   "metadata": {
    "collapsed": false
   },
   "outputs": [
    {
     "name": "stdout",
     "output_type": "stream",
     "text": [
      "0.00648406165771\n"
     ]
    },
    {
     "data": {
      "text/html": [
       "<div>\n",
       "<table border=\"1\" class=\"dataframe\">\n",
       "  <thead>\n",
       "    <tr style=\"text-align: right;\">\n",
       "      <th></th>\n",
       "      <th>ticker</th>\n",
       "      <th>cal_dte</th>\n",
       "      <th>exp_date</th>\n",
       "      <th>implied_rate</th>\n",
       "    </tr>\n",
       "  </thead>\n",
       "  <tbody>\n",
       "    <tr>\n",
       "      <th>126</th>\n",
       "      <td>EDG2016</td>\n",
       "      <td>-1</td>\n",
       "      <td>2016-02-15</td>\n",
       "      <td>0.6182</td>\n",
       "    </tr>\n",
       "    <tr>\n",
       "      <th>2500</th>\n",
       "      <td>EDH2016</td>\n",
       "      <td>27</td>\n",
       "      <td>2016-03-14</td>\n",
       "      <td>0.6375</td>\n",
       "    </tr>\n",
       "    <tr>\n",
       "      <th>82</th>\n",
       "      <td>EDJ2016</td>\n",
       "      <td>62</td>\n",
       "      <td>2016-04-18</td>\n",
       "      <td>0.6550</td>\n",
       "    </tr>\n",
       "    <tr>\n",
       "      <th>61</th>\n",
       "      <td>EDK2016</td>\n",
       "      <td>90</td>\n",
       "      <td>2016-05-16</td>\n",
       "      <td>0.6600</td>\n",
       "    </tr>\n",
       "    <tr>\n",
       "      <th>2432</th>\n",
       "      <td>EDM2016</td>\n",
       "      <td>118</td>\n",
       "      <td>2016-06-13</td>\n",
       "      <td>0.6650</td>\n",
       "    </tr>\n",
       "    <tr>\n",
       "      <th>20</th>\n",
       "      <td>EDN2016</td>\n",
       "      <td>153</td>\n",
       "      <td>2016-07-18</td>\n",
       "      <td>0.6750</td>\n",
       "    </tr>\n",
       "    <tr>\n",
       "      <th>1</th>\n",
       "      <td>EDQ2016</td>\n",
       "      <td>181</td>\n",
       "      <td>2016-08-15</td>\n",
       "      <td>0.6850</td>\n",
       "    </tr>\n",
       "    <tr>\n",
       "      <th>2369</th>\n",
       "      <td>EDU2016</td>\n",
       "      <td>216</td>\n",
       "      <td>2016-09-19</td>\n",
       "      <td>0.7000</td>\n",
       "    </tr>\n",
       "    <tr>\n",
       "      <th>2305</th>\n",
       "      <td>EDZ2016</td>\n",
       "      <td>307</td>\n",
       "      <td>2016-12-19</td>\n",
       "      <td>0.7500</td>\n",
       "    </tr>\n",
       "    <tr>\n",
       "      <th>2244</th>\n",
       "      <td>EDH2017</td>\n",
       "      <td>391</td>\n",
       "      <td>2017-03-13</td>\n",
       "      <td>0.7950</td>\n",
       "    </tr>\n",
       "    <tr>\n",
       "      <th>2178</th>\n",
       "      <td>EDM2017</td>\n",
       "      <td>489</td>\n",
       "      <td>2017-06-19</td>\n",
       "      <td>0.8500</td>\n",
       "    </tr>\n",
       "    <tr>\n",
       "      <th>2109</th>\n",
       "      <td>EDU2017</td>\n",
       "      <td>580</td>\n",
       "      <td>2017-09-18</td>\n",
       "      <td>0.9100</td>\n",
       "    </tr>\n",
       "    <tr>\n",
       "      <th>2054</th>\n",
       "      <td>EDZ2017</td>\n",
       "      <td>671</td>\n",
       "      <td>2017-12-18</td>\n",
       "      <td>0.9850</td>\n",
       "    </tr>\n",
       "    <tr>\n",
       "      <th>1984</th>\n",
       "      <td>EDH2018</td>\n",
       "      <td>762</td>\n",
       "      <td>2018-03-19</td>\n",
       "      <td>1.0550</td>\n",
       "    </tr>\n",
       "    <tr>\n",
       "      <th>1920</th>\n",
       "      <td>EDM2018</td>\n",
       "      <td>853</td>\n",
       "      <td>2018-06-18</td>\n",
       "      <td>1.1300</td>\n",
       "    </tr>\n",
       "    <tr>\n",
       "      <th>1856</th>\n",
       "      <td>EDU2018</td>\n",
       "      <td>944</td>\n",
       "      <td>2018-09-17</td>\n",
       "      <td>1.2050</td>\n",
       "    </tr>\n",
       "    <tr>\n",
       "      <th>1792</th>\n",
       "      <td>EDZ2018</td>\n",
       "      <td>1035</td>\n",
       "      <td>2018-12-17</td>\n",
       "      <td>1.2900</td>\n",
       "    </tr>\n",
       "    <tr>\n",
       "      <th>1731</th>\n",
       "      <td>EDH2019</td>\n",
       "      <td>1126</td>\n",
       "      <td>2019-03-18</td>\n",
       "      <td>1.3600</td>\n",
       "    </tr>\n",
       "    <tr>\n",
       "      <th>1668</th>\n",
       "      <td>EDM2019</td>\n",
       "      <td>1217</td>\n",
       "      <td>2019-06-17</td>\n",
       "      <td>1.4400</td>\n",
       "    </tr>\n",
       "    <tr>\n",
       "      <th>1604</th>\n",
       "      <td>EDU2019</td>\n",
       "      <td>1308</td>\n",
       "      <td>2019-09-16</td>\n",
       "      <td>1.5150</td>\n",
       "    </tr>\n",
       "    <tr>\n",
       "      <th>1540</th>\n",
       "      <td>EDZ2019</td>\n",
       "      <td>1399</td>\n",
       "      <td>2019-12-16</td>\n",
       "      <td>1.5950</td>\n",
       "    </tr>\n",
       "  </tbody>\n",
       "</table>\n",
       "</div>"
      ],
      "text/plain": [
       "       ticker  cal_dte   exp_date  implied_rate\n",
       "126   EDG2016       -1 2016-02-15        0.6182\n",
       "2500  EDH2016       27 2016-03-14        0.6375\n",
       "82    EDJ2016       62 2016-04-18        0.6550\n",
       "61    EDK2016       90 2016-05-16        0.6600\n",
       "2432  EDM2016      118 2016-06-13        0.6650\n",
       "20    EDN2016      153 2016-07-18        0.6750\n",
       "1     EDQ2016      181 2016-08-15        0.6850\n",
       "2369  EDU2016      216 2016-09-19        0.7000\n",
       "2305  EDZ2016      307 2016-12-19        0.7500\n",
       "2244  EDH2017      391 2017-03-13        0.7950\n",
       "2178  EDM2017      489 2017-06-19        0.8500\n",
       "2109  EDU2017      580 2017-09-18        0.9100\n",
       "2054  EDZ2017      671 2017-12-18        0.9850\n",
       "1984  EDH2018      762 2018-03-19        1.0550\n",
       "1920  EDM2018      853 2018-06-18        1.1300\n",
       "1856  EDU2018      944 2018-09-17        1.2050\n",
       "1792  EDZ2018     1035 2018-12-17        1.2900\n",
       "1731  EDH2019     1126 2019-03-18        1.3600\n",
       "1668  EDM2019     1217 2019-06-17        1.4400\n",
       "1604  EDU2019     1308 2019-09-16        1.5150\n",
       "1540  EDZ2019     1399 2019-12-16        1.5950"
      ]
     },
     "execution_count": 6,
     "metadata": {},
     "output_type": "execute_result"
    }
   ],
   "source": [
    "import interest_curve.get_rate_from_stir as grfs\n",
    "wuhu = grfs.get_simple_rate(as_of_date=20160216,date_to=20160718)\n",
    "\n",
    "print(wuhu['rate_output'])\n",
    "\n",
    "wuhu['price_frame']\n",
    "\n"
   ]
  },
  {
   "cell_type": "code",
   "execution_count": 3,
   "metadata": {
    "collapsed": false
   },
   "outputs": [
    {
     "ename": "KeyError",
     "evalue": "'middle_discount'",
     "output_type": "error",
     "traceback": [
      "\u001b[1;31m---------------------------------------------------------------------------\u001b[0m",
      "\u001b[1;31mKeyError\u001b[0m                                  Traceback (most recent call last)",
      "\u001b[1;32m<ipython-input-3-30f7a0ee3fd8>\u001b[0m in \u001b[0;36m<module>\u001b[1;34m()\u001b[0m\n\u001b[0;32m      1\u001b[0m \u001b[1;32mimport\u001b[0m \u001b[0mnumpy\u001b[0m \u001b[1;32mas\u001b[0m \u001b[0mnp\u001b[0m\u001b[1;33m\u001b[0m\u001b[0m\n\u001b[1;32m----> 2\u001b[1;33m \u001b[0mprint\u001b[0m\u001b[1;33m(\u001b[0m\u001b[0mwuhu\u001b[0m\u001b[1;33m[\u001b[0m\u001b[1;34m'middle_discount'\u001b[0m\u001b[1;33m]\u001b[0m\u001b[1;33m)\u001b[0m\u001b[1;33m\u001b[0m\u001b[0m\n\u001b[0m\u001b[0;32m      3\u001b[0m \u001b[1;33m\u001b[0m\u001b[0m\n\u001b[0;32m      4\u001b[0m \u001b[0mprint\u001b[0m\u001b[1;33m(\u001b[0m\u001b[0mwuhu\u001b[0m\u001b[1;33m[\u001b[0m\u001b[1;34m'total_discount'\u001b[0m\u001b[1;33m]\u001b[0m\u001b[1;33m)\u001b[0m\u001b[1;33m\u001b[0m\u001b[0m\n\u001b[0;32m      5\u001b[0m \u001b[1;33m\u001b[0m\u001b[0m\n",
      "\u001b[1;31mKeyError\u001b[0m: 'middle_discount'"
     ]
    }
   ],
   "source": [
    "import numpy as np\n",
    "print(wuhu['middle_discount'])\n",
    "\n",
    "print(wuhu['total_discount'])\n",
    "\n",
    "print(wuhu['first_rate'])\n",
    "print(wuhu['first_period'])\n",
    "\n",
    "print(wuhu['last_rate'])\n",
    "print(wuhu['last_period'])\n",
    "\n",
    "print(wuhu['total_period'])\n",
    "\n",
    "print(np.prod(np.array(wuhu['middle_discount'])))\n",
    "\n",
    "\n",
    "print((1+(wuhu['first_rate']*wuhu['first_period']/36500)))\n",
    "print((1+(wuhu['last_rate']*wuhu['last_period']/36500)))\n",
    "\n",
    "\n",
    "print((1+(wuhu['first_rate']*wuhu['first_period']/36500))*\n",
    "      (1+(wuhu['last_rate']*wuhu['last_period']/36500))*\n",
    "     np.prod(np.array(wuhu['middle_discount'])))"
   ]
  },
  {
   "cell_type": "code",
   "execution_count": 1,
   "metadata": {
    "collapsed": false
   },
   "outputs": [],
   "source": [
    "import get_price.presave_price as pp\n",
    "pp.generate_and_update_futures_data_files(ticker_head_list='cme_futures')\n",
    "#data_out = pp.generate_and_update_futures_data_file_4tickerhead(ticker_head='B')\n",
    "#data_out[data_out['ticker']=='BZ2016']"
   ]
  },
  {
   "cell_type": "code",
   "execution_count": null,
   "metadata": {
    "collapsed": false
   },
   "outputs": [],
   "source": [
    "\n",
    "import contract_utilities.expiration as exp\n",
    "report_date = exp.doubledate_shift_bus_days()\n",
    "import futures_charts.futures_curve as fc\n",
    "bf_signals_output = fc.get_butterfly_scatter_plot(report_date=report_date,id=195)"
   ]
  },
  {
   "cell_type": "code",
   "execution_count": null,
   "metadata": {
    "collapsed": false
   },
   "outputs": [],
   "source": [
    "aligned_output = bf_signals_output['aligned_output']\n",
    "aligned_data = aligned_output['aligned_data']\n",
    "bf_price = aligned_data['c1']['close_price']+aligned_data['c3']['close_price']-2*aligned_data['c2']['close_price']"
   ]
  },
  {
   "cell_type": "code",
   "execution_count": null,
   "metadata": {
    "collapsed": false
   },
   "outputs": [],
   "source": [
    "import matplotlib.pyplot as plt\n",
    "plt.plot(bf_price)\n",
    "plt.grid()         \n",
    "         \n",
    "plt.show()"
   ]
  },
  {
   "cell_type": "code",
   "execution_count": null,
   "metadata": {
    "collapsed": false
   },
   "outputs": [],
   "source": [
    "bad_data = aligned_data[bf_price<-0.004]   #<-0.03\n",
    "bad_data\n",
    "\n",
    "# HOV2007,HOX2007, HOZ2007 20070213 to 20070413"
   ]
  },
  {
   "cell_type": "code",
   "execution_count": null,
   "metadata": {
    "collapsed": false
   },
   "outputs": [],
   "source": [
    "aligned_data.iloc[1047]"
   ]
  },
  {
   "cell_type": "code",
   "execution_count": null,
   "metadata": {
    "collapsed": false
   },
   "outputs": [],
   "source": [
    "import shared.directory_names as dn\n",
    "options_data_dir = dn.get_dated_directory_extension(folder_date=20160208,ext='comex_options_csv_address')\n",
    "options_data_dir"
   ]
  },
  {
   "cell_type": "code",
   "execution_count": null,
   "metadata": {
    "collapsed": false
   },
   "outputs": [],
   "source": [
    "import contract_utilities.expiration as exp\n",
    "report_date = exp.doubledate_shift_bus_days()\n",
    "report_date"
   ]
  },
  {
   "cell_type": "code",
   "execution_count": null,
   "metadata": {
    "collapsed": false
   },
   "outputs": [],
   "source": [
    "import scheduled_jobs.options_data_load_job as odlj\n",
    "import shared.downloads as sd\n",
    "sd.download_csv_from_web(web_address=odlj.comex_options_csv_address)\n"
   ]
  },
  {
   "cell_type": "code",
   "execution_count": null,
   "metadata": {
    "collapsed": false
   },
   "outputs": [],
   "source": [
    "import scheduled_jobs.options_data_load_job"
   ]
  },
  {
   "cell_type": "code",
   "execution_count": null,
   "metadata": {
    "collapsed": false
   },
   "outputs": [],
   "source": [
    "with open(r'C:\\Research\\data\\options_data_raw\\2016\\201602\\20160208\\interest_rate.pkl','rb') as handle:\n",
    "    wuhu = pickle.load(handle)"
   ]
  },
  {
   "cell_type": "code",
   "execution_count": null,
   "metadata": {
    "collapsed": false
   },
   "outputs": [],
   "source": [
    "scatter_matrix = np.zeros((3,3))\n",
    "\n",
    "for i in range(all_samples.shape[1]):\n",
    "    scatter_matrix +=(all_samples[:,i].reshape(3,1)).dot(\n",
    "    (all_samples[:,i].reshape(3,1)-mean_vector).T)\n",
    "print('Scatter Matrix\\n',scatter_matrix)    "
   ]
  },
  {
   "cell_type": "code",
   "execution_count": null,
   "metadata": {
    "collapsed": false
   },
   "outputs": [],
   "source": [
    "cov_mat = np.cov([all_samples[0,:], all_samples[1,:],all_samples[2,:]])\n",
    "print('Covariance Matrix:\\n', cov_mat)"
   ]
  },
  {
   "cell_type": "code",
   "execution_count": null,
   "metadata": {
    "collapsed": false
   },
   "outputs": [],
   "source": [
    "for i in range(len(eig_val_sc)):\n",
    "    eigv = eig_vec_sc[:,i].reshape(1,3).T\n",
    "    np.testing.assert_array_almost_equal(scatter_matrix.dot(eigv),\n",
    "                                         eig_val_sc[i] * eigv,\n",
    "                                         decimal=6, err_msg='', verbose=True)"
   ]
  },
  {
   "cell_type": "code",
   "execution_count": null,
   "metadata": {
    "collapsed": false
   },
   "outputs": [],
   "source": [
    "transformed = matrix_w.T.dot(all_samples)\n",
    "assert transformed.shape == (2,40), \"The matrix is not 2x40 dimensional.\"\n",
    "transformed\n",
    "matrix_w"
   ]
  },
  {
   "cell_type": "code",
   "execution_count": null,
   "metadata": {
    "collapsed": false
   },
   "outputs": [],
   "source": [
    "import matplotlib.pyplot as plt\n",
    "plt.plot(merged_dataframe.index,(merged_dataframe['BOH2016']['close_price']+merged_dataframe['BON2016']['close_price'])/2-\n",
    "         merged_dataframe['BOK2016']['close_price'])\n",
    "         \n",
    "         \n",
    "plt.show()"
   ]
  },
  {
   "cell_type": "code",
   "execution_count": null,
   "metadata": {
    "collapsed": false
   },
   "outputs": [],
   "source": [
    "(merged_dataframe['BOH2016']['close_price']+merged_dataframe['BON2016']['close_price'])/2-merged_dataframe['BOK2016']['close_price']"
   ]
  },
  {
   "cell_type": "code",
   "execution_count": null,
   "metadata": {
    "collapsed": false
   },
   "outputs": [],
   "source": [
    "\n",
    "\n",
    "import matplotlib.pyplot as plt\n",
    "plt.plot(range(len(aligned_dataframe.index)),aligned_dataframe['c1']['tr_dte'],\n",
    "         range(len(aligned_dataframe.index)),aligned_dataframe['c2']['tr_dte'],\n",
    "         range(len(aligned_dataframe.index)),aligned_dataframe['c3']['tr_dte'])\n",
    "plt.grid()         \n",
    "         \n",
    "plt.show()\n",
    "\n",
    "    \n",
    "\n",
    "    "
   ]
  },
  {
   "cell_type": "code",
   "execution_count": null,
   "metadata": {
    "collapsed": false
   },
   "outputs": [],
   "source": [
    "merged_dataframe['c1']['tr_dte'].isnull().sum()\n",
    "merged_dataframe['c3']['tr_dte'].isnull().sum()"
   ]
  },
  {
   "cell_type": "code",
   "execution_count": null,
   "metadata": {
    "collapsed": false
   },
   "outputs": [],
   "source": [
    "futures_dataframe"
   ]
  },
  {
   "cell_type": "code",
   "execution_count": null,
   "metadata": {
    "collapsed": false
   },
   "outputs": [],
   "source": [
    "print(trDte1)\n",
    "print(trDte2)\n",
    "print(trDte3)"
   ]
  },
  {
   "cell_type": "code",
   "execution_count": null,
   "metadata": {
    "collapsed": false
   },
   "outputs": [],
   "source": [
    "bf_price = (aligned_dataframe['c1']['close_price']+aligned_dataframe['c3']['close_price'])/2-aligned_dataframe['c2']['close_price']"
   ]
  },
  {
   "cell_type": "code",
   "execution_count": null,
   "metadata": {
    "collapsed": false
   },
   "outputs": [],
   "source": [
    "plt.plot(range(len(aligned_dataframe.index)),bf_price)\n",
    "plt.grid()         \n",
    "         \n",
    "plt.show()"
   ]
  },
  {
   "cell_type": "code",
   "execution_count": null,
   "metadata": {
    "collapsed": true
   },
   "outputs": [],
   "source": [
    "import matplotlib.pyplot as plt\n",
    "plt.plot(price_ratio)\n",
    "plt.grid()\n",
    "plt.show()"
   ]
  },
  {
   "cell_type": "code",
   "execution_count": null,
   "metadata": {
    "collapsed": false
   },
   "outputs": [],
   "source": [
    "import numpy as np\n",
    "nan_matrix = np.empty((2,2))\n",
    "nan_matrix[:] = np.NAN\n",
    "nan_matrix"
   ]
  },
  {
   "cell_type": "code",
   "execution_count": null,
   "metadata": {
    "collapsed": true
   },
   "outputs": [],
   "source": []
  }
 ],
 "metadata": {
  "kernelspec": {
   "display_name": "Python 3",
   "language": "python",
   "name": "python3"
  },
  "language_info": {
   "codemirror_mode": {
    "name": "ipython",
    "version": 3
   },
   "file_extension": ".py",
   "mimetype": "text/x-python",
   "name": "python",
   "nbconvert_exporter": "python",
   "pygments_lexer": "ipython3",
   "version": "3.4.3"
  }
 },
 "nbformat": 4,
 "nbformat_minor": 0
}
