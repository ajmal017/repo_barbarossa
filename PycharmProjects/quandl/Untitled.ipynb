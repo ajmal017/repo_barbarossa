{
 "cells": [
  {
   "cell_type": "code",
   "execution_count": null,
   "metadata": {
    "collapsed": false
   },
   "outputs": [],
   "source": [
    "import signals.futures_signals as fs\n",
    "import numpy as np\n",
    "import shared.statistics as stats\n",
    "signals_output = fs.get_futures_butterfly_signals(ticker_list=['CH2016','CK2016', 'CN2016'],date_to=20151231)\n",
    "signals_output"
   ]
  },
  {
   "cell_type": "code",
   "execution_count": null,
   "metadata": {
    "collapsed": false
   },
   "outputs": [],
   "source": [
    "import ta.paper_trades as pt\n",
    "pt.create_paper_strategy_from_strategy_sheet(report_date=20151231,id=7,\n",
    "                                             strategy_class='futures_butterfly',\n",
    "                                             size=10000)\n"
   ]
  },
  {
   "cell_type": "code",
   "execution_count": 1,
   "metadata": {
    "collapsed": false
   },
   "outputs": [
    {
     "data": {
      "text/html": [
       "<div>\n",
       "<table border=\"1\" class=\"dataframe\">\n",
       "  <thead>\n",
       "    <tr style=\"text-align: right;\">\n",
       "      <th></th>\n",
       "      <th>id</th>\n",
       "      <th>ticker</th>\n",
       "      <th>option_type</th>\n",
       "      <th>strike_price</th>\n",
       "      <th>trade_price</th>\n",
       "      <th>trade_quantity</th>\n",
       "      <th>trade_date</th>\n",
       "      <th>instrument</th>\n",
       "      <th>real_tradeQ</th>\n",
       "    </tr>\n",
       "  </thead>\n",
       "  <tbody>\n",
       "    <tr>\n",
       "      <th>0</th>\n",
       "      <td>7</td>\n",
       "      <td>BX2016</td>\n",
       "      <td>None</td>\n",
       "      <td>None</td>\n",
       "      <td>43.78</td>\n",
       "      <td>293</td>\n",
       "      <td>2016-01-02</td>\n",
       "      <td>F</td>\n",
       "      <td>0</td>\n",
       "    </tr>\n",
       "    <tr>\n",
       "      <th>1</th>\n",
       "      <td>8</td>\n",
       "      <td>BZ2016</td>\n",
       "      <td>None</td>\n",
       "      <td>None</td>\n",
       "      <td>44.40</td>\n",
       "      <td>-598</td>\n",
       "      <td>2016-01-02</td>\n",
       "      <td>F</td>\n",
       "      <td>0</td>\n",
       "    </tr>\n",
       "    <tr>\n",
       "      <th>2</th>\n",
       "      <td>9</td>\n",
       "      <td>BF2017</td>\n",
       "      <td>None</td>\n",
       "      <td>None</td>\n",
       "      <td>44.96</td>\n",
       "      <td>305</td>\n",
       "      <td>2016-01-02</td>\n",
       "      <td>F</td>\n",
       "      <td>0</td>\n",
       "    </tr>\n",
       "  </tbody>\n",
       "</table>\n",
       "</div>"
      ],
      "text/plain": [
       "   id  ticker option_type strike_price  trade_price  trade_quantity  \\\n",
       "0   7  BX2016        None         None        43.78             293   \n",
       "1   8  BZ2016        None         None        44.40            -598   \n",
       "2   9  BF2017        None         None        44.96             305   \n",
       "\n",
       "  trade_date instrument  real_tradeQ  \n",
       "0 2016-01-02          F            0  \n",
       "1 2016-01-02          F            0  \n",
       "2 2016-01-02          F            0  "
      ]
     },
     "execution_count": 1,
     "metadata": {},
     "output_type": "execute_result"
    }
   ],
   "source": [
    "import ta.strategy as ts\n",
    "ts.get_trades_4strategy_alias(alias='BX2016Z2016Z2016F2017_2')"
   ]
  },
  {
   "cell_type": "code",
   "execution_count": null,
   "metadata": {
    "collapsed": false
   },
   "outputs": [],
   "source": [
    "import my_sql_routines.my_sql_utilities as msu\n",
    "con = msu.get_my_sql_connection()\n",
    "cur = con.cursor()\n",
    "\n",
    "alias = 'BX2016Z2016Z2016F2017'\n",
    "query_string = 'SELECT id FROM strategy WHERE alias=\\'' + alias + '\\''\n",
    "cur.execute(query_string)\n",
    "data = cur.fetchall()\n",
    "\n",
    "not data"
   ]
  },
  {
   "cell_type": "code",
   "execution_count": null,
   "metadata": {
    "collapsed": false
   },
   "outputs": [],
   "source": [
    "\n",
    "\n",
    "import shared.calendar_utilities as cu\n",
    "\n",
    "\n",
    "num_butterflies = len(butterflies.index)\n",
    "butterfly_pnl = [None]*num_butterflies\n",
    "\n",
    "for contract_no in range(num_butterflies):\n",
    "    date_to_datetime = cu.convert_doubledate_2datetime(date_to)\n",
    "    ticker_head_current = butterflies['tickerHead'][contract_no]\n",
    "    futures_data = futures_data_dictionary[ticker_head_current]\n",
    "    data4_date = futures_data[futures_data['settle_date'] == date_to_datetime]\n",
    "\n",
    "    pnl1 = data4_date['change5'][data4_date['ticker'] == butterflies['ticker1'][contract_no]]\n",
    "    pnl2 = -2*data4_date['change5'][data4_date['ticker'] == butterflies['ticker2'][contract_no]]\n",
    "    pnl3 = data4_date['change5'][data4_date['ticker'] == butterflies['ticker3'][contract_no]]\n",
    "    quantity = round(20000/(abs(butterflies['downside'][contract_no])+abs(butterflies['upside'][contract_no])))\n",
    "\n",
    "    butterfly_pnl[contract_no] = quantity*(pnl1.values[0]+pnl2.values[0]+pnl3.values[0])*butterflies['multiplier'][contract_no]\n",
    "\n",
    "\n",
    "    \n",
    "butterfly_pnl    "
   ]
  },
  {
   "cell_type": "code",
   "execution_count": null,
   "metadata": {
    "collapsed": true
   },
   "outputs": [],
   "source": []
  },
  {
   "cell_type": "code",
   "execution_count": null,
   "metadata": {
    "collapsed": false
   },
   "outputs": [],
   "source": [
    "butterflies['trDte1']"
   ]
  },
  {
   "cell_type": "code",
   "execution_count": null,
   "metadata": {
    "collapsed": false
   },
   "outputs": [],
   "source": [
    "sellpnls = [butterfly_pnl[i] for i in range(num_butterflies) \\\n",
    "            if butterflies['Q'][i]>=85 and butterflies['QF'][i]>=60]\n",
    "buypnls = [butterfly_pnl[i] for i in range(num_butterflies) \\\n",
    "           if butterflies['Q'][i]<=15 and butterflies['QF'][i]<=40]\n",
    "\n",
    "\n",
    "\n",
    "\n",
    "import numpy as np\n",
    "np.nanmean(buypnls)\n",
    "\n",
    "buy_mean_pnl = [0]*len(ticker_head_list)\n",
    "sell_mean_pnl = [0]*len(ticker_head_list)\n",
    "\n",
    "buy_total_pnl = [0]*len(ticker_head_list)\n",
    "sell_total_pnl = [0]*len(ticker_head_list)\n",
    "\n",
    "\n",
    "for i in range(len(ticker_head_list)):\n",
    "    \n",
    "    sellpnls = [butterfly_pnl[j] for j in range(num_butterflies) \\\n",
    "            if butterflies['Q'][j]>=85 and butterflies['QF'][j]>=60 \\\n",
    "                and butterflies['tickerHead'][j]==ticker_head_list[i] \\\n",
    "               and butterflies['trDte1'][j]>=35]\n",
    "    buypnls = [butterfly_pnl[j] for j in range(num_butterflies) \\\n",
    "           if butterflies['Q'][j]<=15 and butterflies['QF'][j]<=40 \\\n",
    "               and butterflies['tickerHead'][j]==ticker_head_list[i] \\\n",
    "               and butterflies['trDte1'][j]>=35]\n",
    "    if len(buypnls)>0:\n",
    "        buy_mean_pnl[i] = np.nanmean(buypnls)\n",
    "        buy_total_pnl[i] = np.nansum(buypnls)\n",
    "    if len(sellpnls)>0:\n",
    "        sell_mean_pnl[i] = -np.nanmean(sellpnls)\n",
    "        sell_total_pnl[i] = -np.nansum(sellpnls)\n",
    "        \n",
    "\n"
   ]
  },
  {
   "cell_type": "code",
   "execution_count": null,
   "metadata": {
    "collapsed": false
   },
   "outputs": [],
   "source": [
    "i=10\n",
    "sellpnls = [butterfly_pnl[j] for j in range(num_butterflies) \\\n",
    "            if butterflies['Q'][j]>=85 and butterflies['QF'][j]>=60 and butterflies['tickerHead'][j]==ticker_head_list[i]]\n",
    "buypnls = [butterfly_pnl[j] for j in range(num_butterflies) \\\n",
    "           if butterflies['Q'][j]<=15 and butterflies['QF'][j]<=40 and butterflies['tickerHead'][j]==ticker_head_list[i]]\n",
    "\n",
    "sellpnls"
   ]
  },
  {
   "cell_type": "code",
   "execution_count": null,
   "metadata": {
    "collapsed": false
   },
   "outputs": [],
   "source": [
    "import pandas as pd\n",
    "pd.DataFrame({'tickerHead': ticker_head_list,\n",
    "              'totalLong': buy_total_pnl,\n",
    "              'totalShort': sell_total_pnl,\n",
    "              'meanLong': buy_mean_pnl,\n",
    "              'meanShort': sell_mean_pnl})\n",
    "\n",
    "sellpnls = [butterfly_pnl[i] for i in range(num_butterflies) \\\n",
    "            if butterflies['Q'][i]>=85 and butterflies['QF'][i]>=60]\n",
    "buypnls = [butterfly_pnl[i] for i in range(num_butterflies) \\\n",
    "           if butterflies['Q'][i]<=15 and butterflies['QF'][i]<=40]\n",
    "print(-np.nansum(sellpnls))\n",
    "print(np.nansum(buypnls))\n",
    "\n",
    "pd.DataFrame({'tickerHead': ticker_head_list,\n",
    "              'totalLong': buy_total_pnl,\n",
    "              'totalShort': sell_total_pnl,\n",
    "              'meanLong': buy_mean_pnl,\n",
    "              'meanShort': sell_mean_pnl})"
   ]
  },
  {
   "cell_type": "code",
   "execution_count": null,
   "metadata": {
    "collapsed": false
   },
   "outputs": [],
   "source": [
    "ticker_head_dictionary['BO'][(ticker_head_dictionary['BO']['tr_dte']<60)&(ticker_head_dictionary['BO']['tr_dte']>50)]"
   ]
  },
  {
   "cell_type": "code",
   "execution_count": null,
   "metadata": {
    "collapsed": false
   },
   "outputs": [],
   "source": [
    "import sys\n",
    "sys.path.append(r'C:\\Users\\kocat_000\\quantFinance\\PycharmProjects')\n",
    "import opportunity_constructs.utilities as ut\n",
    "\n",
    "aligned_output = ut.get_aligned_futures_data({'contract_list': [ticker1, ticker2, ticker3],\n",
    "                            'tr_dte_list': [trDte1, trDte2, trDte3],\n",
    "                             'aggregation_method': agggreation_method,\n",
    "                             'contracts_back': contracts_back,\n",
    "                             'date_to': 20151026})"
   ]
  },
  {
   "cell_type": "code",
   "execution_count": null,
   "metadata": {
    "collapsed": false
   },
   "outputs": [],
   "source": [
    "import sys\n",
    "sys.path.append(r'C:\\Users\\kocat_000\\quantFinance\\PycharmProjects')\n",
    "import get_price.get_futures_price as gfp\n",
    "import get_price.presave_price as psp\n",
    "\n",
    "psp.generate_and_update_futures_data_files()"
   ]
  },
  {
   "cell_type": "code",
   "execution_count": null,
   "metadata": {
    "collapsed": false
   },
   "outputs": [],
   "source": [
    "import pandas as pd\n",
    "wuhu = pd.read_pickle(r'C:\\Users\\kocat_000\\quantFinance\\data\\futures_data\\CL.pkl')\n",
    "wuhu"
   ]
  },
  {
   "cell_type": "code",
   "execution_count": null,
   "metadata": {
    "collapsed": false
   },
   "outputs": [],
   "source": [
    "import numpy as np\n",
    "\n",
    "x = price_ratio_current\n",
    "y = price_ratio\n",
    "\n",
    "import shared.statistics as stats\n",
    "\n",
    "print(stats.get_quantile({'x': price_ratio_current, 'y': price_ratio }))\n",
    "\n",
    "print(stats.get_quantile({'x': price_ratio_current, 'y': price_ratio[-40:]}))\n",
    "\n",
    "\n"
   ]
  },
  {
   "cell_type": "code",
   "execution_count": null,
   "metadata": {
    "collapsed": true
   },
   "outputs": [],
   "source": []
  },
  {
   "cell_type": "code",
   "execution_count": null,
   "metadata": {
    "collapsed": false
   },
   "outputs": [],
   "source": [
    "import pandas as pd\n",
    "merged_dataframe = pd.concat([data_1, data_2, data_3], axis=1, join='inner',keys=['c1', 'c2', 'c3'])\n",
    "merged_dataframe['c1']['close_price']\n",
    "merged_dataframe['c2']['close_price']\n",
    "merged_dataframe['c3']['close_price']"
   ]
  },
  {
   "cell_type": "code",
   "execution_count": null,
   "metadata": {
    "collapsed": false
   },
   "outputs": [],
   "source": [
    "merged_dataframe_list[1]"
   ]
  },
  {
   "cell_type": "code",
   "execution_count": null,
   "metadata": {
    "collapsed": false
   },
   "outputs": [],
   "source": [
    "import sys\n",
    "sys.path.append(r'C:\\Users\\kocat_000\\quantFinance\\PycharmProjects')\n",
    "import contract_utilities.contract_lists as cl\n",
    "cl.generate_futures_list_dataframe({'date_to': 20151026})"
   ]
  },
  {
   "cell_type": "code",
   "execution_count": null,
   "metadata": {
    "collapsed": false
   },
   "outputs": [],
   "source": [
    "merged_dataframe\n",
    "\n",
    "multi_columns = pd.MultiIndex.from_product([[ticker1, ticker2, ticker3],data_1.columns.values], names=['first', 'second'])\n"
   ]
  },
  {
   "cell_type": "code",
   "execution_count": null,
   "metadata": {
    "collapsed": false
   },
   "outputs": [],
   "source": [
    "import matplotlib.pyplot as plt\n",
    "plt.plot(aligned_dataframe.index,aligned_dataframe['c1']['close_price'],\n",
    "         aligned_dataframe.index,aligned_dataframe['c2']['close_price'],\n",
    "         aligned_dataframe.index,aligned_dataframe['c3']['close_price'])\n",
    "         \n",
    "         \n",
    "plt.show()"
   ]
  },
  {
   "cell_type": "code",
   "execution_count": null,
   "metadata": {
    "collapsed": false
   },
   "outputs": [],
   "source": [
    "import matplotlib.pyplot as plt\n",
    "plt.plot(merged_dataframe.index,(merged_dataframe['BOH2016']['close_price']+merged_dataframe['BON2016']['close_price'])/2-\n",
    "         merged_dataframe['BOK2016']['close_price'])\n",
    "         \n",
    "         \n",
    "plt.show()"
   ]
  },
  {
   "cell_type": "code",
   "execution_count": null,
   "metadata": {
    "collapsed": false
   },
   "outputs": [],
   "source": [
    "(merged_dataframe['BOH2016']['close_price']+merged_dataframe['BON2016']['close_price'])/2-merged_dataframe['BOK2016']['close_price']"
   ]
  },
  {
   "cell_type": "code",
   "execution_count": null,
   "metadata": {
    "collapsed": false
   },
   "outputs": [],
   "source": [
    "\n",
    "\n",
    "import matplotlib.pyplot as plt\n",
    "plt.plot(range(len(aligned_dataframe.index)),aligned_dataframe['c1']['tr_dte'],\n",
    "         range(len(aligned_dataframe.index)),aligned_dataframe['c2']['tr_dte'],\n",
    "         range(len(aligned_dataframe.index)),aligned_dataframe['c3']['tr_dte'])\n",
    "plt.grid()         \n",
    "         \n",
    "plt.show()\n",
    "\n",
    "    \n",
    "\n",
    "    "
   ]
  },
  {
   "cell_type": "code",
   "execution_count": null,
   "metadata": {
    "collapsed": false
   },
   "outputs": [],
   "source": [
    "merged_dataframe['c1']['tr_dte'].isnull().sum()\n",
    "merged_dataframe['c3']['tr_dte'].isnull().sum()"
   ]
  },
  {
   "cell_type": "code",
   "execution_count": null,
   "metadata": {
    "collapsed": false
   },
   "outputs": [],
   "source": [
    "futures_dataframe"
   ]
  },
  {
   "cell_type": "code",
   "execution_count": null,
   "metadata": {
    "collapsed": false
   },
   "outputs": [],
   "source": [
    "print(trDte1)\n",
    "print(trDte2)\n",
    "print(trDte3)"
   ]
  },
  {
   "cell_type": "code",
   "execution_count": null,
   "metadata": {
    "collapsed": false
   },
   "outputs": [],
   "source": [
    "bf_price = (aligned_dataframe['c1']['close_price']+aligned_dataframe['c3']['close_price'])/2-aligned_dataframe['c2']['close_price']"
   ]
  },
  {
   "cell_type": "code",
   "execution_count": null,
   "metadata": {
    "collapsed": false
   },
   "outputs": [],
   "source": [
    "plt.plot(range(len(aligned_dataframe.index)),bf_price)\n",
    "plt.grid()         \n",
    "         \n",
    "plt.show()"
   ]
  },
  {
   "cell_type": "code",
   "execution_count": null,
   "metadata": {
    "collapsed": true
   },
   "outputs": [],
   "source": [
    "import matplotlib.pyplot as plt\n",
    "plt.plot(price_ratio)\n",
    "plt.grid()\n",
    "plt.show()"
   ]
  },
  {
   "cell_type": "code",
   "execution_count": null,
   "metadata": {
    "collapsed": true
   },
   "outputs": [],
   "source": []
  }
 ],
 "metadata": {
  "kernelspec": {
   "display_name": "Python 3",
   "language": "python",
   "name": "python3"
  },
  "language_info": {
   "codemirror_mode": {
    "name": "ipython",
    "version": 3
   },
   "file_extension": ".py",
   "mimetype": "text/x-python",
   "name": "python",
   "nbconvert_exporter": "python",
   "pygments_lexer": "ipython3",
   "version": "3.4.3"
  }
 },
 "nbformat": 4,
 "nbformat_minor": 0
}
