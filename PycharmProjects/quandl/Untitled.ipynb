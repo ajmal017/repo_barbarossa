{
 "cells": [
  {
   "cell_type": "code",
   "execution_count": null,
   "metadata": {
    "collapsed": false
   },
   "outputs": [],
   "source": [
    "import signals.futures_signals as fs\n",
    "import signals.utils as su\n",
    "signals_output = fs.get_futures_butterfly_signals(ticker_list=['LNJ2016','LNN2016','LNV2016'],date_to=20160217)\n",
    "\n",
    "price_ratio = signals_output['price_ratio']\n",
    "price_ratio"
   ]
  },
  {
   "cell_type": "code",
   "execution_count": null,
   "metadata": {
    "collapsed": false
   },
   "outputs": [],
   "source": [
    "import opportunity_constructs.utilities as ocu\n",
    "aligned_output = ocu.get_aligned_futures_data(contract_list=['NGU2016','NGX2016','NGF2017'],aggregation_method=12,contracts_back=10,date_to=20160218)\n",
    "#aligned_output = ocu.get_aligned_futures_data(contract_list=['HOV2007','HOX2007'],aggregation_method=12,contracts_back=10,date_to=20070420)\n",
    "aligned_data = aligned_output['aligned_data']\n",
    "bf_price = aligned_data['c1']['close_price']+aligned_data['c3']['close_price']-2*aligned_data['c2']['close_price']\n",
    "#bf_price = aligned_data['c1']['close_price']-aligned_data['c2']['close_price']\n",
    "#bf_price_recent = bf_price[1:]\n",
    "#aligned_data_recent = aligned_data[1:]\n",
    "import matplotlib.pyplot as plt\n",
    "plt.plot(bf_price)\n",
    "plt.grid()         \n",
    "         \n",
    "plt.show()"
   ]
  },
  {
   "cell_type": "code",
   "execution_count": null,
   "metadata": {
    "collapsed": false
   },
   "outputs": [],
   "source": [
    "aligned_data[bf_price<0.1]\n"
   ]
  },
  {
   "cell_type": "code",
   "execution_count": null,
   "metadata": {
    "collapsed": false
   },
   "outputs": [],
   "source": [
    "import opportunity_constructs.spread_carry as sc\n",
    "\n",
    "#spread_carry_output = sc.generate_spread_carry_sheet_4date(report_date=20160225)\n",
    "#spread_report = spread_carry_output['spread_report']\n",
    "#ticker_head_list = list(spread_report['tickerHead'].unique())\n",
    "# Compare BO and S sizing\n",
    "\n",
    "spread_report[spread_report['tickerHead']==ticker_head_list[19]]\n",
    "spread_report[spread_report['tickerHead']=='CC']"
   ]
  },
  {
   "cell_type": "code",
   "execution_count": null,
   "metadata": {
    "collapsed": false
   },
   "outputs": [],
   "source": [
    "import contract_utilities.expiration as exp\n",
    "exp.get_futures_expiration('GCZ2021')"
   ]
  },
  {
   "cell_type": "code",
   "execution_count": null,
   "metadata": {
    "collapsed": false
   },
   "outputs": [],
   "source": [
    "import my_sql_routines.futures_price_loader as fpl\n",
    "import shared.calendar_utilities as cu\n",
    "fpl.update_futures_price_database_from_cme_file()\n"
   ]
  },
  {
   "cell_type": "code",
   "execution_count": null,
   "metadata": {
    "collapsed": false
   },
   "outputs": [],
   "source": [
    "import read_exchange_files.process_cme_futures as pcf\n",
    "import read_exchange_files.read_cme_files as rcf\n",
    "cme_output = pcf.process_cme_futures_4tickerhead(ticker_head='RB', report_date=20160225)\n",
    "#data_read_out = rcf.read_cme_future_settle_csv_files(file_name='nymex_futures', report_date=20160224)\n",
    "#title_frame = data_read_out['title_frame']\n",
    "#title_frame\n",
    "#title_frame[title_frame['ticker_head']=='LN']\n",
    "\n",
    "#data_read_out[data_read_out['ticker_head']=='CL']\n",
    "\n",
    "#data_read_out['month_strike_list'][68]\n",
    "cme_output['settle_frame']"
   ]
  },
  {
   "cell_type": "code",
   "execution_count": null,
   "metadata": {
    "collapsed": false
   },
   "outputs": [],
   "source": [
    "import get_price.get_futures_price as gfp\n",
    "import shared.calendar_utilities as cu\n",
    "import contract_utilities.expiration as exp\n",
    "price_frame = gfp.get_futures_price_preloaded(ticker_head='ED',settle_date=20160225)\n",
    "price_frame.sort('tr_dte',ascending=True,inplace=True)\n",
    "\n",
    "\n",
    "exp_date = 20170225\n",
    "\n",
    "\n",
    "exp_datetime = cu.convert_doubledate_2datetime(exp_date)\n",
    "\n",
    "price_frame['exp_date'] = [exp.get_futures_expiration(x) for x in price_frame['ticker']]\n",
    "price_frame = price_frame[price_frame['exp_date']<exp_datetime]\n",
    "\n",
    "price_frame['implied_rate'] = 100-price_frame['close_price']\n",
    "\n",
    "price_frame[['implied_rate','exp_date','cal_dte']]\n"
   ]
  },
  {
   "cell_type": "code",
   "execution_count": null,
   "metadata": {
    "collapsed": false
   },
   "outputs": [],
   "source": [
    "[1+(price_frame['implied_rate'].iloc[x]*(price_frame['cal_dte'].iloc[x+1]-price_frame['cal_dte'].iloc[x])/36500) for x in range(len(price_frame.index)-1)]\n",
    "\n",
    "1+(price_frame['implied_rate'].iloc[0]*price_frame['cal_dte'].iloc[0]/365000)\n",
    "\n",
    "\n",
    "1+((price_frame['implied_rate'].iloc[-1]*((exp_datetime-price_frame['exp_date'].iloc[-1].to_datetime()).days))/365000)\n"
   ]
  },
  {
   "cell_type": "code",
   "execution_count": 6,
   "metadata": {
    "collapsed": false
   },
   "outputs": [
    {
     "name": "stdout",
     "output_type": "stream",
     "text": [
      "0.00648406165771\n"
     ]
    },
    {
     "data": {
      "text/html": [
       "<div>\n",
       "<table border=\"1\" class=\"dataframe\">\n",
       "  <thead>\n",
       "    <tr style=\"text-align: right;\">\n",
       "      <th></th>\n",
       "      <th>ticker</th>\n",
       "      <th>cal_dte</th>\n",
       "      <th>exp_date</th>\n",
       "      <th>implied_rate</th>\n",
       "    </tr>\n",
       "  </thead>\n",
       "  <tbody>\n",
       "    <tr>\n",
       "      <th>126</th>\n",
       "      <td>EDG2016</td>\n",
       "      <td>-1</td>\n",
       "      <td>2016-02-15</td>\n",
       "      <td>0.6182</td>\n",
       "    </tr>\n",
       "    <tr>\n",
       "      <th>2500</th>\n",
       "      <td>EDH2016</td>\n",
       "      <td>27</td>\n",
       "      <td>2016-03-14</td>\n",
       "      <td>0.6375</td>\n",
       "    </tr>\n",
       "    <tr>\n",
       "      <th>82</th>\n",
       "      <td>EDJ2016</td>\n",
       "      <td>62</td>\n",
       "      <td>2016-04-18</td>\n",
       "      <td>0.6550</td>\n",
       "    </tr>\n",
       "    <tr>\n",
       "      <th>61</th>\n",
       "      <td>EDK2016</td>\n",
       "      <td>90</td>\n",
       "      <td>2016-05-16</td>\n",
       "      <td>0.6600</td>\n",
       "    </tr>\n",
       "    <tr>\n",
       "      <th>2432</th>\n",
       "      <td>EDM2016</td>\n",
       "      <td>118</td>\n",
       "      <td>2016-06-13</td>\n",
       "      <td>0.6650</td>\n",
       "    </tr>\n",
       "    <tr>\n",
       "      <th>20</th>\n",
       "      <td>EDN2016</td>\n",
       "      <td>153</td>\n",
       "      <td>2016-07-18</td>\n",
       "      <td>0.6750</td>\n",
       "    </tr>\n",
       "    <tr>\n",
       "      <th>1</th>\n",
       "      <td>EDQ2016</td>\n",
       "      <td>181</td>\n",
       "      <td>2016-08-15</td>\n",
       "      <td>0.6850</td>\n",
       "    </tr>\n",
       "    <tr>\n",
       "      <th>2369</th>\n",
       "      <td>EDU2016</td>\n",
       "      <td>216</td>\n",
       "      <td>2016-09-19</td>\n",
       "      <td>0.7000</td>\n",
       "    </tr>\n",
       "    <tr>\n",
       "      <th>2305</th>\n",
       "      <td>EDZ2016</td>\n",
       "      <td>307</td>\n",
       "      <td>2016-12-19</td>\n",
       "      <td>0.7500</td>\n",
       "    </tr>\n",
       "    <tr>\n",
       "      <th>2244</th>\n",
       "      <td>EDH2017</td>\n",
       "      <td>391</td>\n",
       "      <td>2017-03-13</td>\n",
       "      <td>0.7950</td>\n",
       "    </tr>\n",
       "    <tr>\n",
       "      <th>2178</th>\n",
       "      <td>EDM2017</td>\n",
       "      <td>489</td>\n",
       "      <td>2017-06-19</td>\n",
       "      <td>0.8500</td>\n",
       "    </tr>\n",
       "    <tr>\n",
       "      <th>2109</th>\n",
       "      <td>EDU2017</td>\n",
       "      <td>580</td>\n",
       "      <td>2017-09-18</td>\n",
       "      <td>0.9100</td>\n",
       "    </tr>\n",
       "    <tr>\n",
       "      <th>2054</th>\n",
       "      <td>EDZ2017</td>\n",
       "      <td>671</td>\n",
       "      <td>2017-12-18</td>\n",
       "      <td>0.9850</td>\n",
       "    </tr>\n",
       "    <tr>\n",
       "      <th>1984</th>\n",
       "      <td>EDH2018</td>\n",
       "      <td>762</td>\n",
       "      <td>2018-03-19</td>\n",
       "      <td>1.0550</td>\n",
       "    </tr>\n",
       "    <tr>\n",
       "      <th>1920</th>\n",
       "      <td>EDM2018</td>\n",
       "      <td>853</td>\n",
       "      <td>2018-06-18</td>\n",
       "      <td>1.1300</td>\n",
       "    </tr>\n",
       "    <tr>\n",
       "      <th>1856</th>\n",
       "      <td>EDU2018</td>\n",
       "      <td>944</td>\n",
       "      <td>2018-09-17</td>\n",
       "      <td>1.2050</td>\n",
       "    </tr>\n",
       "    <tr>\n",
       "      <th>1792</th>\n",
       "      <td>EDZ2018</td>\n",
       "      <td>1035</td>\n",
       "      <td>2018-12-17</td>\n",
       "      <td>1.2900</td>\n",
       "    </tr>\n",
       "    <tr>\n",
       "      <th>1731</th>\n",
       "      <td>EDH2019</td>\n",
       "      <td>1126</td>\n",
       "      <td>2019-03-18</td>\n",
       "      <td>1.3600</td>\n",
       "    </tr>\n",
       "    <tr>\n",
       "      <th>1668</th>\n",
       "      <td>EDM2019</td>\n",
       "      <td>1217</td>\n",
       "      <td>2019-06-17</td>\n",
       "      <td>1.4400</td>\n",
       "    </tr>\n",
       "    <tr>\n",
       "      <th>1604</th>\n",
       "      <td>EDU2019</td>\n",
       "      <td>1308</td>\n",
       "      <td>2019-09-16</td>\n",
       "      <td>1.5150</td>\n",
       "    </tr>\n",
       "    <tr>\n",
       "      <th>1540</th>\n",
       "      <td>EDZ2019</td>\n",
       "      <td>1399</td>\n",
       "      <td>2019-12-16</td>\n",
       "      <td>1.5950</td>\n",
       "    </tr>\n",
       "  </tbody>\n",
       "</table>\n",
       "</div>"
      ],
      "text/plain": [
       "       ticker  cal_dte   exp_date  implied_rate\n",
       "126   EDG2016       -1 2016-02-15        0.6182\n",
       "2500  EDH2016       27 2016-03-14        0.6375\n",
       "82    EDJ2016       62 2016-04-18        0.6550\n",
       "61    EDK2016       90 2016-05-16        0.6600\n",
       "2432  EDM2016      118 2016-06-13        0.6650\n",
       "20    EDN2016      153 2016-07-18        0.6750\n",
       "1     EDQ2016      181 2016-08-15        0.6850\n",
       "2369  EDU2016      216 2016-09-19        0.7000\n",
       "2305  EDZ2016      307 2016-12-19        0.7500\n",
       "2244  EDH2017      391 2017-03-13        0.7950\n",
       "2178  EDM2017      489 2017-06-19        0.8500\n",
       "2109  EDU2017      580 2017-09-18        0.9100\n",
       "2054  EDZ2017      671 2017-12-18        0.9850\n",
       "1984  EDH2018      762 2018-03-19        1.0550\n",
       "1920  EDM2018      853 2018-06-18        1.1300\n",
       "1856  EDU2018      944 2018-09-17        1.2050\n",
       "1792  EDZ2018     1035 2018-12-17        1.2900\n",
       "1731  EDH2019     1126 2019-03-18        1.3600\n",
       "1668  EDM2019     1217 2019-06-17        1.4400\n",
       "1604  EDU2019     1308 2019-09-16        1.5150\n",
       "1540  EDZ2019     1399 2019-12-16        1.5950"
      ]
     },
     "execution_count": 6,
     "metadata": {},
     "output_type": "execute_result"
    }
   ],
   "source": [
    "import interest_curve.get_rate_from_stir as grfs\n",
    "wuhu = grfs.get_simple_rate(as_of_date=20160216,date_to=20160718)\n",
    "\n",
    "print(wuhu['rate_output'])\n",
    "\n",
    "wuhu['price_frame']\n",
    "\n"
   ]
  },
  {
   "cell_type": "code",
   "execution_count": 3,
   "metadata": {
    "collapsed": false
   },
   "outputs": [
    {
     "ename": "KeyError",
     "evalue": "'middle_discount'",
     "output_type": "error",
     "traceback": [
      "\u001b[1;31m---------------------------------------------------------------------------\u001b[0m",
      "\u001b[1;31mKeyError\u001b[0m                                  Traceback (most recent call last)",
      "\u001b[1;32m<ipython-input-3-30f7a0ee3fd8>\u001b[0m in \u001b[0;36m<module>\u001b[1;34m()\u001b[0m\n\u001b[0;32m      1\u001b[0m \u001b[1;32mimport\u001b[0m \u001b[0mnumpy\u001b[0m \u001b[1;32mas\u001b[0m \u001b[0mnp\u001b[0m\u001b[1;33m\u001b[0m\u001b[0m\n\u001b[1;32m----> 2\u001b[1;33m \u001b[0mprint\u001b[0m\u001b[1;33m(\u001b[0m\u001b[0mwuhu\u001b[0m\u001b[1;33m[\u001b[0m\u001b[1;34m'middle_discount'\u001b[0m\u001b[1;33m]\u001b[0m\u001b[1;33m)\u001b[0m\u001b[1;33m\u001b[0m\u001b[0m\n\u001b[0m\u001b[0;32m      3\u001b[0m \u001b[1;33m\u001b[0m\u001b[0m\n\u001b[0;32m      4\u001b[0m \u001b[0mprint\u001b[0m\u001b[1;33m(\u001b[0m\u001b[0mwuhu\u001b[0m\u001b[1;33m[\u001b[0m\u001b[1;34m'total_discount'\u001b[0m\u001b[1;33m]\u001b[0m\u001b[1;33m)\u001b[0m\u001b[1;33m\u001b[0m\u001b[0m\n\u001b[0;32m      5\u001b[0m \u001b[1;33m\u001b[0m\u001b[0m\n",
      "\u001b[1;31mKeyError\u001b[0m: 'middle_discount'"
     ]
    }
   ],
   "source": [
    "import numpy as np\n",
    "print(wuhu['middle_discount'])\n",
    "\n",
    "print(wuhu['total_discount'])\n",
    "\n",
    "print(wuhu['first_rate'])\n",
    "print(wuhu['first_period'])\n",
    "\n",
    "print(wuhu['last_rate'])\n",
    "print(wuhu['last_period'])\n",
    "\n",
    "print(wuhu['total_period'])\n",
    "\n",
    "print(np.prod(np.array(wuhu['middle_discount'])))\n",
    "\n",
    "\n",
    "print((1+(wuhu['first_rate']*wuhu['first_period']/36500)))\n",
    "print((1+(wuhu['last_rate']*wuhu['last_period']/36500)))\n",
    "\n",
    "\n",
    "print((1+(wuhu['first_rate']*wuhu['first_period']/36500))*\n",
    "      (1+(wuhu['last_rate']*wuhu['last_period']/36500))*\n",
    "     np.prod(np.array(wuhu['middle_discount'])))"
   ]
  },
  {
   "cell_type": "code",
   "execution_count": null,
   "metadata": {
    "collapsed": false
   },
   "outputs": [],
   "source": [
    "wuhu['price_frame']\n",
    "\n",
    "\n",
    "# april 30 is a saturday"
   ]
  },
  {
   "cell_type": "code",
   "execution_count": null,
   "metadata": {
    "collapsed": false
   },
   "outputs": [],
   "source": [
    "\n",
    "import contract_utilities.expiration as exp\n",
    "report_date = exp.doubledate_shift_bus_days()\n",
    "import futures_charts.futures_curve as fc\n",
    "bf_signals_output = fc.get_butterfly_scatter_plot(report_date=report_date,id=195)"
   ]
  },
  {
   "cell_type": "code",
   "execution_count": null,
   "metadata": {
    "collapsed": false
   },
   "outputs": [],
   "source": [
    "aligned_output = bf_signals_output['aligned_output']\n",
    "aligned_data = aligned_output['aligned_data']\n",
    "bf_price = aligned_data['c1']['close_price']+aligned_data['c3']['close_price']-2*aligned_data['c2']['close_price']"
   ]
  },
  {
   "cell_type": "code",
   "execution_count": null,
   "metadata": {
    "collapsed": false
   },
   "outputs": [],
   "source": [
    "import matplotlib.pyplot as plt\n",
    "plt.plot(bf_price)\n",
    "plt.grid()         \n",
    "         \n",
    "plt.show()"
   ]
  },
  {
   "cell_type": "code",
   "execution_count": null,
   "metadata": {
    "collapsed": false
   },
   "outputs": [],
   "source": [
    "bad_data = aligned_data[bf_price<-0.004]   #<-0.03\n",
    "bad_data\n",
    "\n",
    "# HOV2007,HOX2007, HOZ2007 20070213 to 20070413"
   ]
  },
  {
   "cell_type": "code",
   "execution_count": null,
   "metadata": {
    "collapsed": false
   },
   "outputs": [],
   "source": [
    "aligned_data.iloc[1047]"
   ]
  },
  {
   "cell_type": "code",
   "execution_count": null,
   "metadata": {
    "collapsed": false
   },
   "outputs": [],
   "source": [
    "import shared.directory_names as dn\n",
    "options_data_dir = dn.get_dated_directory_extension(folder_date=20160208,ext='comex_options_csv_address')\n",
    "options_data_dir"
   ]
  },
  {
   "cell_type": "code",
   "execution_count": null,
   "metadata": {
    "collapsed": false
   },
   "outputs": [],
   "source": [
    "import contract_utilities.expiration as exp\n",
    "report_date = exp.doubledate_shift_bus_days()\n",
    "report_date"
   ]
  },
  {
   "cell_type": "code",
   "execution_count": null,
   "metadata": {
    "collapsed": false
   },
   "outputs": [],
   "source": [
    "import scheduled_jobs.options_data_load_job as odlj\n",
    "import shared.downloads as sd\n",
    "sd.download_csv_from_web(web_address=odlj.comex_options_csv_address)\n"
   ]
  },
  {
   "cell_type": "code",
   "execution_count": null,
   "metadata": {
    "collapsed": false
   },
   "outputs": [],
   "source": [
    "import scheduled_jobs.options_data_load_job"
   ]
  },
  {
   "cell_type": "code",
   "execution_count": null,
   "metadata": {
    "collapsed": false
   },
   "outputs": [],
   "source": [
    "with open(r'C:\\Research\\data\\options_data_raw\\2016\\201602\\20160208\\interest_rate.pkl','rb') as handle:\n",
    "    wuhu = pickle.load(handle)"
   ]
  },
  {
   "cell_type": "code",
   "execution_count": null,
   "metadata": {
    "collapsed": false
   },
   "outputs": [],
   "source": [
    "scatter_matrix = np.zeros((3,3))\n",
    "\n",
    "for i in range(all_samples.shape[1]):\n",
    "    scatter_matrix +=(all_samples[:,i].reshape(3,1)).dot(\n",
    "    (all_samples[:,i].reshape(3,1)-mean_vector).T)\n",
    "print('Scatter Matrix\\n',scatter_matrix)    "
   ]
  },
  {
   "cell_type": "code",
   "execution_count": null,
   "metadata": {
    "collapsed": false
   },
   "outputs": [],
   "source": [
    "cov_mat = np.cov([all_samples[0,:], all_samples[1,:],all_samples[2,:]])\n",
    "print('Covariance Matrix:\\n', cov_mat)"
   ]
  },
  {
   "cell_type": "code",
   "execution_count": null,
   "metadata": {
    "collapsed": false
   },
   "outputs": [],
   "source": [
    "for i in range(len(eig_val_sc)):\n",
    "    eigv = eig_vec_sc[:,i].reshape(1,3).T\n",
    "    np.testing.assert_array_almost_equal(scatter_matrix.dot(eigv),\n",
    "                                         eig_val_sc[i] * eigv,\n",
    "                                         decimal=6, err_msg='', verbose=True)"
   ]
  },
  {
   "cell_type": "code",
   "execution_count": null,
   "metadata": {
    "collapsed": false
   },
   "outputs": [],
   "source": [
    "transformed = matrix_w.T.dot(all_samples)\n",
    "assert transformed.shape == (2,40), \"The matrix is not 2x40 dimensional.\"\n",
    "transformed\n",
    "matrix_w"
   ]
  },
  {
   "cell_type": "code",
   "execution_count": null,
   "metadata": {
    "collapsed": false
   },
   "outputs": [],
   "source": [
    "import matplotlib.pyplot as plt\n",
    "plt.plot(merged_dataframe.index,(merged_dataframe['BOH2016']['close_price']+merged_dataframe['BON2016']['close_price'])/2-\n",
    "         merged_dataframe['BOK2016']['close_price'])\n",
    "         \n",
    "         \n",
    "plt.show()"
   ]
  },
  {
   "cell_type": "code",
   "execution_count": null,
   "metadata": {
    "collapsed": false
   },
   "outputs": [],
   "source": [
    "(merged_dataframe['BOH2016']['close_price']+merged_dataframe['BON2016']['close_price'])/2-merged_dataframe['BOK2016']['close_price']"
   ]
  },
  {
   "cell_type": "code",
   "execution_count": null,
   "metadata": {
    "collapsed": false
   },
   "outputs": [],
   "source": [
    "\n",
    "\n",
    "import matplotlib.pyplot as plt\n",
    "plt.plot(range(len(aligned_dataframe.index)),aligned_dataframe['c1']['tr_dte'],\n",
    "         range(len(aligned_dataframe.index)),aligned_dataframe['c2']['tr_dte'],\n",
    "         range(len(aligned_dataframe.index)),aligned_dataframe['c3']['tr_dte'])\n",
    "plt.grid()         \n",
    "         \n",
    "plt.show()\n",
    "\n",
    "    \n",
    "\n",
    "    "
   ]
  },
  {
   "cell_type": "code",
   "execution_count": null,
   "metadata": {
    "collapsed": false
   },
   "outputs": [],
   "source": [
    "merged_dataframe['c1']['tr_dte'].isnull().sum()\n",
    "merged_dataframe['c3']['tr_dte'].isnull().sum()"
   ]
  },
  {
   "cell_type": "code",
   "execution_count": null,
   "metadata": {
    "collapsed": false
   },
   "outputs": [],
   "source": [
    "futures_dataframe"
   ]
  },
  {
   "cell_type": "code",
   "execution_count": null,
   "metadata": {
    "collapsed": false
   },
   "outputs": [],
   "source": [
    "print(trDte1)\n",
    "print(trDte2)\n",
    "print(trDte3)"
   ]
  },
  {
   "cell_type": "code",
   "execution_count": null,
   "metadata": {
    "collapsed": false
   },
   "outputs": [],
   "source": [
    "bf_price = (aligned_dataframe['c1']['close_price']+aligned_dataframe['c3']['close_price'])/2-aligned_dataframe['c2']['close_price']"
   ]
  },
  {
   "cell_type": "code",
   "execution_count": null,
   "metadata": {
    "collapsed": false
   },
   "outputs": [],
   "source": [
    "plt.plot(range(len(aligned_dataframe.index)),bf_price)\n",
    "plt.grid()         \n",
    "         \n",
    "plt.show()"
   ]
  },
  {
   "cell_type": "code",
   "execution_count": null,
   "metadata": {
    "collapsed": true
   },
   "outputs": [],
   "source": [
    "import matplotlib.pyplot as plt\n",
    "plt.plot(price_ratio)\n",
    "plt.grid()\n",
    "plt.show()"
   ]
  },
  {
   "cell_type": "code",
   "execution_count": null,
   "metadata": {
    "collapsed": false
   },
   "outputs": [],
   "source": [
    "import numpy as np\n",
    "nan_matrix = np.empty((2,2))\n",
    "nan_matrix[:] = np.NAN\n",
    "nan_matrix"
   ]
  },
  {
   "cell_type": "code",
   "execution_count": null,
   "metadata": {
    "collapsed": true
   },
   "outputs": [],
   "source": []
  }
 ],
 "metadata": {
  "kernelspec": {
   "display_name": "Python 3",
   "language": "python",
   "name": "python3"
  },
  "language_info": {
   "codemirror_mode": {
    "name": "ipython",
    "version": 3
   },
   "file_extension": ".py",
   "mimetype": "text/x-python",
   "name": "python",
   "nbconvert_exporter": "python",
   "pygments_lexer": "ipython3",
   "version": "3.4.3"
  }
 },
 "nbformat": 4,
 "nbformat_minor": 0
}
