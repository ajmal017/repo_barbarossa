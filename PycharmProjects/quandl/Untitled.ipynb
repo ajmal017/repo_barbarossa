{
 "cells": [
  {
   "cell_type": "code",
   "execution_count": null,
   "metadata": {
    "collapsed": false
   },
   "outputs": [],
   "source": [
    "import get_price.get_futures_price as gfp\n",
    "panel_data = gfp.get_futures_price_preloaded(ticker_head='CL')\n",
    "unique_dates = panel_data['settle_date'].unique()\n",
    "\n",
    "data4day = panel_data[panel_data['settle_date']==unique_dates[4000]]\n"
   ]
  },
  {
   "cell_type": "code",
   "execution_count": 7,
   "metadata": {
    "collapsed": false
   },
   "outputs": [],
   "source": [
    "import get_price.curve_data as cd\n",
    "rolling_data = cd.get_rolling_curve_data(ticker_head='CL',num_contracts=15,\n",
    "                                         front_tr_dte_limit=10,\n",
    "                                        date_from=20050101,\n",
    "                                        date_to=20160112)\n",
    "\n"
   ]
  },
  {
   "cell_type": "code",
   "execution_count": 8,
   "metadata": {
    "collapsed": false
   },
   "outputs": [
    {
     "data": {
      "text/plain": [
       "settle_date\n",
       "2005-01-03    0.86\n",
       "2005-01-04    1.95\n",
       "2005-01-05    1.67\n",
       "2005-01-06    2.34\n",
       "2005-01-07    2.84\n",
       "2005-01-10    2.05\n",
       "2005-01-11    1.28\n",
       "2005-01-12    1.13\n",
       "2005-01-13    1.02\n",
       "2005-01-14    1.66\n",
       "2005-01-18    1.61\n",
       "2005-01-19    1.86\n",
       "2005-01-20   -0.43\n",
       "2005-01-21    0.16\n",
       "2005-01-24   -1.19\n",
       "2005-01-25   -1.07\n",
       "2005-01-26   -1.11\n",
       "2005-01-27    0.03\n",
       "2005-01-28   -1.47\n",
       "2005-01-31   -0.90\n",
       "2005-02-01   -0.59\n",
       "2005-02-02    0.49\n",
       "2005-02-03    0.31\n",
       "2005-02-04    1.09\n",
       "2005-02-07    0.79\n",
       "2005-02-08    1.72\n",
       "2005-02-09    0.49\n",
       "2005-02-10    1.40\n",
       "2005-02-11    3.09\n",
       "2005-02-14    3.17\n",
       "              ... \n",
       "2015-11-30   -3.30\n",
       "2015-12-01   -2.26\n",
       "2015-12-02   -2.80\n",
       "2015-12-03   -3.06\n",
       "2015-12-04   -1.66\n",
       "2015-12-07   -0.64\n",
       "2015-12-08   -1.70\n",
       "2015-12-09   -2.26\n",
       "2015-12-10   -1.53\n",
       "2015-12-11   -1.69\n",
       "2015-12-14   -2.61\n",
       "2015-12-15   -0.42\n",
       "2015-12-16    0.76\n",
       "2015-12-17    0.04\n",
       "2015-12-18    1.48\n",
       "2015-12-21    0.76\n",
       "2015-12-22    0.66\n",
       "2015-12-23   -0.38\n",
       "2015-12-24    0.17\n",
       "2015-12-28   -2.26\n",
       "2015-12-29   -1.94\n",
       "2015-12-30   -2.87\n",
       "2015-12-31   -4.43\n",
       "2016-01-04   -5.07\n",
       "2016-01-05     NaN\n",
       "2016-01-06     NaN\n",
       "2016-01-07     NaN\n",
       "2016-01-08     NaN\n",
       "2016-01-11     NaN\n",
       "2016-01-12     NaN\n",
       "Name: change5, dtype: float64"
      ]
     },
     "execution_count": 8,
     "metadata": {},
     "output_type": "execute_result"
    }
   ],
   "source": [
    "rolling_data[9]['change5']"
   ]
  },
  {
   "cell_type": "code",
   "execution_count": 16,
   "metadata": {
    "collapsed": false
   },
   "outputs": [
    {
     "data": {
      "text/plain": [
       "['CLH2016',\n",
       " 'CLJ2016',\n",
       " 'CLK2016',\n",
       " 'CLM2016',\n",
       " 'CLN2016',\n",
       " 'CLQ2016',\n",
       " 'CLU2016',\n",
       " 'CLV2016',\n",
       " 'CLX2016',\n",
       " 'CLZ2016',\n",
       " 'CLF2017',\n",
       " 'CLG2017',\n",
       " 'CLH2017',\n",
       " 'CLJ2017']"
      ]
     },
     "execution_count": 16,
     "metadata": {},
     "output_type": "execute_result"
    }
   ],
   "source": [
    "import pandas as pd\n",
    "wuhu = [rolling_data[x]['close_price']/rolling_data[x+1]['close_price'] for x in range(len(rolling_data)-1)]\n",
    "merged_data = pd.concat(wuhu,axis=1)\n",
    "yield_data = merged_data.values\n",
    "\n",
    "wuhu = [rolling_data[x]['change5']-rolling_data[x+1]['change5'] for x in range(len(rolling_data)-1)]\n",
    "merged_data = pd.concat(wuhu,axis=1)\n",
    "change5_data = merged_data.values\n",
    "\n",
    "wuhu = [rolling_data[x]['tr_dte'] for x in range(len(rolling_data)-1)]\n",
    "merged_data = pd.concat(wuhu,axis=1)\n",
    "tr_dte_data = merged_data.values\n",
    "\n",
    "wuhu = [rolling_data[x]['cont_indx'] for x in range(len(rolling_data)-1)]\n",
    "merged_data = pd.concat(wuhu,axis=1)\n",
    "cont_indx_data = merged_data.values\n",
    "\n",
    "[rolling_data[x]['ticker'][-1] for x in range(len(rolling_data)-1)]"
   ]
  },
  {
   "cell_type": "code",
   "execution_count": 3,
   "metadata": {
    "collapsed": false
   },
   "outputs": [],
   "source": [
    "import shared.statistics as stats\n",
    "pca_out = stats.get_pca(data_input=yield_data,n_components=2)"
   ]
  },
  {
   "cell_type": "code",
   "execution_count": 6,
   "metadata": {
    "collapsed": false
   },
   "outputs": [
    {
     "data": {
      "text/plain": [
       "array([-0.49997407, -0.39189241, -0.33474993, -0.29856778, -0.26485688,\n",
       "       -0.23865464, -0.22332526, -0.20779813, -0.19726683, -0.18491655,\n",
       "       -0.17505439, -0.16208256, -0.15373119, -0.14639053])"
      ]
     },
     "execution_count": 6,
     "metadata": {},
     "output_type": "execute_result"
    }
   ],
   "source": [
    "pca_out['loadings'][0]"
   ]
  },
  {
   "cell_type": "code",
   "execution_count": 4,
   "metadata": {
    "collapsed": false
   },
   "outputs": [
    {
     "data": {
      "text/plain": [
       "array([[ -5.06704273e-04,  -6.97115779e-04,   1.99864099e-03, ...,\n",
       "          3.06464154e-04,  -1.24318238e-04,  -1.26665189e-03],\n",
       "       [ -5.88076800e-04,  -5.49326133e-04,   2.07911238e-03, ...,\n",
       "          2.44387560e-04,  -1.35138469e-04,  -1.20840694e-03],\n",
       "       [ -1.18433507e-03,   2.16608861e-04,   2.44655483e-03, ...,\n",
       "          1.21139126e-05,  -3.62385122e-04,  -1.44063444e-03],\n",
       "       ..., \n",
       "       [  1.79731953e-03,  -2.30505417e-03,  -2.31112645e-03, ...,\n",
       "         -7.46861781e-05,  -1.68515247e-04,   2.95409993e-04],\n",
       "       [  2.12929683e-03,  -2.82153122e-03,  -2.54582012e-03, ...,\n",
       "         -2.10959333e-04,  -6.68255993e-05,   4.09485593e-04],\n",
       "       [  2.15207177e-03,  -2.77614077e-03,  -2.54480947e-03, ...,\n",
       "          8.86315952e-05,  -6.37745027e-07,   5.02255942e-04]])"
      ]
     },
     "execution_count": 4,
     "metadata": {},
     "output_type": "execute_result"
    }
   ],
   "source": [
    "residuals = yield_data-pca_out['model_fit']\n",
    "residuals"
   ]
  },
  {
   "cell_type": "code",
   "execution_count": 5,
   "metadata": {
    "collapsed": false
   },
   "outputs": [],
   "source": [
    "import backtesting.backtest_curve_pca as bcp\n",
    "\n",
    "pnl_path = []\n",
    "\n",
    "unique_dates = rolling_data[0].index\n",
    "\n",
    "for i in range(len(unique_dates)):\n",
    "    \n",
    "    pnl_path.append(bcp.backtest_curve_pca_4date(residuals=residuals[i,:],\n",
    "                                                 change_data=change5_data[i,:],\n",
    "                                                 tr_dte_data = tr_dte_data[i,:]))\n",
    "\n",
    "\n",
    "\n",
    "\n",
    "\n"
   ]
  },
  {
   "cell_type": "code",
   "execution_count": 17,
   "metadata": {
    "collapsed": false
   },
   "outputs": [],
   "source": [
    "from sklearn.decomposition import PCA\n",
    "pca = PCA(n_components=2)\n",
    "pca_fit = pca.fit(yield_data)\n",
    "pca_fit."
   ]
  },
  {
   "cell_type": "code",
   "execution_count": 7,
   "metadata": {
    "collapsed": false
   },
   "outputs": [],
   "source": [
    "\n",
    "import matplotlib.pyplot as plt\n",
    "import numpy as np\n",
    "plt.plot(np.cumsum(pnl_path))\n",
    "plt.grid()               \n",
    "plt.show()"
   ]
  },
  {
   "cell_type": "code",
   "execution_count": 6,
   "metadata": {
    "collapsed": false
   },
   "outputs": [
    {
     "data": {
      "text/plain": [
       "0    -0.491369\n",
       "1    -0.383422\n",
       "2    -0.325928\n",
       "3    -0.289781\n",
       "4    -0.256626\n",
       "5    -0.231031\n",
       "6    -0.216446\n",
       "7    -0.201348\n",
       "8    -0.191452\n",
       "9    -0.178841\n",
       "10   -0.169455\n",
       "11   -0.157283\n",
       "12   -0.149513\n",
       "13   -0.142330\n",
       "14   -0.134478\n",
       "15   -0.128106\n",
       "16   -0.124586\n",
       "Name: factor_load1, dtype: float64"
      ]
     },
     "execution_count": 6,
     "metadata": {},
     "output_type": "execute_result"
    }
   ],
   "source": [
    "import opportunity_constructs.curve_pca as cpc\n",
    "import pandas as pd\n",
    "#report_out = cpc.get_curve_pca_report(ticker_head='CL', date_to=20160112 )\n",
    "\n",
    "report_out['factor_load1']\n",
    "\n",
    "\n",
    "\n",
    "\n",
    "\n"
   ]
  },
  {
   "cell_type": "code",
   "execution_count": 13,
   "metadata": {
    "collapsed": false
   },
   "outputs": [
    {
     "data": {
      "text/plain": [
       "0.017107258938244906"
      ]
     },
     "execution_count": 13,
     "metadata": {},
     "output_type": "execute_result"
    }
   ],
   "source": [
    "np.mean(pnl_path)"
   ]
  },
  {
   "cell_type": "code",
   "execution_count": null,
   "metadata": {
    "collapsed": false
   },
   "outputs": [],
   "source": [
    "%pylab inline\n",
    "from matplotlib import pyplot as plt\n",
    "from mpl_toolkits.mplot3d import Axes3D\n",
    "from mpl_toolkits.mplot3d import proj3d\n",
    "\n",
    "fig = plt.figure(figsize=(8,8))\n",
    "ax = fig.add_subplot(111, projection='3d')\n",
    "plt.rcParams['legend.fontsize'] = 10\n",
    "ax.plot(class1_sample[0,:], class1_sample[1,:], class1_sample[2,:],\n",
    "        'o', markersize=8, color='blue', alpha=0.5, label='class1')\n",
    "ax.plot(class2_sample[0,:], class2_sample[1,:], class2_sample[2,:],\n",
    "        '^', markersize=8, alpha=0.5, color='red', label='class2')\n",
    "\n",
    "plt.title('Samples for class 1 and class 2')\n",
    "ax.legend(loc='upper right')\n",
    "\n",
    "plt.show()"
   ]
  },
  {
   "cell_type": "code",
   "execution_count": null,
   "metadata": {
    "collapsed": false
   },
   "outputs": [],
   "source": [
    "all_samples = np.concatenate((class1_sample, class2_sample), axis=1)\n",
    "assert all_samples.shape ==(3,40), \"The matrix has not the dimensions 3x40\""
   ]
  },
  {
   "cell_type": "code",
   "execution_count": null,
   "metadata": {
    "collapsed": false
   },
   "outputs": [],
   "source": [
    "mean_x = np.mean(all_samples[0,:])\n",
    "mean_y = np.mean(all_samples[1,:])\n",
    "mean_z = np.mean(all_samples[2,:])\n",
    "\n",
    "mean_vector = np.array([[mean_x],[mean_y],[mean_z]])\n",
    "print('Mean Vector:\\n', mean_vector)\n",
    "\n",
    "\n",
    "\n",
    "\n"
   ]
  },
  {
   "cell_type": "code",
   "execution_count": null,
   "metadata": {
    "collapsed": false
   },
   "outputs": [],
   "source": [
    "scatter_matrix = np.zeros((3,3))\n",
    "\n",
    "for i in range(all_samples.shape[1]):\n",
    "    scatter_matrix +=(all_samples[:,i].reshape(3,1)).dot(\n",
    "    (all_samples[:,i].reshape(3,1)-mean_vector).T)\n",
    "print('Scatter Matrix\\n',scatter_matrix)    "
   ]
  },
  {
   "cell_type": "code",
   "execution_count": null,
   "metadata": {
    "collapsed": false
   },
   "outputs": [],
   "source": [
    "cov_mat = np.cov([all_samples[0,:], all_samples[1,:],all_samples[2,:]])\n",
    "print('Covariance Matrix:\\n', cov_mat)"
   ]
  },
  {
   "cell_type": "code",
   "execution_count": null,
   "metadata": {
    "collapsed": false
   },
   "outputs": [],
   "source": [
    "# eigenvectors and eigenvalues for the from the scatter matrix\n",
    "eig_val_sc, eig_vec_sc = np.linalg.eig(scatter_matrix)\n",
    "\n",
    "# eigenvectors and eigenvalues for the from the covariance matrix\n",
    "eig_val_cov, eig_vec_cov = np.linalg.eig(cov_mat)\n",
    "\n",
    "for i in range(len(eig_val_sc)):\n",
    "    eigvec_sc = eig_vec_sc[:,i].reshape(1,3).T\n",
    "    eigvec_cov = eig_vec_cov[:,i].reshape(1,3).T\n",
    "    assert eigvec_sc.all() == eigvec_cov.all(), 'Eigenvectors are not identical'\n",
    "\n",
    "    print('Eigenvector {}: \\n{}'.format(i+1, eigvec_sc))\n",
    "    print('Eigenvalue {} from scatter matrix: {}'.format(i+1, eig_val_sc[i]))\n",
    "    print('Eigenvalue {} from covariance matrix: {}'.format(i+1, eig_val_cov[i]))\n",
    "    print('Scaling factor: ', eig_val_sc[i]/eig_val_cov[i])\n",
    "    print(40 * '-')"
   ]
  },
  {
   "cell_type": "code",
   "execution_count": null,
   "metadata": {
    "collapsed": false
   },
   "outputs": [],
   "source": [
    "for i in range(len(eig_val_sc)):\n",
    "    eigv = eig_vec_sc[:,i].reshape(1,3).T\n",
    "    np.testing.assert_array_almost_equal(scatter_matrix.dot(eigv),\n",
    "                                         eig_val_sc[i] * eigv,\n",
    "                                         decimal=6, err_msg='', verbose=True)"
   ]
  },
  {
   "cell_type": "code",
   "execution_count": null,
   "metadata": {
    "collapsed": false
   },
   "outputs": [],
   "source": [
    "%matplotlib inline\n",
    "\n",
    "from matplotlib import pyplot as plt\n",
    "from mpl_toolkits.mplot3d import Axes3D\n",
    "from mpl_toolkits.mplot3d import proj3d\n",
    "from matplotlib.patches import FancyArrowPatch\n",
    "\n",
    "\n",
    "class Arrow3D(FancyArrowPatch):\n",
    "    def __init__(self, xs, ys, zs, *args, **kwargs):\n",
    "        FancyArrowPatch.__init__(self, (0,0), (0,0), *args, **kwargs)\n",
    "        self._verts3d = xs, ys, zs\n",
    "\n",
    "    def draw(self, renderer):\n",
    "        xs3d, ys3d, zs3d = self._verts3d\n",
    "        xs, ys, zs = proj3d.proj_transform(xs3d, ys3d, zs3d, renderer.M)\n",
    "        self.set_positions((xs[0],ys[0]),(xs[1],ys[1]))\n",
    "        FancyArrowPatch.draw(self, renderer)\n",
    "\n",
    "fig = plt.figure(figsize=(7,7))\n",
    "ax = fig.add_subplot(111, projection='3d')\n",
    "\n",
    "ax.plot(all_samples[0,:], all_samples[1,:], all_samples[2,:],\n",
    "        'o', markersize=8, color='green', alpha=0.2)\n",
    "ax.plot([mean_x], [mean_y], [mean_z],\n",
    "        'o', markersize=10, color='red', alpha=0.5)\n",
    "for v in eig_vec_sc.T:\n",
    "    a = Arrow3D([mean_x, v[0]+mean_x],\n",
    "                [mean_y, v[1]+mean_y],\n",
    "                [mean_z, v[2]+mean_z],\n",
    "                mutation_scale=20, lw=3, arrowstyle=\"-|>\", color=\"r\")\n",
    "\n",
    "    ax.add_artist(a)\n",
    "ax.set_xlabel('x_values')\n",
    "ax.set_ylabel('y_values')\n",
    "ax.set_zlabel('z_values')\n",
    "\n",
    "plt.title('Eigenvectors')\n",
    "\n",
    "plt.show()\n",
    "multi_columns = pd.MultiIndex.from_product([[ticker1, ticker2, ticker3],data_1.columns.values], names=['first', 'second'])\n"
   ]
  },
  {
   "cell_type": "code",
   "execution_count": null,
   "metadata": {
    "collapsed": false
   },
   "outputs": [],
   "source": [
    "transformed = matrix_w.T.dot(all_samples)\n",
    "assert transformed.shape == (2,40), \"The matrix is not 2x40 dimensional.\"\n",
    "transformed\n",
    "matrix_w"
   ]
  },
  {
   "cell_type": "code",
   "execution_count": null,
   "metadata": {
    "collapsed": false
   },
   "outputs": [],
   "source": [
    "import matplotlib.pyplot as plt\n",
    "plt.plot(merged_dataframe.index,(merged_dataframe['BOH2016']['close_price']+merged_dataframe['BON2016']['close_price'])/2-\n",
    "         merged_dataframe['BOK2016']['close_price'])\n",
    "         \n",
    "         \n",
    "plt.show()"
   ]
  },
  {
   "cell_type": "code",
   "execution_count": null,
   "metadata": {
    "collapsed": false
   },
   "outputs": [],
   "source": [
    "(merged_dataframe['BOH2016']['close_price']+merged_dataframe['BON2016']['close_price'])/2-merged_dataframe['BOK2016']['close_price']"
   ]
  },
  {
   "cell_type": "code",
   "execution_count": null,
   "metadata": {
    "collapsed": false
   },
   "outputs": [],
   "source": [
    "\n",
    "\n",
    "import matplotlib.pyplot as plt\n",
    "plt.plot(range(len(aligned_dataframe.index)),aligned_dataframe['c1']['tr_dte'],\n",
    "         range(len(aligned_dataframe.index)),aligned_dataframe['c2']['tr_dte'],\n",
    "         range(len(aligned_dataframe.index)),aligned_dataframe['c3']['tr_dte'])\n",
    "plt.grid()         \n",
    "         \n",
    "plt.show()\n",
    "\n",
    "    \n",
    "\n",
    "    "
   ]
  },
  {
   "cell_type": "code",
   "execution_count": null,
   "metadata": {
    "collapsed": false
   },
   "outputs": [],
   "source": [
    "merged_dataframe['c1']['tr_dte'].isnull().sum()\n",
    "merged_dataframe['c3']['tr_dte'].isnull().sum()"
   ]
  },
  {
   "cell_type": "code",
   "execution_count": null,
   "metadata": {
    "collapsed": false
   },
   "outputs": [],
   "source": [
    "futures_dataframe"
   ]
  },
  {
   "cell_type": "code",
   "execution_count": null,
   "metadata": {
    "collapsed": false
   },
   "outputs": [],
   "source": [
    "print(trDte1)\n",
    "print(trDte2)\n",
    "print(trDte3)"
   ]
  },
  {
   "cell_type": "code",
   "execution_count": null,
   "metadata": {
    "collapsed": false
   },
   "outputs": [],
   "source": [
    "bf_price = (aligned_dataframe['c1']['close_price']+aligned_dataframe['c3']['close_price'])/2-aligned_dataframe['c2']['close_price']"
   ]
  },
  {
   "cell_type": "code",
   "execution_count": null,
   "metadata": {
    "collapsed": false
   },
   "outputs": [],
   "source": [
    "plt.plot(range(len(aligned_dataframe.index)),bf_price)\n",
    "plt.grid()         \n",
    "         \n",
    "plt.show()"
   ]
  },
  {
   "cell_type": "code",
   "execution_count": null,
   "metadata": {
    "collapsed": true
   },
   "outputs": [],
   "source": [
    "import matplotlib.pyplot as plt\n",
    "plt.plot(price_ratio)\n",
    "plt.grid()\n",
    "plt.show()"
   ]
  },
  {
   "cell_type": "code",
   "execution_count": 5,
   "metadata": {
    "collapsed": false
   },
   "outputs": [
    {
     "data": {
      "text/plain": [
       "array([[ nan,  nan],\n",
       "       [ nan,  nan]])"
      ]
     },
     "execution_count": 5,
     "metadata": {},
     "output_type": "execute_result"
    }
   ],
   "source": [
    "import numpy as np\n",
    "nan_matrix = np.empty((2,2))\n",
    "nan_matrix[:] = np.NAN\n",
    "nan_matrix"
   ]
  },
  {
   "cell_type": "code",
   "execution_count": null,
   "metadata": {
    "collapsed": true
   },
   "outputs": [],
   "source": []
  }
 ],
 "metadata": {
  "kernelspec": {
   "display_name": "Python 3",
   "language": "python",
   "name": "python3"
  },
  "language_info": {
   "codemirror_mode": {
    "name": "ipython",
    "version": 3
   },
   "file_extension": ".py",
   "mimetype": "text/x-python",
   "name": "python",
   "nbconvert_exporter": "python",
   "pygments_lexer": "ipython3",
   "version": "3.4.3"
  }
 },
 "nbformat": 4,
 "nbformat_minor": 0
}
