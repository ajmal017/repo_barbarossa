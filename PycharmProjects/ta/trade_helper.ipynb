{
 "cells": [
  {
   "cell_type": "code",
   "execution_count": 5,
   "metadata": {
    "collapsed": true
   },
   "outputs": [],
   "source": [
    "import contract_utilities.expiration as exp\n",
    "report_date = exp.doubledate_shift_bus_days()"
   ]
  },
  {
   "cell_type": "code",
   "execution_count": 6,
   "metadata": {
    "collapsed": false
   },
   "outputs": [
    {
     "data": {
      "text/plain": [
       "4"
      ]
     },
     "execution_count": 6,
     "metadata": {},
     "output_type": "execute_result"
    }
   ],
   "source": [
    "# Create DB Strategy\n",
    "\n",
    "import ta.strategy as ts\n",
    "ts.generate_db_strategy_from_strategy_sheet(id=227,strategy_class='futures_butterfly',report_date=report_date)"
   ]
  },
  {
   "cell_type": "code",
   "execution_count": 10,
   "metadata": {
    "collapsed": false
   },
   "outputs": [],
   "source": [
    "import ta.tt_fill_loader as tfl\n",
    "tfl.load_tt_trades()\n",
    "#tfl.assign_trades_2strategies()\n",
    "\n",
    "\n",
    "\n",
    "\n",
    "\n"
   ]
  },
  {
   "cell_type": "code",
   "execution_count": 16,
   "metadata": {
    "collapsed": false
   },
   "outputs": [
    {
     "data": {
      "text/html": [
       "<div>\n",
       "<table border=\"1\" class=\"dataframe\">\n",
       "  <thead>\n",
       "    <tr style=\"text-align: right;\">\n",
       "      <th></th>\n",
       "      <th>id</th>\n",
       "      <th>alias</th>\n",
       "      <th>open_date</th>\n",
       "      <th>close_date</th>\n",
       "      <th>pnl</th>\n",
       "      <th>created_date</th>\n",
       "      <th>last_updated_date</th>\n",
       "      <th>description_string</th>\n",
       "      <th>daily_pnl</th>\n",
       "      <th>total_pnl</th>\n",
       "    </tr>\n",
       "  </thead>\n",
       "  <tbody>\n",
       "    <tr>\n",
       "      <th>0</th>\n",
       "      <td>1</td>\n",
       "      <td>HON2016Q2016Q2016U2016</td>\n",
       "      <td>2016-01-07</td>\n",
       "      <td>3000-01-01 00:00:00</td>\n",
       "      <td>None</td>\n",
       "      <td>2016-01-07</td>\n",
       "      <td>2016-01-07</td>\n",
       "      <td>strategy_class=futures_butterfly&amp;ticker1=HON20...</td>\n",
       "      <td>-436</td>\n",
       "      <td>-329</td>\n",
       "    </tr>\n",
       "    <tr>\n",
       "      <th>1</th>\n",
       "      <td>2</td>\n",
       "      <td>CK2016N2016H2016K2016</td>\n",
       "      <td>2016-01-08</td>\n",
       "      <td>3000-01-01 00:00:00</td>\n",
       "      <td>None</td>\n",
       "      <td>2016-01-08</td>\n",
       "      <td>2016-01-08</td>\n",
       "      <td>strategy_class=futures_butterfly&amp;ticker1=CH201...</td>\n",
       "      <td>-36</td>\n",
       "      <td>-36</td>\n",
       "    </tr>\n",
       "    <tr>\n",
       "      <th>2</th>\n",
       "      <td>3</td>\n",
       "      <td>RBX2016Z2016V2016X2016</td>\n",
       "      <td>2016-01-08</td>\n",
       "      <td>3000-01-01 00:00:00</td>\n",
       "      <td>None</td>\n",
       "      <td>2016-01-08</td>\n",
       "      <td>2016-01-08</td>\n",
       "      <td>strategy_class=futures_butterfly&amp;ticker1=RBV20...</td>\n",
       "      <td>17</td>\n",
       "      <td>17</td>\n",
       "    </tr>\n",
       "  </tbody>\n",
       "</table>\n",
       "</div>"
      ],
      "text/plain": [
       "   id                   alias  open_date           close_date   pnl  \\\n",
       "0   1  HON2016Q2016Q2016U2016 2016-01-07  3000-01-01 00:00:00  None   \n",
       "1   2   CK2016N2016H2016K2016 2016-01-08  3000-01-01 00:00:00  None   \n",
       "2   3  RBX2016Z2016V2016X2016 2016-01-08  3000-01-01 00:00:00  None   \n",
       "\n",
       "  created_date last_updated_date  \\\n",
       "0   2016-01-07        2016-01-07   \n",
       "1   2016-01-08        2016-01-08   \n",
       "2   2016-01-08        2016-01-08   \n",
       "\n",
       "                                  description_string  daily_pnl  total_pnl  \n",
       "0  strategy_class=futures_butterfly&ticker1=HON20...       -436       -329  \n",
       "1  strategy_class=futures_butterfly&ticker1=CH201...        -36        -36  \n",
       "2  strategy_class=futures_butterfly&ticker1=RBV20...         17         17  "
      ]
     },
     "execution_count": 16,
     "metadata": {},
     "output_type": "execute_result"
    }
   ],
   "source": [
    "import ta.strategy as ts\n",
    "wuhu = ts.get_open_strategies()\n",
    "import ta.pnl as tapnl\n",
    "\n",
    "pnl_output = [tapnl.get_strategy_pnl(alias=x) for x in wuhu['alias']]\n",
    "pnl_output[2]['daily_pnl']\n",
    "\n",
    "wuhu['daily_pnl'] = [x['daily_pnl'] for x in pnl_output]\n",
    "wuhu['total_pnl'] = [x['total_pnl'] for x in pnl_output]\n",
    "\n",
    "wuhu"
   ]
  },
  {
   "cell_type": "code",
   "execution_count": 1,
   "metadata": {
    "collapsed": false
   },
   "outputs": [
    {
     "data": {
      "text/html": [
       "<div>\n",
       "<table border=\"1\" class=\"dataframe\">\n",
       "  <thead>\n",
       "    <tr style=\"text-align: right;\">\n",
       "      <th></th>\n",
       "      <th>alias</th>\n",
       "      <th>daily_pnl</th>\n",
       "      <th>total_pnl</th>\n",
       "    </tr>\n",
       "  </thead>\n",
       "  <tbody>\n",
       "    <tr>\n",
       "      <th>3</th>\n",
       "      <td>LCV2016G2017M2016V2016</td>\n",
       "      <td>351</td>\n",
       "      <td>351</td>\n",
       "    </tr>\n",
       "    <tr>\n",
       "      <th>1</th>\n",
       "      <td>CK2016N2016H2016K2016</td>\n",
       "      <td>150</td>\n",
       "      <td>150</td>\n",
       "    </tr>\n",
       "    <tr>\n",
       "      <th>0</th>\n",
       "      <td>HON2016Q2016Q2016U2016</td>\n",
       "      <td>-29</td>\n",
       "      <td>-358</td>\n",
       "    </tr>\n",
       "    <tr>\n",
       "      <th>2</th>\n",
       "      <td>RBX2016Z2016V2016X2016</td>\n",
       "      <td>-586</td>\n",
       "      <td>-586</td>\n",
       "    </tr>\n",
       "    <tr>\n",
       "      <th>4</th>\n",
       "      <td>TOTAL</td>\n",
       "      <td>-114</td>\n",
       "      <td>-443</td>\n",
       "    </tr>\n",
       "  </tbody>\n",
       "</table>\n",
       "</div>"
      ],
      "text/plain": [
       "                    alias  daily_pnl  total_pnl\n",
       "3  LCV2016G2017M2016V2016        351        351\n",
       "1   CK2016N2016H2016K2016        150        150\n",
       "0  HON2016Q2016Q2016U2016        -29       -358\n",
       "2  RBX2016Z2016V2016X2016       -586       -586\n",
       "4                   TOTAL       -114       -443"
      ]
     },
     "execution_count": 1,
     "metadata": {},
     "output_type": "execute_result"
    }
   ],
   "source": [
    "import ta.portfolio_manager as tpm\n",
    "wuhu = tpm.get_daily_pnl_snapshot()\n",
    "wuhu"
   ]
  },
  {
   "cell_type": "code",
   "execution_count": 1,
   "metadata": {
    "collapsed": false
   },
   "outputs": [
    {
     "data": {
      "text/plain": [
       "{'daily_pnl': -436,\n",
       " 'pnl_frame':    settle_date  position_pnl  intraday_pnl  t_cost  total_pnl\n",
       " 0     20160107             0           214     106        107\n",
       " 1     20160108          -436             0       0       -436,\n",
       " 'total_pnl': -329}"
      ]
     },
     "execution_count": 1,
     "metadata": {},
     "output_type": "execute_result"
    }
   ],
   "source": [
    "import ta.pnl as tapnl\n",
    "import shared.calendar_utilities as cu\n",
    "pnl_date = 20160108\n",
    "import decimal as dec\n",
    "import pandas as pd\n",
    "\n",
    "wuhu = tapnl.get_strategy_pnl(alias='HON2016Q2016Q2016U2016')\n",
    "wuhu"
   ]
  },
  {
   "cell_type": "code",
   "execution_count": 9,
   "metadata": {
    "collapsed": false
   },
   "outputs": [
    {
     "data": {
      "text/plain": [
       "87.1"
      ]
     },
     "execution_count": 9,
     "metadata": {},
     "output_type": "execute_result"
    }
   ],
   "source": [
    "(abs(trades_frame['trade_quantity']*trades_frame['t_cost'])).sum()\n"
   ]
  },
  {
   "cell_type": "code",
   "execution_count": 7,
   "metadata": {
    "collapsed": false
   },
   "outputs": [
    {
     "data": {
      "text/plain": [
       "30000101"
      ]
     },
     "execution_count": 7,
     "metadata": {},
     "output_type": "execute_result"
    }
   ],
   "source": [
    "import ta.pnl as tapnl\n",
    "alias = 'HON2016Q2016Q2016U2016'\n",
    "pnl_out = tapnl.get_strategy_pnl(alias=alias)\n",
    "int(pnl_out['open_date'].strftime('%Y%m%d'))\n",
    "int(pnl_out['close_date'].strftime('%Y%m%d'))"
   ]
  },
  {
   "cell_type": "code",
   "execution_count": 3,
   "metadata": {
    "collapsed": false
   },
   "outputs": [
    {
     "data": {
      "text/plain": [
       "datetime.datetime(2016, 1, 7, 0, 0)"
      ]
     },
     "execution_count": 3,
     "metadata": {},
     "output_type": "execute_result"
    }
   ],
   "source": [
    "alias = 'HON2016Q2016Q2016U2016'\n",
    "import ta.strategy as ts\n",
    "import contract_utilities.expiration as exp\n",
    "strategy_info = ts.get_strategy_info_from_alias(alias=alias)\n",
    "strategy_info['open_date']"
   ]
  },
  {
   "cell_type": "code",
   "execution_count": 4,
   "metadata": {
    "collapsed": false
   },
   "outputs": [
    {
     "data": {
      "text/plain": [
       "20160108"
      ]
     },
     "execution_count": 4,
     "metadata": {},
     "output_type": "execute_result"
    }
   ],
   "source": [
    "date_from = strategy_info['open_date']\n",
    "exp.doubledate_shift_bus_days()"
   ]
  },
  {
   "cell_type": "code",
   "execution_count": 2,
   "metadata": {
    "collapsed": false
   },
   "outputs": [
    {
     "data": {
      "text/plain": [
       "[20160107, 20160108]"
      ]
     },
     "execution_count": 2,
     "metadata": {},
     "output_type": "execute_result"
    }
   ],
   "source": [
    "import contract_utilities.expiration as exp\n",
    "wuhu = exp.get_bus_day_list(date_from=20160107,date_to=20160108)\n",
    "wuhu"
   ]
  },
  {
   "cell_type": "code",
   "execution_count": 6,
   "metadata": {
    "collapsed": false
   },
   "outputs": [
    {
     "data": {
      "text/plain": [
       "[20160107, 20160108, 20160111]"
      ]
     },
     "execution_count": 6,
     "metadata": {},
     "output_type": "execute_result"
    }
   ],
   "source": []
  },
  {
   "cell_type": "code",
   "execution_count": null,
   "metadata": {
    "collapsed": true
   },
   "outputs": [],
   "source": []
  }
 ],
 "metadata": {
  "kernelspec": {
   "display_name": "Python 3",
   "language": "python",
   "name": "python3"
  },
  "language_info": {
   "codemirror_mode": {
    "name": "ipython",
    "version": 3
   },
   "file_extension": ".py",
   "mimetype": "text/x-python",
   "name": "python",
   "nbconvert_exporter": "python",
   "pygments_lexer": "ipython3",
   "version": "3.4.3"
  }
 },
 "nbformat": 4,
 "nbformat_minor": 0
}
