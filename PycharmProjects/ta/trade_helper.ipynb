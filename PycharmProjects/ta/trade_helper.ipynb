{
 "cells": [
  {
   "cell_type": "code",
   "execution_count": 1,
   "metadata": {
    "collapsed": true
   },
   "outputs": [],
   "source": [
    "import contract_utilities.expiration as exp\n",
    "report_date = exp.doubledate_shift_bus_days()"
   ]
  },
  {
   "cell_type": "code",
   "execution_count": 2,
   "metadata": {
    "collapsed": false
   },
   "outputs": [
    {
     "data": {
      "text/plain": [
       "23"
      ]
     },
     "execution_count": 2,
     "metadata": {},
     "output_type": "execute_result"
    }
   ],
   "source": [
    "# Create DB Strategy\n",
    "\n",
    "import ta.strategy as ts\n",
    "ts.generate_db_strategy_from_strategy_sheet(id=79,strategy_class='futures_butterfly',report_date=report_date)"
   ]
  },
  {
   "cell_type": "code",
   "execution_count": 2,
   "metadata": {
    "collapsed": false
   },
   "outputs": [
    {
     "data": {
      "text/plain": [
       "20"
      ]
     },
     "execution_count": 2,
     "metadata": {},
     "output_type": "execute_result"
    }
   ],
   "source": [
    "# Create Misc Strategy\n",
    "import ta.strategy as ts\n",
    "ts.generate_db_strategy_from_alias(alias='B_pca_Jan16',description_string='strategy_class=curve_pca&betsize=500')\n"
   ]
  },
  {
   "cell_type": "code",
   "execution_count": 1,
   "metadata": {
    "collapsed": false
   },
   "outputs": [],
   "source": [
    "import ta.tt_fill_loader as tfl\n",
    "import datetime as dt\n",
    "#wuhu = tfl.assign_trades_2strategies()\n",
    "\n",
    "tfl.load_tt_trades()\n",
    "\n",
    "#wuhu = tfl.get_formatted_tt_fills()\n",
    "#wuhu\n",
    "\n",
    "#dt.datetime.strptime(wuhu['Contract'].values[40],'%y-%b')\n",
    "\n",
    "\n",
    "\n"
   ]
  },
  {
   "cell_type": "code",
   "execution_count": 1,
   "metadata": {
    "collapsed": false
   },
   "outputs": [
    {
     "data": {
      "text/html": [
       "<div>\n",
       "<table border=\"1\" class=\"dataframe\">\n",
       "  <thead>\n",
       "    <tr style=\"text-align: right;\">\n",
       "      <th></th>\n",
       "      <th>alias</th>\n",
       "      <th>daily_pnl</th>\n",
       "      <th>total_pnl</th>\n",
       "    </tr>\n",
       "  </thead>\n",
       "  <tbody>\n",
       "    <tr>\n",
       "      <th>2</th>\n",
       "      <td>LCV2016G2017M2016V2016</td>\n",
       "      <td>679</td>\n",
       "      <td>363</td>\n",
       "    </tr>\n",
       "    <tr>\n",
       "      <th>10</th>\n",
       "      <td>BG2017H2017F2017G2017</td>\n",
       "      <td>549</td>\n",
       "      <td>-262</td>\n",
       "    </tr>\n",
       "    <tr>\n",
       "      <th>4</th>\n",
       "      <td>BX2016Z2016Z2016F2017</td>\n",
       "      <td>310</td>\n",
       "      <td>-360</td>\n",
       "    </tr>\n",
       "    <tr>\n",
       "      <th>14</th>\n",
       "      <td>RBJ2017K2017K2017M2017</td>\n",
       "      <td>235</td>\n",
       "      <td>235</td>\n",
       "    </tr>\n",
       "    <tr>\n",
       "      <th>1</th>\n",
       "      <td>RBX2016Z2016V2016X2016</td>\n",
       "      <td>230</td>\n",
       "      <td>-1906</td>\n",
       "    </tr>\n",
       "    <tr>\n",
       "      <th>0</th>\n",
       "      <td>CK2016N2016H2016K2016</td>\n",
       "      <td>187</td>\n",
       "      <td>151</td>\n",
       "    </tr>\n",
       "    <tr>\n",
       "      <th>13</th>\n",
       "      <td>CLU2016Z2016Z2016H2017</td>\n",
       "      <td>150</td>\n",
       "      <td>81</td>\n",
       "    </tr>\n",
       "    <tr>\n",
       "      <th>5</th>\n",
       "      <td>CL-Jan16-Carry</td>\n",
       "      <td>119</td>\n",
       "      <td>185</td>\n",
       "    </tr>\n",
       "    <tr>\n",
       "      <th>9</th>\n",
       "      <td>spreadCarryJan16</td>\n",
       "      <td>101</td>\n",
       "      <td>-329</td>\n",
       "    </tr>\n",
       "    <tr>\n",
       "      <th>7</th>\n",
       "      <td>NGX2016F2017U2016X2016</td>\n",
       "      <td>60</td>\n",
       "      <td>-39</td>\n",
       "    </tr>\n",
       "    <tr>\n",
       "      <th>12</th>\n",
       "      <td>CCK2016N2016N2016U2016</td>\n",
       "      <td>60</td>\n",
       "      <td>10</td>\n",
       "    </tr>\n",
       "    <tr>\n",
       "      <th>8</th>\n",
       "      <td>SN2016Q2016K2016N2016</td>\n",
       "      <td>12</td>\n",
       "      <td>-59</td>\n",
       "    </tr>\n",
       "    <tr>\n",
       "      <th>6</th>\n",
       "      <td>NGM2016N2016N2016Q2016</td>\n",
       "      <td>-50</td>\n",
       "      <td>134</td>\n",
       "    </tr>\n",
       "    <tr>\n",
       "      <th>3</th>\n",
       "      <td>LNZ2016G2017V2016Z2016</td>\n",
       "      <td>-90</td>\n",
       "      <td>12</td>\n",
       "    </tr>\n",
       "    <tr>\n",
       "      <th>11</th>\n",
       "      <td>SX2016F2017F2017H2017</td>\n",
       "      <td>-725</td>\n",
       "      <td>178</td>\n",
       "    </tr>\n",
       "    <tr>\n",
       "      <th>15</th>\n",
       "      <td>TOTAL</td>\n",
       "      <td>1827</td>\n",
       "      <td>-1606</td>\n",
       "    </tr>\n",
       "  </tbody>\n",
       "</table>\n",
       "</div>"
      ],
      "text/plain": [
       "                     alias  daily_pnl  total_pnl\n",
       "2   LCV2016G2017M2016V2016        679        363\n",
       "10   BG2017H2017F2017G2017        549       -262\n",
       "4    BX2016Z2016Z2016F2017        310       -360\n",
       "14  RBJ2017K2017K2017M2017        235        235\n",
       "1   RBX2016Z2016V2016X2016        230      -1906\n",
       "0    CK2016N2016H2016K2016        187        151\n",
       "13  CLU2016Z2016Z2016H2017        150         81\n",
       "5           CL-Jan16-Carry        119        185\n",
       "9         spreadCarryJan16        101       -329\n",
       "7   NGX2016F2017U2016X2016         60        -39\n",
       "12  CCK2016N2016N2016U2016         60         10\n",
       "8    SN2016Q2016K2016N2016         12        -59\n",
       "6   NGM2016N2016N2016Q2016        -50        134\n",
       "3   LNZ2016G2017V2016Z2016        -90         12\n",
       "11   SX2016F2017F2017H2017       -725        178\n",
       "15                   TOTAL       1827      -1606"
      ]
     },
     "execution_count": 1,
     "metadata": {},
     "output_type": "execute_result"
    }
   ],
   "source": [
    "import ta.portfolio_manager as tpm\n",
    "import time\n",
    "\n",
    "# pnl_date\n",
    "wuhu = tpm.get_daily_pnl_snapshot()   # as_of_date=20160114  5.24 seconds\n",
    "wuhu"
   ]
  },
  {
   "cell_type": "code",
   "execution_count": 2,
   "metadata": {
    "collapsed": false
   },
   "outputs": [
    {
     "data": {
      "text/html": [
       "<div>\n",
       "<table border=\"1\" class=\"dataframe\">\n",
       "  <thead>\n",
       "    <tr style=\"text-align: right;\">\n",
       "      <th></th>\n",
       "      <th>alias</th>\n",
       "      <th>holding_tr_dte</th>\n",
       "      <th>short_tr_dte</th>\n",
       "      <th>z1_initial</th>\n",
       "      <th>z1</th>\n",
       "      <th>QF_initial</th>\n",
       "      <th>QF</th>\n",
       "    </tr>\n",
       "  </thead>\n",
       "  <tbody>\n",
       "    <tr>\n",
       "      <th>1</th>\n",
       "      <td>RBX2016Z2016V2016X2016</td>\n",
       "      <td>11</td>\n",
       "      <td>174</td>\n",
       "      <td>2.68</td>\n",
       "      <td>3.68</td>\n",
       "      <td>92</td>\n",
       "      <td>84</td>\n",
       "    </tr>\n",
       "    <tr>\n",
       "      <th>8</th>\n",
       "      <td>BG2017H2017F2017G2017</td>\n",
       "      <td>3</td>\n",
       "      <td>217</td>\n",
       "      <td>1.64</td>\n",
       "      <td>1.61</td>\n",
       "      <td>92</td>\n",
       "      <td>82</td>\n",
       "    </tr>\n",
       "    <tr>\n",
       "      <th>2</th>\n",
       "      <td>LCV2016G2017M2016V2016</td>\n",
       "      <td>10</td>\n",
       "      <td>110</td>\n",
       "      <td>1.43</td>\n",
       "      <td>1.39</td>\n",
       "      <td>77</td>\n",
       "      <td>80</td>\n",
       "    </tr>\n",
       "    <tr>\n",
       "      <th>7</th>\n",
       "      <td>SN2016Q2016K2016N2016</td>\n",
       "      <td>6</td>\n",
       "      <td>77</td>\n",
       "      <td>1.13</td>\n",
       "      <td>1.14</td>\n",
       "      <td>72</td>\n",
       "      <td>77</td>\n",
       "    </tr>\n",
       "    <tr>\n",
       "      <th>3</th>\n",
       "      <td>LNZ2016G2017V2016Z2016</td>\n",
       "      <td>8</td>\n",
       "      <td>184</td>\n",
       "      <td>1.86</td>\n",
       "      <td>1.78</td>\n",
       "      <td>90</td>\n",
       "      <td>74</td>\n",
       "    </tr>\n",
       "    <tr>\n",
       "      <th>6</th>\n",
       "      <td>NGX2016F2017U2016X2016</td>\n",
       "      <td>6</td>\n",
       "      <td>151</td>\n",
       "      <td>2.04</td>\n",
       "      <td>2.12</td>\n",
       "      <td>64</td>\n",
       "      <td>69</td>\n",
       "    </tr>\n",
       "    <tr>\n",
       "      <th>0</th>\n",
       "      <td>CK2016N2016H2016K2016</td>\n",
       "      <td>11</td>\n",
       "      <td>34</td>\n",
       "      <td>1.28</td>\n",
       "      <td>1.08</td>\n",
       "      <td>95</td>\n",
       "      <td>62</td>\n",
       "    </tr>\n",
       "    <tr>\n",
       "      <th>9</th>\n",
       "      <td>SX2016F2017F2017H2017</td>\n",
       "      <td>3</td>\n",
       "      <td>205</td>\n",
       "      <td>-0.71</td>\n",
       "      <td>-0.40</td>\n",
       "      <td>8</td>\n",
       "      <td>28</td>\n",
       "    </tr>\n",
       "    <tr>\n",
       "      <th>11</th>\n",
       "      <td>CLU2016Z2016Z2016H2017</td>\n",
       "      <td>2</td>\n",
       "      <td>146</td>\n",
       "      <td>-0.82</td>\n",
       "      <td>-0.58</td>\n",
       "      <td>10</td>\n",
       "      <td>23</td>\n",
       "    </tr>\n",
       "    <tr>\n",
       "      <th>5</th>\n",
       "      <td>NGM2016N2016N2016Q2016</td>\n",
       "      <td>6</td>\n",
       "      <td>86</td>\n",
       "      <td>-2.48</td>\n",
       "      <td>-2.25</td>\n",
       "      <td>1</td>\n",
       "      <td>13</td>\n",
       "    </tr>\n",
       "    <tr>\n",
       "      <th>12</th>\n",
       "      <td>RBJ2017K2017K2017M2017</td>\n",
       "      <td>1</td>\n",
       "      <td>299</td>\n",
       "      <td>-2.42</td>\n",
       "      <td>-2.10</td>\n",
       "      <td>5</td>\n",
       "      <td>10</td>\n",
       "    </tr>\n",
       "    <tr>\n",
       "      <th>10</th>\n",
       "      <td>CCK2016N2016N2016U2016</td>\n",
       "      <td>2</td>\n",
       "      <td>77</td>\n",
       "      <td>-0.77</td>\n",
       "      <td>-0.76</td>\n",
       "      <td>5</td>\n",
       "      <td>7</td>\n",
       "    </tr>\n",
       "    <tr>\n",
       "      <th>4</th>\n",
       "      <td>BX2016Z2016Z2016F2017</td>\n",
       "      <td>9</td>\n",
       "      <td>175</td>\n",
       "      <td>-4.18</td>\n",
       "      <td>-3.95</td>\n",
       "      <td>2</td>\n",
       "      <td>5</td>\n",
       "    </tr>\n",
       "  </tbody>\n",
       "</table>\n",
       "</div>"
      ],
      "text/plain": [
       "                     alias  holding_tr_dte  short_tr_dte  z1_initial    z1  \\\n",
       "1   RBX2016Z2016V2016X2016              11           174        2.68  3.68   \n",
       "8    BG2017H2017F2017G2017               3           217        1.64  1.61   \n",
       "2   LCV2016G2017M2016V2016              10           110        1.43  1.39   \n",
       "7    SN2016Q2016K2016N2016               6            77        1.13  1.14   \n",
       "3   LNZ2016G2017V2016Z2016               8           184        1.86  1.78   \n",
       "6   NGX2016F2017U2016X2016               6           151        2.04  2.12   \n",
       "0    CK2016N2016H2016K2016              11            34        1.28  1.08   \n",
       "9    SX2016F2017F2017H2017               3           205       -0.71 -0.40   \n",
       "11  CLU2016Z2016Z2016H2017               2           146       -0.82 -0.58   \n",
       "5   NGM2016N2016N2016Q2016               6            86       -2.48 -2.25   \n",
       "12  RBJ2017K2017K2017M2017               1           299       -2.42 -2.10   \n",
       "10  CCK2016N2016N2016U2016               2            77       -0.77 -0.76   \n",
       "4    BX2016Z2016Z2016F2017               9           175       -4.18 -3.95   \n",
       "\n",
       "    QF_initial  QF  \n",
       "1           92  84  \n",
       "8           92  82  \n",
       "2           77  80  \n",
       "7           72  77  \n",
       "3           90  74  \n",
       "6           64  69  \n",
       "0           95  62  \n",
       "9            8  28  \n",
       "11          10  23  \n",
       "5            1  13  \n",
       "12           5  10  \n",
       "10           5   7  \n",
       "4            2   5  "
      ]
     },
     "execution_count": 2,
     "metadata": {},
     "output_type": "execute_result"
    }
   ],
   "source": [
    "import formats.strategy_followup_formats as sff\n",
    "sff.generate_futures_butterfly_followup_report()"
   ]
  },
  {
   "cell_type": "code",
   "execution_count": 1,
   "metadata": {
    "collapsed": false
   },
   "outputs": [],
   "source": [
    "import get_price.presave_price as psp\n",
    "psp.generate_and_update_futures_data_file_4tickerhead(ticker_head='CL')"
   ]
  },
  {
   "cell_type": "code",
   "execution_count": 1,
   "metadata": {
    "collapsed": false
   },
   "outputs": [],
   "source": [
    "import ta.pnl as tapnl\n",
    "alias = 'HON2016Q2016Q2016U2016'\n",
    "tapnl.close_strategy(alias='HOM2016N2016N2016Q2016')\n"
   ]
  },
  {
   "cell_type": "code",
   "execution_count": 3,
   "metadata": {
    "collapsed": false
   },
   "outputs": [
    {
     "data": {
      "text/plain": [
       "datetime.datetime(2016, 1, 7, 0, 0)"
      ]
     },
     "execution_count": 3,
     "metadata": {},
     "output_type": "execute_result"
    }
   ],
   "source": [
    "alias = 'HON2016Q2016Q2016U2016'\n",
    "import ta.strategy as ts\n",
    "import contract_utilities.expiration as exp\n",
    "strategy_info = ts.get_strategy_info_from_alias(alias=alias)\n",
    "strategy_info['open_date']"
   ]
  },
  {
   "cell_type": "code",
   "execution_count": 4,
   "metadata": {
    "collapsed": false
   },
   "outputs": [
    {
     "data": {
      "text/plain": [
       "20160108"
      ]
     },
     "execution_count": 4,
     "metadata": {},
     "output_type": "execute_result"
    }
   ],
   "source": [
    "date_from = strategy_info['open_date']\n",
    "exp.doubledate_shift_bus_days()"
   ]
  },
  {
   "cell_type": "code",
   "execution_count": 2,
   "metadata": {
    "collapsed": false
   },
   "outputs": [
    {
     "data": {
      "text/plain": [
       "[20160107, 20160108]"
      ]
     },
     "execution_count": 2,
     "metadata": {},
     "output_type": "execute_result"
    }
   ],
   "source": [
    "import contract_utilities.expiration as exp\n",
    "wuhu = exp.get_bus_day_list(date_from=20160107,date_to=20160108)\n",
    "wuhu"
   ]
  },
  {
   "cell_type": "code",
   "execution_count": 6,
   "metadata": {
    "collapsed": false
   },
   "outputs": [
    {
     "data": {
      "text/plain": [
       "[20160107, 20160108, 20160111]"
      ]
     },
     "execution_count": 6,
     "metadata": {},
     "output_type": "execute_result"
    }
   ],
   "source": []
  },
  {
   "cell_type": "code",
   "execution_count": null,
   "metadata": {
    "collapsed": true
   },
   "outputs": [],
   "source": []
  }
 ],
 "metadata": {
  "kernelspec": {
   "display_name": "Python 3",
   "language": "python",
   "name": "python3"
  },
  "language_info": {
   "codemirror_mode": {
    "name": "ipython",
    "version": 3
   },
   "file_extension": ".py",
   "mimetype": "text/x-python",
   "name": "python",
   "nbconvert_exporter": "python",
   "pygments_lexer": "ipython3",
   "version": "3.4.3"
  }
 },
 "nbformat": 4,
 "nbformat_minor": 0
}
