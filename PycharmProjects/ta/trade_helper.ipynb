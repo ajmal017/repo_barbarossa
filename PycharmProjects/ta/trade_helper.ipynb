{
 "cells": [
  {
   "cell_type": "code",
   "execution_count": 5,
   "metadata": {
    "collapsed": true
   },
   "outputs": [],
   "source": [
    "import contract_utilities.expiration as exp\n",
    "report_date = exp.doubledate_shift_bus_days()"
   ]
  },
  {
   "cell_type": "code",
   "execution_count": 6,
   "metadata": {
    "collapsed": false
   },
   "outputs": [
    {
     "data": {
      "text/plain": [
       "180"
      ]
     },
     "execution_count": 6,
     "metadata": {},
     "output_type": "execute_result"
    }
   ],
   "source": [
    "# Create DB Strategy\n",
    "\n",
    "import ta.strategy as ts\n",
    "ts.generate_db_strategy_from_strategy_sheet(id=90,strategy_class='futures_butterfly',report_date=report_date)"
   ]
  },
  {
   "cell_type": "code",
   "execution_count": 19,
   "metadata": {
    "collapsed": false
   },
   "outputs": [
    {
     "data": {
      "text/plain": [
       "178"
      ]
     },
     "execution_count": 19,
     "metadata": {},
     "output_type": "execute_result"
    }
   ],
   "source": [
    "# Create Misc Strategy\n",
    "import ta.strategy as ts\n",
    "ts.generate_db_strategy_from_alias(alias='CH2017_short_scv',description_string='strategy_class=scv&betsize=3993')\n"
   ]
  },
  {
   "cell_type": "code",
   "execution_count": 9,
   "metadata": {
    "collapsed": false
   },
   "outputs": [],
   "source": [
    "import ta.trade_fill_loader as tfl\n",
    "import datetime as dt\n",
    "#wuhu = tfl.assign_trades_2strategies(trade_source='tt')\n",
    "#wuhu\n",
    "tfl.load_tt_trades()\n",
    "#tfl.load_cme_direct_trades()\n",
    "#tfl.load_manual_entry_trades()\n",
    "#wuhu = tfl.get_formatted_tt_fills()\n",
    "#wuhu['aggregate_trades']\n",
    "\n",
    "#tfl.load_latest_tt_fills()\n",
    "#dt.datetime.strptime(wuhu['Contract'].values[40],'%y-%b')\n",
    "\n",
    "\n",
    "#tfl.load_cme__fills()\n",
    "#wuhu = tfl.get_formatted_cme_direct_fills()\n",
    "#wuhu['aggregate_trades']"
   ]
  },
  {
   "cell_type": "code",
   "execution_count": 17,
   "metadata": {
    "collapsed": false
   },
   "outputs": [
    {
     "data": {
      "text/html": [
       "<div>\n",
       "<table border=\"1\" class=\"dataframe\">\n",
       "  <thead>\n",
       "    <tr style=\"text-align: right;\">\n",
       "      <th></th>\n",
       "      <th></th>\n",
       "      <th>trade_price</th>\n",
       "      <th>trade_quantity</th>\n",
       "      <th>ticker</th>\n",
       "      <th>ticker_head</th>\n",
       "      <th>instrument</th>\n",
       "      <th>option_type</th>\n",
       "      <th>strike_price</th>\n",
       "      <th>real_tradeQ</th>\n",
       "    </tr>\n",
       "    <tr>\n",
       "      <th>generalized_ticker</th>\n",
       "      <th>side</th>\n",
       "      <th></th>\n",
       "      <th></th>\n",
       "      <th></th>\n",
       "      <th></th>\n",
       "      <th></th>\n",
       "      <th></th>\n",
       "      <th></th>\n",
       "      <th></th>\n",
       "    </tr>\n",
       "  </thead>\n",
       "  <tbody>\n",
       "    <tr>\n",
       "      <th>CLX2016</th>\n",
       "      <th>Buy</th>\n",
       "      <td>51.30</td>\n",
       "      <td>1</td>\n",
       "      <td>CLX2016</td>\n",
       "      <td>CL</td>\n",
       "      <td>F</td>\n",
       "      <td>None</td>\n",
       "      <td>NaN</td>\n",
       "      <td>True</td>\n",
       "    </tr>\n",
       "    <tr>\n",
       "      <th>CLZ2016</th>\n",
       "      <th>Sell</th>\n",
       "      <td>51.63</td>\n",
       "      <td>-1</td>\n",
       "      <td>CLZ2016</td>\n",
       "      <td>CL</td>\n",
       "      <td>F</td>\n",
       "      <td>None</td>\n",
       "      <td>NaN</td>\n",
       "      <td>True</td>\n",
       "    </tr>\n",
       "    <tr>\n",
       "      <th>LCV2016</th>\n",
       "      <th>Sell</th>\n",
       "      <td>116.90</td>\n",
       "      <td>-1</td>\n",
       "      <td>LCV2016</td>\n",
       "      <td>LC</td>\n",
       "      <td>F</td>\n",
       "      <td>None</td>\n",
       "      <td>NaN</td>\n",
       "      <td>True</td>\n",
       "    </tr>\n",
       "    <tr>\n",
       "      <th>LCZ2016</th>\n",
       "      <th>Buy</th>\n",
       "      <td>116.90</td>\n",
       "      <td>1</td>\n",
       "      <td>LCZ2016</td>\n",
       "      <td>LC</td>\n",
       "      <td>F</td>\n",
       "      <td>None</td>\n",
       "      <td>NaN</td>\n",
       "      <td>True</td>\n",
       "    </tr>\n",
       "    <tr>\n",
       "      <th rowspan=\"2\" valign=\"top\">WU2016</th>\n",
       "      <th>Buy</th>\n",
       "      <td>508.25</td>\n",
       "      <td>4</td>\n",
       "      <td>WU2016</td>\n",
       "      <td>W</td>\n",
       "      <td>F</td>\n",
       "      <td>None</td>\n",
       "      <td>NaN</td>\n",
       "      <td>True</td>\n",
       "    </tr>\n",
       "    <tr>\n",
       "      <th>Sell</th>\n",
       "      <td>508.00</td>\n",
       "      <td>-1</td>\n",
       "      <td>WU2016</td>\n",
       "      <td>W</td>\n",
       "      <td>F</td>\n",
       "      <td>None</td>\n",
       "      <td>NaN</td>\n",
       "      <td>True</td>\n",
       "    </tr>\n",
       "    <tr>\n",
       "      <th>WZ2016</th>\n",
       "      <th>Sell</th>\n",
       "      <td>527.50</td>\n",
       "      <td>-2</td>\n",
       "      <td>WZ2016</td>\n",
       "      <td>W</td>\n",
       "      <td>F</td>\n",
       "      <td>None</td>\n",
       "      <td>NaN</td>\n",
       "      <td>True</td>\n",
       "    </tr>\n",
       "  </tbody>\n",
       "</table>\n",
       "</div>"
      ],
      "text/plain": [
       "                         trade_price  trade_quantity   ticker ticker_head  \\\n",
       "generalized_ticker side                                                     \n",
       "CLX2016            Buy         51.30               1  CLX2016          CL   \n",
       "CLZ2016            Sell        51.63              -1  CLZ2016          CL   \n",
       "LCV2016            Sell       116.90              -1  LCV2016          LC   \n",
       "LCZ2016            Buy        116.90               1  LCZ2016          LC   \n",
       "WU2016             Buy        508.25               4   WU2016           W   \n",
       "                   Sell       508.00              -1   WU2016           W   \n",
       "WZ2016             Sell       527.50              -2   WZ2016           W   \n",
       "\n",
       "                        instrument option_type  strike_price real_tradeQ  \n",
       "generalized_ticker side                                                   \n",
       "CLX2016            Buy           F        None           NaN        True  \n",
       "CLZ2016            Sell          F        None           NaN        True  \n",
       "LCV2016            Sell          F        None           NaN        True  \n",
       "LCZ2016            Buy           F        None           NaN        True  \n",
       "WU2016             Buy           F        None           NaN        True  \n",
       "                   Sell          F        None           NaN        True  \n",
       "WZ2016             Sell          F        None           NaN        True  "
      ]
     },
     "execution_count": 17,
     "metadata": {},
     "output_type": "execute_result"
    }
   ],
   "source": [
    "trade_frame = tfl.get_formatted_cme_direct_fills()\n",
    "trade_frame['aggregate_trades']"
   ]
  },
  {
   "cell_type": "code",
   "execution_count": 3,
   "metadata": {
    "collapsed": false
   },
   "outputs": [
    {
     "data": {
      "text/html": [
       "<div>\n",
       "<table border=\"1\" class=\"dataframe\">\n",
       "  <thead>\n",
       "    <tr style=\"text-align: right;\">\n",
       "      <th></th>\n",
       "      <th>ticker</th>\n",
       "      <th>option_type</th>\n",
       "      <th>strike_price</th>\n",
       "      <th>trade_price</th>\n",
       "      <th>trade_quantity</th>\n",
       "    </tr>\n",
       "  </thead>\n",
       "  <tbody>\n",
       "    <tr>\n",
       "      <th>0</th>\n",
       "      <td>SU2016</td>\n",
       "      <td>P</td>\n",
       "      <td>1040</td>\n",
       "      <td>24.875</td>\n",
       "      <td>5</td>\n",
       "    </tr>\n",
       "    <tr>\n",
       "      <th>1</th>\n",
       "      <td>SU2016</td>\n",
       "      <td>C</td>\n",
       "      <td>1040</td>\n",
       "      <td>90.625</td>\n",
       "      <td>5</td>\n",
       "    </tr>\n",
       "    <tr>\n",
       "      <th>2</th>\n",
       "      <td>SX2016</td>\n",
       "      <td>P</td>\n",
       "      <td>1020</td>\n",
       "      <td>32.250</td>\n",
       "      <td>-5</td>\n",
       "    </tr>\n",
       "    <tr>\n",
       "      <th>3</th>\n",
       "      <td>SX2016</td>\n",
       "      <td>C</td>\n",
       "      <td>1020</td>\n",
       "      <td>97.250</td>\n",
       "      <td>-5</td>\n",
       "    </tr>\n",
       "  </tbody>\n",
       "</table>\n",
       "</div>"
      ],
      "text/plain": [
       "   ticker option_type  strike_price  trade_price  trade_quantity\n",
       "0  SU2016           P          1040       24.875               5\n",
       "1  SU2016           C          1040       90.625               5\n",
       "2  SX2016           P          1020       32.250              -5\n",
       "3  SX2016           C          1020       97.250              -5"
      ]
     },
     "execution_count": 3,
     "metadata": {},
     "output_type": "execute_result"
    }
   ],
   "source": [
    "import ta.trade_fill_loader as tfl\n",
    "wuhu = tfl.get_formatted_manual_entry_fills()\n",
    "wuhu"
   ]
  },
  {
   "cell_type": "code",
   "execution_count": 4,
   "metadata": {
    "collapsed": false,
    "scrolled": true
   },
   "outputs": [
    {
     "data": {
      "text/html": [
       "<div>\n",
       "<table border=\"1\" class=\"dataframe\">\n",
       "  <thead>\n",
       "    <tr style=\"text-align: right;\">\n",
       "      <th></th>\n",
       "      <th>ticker</th>\n",
       "      <th>option_type</th>\n",
       "      <th>strike_price</th>\n",
       "      <th>instrument</th>\n",
       "      <th>qty</th>\n",
       "    </tr>\n",
       "  </thead>\n",
       "  <tbody>\n",
       "    <tr>\n",
       "      <th>1</th>\n",
       "      <td>BOV2016</td>\n",
       "      <td>None</td>\n",
       "      <td>NaN</td>\n",
       "      <td>F</td>\n",
       "      <td>9.00</td>\n",
       "    </tr>\n",
       "    <tr>\n",
       "      <th>2</th>\n",
       "      <td>BOZ2016</td>\n",
       "      <td>None</td>\n",
       "      <td>NaN</td>\n",
       "      <td>F</td>\n",
       "      <td>-9.00</td>\n",
       "    </tr>\n",
       "    <tr>\n",
       "      <th>3</th>\n",
       "      <td>CH2017</td>\n",
       "      <td>None</td>\n",
       "      <td>NaN</td>\n",
       "      <td>F</td>\n",
       "      <td>-0.21</td>\n",
       "    </tr>\n",
       "    <tr>\n",
       "      <th>5</th>\n",
       "      <td>CZ2016</td>\n",
       "      <td>None</td>\n",
       "      <td>NaN</td>\n",
       "      <td>F</td>\n",
       "      <td>0.37</td>\n",
       "    </tr>\n",
       "    <tr>\n",
       "      <th>6</th>\n",
       "      <td>ECU2016</td>\n",
       "      <td>None</td>\n",
       "      <td>NaN</td>\n",
       "      <td>F</td>\n",
       "      <td>-2.00</td>\n",
       "    </tr>\n",
       "    <tr>\n",
       "      <th>7</th>\n",
       "      <td>ECZ2016</td>\n",
       "      <td>None</td>\n",
       "      <td>NaN</td>\n",
       "      <td>F</td>\n",
       "      <td>2.30</td>\n",
       "    </tr>\n",
       "    <tr>\n",
       "      <th>8</th>\n",
       "      <td>ESH2017</td>\n",
       "      <td>None</td>\n",
       "      <td>NaN</td>\n",
       "      <td>F</td>\n",
       "      <td>-0.06</td>\n",
       "    </tr>\n",
       "    <tr>\n",
       "      <th>14</th>\n",
       "      <td>LCG2017</td>\n",
       "      <td>None</td>\n",
       "      <td>NaN</td>\n",
       "      <td>F</td>\n",
       "      <td>0.44</td>\n",
       "    </tr>\n",
       "    <tr>\n",
       "      <th>15</th>\n",
       "      <td>LCJ2017</td>\n",
       "      <td>None</td>\n",
       "      <td>NaN</td>\n",
       "      <td>F</td>\n",
       "      <td>-0.44</td>\n",
       "    </tr>\n",
       "    <tr>\n",
       "      <th>17</th>\n",
       "      <td>LCZ2016</td>\n",
       "      <td>None</td>\n",
       "      <td>NaN</td>\n",
       "      <td>F</td>\n",
       "      <td>0.33</td>\n",
       "    </tr>\n",
       "    <tr>\n",
       "      <th>20</th>\n",
       "      <td>SF2017</td>\n",
       "      <td>None</td>\n",
       "      <td>NaN</td>\n",
       "      <td>F</td>\n",
       "      <td>-0.45</td>\n",
       "    </tr>\n",
       "    <tr>\n",
       "      <th>21</th>\n",
       "      <td>SH2017</td>\n",
       "      <td>None</td>\n",
       "      <td>NaN</td>\n",
       "      <td>F</td>\n",
       "      <td>0.11</td>\n",
       "    </tr>\n",
       "    <tr>\n",
       "      <th>22</th>\n",
       "      <td>SIH2017</td>\n",
       "      <td>None</td>\n",
       "      <td>NaN</td>\n",
       "      <td>F</td>\n",
       "      <td>-2.26</td>\n",
       "    </tr>\n",
       "    <tr>\n",
       "      <th>24</th>\n",
       "      <td>SIZ2016</td>\n",
       "      <td>None</td>\n",
       "      <td>NaN</td>\n",
       "      <td>F</td>\n",
       "      <td>1.79</td>\n",
       "    </tr>\n",
       "    <tr>\n",
       "      <th>25</th>\n",
       "      <td>WH2017</td>\n",
       "      <td>None</td>\n",
       "      <td>NaN</td>\n",
       "      <td>F</td>\n",
       "      <td>-0.31</td>\n",
       "    </tr>\n",
       "    <tr>\n",
       "      <th>26</th>\n",
       "      <td>WZ2016</td>\n",
       "      <td>None</td>\n",
       "      <td>NaN</td>\n",
       "      <td>F</td>\n",
       "      <td>0.18</td>\n",
       "    </tr>\n",
       "  </tbody>\n",
       "</table>\n",
       "</div>"
      ],
      "text/plain": [
       "     ticker option_type  strike_price instrument   qty\n",
       "1   BOV2016        None           NaN          F  9.00\n",
       "2   BOZ2016        None           NaN          F -9.00\n",
       "3    CH2017        None           NaN          F -0.21\n",
       "5    CZ2016        None           NaN          F  0.37\n",
       "6   ECU2016        None           NaN          F -2.00\n",
       "7   ECZ2016        None           NaN          F  2.30\n",
       "8   ESH2017        None           NaN          F -0.06\n",
       "14  LCG2017        None           NaN          F  0.44\n",
       "15  LCJ2017        None           NaN          F -0.44\n",
       "17  LCZ2016        None           NaN          F  0.33\n",
       "20   SF2017        None           NaN          F -0.45\n",
       "21   SH2017        None           NaN          F  0.11\n",
       "22  SIH2017        None           NaN          F -2.26\n",
       "24  SIZ2016        None           NaN          F  1.79\n",
       "25   WH2017        None           NaN          F -0.31\n",
       "26   WZ2016        None           NaN          F  0.18"
      ]
     },
     "execution_count": 4,
     "metadata": {},
     "output_type": "execute_result"
    }
   ],
   "source": [
    "\n",
    "#Daily Hedge\n",
    "\n",
    "import ta.strategy_hedger as sh\n",
    "import shared.calendar_utilities as cu\n",
    "import ta.strategy as tas\n",
    "#sh.strategy_hedge_report()\n",
    "import ta.strategy as tas\n",
    "\n",
    "wuhu  = tas.get_net_position_4strategy_alias(alias='delta_jul16',as_of_date=cu.get_doubledate())\n",
    "wuhu"
   ]
  },
  {
   "cell_type": "code",
   "execution_count": 1,
   "metadata": {
    "collapsed": false
   },
   "outputs": [
    {
     "data": {
      "text/html": [
       "<div>\n",
       "<table border=\"1\" class=\"dataframe\">\n",
       "  <thead>\n",
       "    <tr style=\"text-align: right;\">\n",
       "      <th></th>\n",
       "      <th>underlying_ticker</th>\n",
       "      <th>hedge_price</th>\n",
       "      <th>option_delta</th>\n",
       "      <th>underlying_delta</th>\n",
       "      <th>total_delta</th>\n",
       "      <th>hedge</th>\n",
       "    </tr>\n",
       "  </thead>\n",
       "  <tbody>\n",
       "    <tr>\n",
       "      <th>0</th>\n",
       "      <td>LNV2016</td>\n",
       "      <td>62.3625</td>\n",
       "      <td>-1.56</td>\n",
       "      <td>1.56</td>\n",
       "      <td>0</td>\n",
       "      <td>-0</td>\n",
       "    </tr>\n",
       "    <tr>\n",
       "      <th>0</th>\n",
       "      <td>BOZ2016</td>\n",
       "      <td>34.5950</td>\n",
       "      <td>0.00</td>\n",
       "      <td>1.00</td>\n",
       "      <td>1</td>\n",
       "      <td>-1</td>\n",
       "    </tr>\n",
       "  </tbody>\n",
       "</table>\n",
       "</div>"
      ],
      "text/plain": [
       "  underlying_ticker  hedge_price  option_delta  underlying_delta  total_delta  \\\n",
       "0           LNV2016      62.3625         -1.56              1.56            0   \n",
       "0           BOZ2016      34.5950          0.00              1.00            1   \n",
       "\n",
       "   hedge  \n",
       "0     -0  \n",
       "0     -1  "
      ]
     },
     "execution_count": 1,
     "metadata": {},
     "output_type": "execute_result"
    }
   ],
   "source": [
    "import ta.strategy_hedger as sh\n",
    "import numpy as np\n",
    "import pandas as pd\n",
    "wuhu = sh.get_hedge_4strategy(alias='LNZ16V16VCS')\n",
    "wuhu"
   ]
  },
  {
   "cell_type": "code",
   "execution_count": 30,
   "metadata": {
    "collapsed": false
   },
   "outputs": [
    {
     "data": {
      "text/plain": [
       "15    57.9\n",
       "Name: mid_price, dtype: float64"
      ]
     },
     "execution_count": 30,
     "metadata": {},
     "output_type": "execute_result"
    }
   ],
   "source": [
    "intraday_price_frame['mid_price'].loc[intraday_price_frame['underlying_ticker']==tickers_with_no_options[0]]"
   ]
  },
  {
   "cell_type": "code",
   "execution_count": 31,
   "metadata": {
    "collapsed": false
   },
   "outputs": [
    {
     "ename": "ValueError",
     "evalue": "attempt to get argmin of an empty sequence",
     "output_type": "error",
     "traceback": [
      "\u001b[1;31m---------------------------------------------------------------------------\u001b[0m",
      "\u001b[1;31mValueError\u001b[0m                                Traceback (most recent call last)",
      "\u001b[1;32m<ipython-input-31-0dfa849caa87>\u001b[0m in \u001b[0;36m<module>\u001b[1;34m()\u001b[0m\n\u001b[0;32m      2\u001b[0m \u001b[1;32mimport\u001b[0m \u001b[0mpandas\u001b[0m \u001b[1;32mas\u001b[0m \u001b[0mpd\u001b[0m\u001b[1;33m\u001b[0m\u001b[0m\n\u001b[0;32m      3\u001b[0m \u001b[1;32mimport\u001b[0m \u001b[0mget_price\u001b[0m\u001b[1;33m.\u001b[0m\u001b[0mget_options_price\u001b[0m \u001b[1;32mas\u001b[0m \u001b[0mgop\u001b[0m\u001b[1;33m\u001b[0m\u001b[0m\n\u001b[1;32m----> 4\u001b[1;33m \u001b[0moutput\u001b[0m \u001b[1;33m=\u001b[0m \u001b[0msg\u001b[0m\u001b[1;33m.\u001b[0m\u001b[0mget_greeks_4strategy_4date\u001b[0m\u001b[1;33m(\u001b[0m\u001b[0malias\u001b[0m\u001b[1;33m=\u001b[0m\u001b[1;34m'SI_inventory_Aug16'\u001b[0m\u001b[1;33m,\u001b[0m\u001b[0mas_of_date\u001b[0m\u001b[1;33m=\u001b[0m\u001b[1;36m20160829\u001b[0m\u001b[1;33m)\u001b[0m\u001b[1;33m\u001b[0m\u001b[0m\n\u001b[0m\u001b[0;32m      5\u001b[0m \u001b[1;33m\u001b[0m\u001b[0m\n\u001b[0;32m      6\u001b[0m \u001b[1;31m# SIU16Z16VCS\u001b[0m\u001b[1;33m\u001b[0m\u001b[1;33m\u001b[0m\u001b[0m\n",
      "\u001b[1;32mC:\\Research\\PycharmProjects\\ta\\strategy_greeks.py\u001b[0m in \u001b[0;36mget_greeks_4strategy_4date\u001b[1;34m(**kwargs)\u001b[0m\n\u001b[0;32m     40\u001b[0m         \u001b[0mskew_output\u001b[0m\u001b[1;33m.\u001b[0m\u001b[0mreset_index\u001b[0m\u001b[1;33m(\u001b[0m\u001b[0mdrop\u001b[0m\u001b[1;33m=\u001b[0m\u001b[1;32mTrue\u001b[0m\u001b[1;33m,\u001b[0m\u001b[0minplace\u001b[0m\u001b[1;33m=\u001b[0m\u001b[1;32mTrue\u001b[0m\u001b[1;33m)\u001b[0m\u001b[1;33m\u001b[0m\u001b[0m\n\u001b[0;32m     41\u001b[0m         \u001b[0mskew_output\u001b[0m\u001b[1;33m[\u001b[0m\u001b[1;34m'delta_diff'\u001b[0m\u001b[1;33m]\u001b[0m \u001b[1;33m=\u001b[0m \u001b[0mabs\u001b[0m\u001b[1;33m(\u001b[0m\u001b[0mskew_output\u001b[0m\u001b[1;33m[\u001b[0m\u001b[1;34m'delta'\u001b[0m\u001b[1;33m]\u001b[0m\u001b[1;33m-\u001b[0m\u001b[1;36m0.5\u001b[0m\u001b[1;33m)\u001b[0m\u001b[1;33m\u001b[0m\u001b[0m\n\u001b[1;32m---> 42\u001b[1;33m         \u001b[0matm_point\u001b[0m \u001b[1;33m=\u001b[0m \u001b[0mskew_output\u001b[0m\u001b[1;33m.\u001b[0m\u001b[0mloc\u001b[0m\u001b[1;33m[\u001b[0m\u001b[0mskew_output\u001b[0m\u001b[1;33m[\u001b[0m\u001b[1;34m'delta_diff'\u001b[0m\u001b[1;33m]\u001b[0m\u001b[1;33m.\u001b[0m\u001b[0midxmin\u001b[0m\u001b[1;33m(\u001b[0m\u001b[1;33m)\u001b[0m\u001b[1;33m]\u001b[0m\u001b[1;33m\u001b[0m\u001b[0m\n\u001b[0m\u001b[0;32m     43\u001b[0m         \u001b[0mskew_output\u001b[0m\u001b[1;33m.\u001b[0m\u001b[0mrename\u001b[0m\u001b[1;33m(\u001b[0m\u001b[0mcolumns\u001b[0m\u001b[1;33m=\u001b[0m\u001b[1;33m{\u001b[0m\u001b[1;34m'strike'\u001b[0m\u001b[1;33m:\u001b[0m \u001b[1;34m'strike_price'\u001b[0m\u001b[1;33m}\u001b[0m\u001b[1;33m,\u001b[0m \u001b[0minplace\u001b[0m\u001b[1;33m=\u001b[0m\u001b[1;32mTrue\u001b[0m\u001b[1;33m)\u001b[0m\u001b[1;33m\u001b[0m\u001b[0m\n\u001b[0;32m     44\u001b[0m \u001b[1;33m\u001b[0m\u001b[0m\n",
      "\u001b[1;32mC:\\Anaconda3\\lib\\site-packages\\pandas\\core\\series.py\u001b[0m in \u001b[0;36midxmin\u001b[1;34m(self, axis, out, skipna)\u001b[0m\n\u001b[0;32m   1171\u001b[0m         \u001b[0mnumpy\u001b[0m\u001b[1;33m.\u001b[0m\u001b[0mndarray\u001b[0m\u001b[1;33m.\u001b[0m\u001b[0margmin\u001b[0m\u001b[1;33m\u001b[0m\u001b[0m\n\u001b[0;32m   1172\u001b[0m         \"\"\"\n\u001b[1;32m-> 1173\u001b[1;33m         \u001b[0mi\u001b[0m \u001b[1;33m=\u001b[0m \u001b[0mnanops\u001b[0m\u001b[1;33m.\u001b[0m\u001b[0mnanargmin\u001b[0m\u001b[1;33m(\u001b[0m\u001b[0m_values_from_object\u001b[0m\u001b[1;33m(\u001b[0m\u001b[0mself\u001b[0m\u001b[1;33m)\u001b[0m\u001b[1;33m,\u001b[0m \u001b[0mskipna\u001b[0m\u001b[1;33m=\u001b[0m\u001b[0mskipna\u001b[0m\u001b[1;33m)\u001b[0m\u001b[1;33m\u001b[0m\u001b[0m\n\u001b[0m\u001b[0;32m   1174\u001b[0m         \u001b[1;32mif\u001b[0m \u001b[0mi\u001b[0m \u001b[1;33m==\u001b[0m \u001b[1;33m-\u001b[0m\u001b[1;36m1\u001b[0m\u001b[1;33m:\u001b[0m\u001b[1;33m\u001b[0m\u001b[0m\n\u001b[0;32m   1175\u001b[0m             \u001b[1;32mreturn\u001b[0m \u001b[0mnp\u001b[0m\u001b[1;33m.\u001b[0m\u001b[0mnan\u001b[0m\u001b[1;33m\u001b[0m\u001b[0m\n",
      "\u001b[1;32mC:\\Anaconda3\\lib\\site-packages\\pandas\\core\\nanops.py\u001b[0m in \u001b[0;36mnanargmin\u001b[1;34m(values, axis, skipna)\u001b[0m\n\u001b[0;32m    466\u001b[0m     values, mask, dtype, _ = _get_values(values, skipna, fill_value_typ='+inf',\n\u001b[0;32m    467\u001b[0m                                          isfinite=True)\n\u001b[1;32m--> 468\u001b[1;33m     \u001b[0mresult\u001b[0m \u001b[1;33m=\u001b[0m \u001b[0mvalues\u001b[0m\u001b[1;33m.\u001b[0m\u001b[0margmin\u001b[0m\u001b[1;33m(\u001b[0m\u001b[0maxis\u001b[0m\u001b[1;33m)\u001b[0m\u001b[1;33m\u001b[0m\u001b[0m\n\u001b[0m\u001b[0;32m    469\u001b[0m     \u001b[0mresult\u001b[0m \u001b[1;33m=\u001b[0m \u001b[0m_maybe_arg_null_out\u001b[0m\u001b[1;33m(\u001b[0m\u001b[0mresult\u001b[0m\u001b[1;33m,\u001b[0m \u001b[0maxis\u001b[0m\u001b[1;33m,\u001b[0m \u001b[0mmask\u001b[0m\u001b[1;33m,\u001b[0m \u001b[0mskipna\u001b[0m\u001b[1;33m)\u001b[0m\u001b[1;33m\u001b[0m\u001b[0m\n\u001b[0;32m    470\u001b[0m     \u001b[1;32mreturn\u001b[0m \u001b[0mresult\u001b[0m\u001b[1;33m\u001b[0m\u001b[0m\n",
      "\u001b[1;31mValueError\u001b[0m: attempt to get argmin of an empty sequence"
     ]
    }
   ],
   "source": [
    "import ta.strategy_greeks as sg\n",
    "import pandas as pd\n",
    "import get_price.get_options_price as gop\n",
    "output = sg.get_greeks_4strategy_4date(alias='SI_inventory_Aug16',as_of_date=20160828)\n",
    "\n",
    "# SIU16Z16VCS\n",
    "output['ticker_portfolio']\n",
    "#output['strike_portfolio']\n",
    "# 2.6/ -5.2\n",
    "# 3/-6\n",
    "#output['strike_portfolio']\n",
    "\n",
    "# silver portfolio might cause problems\n",
    "#output\n",
    "\n",
    "# -2.36-3.24  5.6 OEVs 2 straddles\n",
    "output['ticker_portfolio']\n",
    "output['strike_portfolio']['total_oev'].sum()\n",
    "output['ticker_portfolio']\n",
    "output['strike_portfolio']['total_oev'].sum()"
   ]
  },
  {
   "cell_type": "code",
   "execution_count": 7,
   "metadata": {
    "collapsed": false
   },
   "outputs": [],
   "source": [
    "import ta.pnl as tapnl\n",
    "alias = 'HON2016Q2016Q2016U2016'\n",
    "tapnl.close_strategy(alias='SIZ2016_long_scv')\n"
   ]
  },
  {
   "cell_type": "code",
   "execution_count": 16,
   "metadata": {
    "collapsed": false,
    "scrolled": true
   },
   "outputs": [
    {
     "data": {
      "text/html": [
       "<div>\n",
       "<table border=\"1\" class=\"dataframe\">\n",
       "  <thead>\n",
       "    <tr style=\"text-align: right;\">\n",
       "      <th></th>\n",
       "      <th>generalized_ticker</th>\n",
       "      <th>qty_x</th>\n",
       "      <th>qty_y</th>\n",
       "      <th>qty_diff</th>\n",
       "    </tr>\n",
       "  </thead>\n",
       "  <tbody>\n",
       "  </tbody>\n",
       "</table>\n",
       "</div>"
      ],
      "text/plain": [
       "Empty DataFrame\n",
       "Columns: [generalized_ticker, qty_x, qty_y, qty_diff]\n",
       "Index: []"
      ]
     },
     "execution_count": 16,
     "metadata": {},
     "output_type": "execute_result"
    }
   ],
   "source": [
    "import ta.abn_position_reconciler as pr\n",
    "pr.reconcile_position()"
   ]
  },
  {
   "cell_type": "code",
   "execution_count": 6,
   "metadata": {
    "collapsed": false
   },
   "outputs": [
    {
     "data": {
      "text/html": [
       "<div>\n",
       "<table border=\"1\" class=\"dataframe\">\n",
       "  <thead>\n",
       "    <tr style=\"text-align: right;\">\n",
       "      <th></th>\n",
       "      <th>ticker</th>\n",
       "      <th>total_oev</th>\n",
       "      <th>theta</th>\n",
       "    </tr>\n",
       "  </thead>\n",
       "  <tbody>\n",
       "    <tr>\n",
       "      <th>0</th>\n",
       "      <td>LCV2016</td>\n",
       "      <td>-19.988474</td>\n",
       "      <td>157.53088</td>\n",
       "    </tr>\n",
       "    <tr>\n",
       "      <th>1</th>\n",
       "      <td>LCZ2016</td>\n",
       "      <td>19.999996</td>\n",
       "      <td>-120.84700</td>\n",
       "    </tr>\n",
       "  </tbody>\n",
       "</table>\n",
       "</div>"
      ],
      "text/plain": [
       "    ticker  total_oev      theta\n",
       "0  LCV2016 -19.988474  157.53088\n",
       "1  LCZ2016  19.999996 -120.84700"
      ]
     },
     "execution_count": 6,
     "metadata": {},
     "output_type": "execute_result"
    }
   ],
   "source": [
    "import ta.strategy_greeks as sg\n",
    "greeks_out = sg.get_greeks_4strategy_4date(alias='LCZ16V16VCS',as_of_date=20160614)\n",
    "greeks_out['ticker_portfolio']"
   ]
  },
  {
   "cell_type": "code",
   "execution_count": null,
   "metadata": {
    "collapsed": true
   },
   "outputs": [],
   "source": [
    "import ta.strategy_followup as sf"
   ]
  },
  {
   "cell_type": "code",
   "execution_count": 1,
   "metadata": {
    "collapsed": false
   },
   "outputs": [],
   "source": [
    "import ta.strategy as ts\n",
    "ts.move_position_from_strategy_2_strategy(strategy_from='SIZ2016_long_scv',strategy_to='SI_inventory_Aug16')\n",
    "\n"
   ]
  },
  {
   "cell_type": "code",
   "execution_count": 26,
   "metadata": {
    "collapsed": false,
    "scrolled": true
   },
   "outputs": [
    {
     "data": {
      "text/html": [
       "<div>\n",
       "<table border=\"1\" class=\"dataframe\">\n",
       "  <thead>\n",
       "    <tr style=\"text-align: right;\">\n",
       "      <th></th>\n",
       "      <th>ticker</th>\n",
       "      <th>option_type</th>\n",
       "      <th>strike_price</th>\n",
       "      <th>instrument</th>\n",
       "      <th>qty</th>\n",
       "    </tr>\n",
       "  </thead>\n",
       "  <tbody>\n",
       "    <tr>\n",
       "      <th>0</th>\n",
       "      <td>CCH2017</td>\n",
       "      <td>None</td>\n",
       "      <td>NaN</td>\n",
       "      <td>F</td>\n",
       "      <td>9</td>\n",
       "    </tr>\n",
       "    <tr>\n",
       "      <th>1</th>\n",
       "      <td>CCZ2016</td>\n",
       "      <td>None</td>\n",
       "      <td>NaN</td>\n",
       "      <td>F</td>\n",
       "      <td>-9</td>\n",
       "    </tr>\n",
       "    <tr>\n",
       "      <th>2</th>\n",
       "      <td>CN2017</td>\n",
       "      <td>None</td>\n",
       "      <td>NaN</td>\n",
       "      <td>F</td>\n",
       "      <td>1</td>\n",
       "    </tr>\n",
       "    <tr>\n",
       "      <th>3</th>\n",
       "      <td>CTH2017</td>\n",
       "      <td>None</td>\n",
       "      <td>NaN</td>\n",
       "      <td>F</td>\n",
       "      <td>-2</td>\n",
       "    </tr>\n",
       "    <tr>\n",
       "      <th>4</th>\n",
       "      <td>CTK2017</td>\n",
       "      <td>None</td>\n",
       "      <td>NaN</td>\n",
       "      <td>F</td>\n",
       "      <td>2</td>\n",
       "    </tr>\n",
       "    <tr>\n",
       "      <th>5</th>\n",
       "      <td>CU2017</td>\n",
       "      <td>None</td>\n",
       "      <td>NaN</td>\n",
       "      <td>F</td>\n",
       "      <td>-1</td>\n",
       "    </tr>\n",
       "    <tr>\n",
       "      <th>6</th>\n",
       "      <td>HON2017</td>\n",
       "      <td>None</td>\n",
       "      <td>NaN</td>\n",
       "      <td>F</td>\n",
       "      <td>-6</td>\n",
       "    </tr>\n",
       "    <tr>\n",
       "      <th>7</th>\n",
       "      <td>HOQ2017</td>\n",
       "      <td>None</td>\n",
       "      <td>NaN</td>\n",
       "      <td>F</td>\n",
       "      <td>6</td>\n",
       "    </tr>\n",
       "    <tr>\n",
       "      <th>8</th>\n",
       "      <td>LCG2017</td>\n",
       "      <td>None</td>\n",
       "      <td>NaN</td>\n",
       "      <td>F</td>\n",
       "      <td>1</td>\n",
       "    </tr>\n",
       "    <tr>\n",
       "      <th>9</th>\n",
       "      <td>LCZ2016</td>\n",
       "      <td>None</td>\n",
       "      <td>NaN</td>\n",
       "      <td>F</td>\n",
       "      <td>-1</td>\n",
       "    </tr>\n",
       "    <tr>\n",
       "      <th>10</th>\n",
       "      <td>LNM2017</td>\n",
       "      <td>None</td>\n",
       "      <td>NaN</td>\n",
       "      <td>F</td>\n",
       "      <td>-2</td>\n",
       "    </tr>\n",
       "    <tr>\n",
       "      <th>11</th>\n",
       "      <td>LNN2017</td>\n",
       "      <td>None</td>\n",
       "      <td>NaN</td>\n",
       "      <td>F</td>\n",
       "      <td>2</td>\n",
       "    </tr>\n",
       "    <tr>\n",
       "      <th>14</th>\n",
       "      <td>OJF2017</td>\n",
       "      <td>None</td>\n",
       "      <td>NaN</td>\n",
       "      <td>F</td>\n",
       "      <td>4</td>\n",
       "    </tr>\n",
       "    <tr>\n",
       "      <th>15</th>\n",
       "      <td>OJX2016</td>\n",
       "      <td>None</td>\n",
       "      <td>NaN</td>\n",
       "      <td>F</td>\n",
       "      <td>-4</td>\n",
       "    </tr>\n",
       "    <tr>\n",
       "      <th>16</th>\n",
       "      <td>RBK2017</td>\n",
       "      <td>None</td>\n",
       "      <td>NaN</td>\n",
       "      <td>F</td>\n",
       "      <td>-4</td>\n",
       "    </tr>\n",
       "    <tr>\n",
       "      <th>17</th>\n",
       "      <td>RBM2017</td>\n",
       "      <td>None</td>\n",
       "      <td>NaN</td>\n",
       "      <td>F</td>\n",
       "      <td>4</td>\n",
       "    </tr>\n",
       "    <tr>\n",
       "      <th>18</th>\n",
       "      <td>SF2017</td>\n",
       "      <td>None</td>\n",
       "      <td>NaN</td>\n",
       "      <td>F</td>\n",
       "      <td>3</td>\n",
       "    </tr>\n",
       "    <tr>\n",
       "      <th>19</th>\n",
       "      <td>SMN2017</td>\n",
       "      <td>None</td>\n",
       "      <td>NaN</td>\n",
       "      <td>F</td>\n",
       "      <td>4</td>\n",
       "    </tr>\n",
       "    <tr>\n",
       "      <th>20</th>\n",
       "      <td>SMQ2017</td>\n",
       "      <td>None</td>\n",
       "      <td>NaN</td>\n",
       "      <td>F</td>\n",
       "      <td>-4</td>\n",
       "    </tr>\n",
       "    <tr>\n",
       "      <th>21</th>\n",
       "      <td>SX2016</td>\n",
       "      <td>None</td>\n",
       "      <td>NaN</td>\n",
       "      <td>F</td>\n",
       "      <td>-3</td>\n",
       "    </tr>\n",
       "    <tr>\n",
       "      <th>22</th>\n",
       "      <td>WN2017</td>\n",
       "      <td>None</td>\n",
       "      <td>NaN</td>\n",
       "      <td>F</td>\n",
       "      <td>3</td>\n",
       "    </tr>\n",
       "    <tr>\n",
       "      <th>23</th>\n",
       "      <td>WU2017</td>\n",
       "      <td>None</td>\n",
       "      <td>NaN</td>\n",
       "      <td>F</td>\n",
       "      <td>-3</td>\n",
       "    </tr>\n",
       "  </tbody>\n",
       "</table>\n",
       "</div>"
      ],
      "text/plain": [
       "     ticker option_type  strike_price instrument  qty\n",
       "0   CCH2017        None           NaN          F    9\n",
       "1   CCZ2016        None           NaN          F   -9\n",
       "2    CN2017        None           NaN          F    1\n",
       "3   CTH2017        None           NaN          F   -2\n",
       "4   CTK2017        None           NaN          F    2\n",
       "5    CU2017        None           NaN          F   -1\n",
       "6   HON2017        None           NaN          F   -6\n",
       "7   HOQ2017        None           NaN          F    6\n",
       "8   LCG2017        None           NaN          F    1\n",
       "9   LCZ2016        None           NaN          F   -1\n",
       "10  LNM2017        None           NaN          F   -2\n",
       "11  LNN2017        None           NaN          F    2\n",
       "14  OJF2017        None           NaN          F    4\n",
       "15  OJX2016        None           NaN          F   -4\n",
       "16  RBK2017        None           NaN          F   -4\n",
       "17  RBM2017        None           NaN          F    4\n",
       "18   SF2017        None           NaN          F    3\n",
       "19  SMN2017        None           NaN          F    4\n",
       "20  SMQ2017        None           NaN          F   -4\n",
       "21   SX2016        None           NaN          F   -3\n",
       "22   WN2017        None           NaN          F    3\n",
       "23   WU2017        None           NaN          F   -3"
      ]
     },
     "execution_count": 26,
     "metadata": {},
     "output_type": "execute_result"
    }
   ],
   "source": [
    "import ta.strategy as ts\n",
    "import shared.calendar_utilities as cu\n",
    "wuhu = ts.get_net_position_4strategy_alias(alias='spreadCarryAug16_2')\n",
    "wuhu"
   ]
  },
  {
   "cell_type": "code",
   "execution_count": 8,
   "metadata": {
    "collapsed": false,
    "scrolled": true
   },
   "outputs": [
    {
     "data": {
      "text/html": [
       "<div>\n",
       "<table border=\"1\" class=\"dataframe\">\n",
       "  <thead>\n",
       "    <tr style=\"text-align: right;\">\n",
       "      <th></th>\n",
       "      <th>ticker</th>\n",
       "      <th>option_type</th>\n",
       "      <th>strike_price</th>\n",
       "      <th>instrument</th>\n",
       "      <th>qty</th>\n",
       "    </tr>\n",
       "  </thead>\n",
       "  <tbody>\n",
       "    <tr>\n",
       "      <th>0</th>\n",
       "      <td>LCJ2017</td>\n",
       "      <td>None</td>\n",
       "      <td>NaN</td>\n",
       "      <td>F</td>\n",
       "      <td>2.04</td>\n",
       "    </tr>\n",
       "    <tr>\n",
       "      <th>1</th>\n",
       "      <td>LCJ2017</td>\n",
       "      <td>C</td>\n",
       "      <td>112</td>\n",
       "      <td>O</td>\n",
       "      <td>9.00</td>\n",
       "    </tr>\n",
       "    <tr>\n",
       "      <th>2</th>\n",
       "      <td>LCJ2017</td>\n",
       "      <td>P</td>\n",
       "      <td>112</td>\n",
       "      <td>O</td>\n",
       "      <td>9.00</td>\n",
       "    </tr>\n",
       "  </tbody>\n",
       "</table>\n",
       "</div>"
      ],
      "text/plain": [
       "    ticker option_type  strike_price instrument   qty\n",
       "0  LCJ2017        None           NaN          F  2.04\n",
       "1  LCJ2017           C           112          O  9.00\n",
       "2  LCJ2017           P           112          O  9.00"
      ]
     },
     "execution_count": 8,
     "metadata": {},
     "output_type": "execute_result"
    }
   ],
   "source": [
    "import shared.calendar_utilities as cu\n",
    "import ta.strategy as tas\n",
    "wuhu  = tas.get_net_position_4strategy_alias(alias='LVJZ2017_long_scv',as_of_date=cu.get_doubledate())\n",
    "wuhu\n",
    "\n",
    "# buy back two futures after\n",
    "\n",
    "# 16.25 long 4 SIU straddles\n",
    "# 16 long 4 SIU straddles"
   ]
  },
  {
   "cell_type": "code",
   "execution_count": 9,
   "metadata": {
    "collapsed": false,
    "scrolled": true
   },
   "outputs": [
    {
     "data": {
      "text/plain": [
       "{'futures_pnl': -652.7999999999977,\n",
       " 'structure_pnl': 90.000000000007674,\n",
       " 'structure_settle': 12.024999999999999}"
      ]
     },
     "execution_count": 9,
     "metadata": {},
     "output_type": "execute_result"
    }
   ],
   "source": [
    "import ta.position_close_helper as pch\n",
    "pch.calc_intrday_pnl_from_prices(alias='LVJZ2017_long_scv',structure_price=12.05,LCJ2017=107.75)\n",
    "\n",
    "# also buy one CLZ"
   ]
  },
  {
   "cell_type": "code",
   "execution_count": 2,
   "metadata": {
    "collapsed": false
   },
   "outputs": [
    {
     "data": {
      "text/plain": [
       "{'futures_pnl': -393.62500000001245,\n",
       " 'structure_pnl': -562.49999999999443,\n",
       " 'structure_settle': 0.041400000000000006}"
      ]
     },
     "execution_count": 2,
     "metadata": {},
     "output_type": "execute_result"
    }
   ],
   "source": [
    "import ta.position_close_helper as pch\n",
    "pch.calc_intrday_pnl_from_prices(alias='ECZ2016_short_scv',structure_price=0.0423,ECZ2016=1.1315)"
   ]
  },
  {
   "cell_type": "code",
   "execution_count": null,
   "metadata": {
    "collapsed": true
   },
   "outputs": [],
   "source": []
  }
 ],
 "metadata": {
  "kernelspec": {
   "display_name": "Python 3",
   "language": "python",
   "name": "python3"
  },
  "language_info": {
   "codemirror_mode": {
    "name": "ipython",
    "version": 3
   },
   "file_extension": ".py",
   "mimetype": "text/x-python",
   "name": "python",
   "nbconvert_exporter": "python",
   "pygments_lexer": "ipython3",
   "version": "3.4.3"
  }
 },
 "nbformat": 4,
 "nbformat_minor": 0
}
