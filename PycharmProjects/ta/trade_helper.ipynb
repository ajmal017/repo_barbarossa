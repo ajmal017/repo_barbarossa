{
 "cells": [
  {
   "cell_type": "code",
   "execution_count": 4,
   "metadata": {
    "collapsed": true
   },
   "outputs": [],
   "source": [
    "import contract_utilities.expiration as exp\n",
    "report_date = exp.doubledate_shift_bus_days()"
   ]
  },
  {
   "cell_type": "code",
   "execution_count": 5,
   "metadata": {
    "collapsed": false
   },
   "outputs": [
    {
     "data": {
      "text/plain": [
       "229"
      ]
     },
     "execution_count": 5,
     "metadata": {},
     "output_type": "execute_result"
    }
   ],
   "source": [
    "# Create DB Strategy\n",
    "\n",
    "import ta.strategy as ts\n",
    "ts.generate_db_strategy_from_strategy_sheet(id=50,strategy_class='futures_butterfly',report_date=report_date)"
   ]
  },
  {
   "cell_type": "code",
   "execution_count": 19,
   "metadata": {
    "collapsed": false
   },
   "outputs": [
    {
     "data": {
      "text/plain": [
       "230"
      ]
     },
     "execution_count": 19,
     "metadata": {},
     "output_type": "execute_result"
    }
   ],
   "source": [
    "# Create Misc Strategy\n",
    "import ta.strategy as ts\n",
    "ts.generate_db_strategy_from_alias(alias='SMN17H17VCS',description_string='strategy_class=vcs&betsize=13197')\n"
   ]
  },
  {
   "cell_type": "code",
   "execution_count": 16,
   "metadata": {
    "collapsed": false
   },
   "outputs": [],
   "source": [
    "import ta.trade_fill_loader as tfl\n",
    "import datetime as dt\n",
    "#wuhu = tfl.assign_trades_2strategies(trade_source='tt')\n",
    "#wuhu\n",
    "#tfl.load_tt_trades(tags2exclude=['ifs_0','ifs_1','ifs_2','DeltaHedge'])\n",
    "tfl.load_cme_direct_trades()\n",
    "#tfl.load_manual_entry_trades()\n",
    "#wuhu = tfl.get_formatted_tt_fills()\n",
    "#wuhu['aggregate_trades']\n",
    "\n",
    "#tfl.load_latest_tt_fills()\n",
    "#dt.datetime.strptime(wuhu['Contract'].values[40],'%y-%b')\n",
    "\n",
    "\n",
    "#tfl.load_cme__fills()\n",
    "#wuhu = tfl.get_formatted_cme_direct_fills()\n",
    "#wuhu['aggregate_trades']"
   ]
  },
  {
   "cell_type": "code",
   "execution_count": 17,
   "metadata": {
    "collapsed": false
   },
   "outputs": [
    {
     "data": {
      "text/html": [
       "<div>\n",
       "<table border=\"1\" class=\"dataframe\">\n",
       "  <thead>\n",
       "    <tr style=\"text-align: right;\">\n",
       "      <th></th>\n",
       "      <th></th>\n",
       "      <th>trade_price</th>\n",
       "      <th>trade_quantity</th>\n",
       "      <th>ticker</th>\n",
       "      <th>ticker_head</th>\n",
       "      <th>instrument</th>\n",
       "      <th>option_type</th>\n",
       "      <th>strike_price</th>\n",
       "      <th>real_tradeQ</th>\n",
       "    </tr>\n",
       "    <tr>\n",
       "      <th>generalized_ticker</th>\n",
       "      <th>side</th>\n",
       "      <th></th>\n",
       "      <th></th>\n",
       "      <th></th>\n",
       "      <th></th>\n",
       "      <th></th>\n",
       "      <th></th>\n",
       "      <th></th>\n",
       "      <th></th>\n",
       "    </tr>\n",
       "  </thead>\n",
       "  <tbody>\n",
       "    <tr>\n",
       "      <th>CLX2016</th>\n",
       "      <th>Buy</th>\n",
       "      <td>51.30</td>\n",
       "      <td>1</td>\n",
       "      <td>CLX2016</td>\n",
       "      <td>CL</td>\n",
       "      <td>F</td>\n",
       "      <td>None</td>\n",
       "      <td>NaN</td>\n",
       "      <td>True</td>\n",
       "    </tr>\n",
       "    <tr>\n",
       "      <th>CLZ2016</th>\n",
       "      <th>Sell</th>\n",
       "      <td>51.63</td>\n",
       "      <td>-1</td>\n",
       "      <td>CLZ2016</td>\n",
       "      <td>CL</td>\n",
       "      <td>F</td>\n",
       "      <td>None</td>\n",
       "      <td>NaN</td>\n",
       "      <td>True</td>\n",
       "    </tr>\n",
       "    <tr>\n",
       "      <th>LCV2016</th>\n",
       "      <th>Sell</th>\n",
       "      <td>116.90</td>\n",
       "      <td>-1</td>\n",
       "      <td>LCV2016</td>\n",
       "      <td>LC</td>\n",
       "      <td>F</td>\n",
       "      <td>None</td>\n",
       "      <td>NaN</td>\n",
       "      <td>True</td>\n",
       "    </tr>\n",
       "    <tr>\n",
       "      <th>LCZ2016</th>\n",
       "      <th>Buy</th>\n",
       "      <td>116.90</td>\n",
       "      <td>1</td>\n",
       "      <td>LCZ2016</td>\n",
       "      <td>LC</td>\n",
       "      <td>F</td>\n",
       "      <td>None</td>\n",
       "      <td>NaN</td>\n",
       "      <td>True</td>\n",
       "    </tr>\n",
       "    <tr>\n",
       "      <th rowspan=\"2\" valign=\"top\">WU2016</th>\n",
       "      <th>Buy</th>\n",
       "      <td>508.25</td>\n",
       "      <td>4</td>\n",
       "      <td>WU2016</td>\n",
       "      <td>W</td>\n",
       "      <td>F</td>\n",
       "      <td>None</td>\n",
       "      <td>NaN</td>\n",
       "      <td>True</td>\n",
       "    </tr>\n",
       "    <tr>\n",
       "      <th>Sell</th>\n",
       "      <td>508.00</td>\n",
       "      <td>-1</td>\n",
       "      <td>WU2016</td>\n",
       "      <td>W</td>\n",
       "      <td>F</td>\n",
       "      <td>None</td>\n",
       "      <td>NaN</td>\n",
       "      <td>True</td>\n",
       "    </tr>\n",
       "    <tr>\n",
       "      <th>WZ2016</th>\n",
       "      <th>Sell</th>\n",
       "      <td>527.50</td>\n",
       "      <td>-2</td>\n",
       "      <td>WZ2016</td>\n",
       "      <td>W</td>\n",
       "      <td>F</td>\n",
       "      <td>None</td>\n",
       "      <td>NaN</td>\n",
       "      <td>True</td>\n",
       "    </tr>\n",
       "  </tbody>\n",
       "</table>\n",
       "</div>"
      ],
      "text/plain": [
       "                         trade_price  trade_quantity   ticker ticker_head  \\\n",
       "generalized_ticker side                                                     \n",
       "CLX2016            Buy         51.30               1  CLX2016          CL   \n",
       "CLZ2016            Sell        51.63              -1  CLZ2016          CL   \n",
       "LCV2016            Sell       116.90              -1  LCV2016          LC   \n",
       "LCZ2016            Buy        116.90               1  LCZ2016          LC   \n",
       "WU2016             Buy        508.25               4   WU2016           W   \n",
       "                   Sell       508.00              -1   WU2016           W   \n",
       "WZ2016             Sell       527.50              -2   WZ2016           W   \n",
       "\n",
       "                        instrument option_type  strike_price real_tradeQ  \n",
       "generalized_ticker side                                                   \n",
       "CLX2016            Buy           F        None           NaN        True  \n",
       "CLZ2016            Sell          F        None           NaN        True  \n",
       "LCV2016            Sell          F        None           NaN        True  \n",
       "LCZ2016            Buy           F        None           NaN        True  \n",
       "WU2016             Buy           F        None           NaN        True  \n",
       "                   Sell          F        None           NaN        True  \n",
       "WZ2016             Sell          F        None           NaN        True  "
      ]
     },
     "execution_count": 17,
     "metadata": {},
     "output_type": "execute_result"
    }
   ],
   "source": [
    "trade_frame = tfl.get_formatted_cme_direct_fills()\n",
    "trade_frame['aggregate_trades']"
   ]
  },
  {
   "cell_type": "code",
   "execution_count": 3,
   "metadata": {
    "collapsed": false
   },
   "outputs": [
    {
     "data": {
      "text/html": [
       "<div>\n",
       "<table border=\"1\" class=\"dataframe\">\n",
       "  <thead>\n",
       "    <tr style=\"text-align: right;\">\n",
       "      <th></th>\n",
       "      <th>ticker</th>\n",
       "      <th>option_type</th>\n",
       "      <th>strike_price</th>\n",
       "      <th>trade_price</th>\n",
       "      <th>trade_quantity</th>\n",
       "    </tr>\n",
       "  </thead>\n",
       "  <tbody>\n",
       "    <tr>\n",
       "      <th>0</th>\n",
       "      <td>SU2016</td>\n",
       "      <td>P</td>\n",
       "      <td>1040</td>\n",
       "      <td>24.875</td>\n",
       "      <td>5</td>\n",
       "    </tr>\n",
       "    <tr>\n",
       "      <th>1</th>\n",
       "      <td>SU2016</td>\n",
       "      <td>C</td>\n",
       "      <td>1040</td>\n",
       "      <td>90.625</td>\n",
       "      <td>5</td>\n",
       "    </tr>\n",
       "    <tr>\n",
       "      <th>2</th>\n",
       "      <td>SX2016</td>\n",
       "      <td>P</td>\n",
       "      <td>1020</td>\n",
       "      <td>32.250</td>\n",
       "      <td>-5</td>\n",
       "    </tr>\n",
       "    <tr>\n",
       "      <th>3</th>\n",
       "      <td>SX2016</td>\n",
       "      <td>C</td>\n",
       "      <td>1020</td>\n",
       "      <td>97.250</td>\n",
       "      <td>-5</td>\n",
       "    </tr>\n",
       "  </tbody>\n",
       "</table>\n",
       "</div>"
      ],
      "text/plain": [
       "   ticker option_type  strike_price  trade_price  trade_quantity\n",
       "0  SU2016           P          1040       24.875               5\n",
       "1  SU2016           C          1040       90.625               5\n",
       "2  SX2016           P          1020       32.250              -5\n",
       "3  SX2016           C          1020       97.250              -5"
      ]
     },
     "execution_count": 3,
     "metadata": {},
     "output_type": "execute_result"
    }
   ],
   "source": [
    "import ta.trade_fill_loader as tfl\n",
    "wuhu = tfl.get_formatted_manual_entry_fills()\n",
    "wuhu"
   ]
  },
  {
   "cell_type": "code",
   "execution_count": 3,
   "metadata": {
    "collapsed": false,
    "scrolled": true
   },
   "outputs": [
    {
     "data": {
      "text/html": [
       "<div>\n",
       "<table border=\"1\" class=\"dataframe\">\n",
       "  <thead>\n",
       "    <tr style=\"text-align: right;\">\n",
       "      <th></th>\n",
       "      <th>ticker</th>\n",
       "      <th>option_type</th>\n",
       "      <th>strike_price</th>\n",
       "      <th>instrument</th>\n",
       "      <th>qty</th>\n",
       "    </tr>\n",
       "  </thead>\n",
       "  <tbody>\n",
       "    <tr>\n",
       "      <th>0</th>\n",
       "      <td>CDH2017</td>\n",
       "      <td>None</td>\n",
       "      <td>NaN</td>\n",
       "      <td>F</td>\n",
       "      <td>-3.79</td>\n",
       "    </tr>\n",
       "    <tr>\n",
       "      <th>1</th>\n",
       "      <td>CDZ2016</td>\n",
       "      <td>None</td>\n",
       "      <td>NaN</td>\n",
       "      <td>F</td>\n",
       "      <td>4.00</td>\n",
       "    </tr>\n",
       "    <tr>\n",
       "      <th>3</th>\n",
       "      <td>CLM2017</td>\n",
       "      <td>None</td>\n",
       "      <td>NaN</td>\n",
       "      <td>F</td>\n",
       "      <td>0.55</td>\n",
       "    </tr>\n",
       "    <tr>\n",
       "      <th>4</th>\n",
       "      <td>CLZ2017</td>\n",
       "      <td>None</td>\n",
       "      <td>NaN</td>\n",
       "      <td>F</td>\n",
       "      <td>-0.16</td>\n",
       "    </tr>\n",
       "    <tr>\n",
       "      <th>7</th>\n",
       "      <td>ECZ2016</td>\n",
       "      <td>None</td>\n",
       "      <td>NaN</td>\n",
       "      <td>F</td>\n",
       "      <td>0.38</td>\n",
       "    </tr>\n",
       "    <tr>\n",
       "      <th>8</th>\n",
       "      <td>ESH2017</td>\n",
       "      <td>None</td>\n",
       "      <td>NaN</td>\n",
       "      <td>F</td>\n",
       "      <td>1.16</td>\n",
       "    </tr>\n",
       "    <tr>\n",
       "      <th>9</th>\n",
       "      <td>ESZ2016</td>\n",
       "      <td>None</td>\n",
       "      <td>NaN</td>\n",
       "      <td>F</td>\n",
       "      <td>-1.00</td>\n",
       "    </tr>\n",
       "    <tr>\n",
       "      <th>10</th>\n",
       "      <td>GCG2017</td>\n",
       "      <td>None</td>\n",
       "      <td>NaN</td>\n",
       "      <td>F</td>\n",
       "      <td>2.51</td>\n",
       "    </tr>\n",
       "    <tr>\n",
       "      <th>11</th>\n",
       "      <td>GCM2017</td>\n",
       "      <td>None</td>\n",
       "      <td>NaN</td>\n",
       "      <td>F</td>\n",
       "      <td>-1.93</td>\n",
       "    </tr>\n",
       "    <tr>\n",
       "      <th>12</th>\n",
       "      <td>GCZ2016</td>\n",
       "      <td>None</td>\n",
       "      <td>NaN</td>\n",
       "      <td>F</td>\n",
       "      <td>-1.00</td>\n",
       "    </tr>\n",
       "    <tr>\n",
       "      <th>16</th>\n",
       "      <td>LNG2017</td>\n",
       "      <td>None</td>\n",
       "      <td>NaN</td>\n",
       "      <td>F</td>\n",
       "      <td>-0.46</td>\n",
       "    </tr>\n",
       "    <tr>\n",
       "      <th>17</th>\n",
       "      <td>LNJ2017</td>\n",
       "      <td>None</td>\n",
       "      <td>NaN</td>\n",
       "      <td>F</td>\n",
       "      <td>0.58</td>\n",
       "    </tr>\n",
       "    <tr>\n",
       "      <th>18</th>\n",
       "      <td>LNZ2016</td>\n",
       "      <td>None</td>\n",
       "      <td>NaN</td>\n",
       "      <td>F</td>\n",
       "      <td>0.04</td>\n",
       "    </tr>\n",
       "    <tr>\n",
       "      <th>19</th>\n",
       "      <td>SF2017</td>\n",
       "      <td>None</td>\n",
       "      <td>NaN</td>\n",
       "      <td>F</td>\n",
       "      <td>1.00</td>\n",
       "    </tr>\n",
       "    <tr>\n",
       "      <th>20</th>\n",
       "      <td>SH2017</td>\n",
       "      <td>None</td>\n",
       "      <td>NaN</td>\n",
       "      <td>F</td>\n",
       "      <td>-1.00</td>\n",
       "    </tr>\n",
       "    <tr>\n",
       "      <th>21</th>\n",
       "      <td>SIH2017</td>\n",
       "      <td>None</td>\n",
       "      <td>NaN</td>\n",
       "      <td>F</td>\n",
       "      <td>6.20</td>\n",
       "    </tr>\n",
       "    <tr>\n",
       "      <th>22</th>\n",
       "      <td>SIN2017</td>\n",
       "      <td>None</td>\n",
       "      <td>NaN</td>\n",
       "      <td>F</td>\n",
       "      <td>-1.06</td>\n",
       "    </tr>\n",
       "    <tr>\n",
       "      <th>23</th>\n",
       "      <td>SIZ2016</td>\n",
       "      <td>None</td>\n",
       "      <td>NaN</td>\n",
       "      <td>F</td>\n",
       "      <td>-5.02</td>\n",
       "    </tr>\n",
       "    <tr>\n",
       "      <th>24</th>\n",
       "      <td>SMH2017</td>\n",
       "      <td>None</td>\n",
       "      <td>NaN</td>\n",
       "      <td>F</td>\n",
       "      <td>-0.51</td>\n",
       "    </tr>\n",
       "    <tr>\n",
       "      <th>25</th>\n",
       "      <td>SMN2017</td>\n",
       "      <td>None</td>\n",
       "      <td>NaN</td>\n",
       "      <td>F</td>\n",
       "      <td>0.02</td>\n",
       "    </tr>\n",
       "  </tbody>\n",
       "</table>\n",
       "</div>"
      ],
      "text/plain": [
       "     ticker option_type  strike_price instrument   qty\n",
       "0   CDH2017        None           NaN          F -3.79\n",
       "1   CDZ2016        None           NaN          F  4.00\n",
       "3   CLM2017        None           NaN          F  0.55\n",
       "4   CLZ2017        None           NaN          F -0.16\n",
       "7   ECZ2016        None           NaN          F  0.38\n",
       "8   ESH2017        None           NaN          F  1.16\n",
       "9   ESZ2016        None           NaN          F -1.00\n",
       "10  GCG2017        None           NaN          F  2.51\n",
       "11  GCM2017        None           NaN          F -1.93\n",
       "12  GCZ2016        None           NaN          F -1.00\n",
       "16  LNG2017        None           NaN          F -0.46\n",
       "17  LNJ2017        None           NaN          F  0.58\n",
       "18  LNZ2016        None           NaN          F  0.04\n",
       "19   SF2017        None           NaN          F  1.00\n",
       "20   SH2017        None           NaN          F -1.00\n",
       "21  SIH2017        None           NaN          F  6.20\n",
       "22  SIN2017        None           NaN          F -1.06\n",
       "23  SIZ2016        None           NaN          F -5.02\n",
       "24  SMH2017        None           NaN          F -0.51\n",
       "25  SMN2017        None           NaN          F  0.02"
      ]
     },
     "execution_count": 3,
     "metadata": {},
     "output_type": "execute_result"
    }
   ],
   "source": [
    "\n",
    "#Daily Hedge\n",
    "\n",
    "import ta.strategy_hedger as sh\n",
    "import shared.calendar_utilities as cu\n",
    "import ta.strategy as tas\n",
    "#sh.strategy_hedge_report()\n",
    "import ta.strategy as tas\n",
    "\n",
    "wuhu  = tas.get_net_position_4strategy_alias(alias='delta_oct16',as_of_date=cu.get_doubledate())\n",
    "wuhu"
   ]
  },
  {
   "cell_type": "code",
   "execution_count": 26,
   "metadata": {
    "collapsed": false
   },
   "outputs": [
    {
     "data": {
      "text/plain": [
       "15.811388300841896"
      ]
     },
     "execution_count": 26,
     "metadata": {},
     "output_type": "execute_result"
    }
   ],
   "source": [
    "250**(0.5)"
   ]
  },
  {
   "cell_type": "code",
   "execution_count": 30,
   "metadata": {
    "collapsed": false
   },
   "outputs": [
    {
     "data": {
      "text/plain": [
       "15    57.9\n",
       "Name: mid_price, dtype: float64"
      ]
     },
     "execution_count": 30,
     "metadata": {},
     "output_type": "execute_result"
    }
   ],
   "source": [
    "intraday_price_frame['mid_price'].loc[intraday_price_frame['underlying_ticker']==tickers_with_no_options[0]]"
   ]
  },
  {
   "cell_type": "code",
   "execution_count": 3,
   "metadata": {
    "collapsed": false
   },
   "outputs": [
    {
     "data": {
      "text/html": [
       "<div>\n",
       "<table border=\"1\" class=\"dataframe\">\n",
       "  <thead>\n",
       "    <tr style=\"text-align: right;\">\n",
       "      <th></th>\n",
       "      <th>ticker</th>\n",
       "      <th>total_oev</th>\n",
       "      <th>theta</th>\n",
       "      <th>dollar_vega</th>\n",
       "    </tr>\n",
       "  </thead>\n",
       "  <tbody>\n",
       "    <tr>\n",
       "      <th>0</th>\n",
       "      <td>SIH2017</td>\n",
       "      <td>-2.656538</td>\n",
       "      <td>49.38200</td>\n",
       "      <td>-544.079723</td>\n",
       "    </tr>\n",
       "    <tr>\n",
       "      <th>1</th>\n",
       "      <td>SIZ2016</td>\n",
       "      <td>1.389156</td>\n",
       "      <td>-64.10325</td>\n",
       "      <td>136.127589</td>\n",
       "    </tr>\n",
       "  </tbody>\n",
       "</table>\n",
       "</div>"
      ],
      "text/plain": [
       "    ticker  total_oev     theta  dollar_vega\n",
       "0  SIH2017  -2.656538  49.38200  -544.079723\n",
       "1  SIZ2016   1.389156 -64.10325   136.127589"
      ]
     },
     "execution_count": 3,
     "metadata": {},
     "output_type": "execute_result"
    }
   ],
   "source": [
    "import ta.strategy_greeks as sg\n",
    "import pandas as pd\n",
    "import get_price.get_options_price as gop\n",
    "output = sg.get_greeks_4strategy_4date(alias='SI_inventory_Aug16')\n",
    "\n",
    "# SIU16Z16VCS\n",
    "output['ticker_portfolio']\n",
    "#output['strike_portfolio']\n",
    "# 2.6/ -5.2\n",
    "# 3/-6\n",
    "#output['strike_portfolio']\n",
    "\n",
    "# silver portfolio might cause problems\n",
    "#output\n",
    "\n",
    "# -2.36-3.24  5.6 OEVs 2 straddles\n",
    "output['ticker_portfolio']\n",
    "output['strike_portfolio']['total_oev'].sum()\n",
    "output['ticker_portfolio']\n",
    "output['strike_portfolio']['total_oev'].sum()\n",
    "output['ticker_portfolio']\n",
    "#output['strike_portfolio']"
   ]
  },
  {
   "cell_type": "code",
   "execution_count": 9,
   "metadata": {
    "collapsed": false
   },
   "outputs": [],
   "source": [
    "import ta.pnl as tapnl\n",
    "alias = 'HON2016Q2016Q2016U2016'\n",
    "tapnl.close_strategy(alias='SF17H17VCS_2')\n"
   ]
  },
  {
   "cell_type": "code",
   "execution_count": 21,
   "metadata": {
    "collapsed": false,
    "scrolled": true
   },
   "outputs": [
    {
     "data": {
      "text/html": [
       "<div>\n",
       "<table border=\"1\" class=\"dataframe\">\n",
       "  <thead>\n",
       "    <tr style=\"text-align: right;\">\n",
       "      <th></th>\n",
       "      <th>generalized_ticker</th>\n",
       "      <th>qty_x</th>\n",
       "      <th>ticker</th>\n",
       "      <th>option_type</th>\n",
       "      <th>strike_price</th>\n",
       "      <th>instrument</th>\n",
       "      <th>qty_y</th>\n",
       "      <th>qty_diff</th>\n",
       "    </tr>\n",
       "  </thead>\n",
       "  <tbody>\n",
       "  </tbody>\n",
       "</table>\n",
       "</div>"
      ],
      "text/plain": [
       "Empty DataFrame\n",
       "Columns: [generalized_ticker, qty_x, ticker, option_type, strike_price, instrument, qty_y, qty_diff]\n",
       "Index: []"
      ]
     },
     "execution_count": 21,
     "metadata": {},
     "output_type": "execute_result"
    }
   ],
   "source": [
    "import ta.abn_position_reconciler as pr\n",
    "pr.reconcile_position()"
   ]
  },
  {
   "cell_type": "code",
   "execution_count": 6,
   "metadata": {
    "collapsed": false
   },
   "outputs": [
    {
     "data": {
      "text/html": [
       "<div>\n",
       "<table border=\"1\" class=\"dataframe\">\n",
       "  <thead>\n",
       "    <tr style=\"text-align: right;\">\n",
       "      <th></th>\n",
       "      <th>ticker</th>\n",
       "      <th>total_oev</th>\n",
       "      <th>theta</th>\n",
       "    </tr>\n",
       "  </thead>\n",
       "  <tbody>\n",
       "    <tr>\n",
       "      <th>0</th>\n",
       "      <td>LCV2016</td>\n",
       "      <td>-19.988474</td>\n",
       "      <td>157.53088</td>\n",
       "    </tr>\n",
       "    <tr>\n",
       "      <th>1</th>\n",
       "      <td>LCZ2016</td>\n",
       "      <td>19.999996</td>\n",
       "      <td>-120.84700</td>\n",
       "    </tr>\n",
       "  </tbody>\n",
       "</table>\n",
       "</div>"
      ],
      "text/plain": [
       "    ticker  total_oev      theta\n",
       "0  LCV2016 -19.988474  157.53088\n",
       "1  LCZ2016  19.999996 -120.84700"
      ]
     },
     "execution_count": 6,
     "metadata": {},
     "output_type": "execute_result"
    }
   ],
   "source": [
    "import ta.strategy_greeks as sg\n",
    "greeks_out = sg.get_greeks_4strategy_4date(alias='LCZ16V16VCS',as_of_date=20160614)\n",
    "greeks_out['ticker_portfolio']"
   ]
  },
  {
   "cell_type": "code",
   "execution_count": null,
   "metadata": {
    "collapsed": true
   },
   "outputs": [],
   "source": [
    "import ta.strategy_followup as sf"
   ]
  },
  {
   "cell_type": "code",
   "execution_count": 8,
   "metadata": {
    "collapsed": false
   },
   "outputs": [],
   "source": [
    "import ta.strategy as ts\n",
    "ts.move_position_from_strategy_2_strategy(strategy_from='SIH2017_long_scv',strategy_to='SIH17N17VCS')\n",
    "\n"
   ]
  },
  {
   "cell_type": "code",
   "execution_count": 6,
   "metadata": {
    "collapsed": false,
    "scrolled": true
   },
   "outputs": [
    {
     "data": {
      "text/html": [
       "<div>\n",
       "<table border=\"1\" class=\"dataframe\">\n",
       "  <thead>\n",
       "    <tr style=\"text-align: right;\">\n",
       "      <th></th>\n",
       "      <th>ticker</th>\n",
       "      <th>option_type</th>\n",
       "      <th>strike_price</th>\n",
       "      <th>instrument</th>\n",
       "      <th>qty</th>\n",
       "    </tr>\n",
       "  </thead>\n",
       "  <tbody>\n",
       "    <tr>\n",
       "      <th>0</th>\n",
       "      <td>BOZ2016</td>\n",
       "      <td>None</td>\n",
       "      <td>NaN</td>\n",
       "      <td>F</td>\n",
       "      <td>1</td>\n",
       "    </tr>\n",
       "    <tr>\n",
       "      <th>2</th>\n",
       "      <td>SMZ2016</td>\n",
       "      <td>None</td>\n",
       "      <td>NaN</td>\n",
       "      <td>F</td>\n",
       "      <td>1</td>\n",
       "    </tr>\n",
       "    <tr>\n",
       "      <th>3</th>\n",
       "      <td>SX2016</td>\n",
       "      <td>None</td>\n",
       "      <td>NaN</td>\n",
       "      <td>F</td>\n",
       "      <td>-1</td>\n",
       "    </tr>\n",
       "  </tbody>\n",
       "</table>\n",
       "</div>"
      ],
      "text/plain": [
       "    ticker option_type  strike_price instrument  qty\n",
       "0  BOZ2016        None           NaN          F    1\n",
       "2  SMZ2016        None           NaN          F    1\n",
       "3   SX2016        None           NaN          F   -1"
      ]
     },
     "execution_count": 6,
     "metadata": {},
     "output_type": "execute_result"
    }
   ],
   "source": [
    "import ta.strategy as ts\n",
    "import shared.calendar_utilities as cu\n",
    "wuhu = ts.get_net_position_4strategy_alias(alias='ECZ2016_short_scv')\n",
    "wuhu"
   ]
  },
  {
   "cell_type": "code",
   "execution_count": 18,
   "metadata": {
    "collapsed": false,
    "scrolled": false
   },
   "outputs": [
    {
     "data": {
      "text/html": [
       "<div>\n",
       "<table border=\"1\" class=\"dataframe\">\n",
       "  <thead>\n",
       "    <tr style=\"text-align: right;\">\n",
       "      <th></th>\n",
       "      <th>ticker</th>\n",
       "      <th>option_type</th>\n",
       "      <th>strike_price</th>\n",
       "      <th>instrument</th>\n",
       "      <th>qty</th>\n",
       "    </tr>\n",
       "  </thead>\n",
       "  <tbody>\n",
       "    <tr>\n",
       "      <th>0</th>\n",
       "      <td>LNG2017</td>\n",
       "      <td>None</td>\n",
       "      <td>NaN</td>\n",
       "      <td>F</td>\n",
       "      <td>-2.47</td>\n",
       "    </tr>\n",
       "    <tr>\n",
       "      <th>1</th>\n",
       "      <td>LNG2017</td>\n",
       "      <td>C</td>\n",
       "      <td>54</td>\n",
       "      <td>O</td>\n",
       "      <td>16.00</td>\n",
       "    </tr>\n",
       "    <tr>\n",
       "      <th>2</th>\n",
       "      <td>LNG2017</td>\n",
       "      <td>P</td>\n",
       "      <td>54</td>\n",
       "      <td>O</td>\n",
       "      <td>16.00</td>\n",
       "    </tr>\n",
       "  </tbody>\n",
       "</table>\n",
       "</div>"
      ],
      "text/plain": [
       "    ticker option_type  strike_price instrument    qty\n",
       "0  LNG2017        None           NaN          F  -2.47\n",
       "1  LNG2017           C            54          O  16.00\n",
       "2  LNG2017           P            54          O  16.00"
      ]
     },
     "execution_count": 18,
     "metadata": {},
     "output_type": "execute_result"
    }
   ],
   "source": [
    "import shared.calendar_utilities as cu\n",
    "import ta.strategy as tas\n",
    "wuhu  = tas.get_net_position_4strategy_alias(alias='LNG2017_long_scv',as_of_date=cu.get_doubledate())\n",
    "wuhu\n",
    "\n",
    "# buy back two futures after\n",
    "\n",
    "# 16.25 long 4 SIU straddles\n",
    "# 16 long 4 SIU straddles"
   ]
  },
  {
   "cell_type": "code",
   "execution_count": 1,
   "metadata": {
    "collapsed": false,
    "scrolled": true
   },
   "outputs": [
    {
     "data": {
      "text/plain": [
       "{'futures_pnl': -188.5, 'structure_pnl': 750.0, 'structure_settle': 25.375}"
      ]
     },
     "execution_count": 1,
     "metadata": {},
     "output_type": "execute_result"
    }
   ],
   "source": [
    "import ta.position_close_helper as pch\n",
    "pch.calc_intrday_pnl_from_prices(alias='SF17H17VCS_2',structure_price=24.75,SF2017=1025.5,SH2017=1031.5)\n",
    "\n",
    "# also buy one CLZ"
   ]
  },
  {
   "cell_type": "code",
   "execution_count": 18,
   "metadata": {
    "collapsed": false
   },
   "outputs": [
    {
     "data": {
      "text/plain": [
       "{'futures_pnl': 200.30000000000084,\n",
       " 'structure_pnl': -300.0,\n",
       " 'structure_settle': 8.0500000000000007}"
      ]
     },
     "execution_count": 18,
     "metadata": {},
     "output_type": "execute_result"
    }
   ],
   "source": [
    "import ta.position_close_helper as pch\n",
    "pch.calc_intrday_pnl_from_prices(alias='LNG17Z16VCS',structure_price=8.425,LNZ2016=47.625,LNG2017=54.7)"
   ]
  },
  {
   "cell_type": "code",
   "execution_count": 8,
   "metadata": {
    "collapsed": false
   },
   "outputs": [
    {
     "data": {
      "text/plain": [
       "{'delta_pnl': 1883.1045914999706,\n",
       " 'structure_pnl': -2249.999999999994,\n",
       " 'structure_price_yesterday': -0.15000000000000036,\n",
       " 'total_pnl': -366.89540850002345}"
      ]
     },
     "execution_count": 8,
     "metadata": {},
     "output_type": "execute_result"
    }
   ],
   "source": [
    "import ta.position_close_helper as pch\n",
    "pch.calc_intraday_structure_pnl_from_prices(ticker_list=['LNZ2016','LNG2017'],\n",
    "                                            structure_price = -0.275,\n",
    "                                            strike_list=[54,60],\n",
    "                                            underlying_price_list=[45.9, 53.15],\n",
    "                                            qty = 45,\n",
    "                                            structure_type='straddle_spread')"
   ]
  },
  {
   "cell_type": "code",
   "execution_count": null,
   "metadata": {
    "collapsed": true
   },
   "outputs": [],
   "source": []
  }
 ],
 "metadata": {
  "kernelspec": {
   "display_name": "Python 3",
   "language": "python",
   "name": "python3"
  },
  "language_info": {
   "codemirror_mode": {
    "name": "ipython",
    "version": 3
   },
   "file_extension": ".py",
   "mimetype": "text/x-python",
   "name": "python",
   "nbconvert_exporter": "python",
   "pygments_lexer": "ipython3",
   "version": "3.4.3"
  }
 },
 "nbformat": 4,
 "nbformat_minor": 0
}
