{
 "cells": [
  {
   "cell_type": "code",
   "execution_count": 2,
   "metadata": {
    "collapsed": true
   },
   "outputs": [],
   "source": [
    "import contract_utilities.expiration as exp\n",
    "report_date = exp.doubledate_shift_bus_days()"
   ]
  },
  {
   "cell_type": "code",
   "execution_count": 5,
   "metadata": {
    "collapsed": false
   },
   "outputs": [
    {
     "data": {
      "text/plain": [
       "10"
      ]
     },
     "execution_count": 5,
     "metadata": {},
     "output_type": "execute_result"
    }
   ],
   "source": [
    "# Create DB Strategy\n",
    "\n",
    "import ta.strategy as ts\n",
    "ts.generate_db_strategy_from_strategy_sheet(id=275,strategy_class='futures_butterfly',report_date=report_date)"
   ]
  },
  {
   "cell_type": "code",
   "execution_count": 2,
   "metadata": {
    "collapsed": false
   },
   "outputs": [
    {
     "data": {
      "text/plain": [
       "11"
      ]
     },
     "execution_count": 2,
     "metadata": {},
     "output_type": "execute_result"
    }
   ],
   "source": [
    "# Create Misc Strategy\n",
    "#import ta.strategy as ts\n",
    "#ts.generate_db_strategy_from_alias(alias='spreadCarryJan16',description_string='strategy_class=spread_carry&betsize=300')\n"
   ]
  },
  {
   "cell_type": "code",
   "execution_count": 2,
   "metadata": {
    "collapsed": false
   },
   "outputs": [],
   "source": [
    "import ta.tt_fill_loader as tfl\n",
    "import datetime as dt\n",
    "#tfl.assign_trades_2strategies()\n",
    "#tfl.load_tt_trades()\n",
    "\n",
    "#wuhu = tfl.get_formatted_tt_fills()\n",
    "#wuhu\n",
    "\n",
    "#dt.datetime.strptime(wuhu['Contract'].values[40],'%y-%b')\n"
   ]
  },
  {
   "cell_type": "code",
   "execution_count": 4,
   "metadata": {
    "collapsed": false
   },
   "outputs": [
    {
     "name": "stdout",
     "output_type": "stream",
     "text": [
      "--- 5.241299867630005 seconds ---\n"
     ]
    }
   ],
   "source": [
    "import ta.portfolio_manager as tpm\n",
    "import time\n",
    "start_time = time.time()\n",
    "# pnl_date\n",
    "wuhu = tpm.get_daily_pnl_snapshot(as_of_date=20160115)   # as_of_date=20160114  5.24 seconds\n",
    "print(\"--- %s seconds ---\" % (time.time() - start_time))"
   ]
  },
  {
   "cell_type": "code",
   "execution_count": 1,
   "metadata": {
    "collapsed": false
   },
   "outputs": [
    {
     "data": {
      "text/plain": [
       "{'daily_pnl': -436,\n",
       " 'pnl_frame':    settle_date  position_pnl  intraday_pnl  t_cost  total_pnl\n",
       " 0     20160107             0           214     106        107\n",
       " 1     20160108          -436             0       0       -436,\n",
       " 'total_pnl': -329}"
      ]
     },
     "execution_count": 1,
     "metadata": {},
     "output_type": "execute_result"
    }
   ],
   "source": [
    "import ta.pnl as tapnl\n",
    "import shared.calendar_utilities as cu\n",
    "pnl_date = 20160108\n",
    "import decimal as dec\n",
    "import pandas as pd\n",
    "\n",
    "wuhu = tapnl.get_strategy_pnl(alias='HON2016Q2016Q2016U2016')\n",
    "wuhu"
   ]
  },
  {
   "cell_type": "code",
   "execution_count": 1,
   "metadata": {
    "collapsed": false
   },
   "outputs": [],
   "source": [
    "import get_price.presave_price as psp\n",
    "psp.generate_and_update_futures_data_file_4tickerhead(ticker_head='CL')"
   ]
  },
  {
   "cell_type": "code",
   "execution_count": 7,
   "metadata": {
    "collapsed": false
   },
   "outputs": [
    {
     "data": {
      "text/plain": [
       "30000101"
      ]
     },
     "execution_count": 7,
     "metadata": {},
     "output_type": "execute_result"
    }
   ],
   "source": [
    "import ta.pnl as tapnl\n",
    "alias = 'HON2016Q2016Q2016U2016'\n",
    "pnl_out = tapnl.get_strategy_pnl(alias=alias)\n",
    "int(pnl_out['open_date'].strftime('%Y%m%d'))\n",
    "int(pnl_out['close_date'].strftime('%Y%m%d'))"
   ]
  },
  {
   "cell_type": "code",
   "execution_count": 3,
   "metadata": {
    "collapsed": false
   },
   "outputs": [
    {
     "data": {
      "text/plain": [
       "datetime.datetime(2016, 1, 7, 0, 0)"
      ]
     },
     "execution_count": 3,
     "metadata": {},
     "output_type": "execute_result"
    }
   ],
   "source": [
    "alias = 'HON2016Q2016Q2016U2016'\n",
    "import ta.strategy as ts\n",
    "import contract_utilities.expiration as exp\n",
    "strategy_info = ts.get_strategy_info_from_alias(alias=alias)\n",
    "strategy_info['open_date']"
   ]
  },
  {
   "cell_type": "code",
   "execution_count": 4,
   "metadata": {
    "collapsed": false
   },
   "outputs": [
    {
     "data": {
      "text/plain": [
       "20160108"
      ]
     },
     "execution_count": 4,
     "metadata": {},
     "output_type": "execute_result"
    }
   ],
   "source": [
    "date_from = strategy_info['open_date']\n",
    "exp.doubledate_shift_bus_days()"
   ]
  },
  {
   "cell_type": "code",
   "execution_count": 2,
   "metadata": {
    "collapsed": false
   },
   "outputs": [
    {
     "data": {
      "text/plain": [
       "[20160107, 20160108]"
      ]
     },
     "execution_count": 2,
     "metadata": {},
     "output_type": "execute_result"
    }
   ],
   "source": [
    "import contract_utilities.expiration as exp\n",
    "wuhu = exp.get_bus_day_list(date_from=20160107,date_to=20160108)\n",
    "wuhu"
   ]
  },
  {
   "cell_type": "code",
   "execution_count": 6,
   "metadata": {
    "collapsed": false
   },
   "outputs": [
    {
     "data": {
      "text/plain": [
       "[20160107, 20160108, 20160111]"
      ]
     },
     "execution_count": 6,
     "metadata": {},
     "output_type": "execute_result"
    }
   ],
   "source": []
  },
  {
   "cell_type": "code",
   "execution_count": null,
   "metadata": {
    "collapsed": true
   },
   "outputs": [],
   "source": []
  }
 ],
 "metadata": {
  "kernelspec": {
   "display_name": "Python 3",
   "language": "python",
   "name": "python3"
  },
  "language_info": {
   "codemirror_mode": {
    "name": "ipython",
    "version": 3
   },
   "file_extension": ".py",
   "mimetype": "text/x-python",
   "name": "python",
   "nbconvert_exporter": "python",
   "pygments_lexer": "ipython3",
   "version": "3.4.3"
  }
 },
 "nbformat": 4,
 "nbformat_minor": 0
}
