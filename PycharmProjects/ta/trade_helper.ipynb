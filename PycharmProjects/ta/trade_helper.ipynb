{
 "cells": [
  {
   "cell_type": "code",
   "execution_count": 6,
   "metadata": {
    "collapsed": true
   },
   "outputs": [],
   "source": [
    "import contract_utilities.expiration as exp\n",
    "report_date = exp.doubledate_shift_bus_days()"
   ]
  },
  {
   "cell_type": "code",
   "execution_count": 7,
   "metadata": {
    "collapsed": false
   },
   "outputs": [
    {
     "data": {
      "text/plain": [
       "46"
      ]
     },
     "execution_count": 7,
     "metadata": {},
     "output_type": "execute_result"
    }
   ],
   "source": [
    "# Create DB Strategy\n",
    "\n",
    "import ta.strategy as ts\n",
    "ts.generate_db_strategy_from_strategy_sheet(id=48,strategy_class='futures_butterfly',report_date=report_date)"
   ]
  },
  {
   "cell_type": "code",
   "execution_count": 4,
   "metadata": {
    "collapsed": false
   },
   "outputs": [
    {
     "data": {
      "text/plain": [
       "40"
      ]
     },
     "execution_count": 4,
     "metadata": {},
     "output_type": "execute_result"
    }
   ],
   "source": [
    "# Create Misc Strategy\n",
    "import ta.strategy as ts\n",
    "ts.generate_db_strategy_from_alias(alias='spreadCarryFeb16_2',description_string='strategy_class=spread_carry&betsize=330')\n"
   ]
  },
  {
   "cell_type": "code",
   "execution_count": 8,
   "metadata": {
    "collapsed": false
   },
   "outputs": [],
   "source": [
    "import ta.tt_fill_loader as tfl\n",
    "import datetime as dt\n",
    "#wuhu = tfl.assign_trades_2strategies()\n",
    "#wuhu\n",
    "tfl.load_tt_trades()\n",
    "\n",
    "#wuhu = tfl.get_formatted_tt_fills()\n",
    "#wuhu\n",
    "\n",
    "#dt.datetime.strptime(wuhu['Contract'].values[40],'%y-%b')\n",
    "\n",
    "\n",
    "\n"
   ]
  },
  {
   "cell_type": "code",
   "execution_count": 8,
   "metadata": {
    "collapsed": false
   },
   "outputs": [],
   "source": [
    "import get_price.presave_price as psp\n",
    "psp.generate_and_update_futures_data_file_4tickerhead(ticker_head='B')"
   ]
  },
  {
   "cell_type": "code",
   "execution_count": 1,
   "metadata": {
    "collapsed": false
   },
   "outputs": [],
   "source": [
    "import ta.pnl as tapnl\n",
    "alias = 'HON2016Q2016Q2016U2016'\n",
    "tapnl.close_strategy(alias='CLU2016Z2016Z2016H2017')\n"
   ]
  },
  {
   "cell_type": "code",
   "execution_count": 7,
   "metadata": {
    "collapsed": false
   },
   "outputs": [
    {
     "data": {
      "text/html": [
       "<div>\n",
       "<table border=\"1\" class=\"dataframe\">\n",
       "  <thead>\n",
       "    <tr style=\"text-align: right;\">\n",
       "      <th></th>\n",
       "      <th>ticker</th>\n",
       "      <th>option_type</th>\n",
       "      <th>strike_price</th>\n",
       "      <th>instrument</th>\n",
       "      <th>qty</th>\n",
       "    </tr>\n",
       "  </thead>\n",
       "  <tbody>\n",
       "    <tr>\n",
       "      <th>0</th>\n",
       "      <td>BM2017</td>\n",
       "      <td>None</td>\n",
       "      <td>None</td>\n",
       "      <td>F</td>\n",
       "      <td>14</td>\n",
       "    </tr>\n",
       "    <tr>\n",
       "      <th>1</th>\n",
       "      <td>BU2017</td>\n",
       "      <td>None</td>\n",
       "      <td>None</td>\n",
       "      <td>F</td>\n",
       "      <td>-29</td>\n",
       "    </tr>\n",
       "    <tr>\n",
       "      <th>2</th>\n",
       "      <td>BZ2017</td>\n",
       "      <td>None</td>\n",
       "      <td>None</td>\n",
       "      <td>F</td>\n",
       "      <td>15</td>\n",
       "    </tr>\n",
       "  </tbody>\n",
       "</table>\n",
       "</div>"
      ],
      "text/plain": [
       "   ticker option_type strike_price instrument  qty\n",
       "0  BM2017        None         None          F   14\n",
       "1  BU2017        None         None          F  -29\n",
       "2  BZ2017        None         None          F   15"
      ]
     },
     "execution_count": 7,
     "metadata": {},
     "output_type": "execute_result"
    }
   ],
   "source": [
    "import ta.strategy as tas\n",
    "tas.get_net_position_4strategy_alias(alias='BM2017U2017U2017Z2017')"
   ]
  },
  {
   "cell_type": "code",
   "execution_count": 11,
   "metadata": {
    "collapsed": false
   },
   "outputs": [
    {
     "data": {
      "text/plain": [
       "('64bit', 'WindowsPE')"
      ]
     },
     "execution_count": 11,
     "metadata": {},
     "output_type": "execute_result"
    }
   ],
   "source": [
    "import platform\n",
    "platform.architecture()"
   ]
  },
  {
   "cell_type": "code",
   "execution_count": 3,
   "metadata": {
    "collapsed": false
   },
   "outputs": [
    {
     "data": {
      "text/plain": [
       "datetime.datetime(2016, 1, 7, 0, 0)"
      ]
     },
     "execution_count": 3,
     "metadata": {},
     "output_type": "execute_result"
    }
   ],
   "source": [
    "alias = 'HON2016Q2016Q2016U2016'\n",
    "import ta.strategy as ts\n",
    "import contract_utilities.expiration as exp\n",
    "strategy_info = ts.get_strategy_info_from_alias(alias=alias)\n",
    "strategy_info['open_date']"
   ]
  },
  {
   "cell_type": "code",
   "execution_count": 2,
   "metadata": {
    "collapsed": false
   },
   "outputs": [],
   "source": [
    "import ta.strategy as ts\n",
    "ts.move_position_from_strategy_2_strategy(strategy_from='spreadCarryJan16',strategy_to='spreadCarryFeb16')\n",
    "\n"
   ]
  },
  {
   "cell_type": "code",
   "execution_count": 1,
   "metadata": {
    "collapsed": false
   },
   "outputs": [
    {
     "data": {
      "text/plain": [
       "[('CLN2016',\n",
       "  None,\n",
       "  None,\n",
       "  37,\n",
       "  37.04,\n",
       "  -2,\n",
       "  20160222,\n",
       "  'F',\n",
       "  True,\n",
       "  datetime.datetime(2016, 2, 23, 16, 19, 12, 695074),\n",
       "  datetime.datetime(2016, 2, 23, 16, 19, 12, 695074)),\n",
       " ('CLQ2016',\n",
       "  None,\n",
       "  None,\n",
       "  37,\n",
       "  37.73,\n",
       "  2,\n",
       "  20160222,\n",
       "  'F',\n",
       "  True,\n",
       "  datetime.datetime(2016, 2, 23, 16, 19, 12, 695074),\n",
       "  datetime.datetime(2016, 2, 23, 16, 19, 12, 695074))]"
      ]
     },
     "execution_count": 1,
     "metadata": {},
     "output_type": "execute_result"
    }
   ],
   "source": [
    "import ta.strategy as ts\n",
    "ts.move_position_from_strategy_2_strategy(strategy_from='CL-Jan16-Carry',strategy_to='spreadCarryFeb16')\n"
   ]
  },
  {
   "cell_type": "code",
   "execution_count": 23,
   "metadata": {
    "collapsed": false
   },
   "outputs": [
    {
     "data": {
      "text/plain": [
       "['CK2016',\n",
       " 'CN2016',\n",
       " 'SK2016',\n",
       " 'SN2016',\n",
       " 'LNG2017',\n",
       " 'LNZ2016',\n",
       " 'SMV2016',\n",
       " 'SMZ2016',\n",
       " 'KCK2016',\n",
       " 'KCN2016',\n",
       " 'FCK2016',\n",
       " 'FCQ2016',\n",
       " 'BOF2017',\n",
       " 'BOZ2016',\n",
       " 'KWH2017',\n",
       " 'KWZ2016',\n",
       " 'CK2016',\n",
       " 'CN2016',\n",
       " 'NGQ2016',\n",
       " 'NGU2016',\n",
       " 'FCK2016',\n",
       " 'FCQ2016',\n",
       " 'SBH2017',\n",
       " 'SBV2016',\n",
       " 'CH2017',\n",
       " 'CZ2016',\n",
       " 'CCN2016',\n",
       " 'CCU2016',\n",
       " 'EDU2017',\n",
       " 'EDZ2017',\n",
       " 'KCK2016',\n",
       " 'KCN2016',\n",
       " 'KCU2016',\n",
       " 'KCZ2016',\n",
       " 'SK2016',\n",
       " 'SN2016',\n",
       " 'SQ2016',\n",
       " 'RBX2016',\n",
       " 'RBZ2016',\n",
       " 'SBH2017',\n",
       " 'SBV2016']"
      ]
     },
     "execution_count": 23,
     "metadata": {},
     "output_type": "execute_result"
    }
   ],
   "source": [
    "import ta.strategy as ts\n",
    "wuhu = ts.get_net_position_4strategy_alias(alias='spreadCarryJan16')\n",
    "wuhu\n",
    "\n",
    "\n",
    "[wuhu['ticker'].iloc[x] if wuhu['instrument'].iloc[x]=='F' else\n",
    " wuhu['ticker'].iloc[x] + '_' + wuhu['option_type'].iloc[x] + str(wuhu['strike_price'].iloc[x])\n",
    " for x in range(len(wuhu.index))]"
   ]
  },
  {
   "cell_type": "code",
   "execution_count": 1,
   "metadata": {
    "collapsed": false
   },
   "outputs": [
    {
     "data": {
      "text/html": [
       "<div>\n",
       "<table border=\"1\" class=\"dataframe\">\n",
       "  <thead>\n",
       "    <tr style=\"text-align: right;\">\n",
       "      <th></th>\n",
       "      <th>ticker</th>\n",
       "      <th>option_type</th>\n",
       "      <th>strike_price</th>\n",
       "      <th>instrument</th>\n",
       "      <th>qty</th>\n",
       "    </tr>\n",
       "  </thead>\n",
       "  <tbody>\n",
       "    <tr>\n",
       "      <th>0</th>\n",
       "      <td>BOF2017</td>\n",
       "      <td>None</td>\n",
       "      <td>None</td>\n",
       "      <td>F</td>\n",
       "      <td>-2</td>\n",
       "    </tr>\n",
       "    <tr>\n",
       "      <th>1</th>\n",
       "      <td>BOZ2016</td>\n",
       "      <td>None</td>\n",
       "      <td>None</td>\n",
       "      <td>F</td>\n",
       "      <td>2</td>\n",
       "    </tr>\n",
       "    <tr>\n",
       "      <th>2</th>\n",
       "      <td>CCN2016</td>\n",
       "      <td>None</td>\n",
       "      <td>None</td>\n",
       "      <td>F</td>\n",
       "      <td>-1</td>\n",
       "    </tr>\n",
       "    <tr>\n",
       "      <th>3</th>\n",
       "      <td>CCU2016</td>\n",
       "      <td>None</td>\n",
       "      <td>None</td>\n",
       "      <td>F</td>\n",
       "      <td>1</td>\n",
       "    </tr>\n",
       "    <tr>\n",
       "      <th>4</th>\n",
       "      <td>CH2017</td>\n",
       "      <td>None</td>\n",
       "      <td>None</td>\n",
       "      <td>F</td>\n",
       "      <td>3</td>\n",
       "    </tr>\n",
       "    <tr>\n",
       "      <th>7</th>\n",
       "      <td>CZ2016</td>\n",
       "      <td>None</td>\n",
       "      <td>None</td>\n",
       "      <td>F</td>\n",
       "      <td>-3</td>\n",
       "    </tr>\n",
       "    <tr>\n",
       "      <th>8</th>\n",
       "      <td>EDU2017</td>\n",
       "      <td>None</td>\n",
       "      <td>None</td>\n",
       "      <td>F</td>\n",
       "      <td>-4</td>\n",
       "    </tr>\n",
       "    <tr>\n",
       "      <th>9</th>\n",
       "      <td>EDZ2017</td>\n",
       "      <td>None</td>\n",
       "      <td>None</td>\n",
       "      <td>F</td>\n",
       "      <td>4</td>\n",
       "    </tr>\n",
       "    <tr>\n",
       "      <th>14</th>\n",
       "      <td>KCU2016</td>\n",
       "      <td>None</td>\n",
       "      <td>None</td>\n",
       "      <td>F</td>\n",
       "      <td>-1</td>\n",
       "    </tr>\n",
       "    <tr>\n",
       "      <th>15</th>\n",
       "      <td>KCZ2016</td>\n",
       "      <td>None</td>\n",
       "      <td>None</td>\n",
       "      <td>F</td>\n",
       "      <td>1</td>\n",
       "    </tr>\n",
       "    <tr>\n",
       "      <th>16</th>\n",
       "      <td>KWH2017</td>\n",
       "      <td>None</td>\n",
       "      <td>None</td>\n",
       "      <td>F</td>\n",
       "      <td>2</td>\n",
       "    </tr>\n",
       "    <tr>\n",
       "      <th>17</th>\n",
       "      <td>KWZ2016</td>\n",
       "      <td>None</td>\n",
       "      <td>None</td>\n",
       "      <td>F</td>\n",
       "      <td>-2</td>\n",
       "    </tr>\n",
       "    <tr>\n",
       "      <th>18</th>\n",
       "      <td>LNG2017</td>\n",
       "      <td>None</td>\n",
       "      <td>None</td>\n",
       "      <td>F</td>\n",
       "      <td>-1</td>\n",
       "    </tr>\n",
       "    <tr>\n",
       "      <th>19</th>\n",
       "      <td>LNZ2016</td>\n",
       "      <td>None</td>\n",
       "      <td>None</td>\n",
       "      <td>F</td>\n",
       "      <td>1</td>\n",
       "    </tr>\n",
       "    <tr>\n",
       "      <th>20</th>\n",
       "      <td>NGQ2016</td>\n",
       "      <td>None</td>\n",
       "      <td>None</td>\n",
       "      <td>F</td>\n",
       "      <td>-4</td>\n",
       "    </tr>\n",
       "    <tr>\n",
       "      <th>21</th>\n",
       "      <td>NGU2016</td>\n",
       "      <td>None</td>\n",
       "      <td>None</td>\n",
       "      <td>F</td>\n",
       "      <td>4</td>\n",
       "    </tr>\n",
       "    <tr>\n",
       "      <th>22</th>\n",
       "      <td>RBX2016</td>\n",
       "      <td>None</td>\n",
       "      <td>None</td>\n",
       "      <td>F</td>\n",
       "      <td>1</td>\n",
       "    </tr>\n",
       "    <tr>\n",
       "      <th>23</th>\n",
       "      <td>RBZ2016</td>\n",
       "      <td>None</td>\n",
       "      <td>None</td>\n",
       "      <td>F</td>\n",
       "      <td>-1</td>\n",
       "    </tr>\n",
       "    <tr>\n",
       "      <th>27</th>\n",
       "      <td>SMV2016</td>\n",
       "      <td>None</td>\n",
       "      <td>None</td>\n",
       "      <td>F</td>\n",
       "      <td>-2</td>\n",
       "    </tr>\n",
       "    <tr>\n",
       "      <th>28</th>\n",
       "      <td>SMZ2016</td>\n",
       "      <td>None</td>\n",
       "      <td>None</td>\n",
       "      <td>F</td>\n",
       "      <td>2</td>\n",
       "    </tr>\n",
       "    <tr>\n",
       "      <th>29</th>\n",
       "      <td>SN2016</td>\n",
       "      <td>None</td>\n",
       "      <td>None</td>\n",
       "      <td>F</td>\n",
       "      <td>1</td>\n",
       "    </tr>\n",
       "    <tr>\n",
       "      <th>30</th>\n",
       "      <td>SQ2016</td>\n",
       "      <td>None</td>\n",
       "      <td>None</td>\n",
       "      <td>F</td>\n",
       "      <td>-1</td>\n",
       "    </tr>\n",
       "  </tbody>\n",
       "</table>\n",
       "</div>"
      ],
      "text/plain": [
       "     ticker option_type strike_price instrument  qty\n",
       "0   BOF2017        None         None          F   -2\n",
       "1   BOZ2016        None         None          F    2\n",
       "2   CCN2016        None         None          F   -1\n",
       "3   CCU2016        None         None          F    1\n",
       "4    CH2017        None         None          F    3\n",
       "7    CZ2016        None         None          F   -3\n",
       "8   EDU2017        None         None          F   -4\n",
       "9   EDZ2017        None         None          F    4\n",
       "14  KCU2016        None         None          F   -1\n",
       "15  KCZ2016        None         None          F    1\n",
       "16  KWH2017        None         None          F    2\n",
       "17  KWZ2016        None         None          F   -2\n",
       "18  LNG2017        None         None          F   -1\n",
       "19  LNZ2016        None         None          F    1\n",
       "20  NGQ2016        None         None          F   -4\n",
       "21  NGU2016        None         None          F    4\n",
       "22  RBX2016        None         None          F    1\n",
       "23  RBZ2016        None         None          F   -1\n",
       "27  SMV2016        None         None          F   -2\n",
       "28  SMZ2016        None         None          F    2\n",
       "29   SN2016        None         None          F    1\n",
       "30   SQ2016        None         None          F   -1"
      ]
     },
     "execution_count": 1,
     "metadata": {},
     "output_type": "execute_result"
    }
   ],
   "source": [
    "import ta.strategy as ts\n",
    "wuhu = ts.get_net_position_4strategy_alias(alias='spreadCarryJan16')\n",
    "wuhu"
   ]
  },
  {
   "cell_type": "code",
   "execution_count": null,
   "metadata": {
    "collapsed": true
   },
   "outputs": [],
   "source": []
  }
 ],
 "metadata": {
  "kernelspec": {
   "display_name": "Python 3",
   "language": "python",
   "name": "python3"
  },
  "language_info": {
   "codemirror_mode": {
    "name": "ipython",
    "version": 3
   },
   "file_extension": ".py",
   "mimetype": "text/x-python",
   "name": "python",
   "nbconvert_exporter": "python",
   "pygments_lexer": "ipython3",
   "version": "3.4.3"
  }
 },
 "nbformat": 4,
 "nbformat_minor": 0
}
