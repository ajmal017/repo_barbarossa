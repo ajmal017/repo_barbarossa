{
 "cells": [
  {
   "cell_type": "code",
   "execution_count": 9,
   "metadata": {
    "collapsed": true
   },
   "outputs": [],
   "source": [
    "import contract_utilities.expiration as exp\n",
    "report_date = exp.doubledate_shift_bus_days()"
   ]
  },
  {
   "cell_type": "code",
   "execution_count": 10,
   "metadata": {
    "collapsed": false
   },
   "outputs": [
    {
     "data": {
      "text/plain": [
       "77"
      ]
     },
     "execution_count": 10,
     "metadata": {},
     "output_type": "execute_result"
    }
   ],
   "source": [
    "# Create DB Strategy\n",
    "\n",
    "import ta.strategy as ts\n",
    "ts.generate_db_strategy_from_strategy_sheet(id=187,strategy_class='futures_butterfly',report_date=report_date)"
   ]
  },
  {
   "cell_type": "code",
   "execution_count": 7,
   "metadata": {
    "collapsed": false
   },
   "outputs": [
    {
     "data": {
      "text/plain": [
       "68"
      ]
     },
     "execution_count": 7,
     "metadata": {},
     "output_type": "execute_result"
    }
   ],
   "source": [
    "# Create Misc Strategy\n",
    "import ta.strategy as ts\n",
    "ts.generate_db_strategy_from_alias(alias='delta',description_string='strategy_class=delta')\n"
   ]
  },
  {
   "cell_type": "code",
   "execution_count": 1,
   "metadata": {
    "collapsed": false
   },
   "outputs": [],
   "source": [
    "import ta.trade_fill_loader as tfl\n",
    "import datetime as dt\n",
    "#wuhu = tfl.assign_trades_2strategies()\n",
    "#wuhu\n",
    "tfl.load_tt_trades()\n",
    "#tfl.load_cme_direct_trades()\n",
    "#wuhu = tfl.get_formatted_tt_fills()\n",
    "#wuhu\n",
    "\n",
    "#tfl.load_latest_tt_fills()\n",
    "#dt.datetime.strptime(wuhu['Contract'].values[40],'%y-%b')\n",
    "\n",
    "\n",
    "#tfl.load_cme__fills()\n"
   ]
  },
  {
   "cell_type": "code",
   "execution_count": 7,
   "metadata": {
    "collapsed": false
   },
   "outputs": [
    {
     "data": {
      "text/html": [
       "<div>\n",
       "<table border=\"1\" class=\"dataframe\">\n",
       "  <thead>\n",
       "    <tr style=\"text-align: right;\">\n",
       "      <th></th>\n",
       "      <th>ticker</th>\n",
       "      <th>option_type</th>\n",
       "      <th>strike_price</th>\n",
       "      <th>trade_price</th>\n",
       "      <th>trade_quantity</th>\n",
       "      <th>instrument</th>\n",
       "      <th>real_tradeQ</th>\n",
       "      <th>alias</th>\n",
       "    </tr>\n",
       "  </thead>\n",
       "  <tbody>\n",
       "    <tr>\n",
       "      <th>0</th>\n",
       "      <td>WN2016</td>\n",
       "      <td>None</td>\n",
       "      <td>NaN</td>\n",
       "      <td>506.75</td>\n",
       "      <td>6</td>\n",
       "      <td>F</td>\n",
       "      <td>True</td>\n",
       "      <td>WN16U16VCS</td>\n",
       "    </tr>\n",
       "    <tr>\n",
       "      <th>1</th>\n",
       "      <td>WN2016</td>\n",
       "      <td>C</td>\n",
       "      <td>465</td>\n",
       "      <td>48.50</td>\n",
       "      <td>-10</td>\n",
       "      <td>O</td>\n",
       "      <td>True</td>\n",
       "      <td>WN16U16VCS</td>\n",
       "    </tr>\n",
       "    <tr>\n",
       "      <th>2</th>\n",
       "      <td>WN2016</td>\n",
       "      <td>P</td>\n",
       "      <td>465</td>\n",
       "      <td>6.50</td>\n",
       "      <td>-10</td>\n",
       "      <td>O</td>\n",
       "      <td>True</td>\n",
       "      <td>WN16U16VCS</td>\n",
       "    </tr>\n",
       "    <tr>\n",
       "      <th>3</th>\n",
       "      <td>WU2016</td>\n",
       "      <td>None</td>\n",
       "      <td>NaN</td>\n",
       "      <td>515.25</td>\n",
       "      <td>-4</td>\n",
       "      <td>F</td>\n",
       "      <td>True</td>\n",
       "      <td>WN16U16VCS</td>\n",
       "    </tr>\n",
       "    <tr>\n",
       "      <th>4</th>\n",
       "      <td>WU2016</td>\n",
       "      <td>C</td>\n",
       "      <td>480</td>\n",
       "      <td>52.25</td>\n",
       "      <td>10</td>\n",
       "      <td>O</td>\n",
       "      <td>True</td>\n",
       "      <td>WN16U16VCS</td>\n",
       "    </tr>\n",
       "    <tr>\n",
       "      <th>5</th>\n",
       "      <td>WU2016</td>\n",
       "      <td>P</td>\n",
       "      <td>480</td>\n",
       "      <td>17.00</td>\n",
       "      <td>10</td>\n",
       "      <td>O</td>\n",
       "      <td>True</td>\n",
       "      <td>WN16U16VCS</td>\n",
       "    </tr>\n",
       "  </tbody>\n",
       "</table>\n",
       "</div>"
      ],
      "text/plain": [
       "   ticker option_type  strike_price  trade_price  trade_quantity instrument  \\\n",
       "0  WN2016        None           NaN       506.75               6          F   \n",
       "1  WN2016           C           465        48.50             -10          O   \n",
       "2  WN2016           P           465         6.50             -10          O   \n",
       "3  WU2016        None           NaN       515.25              -4          F   \n",
       "4  WU2016           C           480        52.25              10          O   \n",
       "5  WU2016           P           480        17.00              10          O   \n",
       "\n",
       "  real_tradeQ       alias  \n",
       "0        True  WN16U16VCS  \n",
       "1        True  WN16U16VCS  \n",
       "2        True  WN16U16VCS  \n",
       "3        True  WN16U16VCS  \n",
       "4        True  WN16U16VCS  \n",
       "5        True  WN16U16VCS  "
      ]
     },
     "execution_count": 7,
     "metadata": {},
     "output_type": "execute_result"
    }
   ],
   "source": [
    "trade_frame = tfl.assign_trades_2strategies(trade_source='cme_direct')\n",
    "trade_frame"
   ]
  },
  {
   "cell_type": "code",
   "execution_count": 1,
   "metadata": {
    "collapsed": false
   },
   "outputs": [
    {
     "data": {
      "text/html": [
       "<div>\n",
       "<table border=\"1\" class=\"dataframe\">\n",
       "  <thead>\n",
       "    <tr style=\"text-align: right;\">\n",
       "      <th></th>\n",
       "      <th></th>\n",
       "      <th>trade_price</th>\n",
       "      <th>trade_quantity</th>\n",
       "      <th>ticker</th>\n",
       "      <th>ticker_head</th>\n",
       "      <th>instrument</th>\n",
       "      <th>option_type</th>\n",
       "      <th>strike_price</th>\n",
       "      <th>real_tradeQ</th>\n",
       "    </tr>\n",
       "    <tr>\n",
       "      <th>generalized_ticker</th>\n",
       "      <th>side</th>\n",
       "      <th></th>\n",
       "      <th></th>\n",
       "      <th></th>\n",
       "      <th></th>\n",
       "      <th></th>\n",
       "      <th></th>\n",
       "      <th></th>\n",
       "      <th></th>\n",
       "    </tr>\n",
       "  </thead>\n",
       "  <tbody>\n",
       "    <tr>\n",
       "      <th>WN2016</th>\n",
       "      <th>Sell</th>\n",
       "      <td>494.250</td>\n",
       "      <td>-2</td>\n",
       "      <td>WN2016</td>\n",
       "      <td>W</td>\n",
       "      <td>F</td>\n",
       "      <td>None</td>\n",
       "      <td>NaN</td>\n",
       "      <td>True</td>\n",
       "    </tr>\n",
       "    <tr>\n",
       "      <th>WU2016</th>\n",
       "      <th>Buy</th>\n",
       "      <td>503.500</td>\n",
       "      <td>2</td>\n",
       "      <td>WU2016</td>\n",
       "      <td>W</td>\n",
       "      <td>F</td>\n",
       "      <td>None</td>\n",
       "      <td>NaN</td>\n",
       "      <td>True</td>\n",
       "    </tr>\n",
       "    <tr>\n",
       "      <th>WU2016-C-490.0</th>\n",
       "      <th>Buy</th>\n",
       "      <td>38.250</td>\n",
       "      <td>3</td>\n",
       "      <td>WU2016</td>\n",
       "      <td>W</td>\n",
       "      <td>O</td>\n",
       "      <td>C</td>\n",
       "      <td>490</td>\n",
       "      <td>True</td>\n",
       "    </tr>\n",
       "    <tr>\n",
       "      <th>WU2016-P-490.0</th>\n",
       "      <th>Buy</th>\n",
       "      <td>28.250</td>\n",
       "      <td>3</td>\n",
       "      <td>WU2016</td>\n",
       "      <td>W</td>\n",
       "      <td>O</td>\n",
       "      <td>P</td>\n",
       "      <td>490</td>\n",
       "      <td>True</td>\n",
       "    </tr>\n",
       "    <tr>\n",
       "      <th>WZ2016-C-500.0</th>\n",
       "      <th>Sell</th>\n",
       "      <td>48.000</td>\n",
       "      <td>-3</td>\n",
       "      <td>WZ2016</td>\n",
       "      <td>W</td>\n",
       "      <td>O</td>\n",
       "      <td>C</td>\n",
       "      <td>500</td>\n",
       "      <td>True</td>\n",
       "    </tr>\n",
       "    <tr>\n",
       "      <th>WZ2016-P-500.0</th>\n",
       "      <th>Sell</th>\n",
       "      <td>32.625</td>\n",
       "      <td>-3</td>\n",
       "      <td>WZ2016</td>\n",
       "      <td>W</td>\n",
       "      <td>O</td>\n",
       "      <td>P</td>\n",
       "      <td>500</td>\n",
       "      <td>True</td>\n",
       "    </tr>\n",
       "  </tbody>\n",
       "</table>\n",
       "</div>"
      ],
      "text/plain": [
       "                         trade_price  trade_quantity  ticker ticker_head  \\\n",
       "generalized_ticker side                                                    \n",
       "WN2016             Sell      494.250              -2  WN2016           W   \n",
       "WU2016             Buy       503.500               2  WU2016           W   \n",
       "WU2016-C-490.0     Buy        38.250               3  WU2016           W   \n",
       "WU2016-P-490.0     Buy        28.250               3  WU2016           W   \n",
       "WZ2016-C-500.0     Sell       48.000              -3  WZ2016           W   \n",
       "WZ2016-P-500.0     Sell       32.625              -3  WZ2016           W   \n",
       "\n",
       "                        instrument option_type  strike_price real_tradeQ  \n",
       "generalized_ticker side                                                   \n",
       "WN2016             Sell          F        None           NaN        True  \n",
       "WU2016             Buy           F        None           NaN        True  \n",
       "WU2016-C-490.0     Buy           O           C           490        True  \n",
       "WU2016-P-490.0     Buy           O           P           490        True  \n",
       "WZ2016-C-500.0     Sell          O           C           500        True  \n",
       "WZ2016-P-500.0     Sell          O           P           500        True  "
      ]
     },
     "execution_count": 1,
     "metadata": {},
     "output_type": "execute_result"
    }
   ],
   "source": [
    "import ta.trade_fill_loader as tfl\n",
    "import pandas as pd\n",
    "formatted_output = tfl.get_formatted_cme_direct_fills()\n",
    "formatted_output['aggregate_trades']\n",
    "\n"
   ]
  },
  {
   "cell_type": "code",
   "execution_count": 1,
   "metadata": {
    "collapsed": false
   },
   "outputs": [
    {
     "data": {
      "text/html": [
       "<div>\n",
       "<table border=\"1\" class=\"dataframe\">\n",
       "  <thead>\n",
       "    <tr style=\"text-align: right;\">\n",
       "      <th></th>\n",
       "      <th>ticker</th>\n",
       "      <th>option_type</th>\n",
       "      <th>strike_price</th>\n",
       "      <th>instrument</th>\n",
       "      <th>qty</th>\n",
       "    </tr>\n",
       "  </thead>\n",
       "  <tbody>\n",
       "  </tbody>\n",
       "</table>\n",
       "</div>"
      ],
      "text/plain": [
       "Empty DataFrame\n",
       "Columns: [ticker, option_type, strike_price, instrument, qty]\n",
       "Index: []"
      ]
     },
     "execution_count": 1,
     "metadata": {},
     "output_type": "execute_result"
    }
   ],
   "source": [
    "\n",
    "#Daily Hedge\n",
    "\n",
    "import ta.strategy_hedger as sh\n",
    "import shared.calendar_utilities as cu\n",
    "import ta.strategy as tas\n",
    "sh.strategy_hedge_report()\n",
    "import ta.strategy as tas\n",
    "\n",
    "wuhu  = tas.get_net_position_4strategy_alias(alias='Delta',as_of_date=cu.get_doubledate())\n",
    "wuhu"
   ]
  },
  {
   "cell_type": "code",
   "execution_count": 3,
   "metadata": {
    "collapsed": false
   },
   "outputs": [
    {
     "data": {
      "text/html": [
       "<div>\n",
       "<table border=\"1\" class=\"dataframe\">\n",
       "  <thead>\n",
       "    <tr style=\"text-align: right;\">\n",
       "      <th></th>\n",
       "      <th>underlying_ticker</th>\n",
       "      <th>underlying_delta</th>\n",
       "      <th>cme_code</th>\n",
       "      <th>bid_price</th>\n",
       "      <th>ask_price</th>\n",
       "      <th>hedge_price</th>\n",
       "      <th>hedge</th>\n",
       "    </tr>\n",
       "  </thead>\n",
       "  <tbody>\n",
       "    <tr>\n",
       "      <th>0</th>\n",
       "      <td>WN2016</td>\n",
       "      <td>0.28</td>\n",
       "      <td>1|G|XCBT:F:W:201607</td>\n",
       "      <td>508.0</td>\n",
       "      <td>508.25</td>\n",
       "      <td>508.125</td>\n",
       "      <td>-0.28</td>\n",
       "    </tr>\n",
       "    <tr>\n",
       "      <th>1</th>\n",
       "      <td>WU2016</td>\n",
       "      <td>-0.05</td>\n",
       "      <td>1|G|XCBT:F:W:201609</td>\n",
       "      <td>516.5</td>\n",
       "      <td>517.00</td>\n",
       "      <td>516.750</td>\n",
       "      <td>0.05</td>\n",
       "    </tr>\n",
       "  </tbody>\n",
       "</table>\n",
       "</div>"
      ],
      "text/plain": [
       "  underlying_ticker  underlying_delta             cme_code  bid_price  \\\n",
       "0            WN2016              0.28  1|G|XCBT:F:W:201607      508.0   \n",
       "1            WU2016             -0.05  1|G|XCBT:F:W:201609      516.5   \n",
       "\n",
       "   ask_price  hedge_price  hedge  \n",
       "0     508.25      508.125  -0.28  \n",
       "1     517.00      516.750   0.05  "
      ]
     },
     "execution_count": 3,
     "metadata": {},
     "output_type": "execute_result"
    }
   ],
   "source": [
    "import ta.strategy_hedger as sh\n",
    "sh.get_hedge_4strategy(alias='WN16U16VCS')"
   ]
  },
  {
   "cell_type": "code",
   "execution_count": 8,
   "metadata": {
    "collapsed": false
   },
   "outputs": [],
   "source": [
    "import get_price.presave_price as psp\n",
    "psp.generate_and_update_futures_data_file_4tickerhead(ticker_head='B')"
   ]
  },
  {
   "cell_type": "code",
   "execution_count": 6,
   "metadata": {
    "collapsed": false
   },
   "outputs": [],
   "source": [
    "import ta.pnl as tapnl\n",
    "alias = 'HON2016Q2016Q2016U2016'\n",
    "tapnl.close_strategy(alias='BV2016Z2016Q2016V2016')\n"
   ]
  },
  {
   "cell_type": "code",
   "execution_count": 1,
   "metadata": {
    "collapsed": false,
    "scrolled": true
   },
   "outputs": [
    {
     "data": {
      "text/html": [
       "<div>\n",
       "<table border=\"1\" class=\"dataframe\">\n",
       "  <thead>\n",
       "    <tr style=\"text-align: right;\">\n",
       "      <th></th>\n",
       "      <th>generalized_ticker</th>\n",
       "      <th>qty_x</th>\n",
       "      <th>qty_y</th>\n",
       "      <th>qty_diff</th>\n",
       "    </tr>\n",
       "  </thead>\n",
       "  <tbody>\n",
       "  </tbody>\n",
       "</table>\n",
       "</div>"
      ],
      "text/plain": [
       "Empty DataFrame\n",
       "Columns: [generalized_ticker, qty_x, qty_y, qty_diff]\n",
       "Index: []"
      ]
     },
     "execution_count": 1,
     "metadata": {},
     "output_type": "execute_result"
    }
   ],
   "source": [
    "import ta.abn_position_reconciler as pr\n",
    "pr.reconcile_position()"
   ]
  },
  {
   "cell_type": "code",
   "execution_count": 3,
   "metadata": {
    "collapsed": false
   },
   "outputs": [
    {
     "data": {
      "text/plain": [
       "{'futures_pnl': 437.3749999999998,\n",
       " 'structure_pnl': -0.0,\n",
       " 'structure_settle': 14.125}"
      ]
     },
     "execution_count": 3,
     "metadata": {},
     "output_type": "execute_result"
    }
   ],
   "source": [
    "import ta.position_close_helper as pch\n",
    "pch.calc_intrday_pnl_from_prices(alias='WN16U16VCS',structure_price=14+(1/8),WN2016=506.75,WU2016=515.25)"
   ]
  },
  {
   "cell_type": "code",
   "execution_count": 5,
   "metadata": {
    "collapsed": false
   },
   "outputs": [],
   "source": [
    "import ta.strategy as ts\n",
    "ts.move_position_from_strategy_2_strategy(strategy_from='spreadCarryFeb16',strategy_to='spreadCarryApril16')\n",
    "\n"
   ]
  },
  {
   "cell_type": "code",
   "execution_count": 1,
   "metadata": {
    "collapsed": false
   },
   "outputs": [
    {
     "data": {
      "text/plain": [
       "[('CLN2016',\n",
       "  None,\n",
       "  None,\n",
       "  37,\n",
       "  37.04,\n",
       "  -2,\n",
       "  20160222,\n",
       "  'F',\n",
       "  True,\n",
       "  datetime.datetime(2016, 2, 23, 16, 19, 12, 695074),\n",
       "  datetime.datetime(2016, 2, 23, 16, 19, 12, 695074)),\n",
       " ('CLQ2016',\n",
       "  None,\n",
       "  None,\n",
       "  37,\n",
       "  37.73,\n",
       "  2,\n",
       "  20160222,\n",
       "  'F',\n",
       "  True,\n",
       "  datetime.datetime(2016, 2, 23, 16, 19, 12, 695074),\n",
       "  datetime.datetime(2016, 2, 23, 16, 19, 12, 695074))]"
      ]
     },
     "execution_count": 1,
     "metadata": {},
     "output_type": "execute_result"
    }
   ],
   "source": [
    "import ta.strategy as ts\n",
    "ts.move_position_from_strategy_2_strategy(strategy_from='CL-Jan16-Carry',strategy_to='spreadCarryFeb16')\n"
   ]
  },
  {
   "cell_type": "code",
   "execution_count": 23,
   "metadata": {
    "collapsed": false
   },
   "outputs": [
    {
     "data": {
      "text/plain": [
       "['CK2016',\n",
       " 'CN2016',\n",
       " 'SK2016',\n",
       " 'SN2016',\n",
       " 'LNG2017',\n",
       " 'LNZ2016',\n",
       " 'SMV2016',\n",
       " 'SMZ2016',\n",
       " 'KCK2016',\n",
       " 'KCN2016',\n",
       " 'FCK2016',\n",
       " 'FCQ2016',\n",
       " 'BOF2017',\n",
       " 'BOZ2016',\n",
       " 'KWH2017',\n",
       " 'KWZ2016',\n",
       " 'CK2016',\n",
       " 'CN2016',\n",
       " 'NGQ2016',\n",
       " 'NGU2016',\n",
       " 'FCK2016',\n",
       " 'FCQ2016',\n",
       " 'SBH2017',\n",
       " 'SBV2016',\n",
       " 'CH2017',\n",
       " 'CZ2016',\n",
       " 'CCN2016',\n",
       " 'CCU2016',\n",
       " 'EDU2017',\n",
       " 'EDZ2017',\n",
       " 'KCK2016',\n",
       " 'KCN2016',\n",
       " 'KCU2016',\n",
       " 'KCZ2016',\n",
       " 'SK2016',\n",
       " 'SN2016',\n",
       " 'SQ2016',\n",
       " 'RBX2016',\n",
       " 'RBZ2016',\n",
       " 'SBH2017',\n",
       " 'SBV2016']"
      ]
     },
     "execution_count": 23,
     "metadata": {},
     "output_type": "execute_result"
    }
   ],
   "source": [
    "import ta.strategy as ts\n",
    "wuhu = ts.get_net_position_4strategy_alias(alias='spreadCarryJan16')\n",
    "wuhu\n",
    "\n",
    "\n",
    "[wuhu['ticker'].iloc[x] if wuhu['instrument'].iloc[x]=='F' else\n",
    " wuhu['ticker'].iloc[x] + '_' + wuhu['option_type'].iloc[x] + str(wuhu['strike_price'].iloc[x])\n",
    " for x in range(len(wuhu.index))]"
   ]
  },
  {
   "cell_type": "code",
   "execution_count": 6,
   "metadata": {
    "collapsed": false
   },
   "outputs": [
    {
     "data": {
      "text/html": [
       "<div>\n",
       "<table border=\"1\" class=\"dataframe\">\n",
       "  <thead>\n",
       "    <tr style=\"text-align: right;\">\n",
       "      <th></th>\n",
       "      <th>ticker</th>\n",
       "      <th>option_type</th>\n",
       "      <th>strike_price</th>\n",
       "      <th>instrument</th>\n",
       "      <th>qty</th>\n",
       "    </tr>\n",
       "  </thead>\n",
       "  <tbody>\n",
       "    <tr>\n",
       "      <th>0</th>\n",
       "      <td>BOU2016</td>\n",
       "      <td>None</td>\n",
       "      <td>None</td>\n",
       "      <td>F</td>\n",
       "      <td>6</td>\n",
       "    </tr>\n",
       "    <tr>\n",
       "      <th>1</th>\n",
       "      <td>BOV2016</td>\n",
       "      <td>None</td>\n",
       "      <td>None</td>\n",
       "      <td>F</td>\n",
       "      <td>-12</td>\n",
       "    </tr>\n",
       "    <tr>\n",
       "      <th>2</th>\n",
       "      <td>BOZ2016</td>\n",
       "      <td>None</td>\n",
       "      <td>None</td>\n",
       "      <td>F</td>\n",
       "      <td>6</td>\n",
       "    </tr>\n",
       "  </tbody>\n",
       "</table>\n",
       "</div>"
      ],
      "text/plain": [
       "    ticker option_type strike_price instrument  qty\n",
       "0  BOU2016        None         None          F    6\n",
       "1  BOV2016        None         None          F  -12\n",
       "2  BOZ2016        None         None          F    6"
      ]
     },
     "execution_count": 6,
     "metadata": {},
     "output_type": "execute_result"
    }
   ],
   "source": [
    "import ta.strategy as ts\n",
    "import shared.calendar_utilities as cu\n",
    "wuhu = ts.get_net_position_4strategy_alias(alias='BOU2016V2016V2016Z2016')\n",
    "wuhu"
   ]
  },
  {
   "cell_type": "code",
   "execution_count": null,
   "metadata": {
    "collapsed": true
   },
   "outputs": [],
   "source": []
  }
 ],
 "metadata": {
  "kernelspec": {
   "display_name": "Python 3",
   "language": "python",
   "name": "python3"
  },
  "language_info": {
   "codemirror_mode": {
    "name": "ipython",
    "version": 3
   },
   "file_extension": ".py",
   "mimetype": "text/x-python",
   "name": "python",
   "nbconvert_exporter": "python",
   "pygments_lexer": "ipython3",
   "version": "3.4.3"
  }
 },
 "nbformat": 4,
 "nbformat_minor": 0
}
