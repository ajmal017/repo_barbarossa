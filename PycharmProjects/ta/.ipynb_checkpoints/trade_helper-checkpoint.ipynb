{
 "cells": [
  {
   "cell_type": "code",
   "execution_count": 11,
   "metadata": {
    "collapsed": true
   },
   "outputs": [],
   "source": [
    "import contract_utilities.expiration as exp\n",
    "report_date = exp.doubledate_shift_bus_days()"
   ]
  },
  {
   "cell_type": "code",
   "execution_count": 12,
   "metadata": {
    "collapsed": false
   },
   "outputs": [
    {
     "data": {
      "text/plain": [
       "106"
      ]
     },
     "execution_count": 12,
     "metadata": {},
     "output_type": "execute_result"
    }
   ],
   "source": [
    "# Create DB Strategy\n",
    "\n",
    "import ta.strategy as ts\n",
    "ts.generate_db_strategy_from_strategy_sheet(id=250,strategy_class='futures_butterfly',report_date=report_date)"
   ]
  },
  {
   "cell_type": "code",
   "execution_count": 8,
   "metadata": {
    "collapsed": false
   },
   "outputs": [
    {
     "data": {
      "text/plain": [
       "105"
      ]
     },
     "execution_count": 8,
     "metadata": {},
     "output_type": "execute_result"
    }
   ],
   "source": [
    "# Create Misc Strategy\n",
    "import ta.strategy as ts\n",
    "ts.generate_db_strategy_from_alias(alias='CLX16Z16VCS',description_string='strategy_class=vcs&betsize=4184')\n"
   ]
  },
  {
   "cell_type": "code",
   "execution_count": 2,
   "metadata": {
    "collapsed": false
   },
   "outputs": [],
   "source": [
    "import ta.trade_fill_loader as tfl\n",
    "import datetime as dt\n",
    "#wuhu = tfl.assign_trades_2strategies()\n",
    "#wuhu\n",
    "tfl.load_tt_trades()\n",
    "#tfl.load_cme_direct_trades()\n",
    "#wuhu = tfl.get_formatted_tt_fills()\n",
    "#wuhu\n",
    "\n",
    "#tfl.load_latest_tt_fills()\n",
    "#dt.datetime.strptime(wuhu['Contract'].values[40],'%y-%b')\n",
    "\n",
    "\n",
    "#tfl.load_cme__fills()\n",
    "#wuhu = tfl.get_formatted_cme_direct_fills()\n",
    "#wuhu"
   ]
  },
  {
   "cell_type": "code",
   "execution_count": 3,
   "metadata": {
    "collapsed": false
   },
   "outputs": [
    {
     "data": {
      "text/html": [
       "<div>\n",
       "<table border=\"1\" class=\"dataframe\">\n",
       "  <thead>\n",
       "    <tr style=\"text-align: right;\">\n",
       "      <th></th>\n",
       "      <th>ticker</th>\n",
       "      <th>option_type</th>\n",
       "      <th>strike_price</th>\n",
       "      <th>trade_price</th>\n",
       "      <th>trade_quantity</th>\n",
       "      <th>instrument</th>\n",
       "      <th>real_tradeQ</th>\n",
       "      <th>alias</th>\n",
       "    </tr>\n",
       "  </thead>\n",
       "  <tbody>\n",
       "    <tr>\n",
       "      <th>0</th>\n",
       "      <td>CLX2016</td>\n",
       "      <td>C</td>\n",
       "      <td>50.5</td>\n",
       "      <td>4.87</td>\n",
       "      <td>17</td>\n",
       "      <td>O</td>\n",
       "      <td>True</td>\n",
       "      <td>CLX16Z16VCS</td>\n",
       "    </tr>\n",
       "    <tr>\n",
       "      <th>1</th>\n",
       "      <td>CLX2016</td>\n",
       "      <td>P</td>\n",
       "      <td>50.5</td>\n",
       "      <td>5.00</td>\n",
       "      <td>17</td>\n",
       "      <td>O</td>\n",
       "      <td>True</td>\n",
       "      <td>CLX16Z16VCS</td>\n",
       "    </tr>\n",
       "    <tr>\n",
       "      <th>2</th>\n",
       "      <td>CLZ2016</td>\n",
       "      <td>C</td>\n",
       "      <td>50.5</td>\n",
       "      <td>5.55</td>\n",
       "      <td>-17</td>\n",
       "      <td>O</td>\n",
       "      <td>True</td>\n",
       "      <td>CLX16Z16VCS</td>\n",
       "    </tr>\n",
       "    <tr>\n",
       "      <th>3</th>\n",
       "      <td>CLZ2016</td>\n",
       "      <td>P</td>\n",
       "      <td>50.5</td>\n",
       "      <td>5.45</td>\n",
       "      <td>-17</td>\n",
       "      <td>O</td>\n",
       "      <td>True</td>\n",
       "      <td>CLX16Z16VCS</td>\n",
       "    </tr>\n",
       "  </tbody>\n",
       "</table>\n",
       "</div>"
      ],
      "text/plain": [
       "    ticker option_type  strike_price  trade_price  trade_quantity instrument  \\\n",
       "0  CLX2016           C          50.5         4.87              17          O   \n",
       "1  CLX2016           P          50.5         5.00              17          O   \n",
       "2  CLZ2016           C          50.5         5.55             -17          O   \n",
       "3  CLZ2016           P          50.5         5.45             -17          O   \n",
       "\n",
       "  real_tradeQ        alias  \n",
       "0        True  CLX16Z16VCS  \n",
       "1        True  CLX16Z16VCS  \n",
       "2        True  CLX16Z16VCS  \n",
       "3        True  CLX16Z16VCS  "
      ]
     },
     "execution_count": 3,
     "metadata": {},
     "output_type": "execute_result"
    }
   ],
   "source": [
    "import ta.trade_fill_loader as tfl\n",
    "trade_frame = tfl.assign_trades_2strategies(trade_source='cme_direct')\n",
    "trade_frame"
   ]
  },
  {
   "cell_type": "code",
   "execution_count": 8,
   "metadata": {
    "collapsed": false
   },
   "outputs": [
    {
     "data": {
      "text/html": [
       "<div>\n",
       "<table border=\"1\" class=\"dataframe\">\n",
       "  <thead>\n",
       "    <tr style=\"text-align: right;\">\n",
       "      <th></th>\n",
       "      <th>ticker</th>\n",
       "      <th>option_type</th>\n",
       "      <th>strike_price</th>\n",
       "      <th>instrument</th>\n",
       "      <th>qty</th>\n",
       "    </tr>\n",
       "  </thead>\n",
       "  <tbody>\n",
       "    <tr>\n",
       "      <th>0</th>\n",
       "      <td>CLX2016</td>\n",
       "      <td>None</td>\n",
       "      <td>None</td>\n",
       "      <td>F</td>\n",
       "      <td>1.12</td>\n",
       "    </tr>\n",
       "    <tr>\n",
       "      <th>1</th>\n",
       "      <td>CLZ2016</td>\n",
       "      <td>None</td>\n",
       "      <td>None</td>\n",
       "      <td>F</td>\n",
       "      <td>-1.51</td>\n",
       "    </tr>\n",
       "    <tr>\n",
       "      <th>2</th>\n",
       "      <td>JYM2016</td>\n",
       "      <td>None</td>\n",
       "      <td>None</td>\n",
       "      <td>F</td>\n",
       "      <td>1.00</td>\n",
       "    </tr>\n",
       "    <tr>\n",
       "      <th>3</th>\n",
       "      <td>JYU2016</td>\n",
       "      <td>None</td>\n",
       "      <td>None</td>\n",
       "      <td>F</td>\n",
       "      <td>-0.81</td>\n",
       "    </tr>\n",
       "    <tr>\n",
       "      <th>4</th>\n",
       "      <td>LCJ2017</td>\n",
       "      <td>None</td>\n",
       "      <td>None</td>\n",
       "      <td>F</td>\n",
       "      <td>-1.00</td>\n",
       "    </tr>\n",
       "    <tr>\n",
       "      <th>5</th>\n",
       "      <td>LCQ2016</td>\n",
       "      <td>None</td>\n",
       "      <td>None</td>\n",
       "      <td>F</td>\n",
       "      <td>0.08</td>\n",
       "    </tr>\n",
       "    <tr>\n",
       "      <th>6</th>\n",
       "      <td>LCV2016</td>\n",
       "      <td>None</td>\n",
       "      <td>None</td>\n",
       "      <td>F</td>\n",
       "      <td>0.20</td>\n",
       "    </tr>\n",
       "    <tr>\n",
       "      <th>7</th>\n",
       "      <td>LCZ2016</td>\n",
       "      <td>None</td>\n",
       "      <td>None</td>\n",
       "      <td>F</td>\n",
       "      <td>0.60</td>\n",
       "    </tr>\n",
       "    <tr>\n",
       "      <th>8</th>\n",
       "      <td>LNV2016</td>\n",
       "      <td>None</td>\n",
       "      <td>None</td>\n",
       "      <td>F</td>\n",
       "      <td>-0.30</td>\n",
       "    </tr>\n",
       "    <tr>\n",
       "      <th>9</th>\n",
       "      <td>LNZ2016</td>\n",
       "      <td>None</td>\n",
       "      <td>None</td>\n",
       "      <td>F</td>\n",
       "      <td>0.40</td>\n",
       "    </tr>\n",
       "    <tr>\n",
       "      <th>10</th>\n",
       "      <td>SU2016</td>\n",
       "      <td>None</td>\n",
       "      <td>None</td>\n",
       "      <td>F</td>\n",
       "      <td>-0.35</td>\n",
       "    </tr>\n",
       "    <tr>\n",
       "      <th>11</th>\n",
       "      <td>SX2016</td>\n",
       "      <td>None</td>\n",
       "      <td>None</td>\n",
       "      <td>F</td>\n",
       "      <td>0.25</td>\n",
       "    </tr>\n",
       "  </tbody>\n",
       "</table>\n",
       "</div>"
      ],
      "text/plain": [
       "     ticker option_type strike_price instrument   qty\n",
       "0   CLX2016        None         None          F  1.12\n",
       "1   CLZ2016        None         None          F -1.51\n",
       "2   JYM2016        None         None          F  1.00\n",
       "3   JYU2016        None         None          F -0.81\n",
       "4   LCJ2017        None         None          F -1.00\n",
       "5   LCQ2016        None         None          F  0.08\n",
       "6   LCV2016        None         None          F  0.20\n",
       "7   LCZ2016        None         None          F  0.60\n",
       "8   LNV2016        None         None          F -0.30\n",
       "9   LNZ2016        None         None          F  0.40\n",
       "10   SU2016        None         None          F -0.35\n",
       "11   SX2016        None         None          F  0.25"
      ]
     },
     "execution_count": 8,
     "metadata": {},
     "output_type": "execute_result"
    }
   ],
   "source": [
    "\n",
    "#Daily Hedge\n",
    "\n",
    "import ta.strategy_hedger as sh\n",
    "import shared.calendar_utilities as cu\n",
    "import ta.strategy as tas\n",
    "#sh.strategy_hedge_report()\n",
    "import ta.strategy as tas\n",
    "\n",
    "wuhu  = tas.get_net_position_4strategy_alias(alias='delta_may',as_of_date=cu.get_doubledate())\n",
    "wuhu"
   ]
  },
  {
   "cell_type": "code",
   "execution_count": 5,
   "metadata": {
    "collapsed": false
   },
   "outputs": [
    {
     "data": {
      "text/html": [
       "<div>\n",
       "<table border=\"1\" class=\"dataframe\">\n",
       "  <thead>\n",
       "    <tr style=\"text-align: right;\">\n",
       "      <th></th>\n",
       "      <th>underlying_ticker</th>\n",
       "      <th>hedge_price</th>\n",
       "      <th>option_delta</th>\n",
       "      <th>underlying_delta</th>\n",
       "      <th>total_delta</th>\n",
       "      <th>hedge</th>\n",
       "    </tr>\n",
       "  </thead>\n",
       "  <tbody>\n",
       "    <tr>\n",
       "      <th>0</th>\n",
       "      <td>CLX2016</td>\n",
       "      <td>50.680</td>\n",
       "      <td>1.82</td>\n",
       "      <td>-1.34</td>\n",
       "      <td>0.48</td>\n",
       "      <td>-0.48</td>\n",
       "    </tr>\n",
       "    <tr>\n",
       "      <th>1</th>\n",
       "      <td>CLZ2016</td>\n",
       "      <td>50.915</td>\n",
       "      <td>-2.21</td>\n",
       "      <td>1.78</td>\n",
       "      <td>-0.43</td>\n",
       "      <td>0.43</td>\n",
       "    </tr>\n",
       "  </tbody>\n",
       "</table>\n",
       "</div>"
      ],
      "text/plain": [
       "  underlying_ticker  hedge_price  option_delta  underlying_delta  total_delta  \\\n",
       "0           CLX2016       50.680          1.82             -1.34         0.48   \n",
       "1           CLZ2016       50.915         -2.21              1.78        -0.43   \n",
       "\n",
       "   hedge  \n",
       "0  -0.48  \n",
       "1   0.43  "
      ]
     },
     "execution_count": 5,
     "metadata": {},
     "output_type": "execute_result"
    }
   ],
   "source": [
    "import ta.strategy_hedger as sh\n",
    "sh.get_hedge_4strategy(alias='CLX16Z16VCS')"
   ]
  },
  {
   "cell_type": "code",
   "execution_count": 6,
   "metadata": {
    "collapsed": false
   },
   "outputs": [
    {
     "data": {
      "text/html": [
       "<div>\n",
       "<table border=\"1\" class=\"dataframe\">\n",
       "  <thead>\n",
       "    <tr style=\"text-align: right;\">\n",
       "      <th></th>\n",
       "      <th>ticker</th>\n",
       "      <th>total_oev</th>\n",
       "      <th>theta</th>\n",
       "    </tr>\n",
       "  </thead>\n",
       "  <tbody>\n",
       "    <tr>\n",
       "      <th>0</th>\n",
       "      <td>SU2016</td>\n",
       "      <td>-24.757037</td>\n",
       "      <td>363.654757</td>\n",
       "    </tr>\n",
       "    <tr>\n",
       "      <th>1</th>\n",
       "      <td>SX2016</td>\n",
       "      <td>24.973683</td>\n",
       "      <td>-257.161444</td>\n",
       "    </tr>\n",
       "  </tbody>\n",
       "</table>\n",
       "</div>"
      ],
      "text/plain": [
       "   ticker  total_oev       theta\n",
       "0  SU2016 -24.757037  363.654757\n",
       "1  SX2016  24.973683 -257.161444"
      ]
     },
     "execution_count": 6,
     "metadata": {},
     "output_type": "execute_result"
    }
   ],
   "source": [
    "import ta.strategy_greeks as sg\n",
    "import pandas as pd\n",
    "import get_price.get_options_price as gop\n",
    "output = sg.get_greeks_4strategy_4date(alias='SXN16U16VCS',as_of_date=20160519)\n",
    "output['ticker_portfolio']"
   ]
  },
  {
   "cell_type": "code",
   "execution_count": 7,
   "metadata": {
    "collapsed": false
   },
   "outputs": [],
   "source": [
    "import ta.pnl as tapnl\n",
    "alias = 'HON2016Q2016Q2016U2016'\n",
    "tapnl.close_strategy(alias='SBK2017N2017H2017K2017')\n"
   ]
  },
  {
   "cell_type": "code",
   "execution_count": 3,
   "metadata": {
    "collapsed": false,
    "scrolled": true
   },
   "outputs": [
    {
     "data": {
      "text/html": [
       "<div>\n",
       "<table border=\"1\" class=\"dataframe\">\n",
       "  <thead>\n",
       "    <tr style=\"text-align: right;\">\n",
       "      <th></th>\n",
       "      <th>generalized_ticker</th>\n",
       "      <th>qty_x</th>\n",
       "      <th>qty_y</th>\n",
       "      <th>qty_diff</th>\n",
       "    </tr>\n",
       "  </thead>\n",
       "  <tbody>\n",
       "  </tbody>\n",
       "</table>\n",
       "</div>"
      ],
      "text/plain": [
       "Empty DataFrame\n",
       "Columns: [generalized_ticker, qty_x, qty_y, qty_diff]\n",
       "Index: []"
      ]
     },
     "execution_count": 3,
     "metadata": {},
     "output_type": "execute_result"
    }
   ],
   "source": [
    "import ta.abn_position_reconciler as pr\n",
    "pr.reconcile_position()"
   ]
  },
  {
   "cell_type": "code",
   "execution_count": 3,
   "metadata": {
    "collapsed": false
   },
   "outputs": [
    {
     "data": {
      "text/plain": [
       "{'futures_pnl': 437.3749999999998,\n",
       " 'structure_pnl': -0.0,\n",
       " 'structure_settle': 14.125}"
      ]
     },
     "execution_count": 3,
     "metadata": {},
     "output_type": "execute_result"
    }
   ],
   "source": [
    "import ta.position_close_helper as pch\n",
    "pch.calc_intrday_pnl_from_prices(alias='WN16U16VCS',structure_price=14+(1/8),WN2016=506.75,WU2016=515.25)"
   ]
  },
  {
   "cell_type": "code",
   "execution_count": 9,
   "metadata": {
    "collapsed": false
   },
   "outputs": [],
   "source": [
    "import ta.strategy as ts\n",
    "ts.move_position_from_strategy_2_strategy(strategy_from='spreadCarryApril16_2',strategy_to='spreadCarryMay16_2')\n",
    "\n"
   ]
  },
  {
   "cell_type": "code",
   "execution_count": 1,
   "metadata": {
    "collapsed": false
   },
   "outputs": [
    {
     "data": {
      "text/plain": [
       "[('CLN2016',\n",
       "  None,\n",
       "  None,\n",
       "  37,\n",
       "  37.04,\n",
       "  -2,\n",
       "  20160222,\n",
       "  'F',\n",
       "  True,\n",
       "  datetime.datetime(2016, 2, 23, 16, 19, 12, 695074),\n",
       "  datetime.datetime(2016, 2, 23, 16, 19, 12, 695074)),\n",
       " ('CLQ2016',\n",
       "  None,\n",
       "  None,\n",
       "  37,\n",
       "  37.73,\n",
       "  2,\n",
       "  20160222,\n",
       "  'F',\n",
       "  True,\n",
       "  datetime.datetime(2016, 2, 23, 16, 19, 12, 695074),\n",
       "  datetime.datetime(2016, 2, 23, 16, 19, 12, 695074))]"
      ]
     },
     "execution_count": 1,
     "metadata": {},
     "output_type": "execute_result"
    }
   ],
   "source": [
    "import ta.strategy as ts\n",
    "ts.move_position_from_strategy_2_strategy(strategy_from='CL-Jan16-Carry',strategy_to='spreadCarryFeb16')\n"
   ]
  },
  {
   "cell_type": "code",
   "execution_count": 5,
   "metadata": {
    "collapsed": false
   },
   "outputs": [
    {
     "data": {
      "text/html": [
       "<div>\n",
       "<table border=\"1\" class=\"dataframe\">\n",
       "  <thead>\n",
       "    <tr style=\"text-align: right;\">\n",
       "      <th></th>\n",
       "      <th>ticker</th>\n",
       "      <th>option_type</th>\n",
       "      <th>strike_price</th>\n",
       "      <th>instrument</th>\n",
       "      <th>qty</th>\n",
       "    </tr>\n",
       "  </thead>\n",
       "  <tbody>\n",
       "    <tr>\n",
       "      <th>0</th>\n",
       "      <td>BF2017</td>\n",
       "      <td>None</td>\n",
       "      <td>None</td>\n",
       "      <td>F</td>\n",
       "      <td>83</td>\n",
       "    </tr>\n",
       "    <tr>\n",
       "      <th>1</th>\n",
       "      <td>BG2017</td>\n",
       "      <td>None</td>\n",
       "      <td>None</td>\n",
       "      <td>F</td>\n",
       "      <td>-43</td>\n",
       "    </tr>\n",
       "    <tr>\n",
       "      <th>2</th>\n",
       "      <td>BZ2016</td>\n",
       "      <td>None</td>\n",
       "      <td>None</td>\n",
       "      <td>F</td>\n",
       "      <td>-40</td>\n",
       "    </tr>\n",
       "  </tbody>\n",
       "</table>\n",
       "</div>"
      ],
      "text/plain": [
       "   ticker option_type strike_price instrument  qty\n",
       "0  BF2017        None         None          F   83\n",
       "1  BG2017        None         None          F  -43\n",
       "2  BZ2016        None         None          F  -40"
      ]
     },
     "execution_count": 5,
     "metadata": {},
     "output_type": "execute_result"
    }
   ],
   "source": [
    "import ta.strategy as ts\n",
    "import shared.calendar_utilities as cu\n",
    "wuhu = ts.get_net_position_4strategy_alias(alias='BF2017G2017Z2016F2017_2')\n",
    "wuhu"
   ]
  },
  {
   "cell_type": "code",
   "execution_count": 13,
   "metadata": {
    "collapsed": false
   },
   "outputs": [
    {
     "data": {
      "text/html": [
       "<div>\n",
       "<table border=\"1\" class=\"dataframe\">\n",
       "  <thead>\n",
       "    <tr style=\"text-align: right;\">\n",
       "      <th></th>\n",
       "      <th>ticker</th>\n",
       "      <th>option_type</th>\n",
       "      <th>strike_price</th>\n",
       "      <th>instrument</th>\n",
       "      <th>qty</th>\n",
       "    </tr>\n",
       "  </thead>\n",
       "  <tbody>\n",
       "    <tr>\n",
       "      <th>0</th>\n",
       "      <td>CLF2017</td>\n",
       "      <td>None</td>\n",
       "      <td>None</td>\n",
       "      <td>F</td>\n",
       "      <td>3</td>\n",
       "    </tr>\n",
       "    <tr>\n",
       "      <th>3</th>\n",
       "      <td>CLZ2016</td>\n",
       "      <td>None</td>\n",
       "      <td>None</td>\n",
       "      <td>F</td>\n",
       "      <td>-3</td>\n",
       "    </tr>\n",
       "    <tr>\n",
       "      <th>4</th>\n",
       "      <td>FCH2017</td>\n",
       "      <td>None</td>\n",
       "      <td>None</td>\n",
       "      <td>F</td>\n",
       "      <td>1</td>\n",
       "    </tr>\n",
       "    <tr>\n",
       "      <th>5</th>\n",
       "      <td>FCJ2017</td>\n",
       "      <td>None</td>\n",
       "      <td>None</td>\n",
       "      <td>F</td>\n",
       "      <td>-1</td>\n",
       "    </tr>\n",
       "    <tr>\n",
       "      <th>6</th>\n",
       "      <td>KWH2017</td>\n",
       "      <td>None</td>\n",
       "      <td>None</td>\n",
       "      <td>F</td>\n",
       "      <td>3</td>\n",
       "    </tr>\n",
       "    <tr>\n",
       "      <th>7</th>\n",
       "      <td>KWZ2016</td>\n",
       "      <td>None</td>\n",
       "      <td>None</td>\n",
       "      <td>F</td>\n",
       "      <td>-3</td>\n",
       "    </tr>\n",
       "    <tr>\n",
       "      <th>8</th>\n",
       "      <td>LNG2017</td>\n",
       "      <td>None</td>\n",
       "      <td>None</td>\n",
       "      <td>F</td>\n",
       "      <td>-1</td>\n",
       "    </tr>\n",
       "    <tr>\n",
       "      <th>9</th>\n",
       "      <td>LNZ2016</td>\n",
       "      <td>None</td>\n",
       "      <td>None</td>\n",
       "      <td>F</td>\n",
       "      <td>1</td>\n",
       "    </tr>\n",
       "    <tr>\n",
       "      <th>10</th>\n",
       "      <td>NGF2017</td>\n",
       "      <td>None</td>\n",
       "      <td>None</td>\n",
       "      <td>F</td>\n",
       "      <td>-4</td>\n",
       "    </tr>\n",
       "    <tr>\n",
       "      <th>11</th>\n",
       "      <td>NGG2017</td>\n",
       "      <td>None</td>\n",
       "      <td>None</td>\n",
       "      <td>F</td>\n",
       "      <td>4</td>\n",
       "    </tr>\n",
       "    <tr>\n",
       "      <th>12</th>\n",
       "      <td>RBF2017</td>\n",
       "      <td>None</td>\n",
       "      <td>None</td>\n",
       "      <td>F</td>\n",
       "      <td>-1</td>\n",
       "    </tr>\n",
       "    <tr>\n",
       "      <th>13</th>\n",
       "      <td>RBZ2016</td>\n",
       "      <td>None</td>\n",
       "      <td>None</td>\n",
       "      <td>F</td>\n",
       "      <td>1</td>\n",
       "    </tr>\n",
       "    <tr>\n",
       "      <th>14</th>\n",
       "      <td>SBH2017</td>\n",
       "      <td>None</td>\n",
       "      <td>None</td>\n",
       "      <td>F</td>\n",
       "      <td>-2</td>\n",
       "    </tr>\n",
       "    <tr>\n",
       "      <th>15</th>\n",
       "      <td>SBK2017</td>\n",
       "      <td>None</td>\n",
       "      <td>None</td>\n",
       "      <td>F</td>\n",
       "      <td>2</td>\n",
       "    </tr>\n",
       "    <tr>\n",
       "      <th>16</th>\n",
       "      <td>SMV2016</td>\n",
       "      <td>None</td>\n",
       "      <td>None</td>\n",
       "      <td>F</td>\n",
       "      <td>-3</td>\n",
       "    </tr>\n",
       "    <tr>\n",
       "      <th>17</th>\n",
       "      <td>SMZ2016</td>\n",
       "      <td>None</td>\n",
       "      <td>None</td>\n",
       "      <td>F</td>\n",
       "      <td>3</td>\n",
       "    </tr>\n",
       "  </tbody>\n",
       "</table>\n",
       "</div>"
      ],
      "text/plain": [
       "     ticker option_type strike_price instrument  qty\n",
       "0   CLF2017        None         None          F    3\n",
       "3   CLZ2016        None         None          F   -3\n",
       "4   FCH2017        None         None          F    1\n",
       "5   FCJ2017        None         None          F   -1\n",
       "6   KWH2017        None         None          F    3\n",
       "7   KWZ2016        None         None          F   -3\n",
       "8   LNG2017        None         None          F   -1\n",
       "9   LNZ2016        None         None          F    1\n",
       "10  NGF2017        None         None          F   -4\n",
       "11  NGG2017        None         None          F    4\n",
       "12  RBF2017        None         None          F   -1\n",
       "13  RBZ2016        None         None          F    1\n",
       "14  SBH2017        None         None          F   -2\n",
       "15  SBK2017        None         None          F    2\n",
       "16  SMV2016        None         None          F   -3\n",
       "17  SMZ2016        None         None          F    3"
      ]
     },
     "execution_count": 13,
     "metadata": {},
     "output_type": "execute_result"
    }
   ],
   "source": [
    "import shared.calendar_utilities as cu\n",
    "import ta.strategy as tas\n",
    "wuhu  = tas.get_net_position_4strategy_alias(alias='spreadCarryMay16')\n",
    "wuhu"
   ]
  },
  {
   "cell_type": "code",
   "execution_count": null,
   "metadata": {
    "collapsed": true
   },
   "outputs": [],
   "source": []
  }
 ],
 "metadata": {
  "kernelspec": {
   "display_name": "Python 3",
   "language": "python",
   "name": "python3"
  },
  "language_info": {
   "codemirror_mode": {
    "name": "ipython",
    "version": 3
   },
   "file_extension": ".py",
   "mimetype": "text/x-python",
   "name": "python",
   "nbconvert_exporter": "python",
   "pygments_lexer": "ipython3",
   "version": "3.4.3"
  }
 },
 "nbformat": 4,
 "nbformat_minor": 0
}
