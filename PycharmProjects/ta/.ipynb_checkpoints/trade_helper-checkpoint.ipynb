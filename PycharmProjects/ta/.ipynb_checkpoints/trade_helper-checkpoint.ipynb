{
 "cells": [
  {
   "cell_type": "code",
   "execution_count": 2,
   "metadata": {
    "collapsed": true
   },
   "outputs": [],
   "source": [
    "import contract_utilities.expiration as exp\n",
    "report_date = exp.doubledate_shift_bus_days()"
   ]
  },
  {
   "cell_type": "code",
   "execution_count": 4,
   "metadata": {
    "collapsed": false
   },
   "outputs": [
    {
     "data": {
      "text/plain": [
       "13"
      ]
     },
     "execution_count": 4,
     "metadata": {},
     "output_type": "execute_result"
    }
   ],
   "source": [
    "# Create DB Strategy\n",
    "\n",
    "import ta.strategy as ts\n",
    "ts.generate_db_strategy_from_strategy_sheet(id=288,strategy_class='futures_butterfly',report_date=report_date)"
   ]
  },
  {
   "cell_type": "code",
   "execution_count": 2,
   "metadata": {
    "collapsed": false
   },
   "outputs": [
    {
     "data": {
      "text/plain": [
       "11"
      ]
     },
     "execution_count": 2,
     "metadata": {},
     "output_type": "execute_result"
    }
   ],
   "source": [
    "# Create Misc Strategy\n",
    "#import ta.strategy as ts\n",
    "#ts.generate_db_strategy_from_alias(alias='spreadCarryJan16',description_string='strategy_class=spread_carry&betsize=300')\n"
   ]
  },
  {
   "cell_type": "code",
   "execution_count": 5,
   "metadata": {
    "collapsed": false
   },
   "outputs": [],
   "source": [
    "import ta.tt_fill_loader as tfl\n",
    "import datetime as dt\n",
    "#tfl.assign_trades_2strategies()\n",
    "#tfl.load_tt_trades()\n",
    "\n",
    "#wuhu = tfl.get_formatted_tt_fills()\n",
    "#wuhu\n",
    "\n",
    "#dt.datetime.strptime(wuhu['Contract'].values[40],'%y-%b')\n"
   ]
  },
  {
   "cell_type": "code",
   "execution_count": 1,
   "metadata": {
    "collapsed": false
   },
   "outputs": [
    {
     "data": {
      "text/html": [
       "<div>\n",
       "<table border=\"1\" class=\"dataframe\">\n",
       "  <thead>\n",
       "    <tr style=\"text-align: right;\">\n",
       "      <th></th>\n",
       "      <th>alias</th>\n",
       "      <th>daily_pnl</th>\n",
       "      <th>total_pnl</th>\n",
       "    </tr>\n",
       "  </thead>\n",
       "  <tbody>\n",
       "    <tr>\n",
       "      <th>12</th>\n",
       "      <td>SX2016F2017F2017H2017</td>\n",
       "      <td>525</td>\n",
       "      <td>903</td>\n",
       "    </tr>\n",
       "    <tr>\n",
       "      <th>3</th>\n",
       "      <td>LCV2016G2017M2016V2016</td>\n",
       "      <td>470</td>\n",
       "      <td>-316</td>\n",
       "    </tr>\n",
       "    <tr>\n",
       "      <th>0</th>\n",
       "      <td>HON2016Q2016Q2016U2016</td>\n",
       "      <td>202</td>\n",
       "      <td>-668</td>\n",
       "    </tr>\n",
       "    <tr>\n",
       "      <th>7</th>\n",
       "      <td>NGM2016N2016N2016Q2016</td>\n",
       "      <td>200</td>\n",
       "      <td>184</td>\n",
       "    </tr>\n",
       "    <tr>\n",
       "      <th>6</th>\n",
       "      <td>CL-Jan16-Carry</td>\n",
       "      <td>40</td>\n",
       "      <td>66</td>\n",
       "    </tr>\n",
       "    <tr>\n",
       "      <th>2</th>\n",
       "      <td>RBX2016Z2016V2016X2016</td>\n",
       "      <td>21</td>\n",
       "      <td>-2136</td>\n",
       "    </tr>\n",
       "    <tr>\n",
       "      <th>8</th>\n",
       "      <td>NGX2016F2017U2016X2016</td>\n",
       "      <td>0</td>\n",
       "      <td>-99</td>\n",
       "    </tr>\n",
       "    <tr>\n",
       "      <th>4</th>\n",
       "      <td>LNZ2016G2017V2016Z2016</td>\n",
       "      <td>-29</td>\n",
       "      <td>102</td>\n",
       "    </tr>\n",
       "    <tr>\n",
       "      <th>13</th>\n",
       "      <td>CCK2016N2016N2016U2016</td>\n",
       "      <td>-50</td>\n",
       "      <td>-50</td>\n",
       "    </tr>\n",
       "    <tr>\n",
       "      <th>9</th>\n",
       "      <td>SN2016Q2016K2016N2016</td>\n",
       "      <td>-62</td>\n",
       "      <td>-71</td>\n",
       "    </tr>\n",
       "    <tr>\n",
       "      <th>14</th>\n",
       "      <td>CLU2016Z2016Z2016H2017</td>\n",
       "      <td>-69</td>\n",
       "      <td>-69</td>\n",
       "    </tr>\n",
       "    <tr>\n",
       "      <th>10</th>\n",
       "      <td>spreadCarryJan16</td>\n",
       "      <td>-157</td>\n",
       "      <td>-430</td>\n",
       "    </tr>\n",
       "    <tr>\n",
       "      <th>1</th>\n",
       "      <td>CK2016N2016H2016K2016</td>\n",
       "      <td>-187</td>\n",
       "      <td>-36</td>\n",
       "    </tr>\n",
       "    <tr>\n",
       "      <th>5</th>\n",
       "      <td>BX2016Z2016Z2016F2017</td>\n",
       "      <td>-540</td>\n",
       "      <td>-670</td>\n",
       "    </tr>\n",
       "    <tr>\n",
       "      <th>11</th>\n",
       "      <td>BG2017H2017F2017G2017</td>\n",
       "      <td>-589</td>\n",
       "      <td>-811</td>\n",
       "    </tr>\n",
       "    <tr>\n",
       "      <th>15</th>\n",
       "      <td>TOTAL</td>\n",
       "      <td>-225</td>\n",
       "      <td>-4101</td>\n",
       "    </tr>\n",
       "  </tbody>\n",
       "</table>\n",
       "</div>"
      ],
      "text/plain": [
       "                     alias  daily_pnl  total_pnl\n",
       "12   SX2016F2017F2017H2017        525        903\n",
       "3   LCV2016G2017M2016V2016        470       -316\n",
       "0   HON2016Q2016Q2016U2016        202       -668\n",
       "7   NGM2016N2016N2016Q2016        200        184\n",
       "6           CL-Jan16-Carry         40         66\n",
       "2   RBX2016Z2016V2016X2016         21      -2136\n",
       "8   NGX2016F2017U2016X2016          0        -99\n",
       "4   LNZ2016G2017V2016Z2016        -29        102\n",
       "13  CCK2016N2016N2016U2016        -50        -50\n",
       "9    SN2016Q2016K2016N2016        -62        -71\n",
       "14  CLU2016Z2016Z2016H2017        -69        -69\n",
       "10        spreadCarryJan16       -157       -430\n",
       "1    CK2016N2016H2016K2016       -187        -36\n",
       "5    BX2016Z2016Z2016F2017       -540       -670\n",
       "11   BG2017H2017F2017G2017       -589       -811\n",
       "15                   TOTAL       -225      -4101"
      ]
     },
     "execution_count": 1,
     "metadata": {},
     "output_type": "execute_result"
    }
   ],
   "source": [
    "import ta.portfolio_manager as tpm\n",
    "import time\n",
    "\n",
    "# pnl_date\n",
    "wuhu = tpm.get_daily_pnl_snapshot()   # as_of_date=20160114  5.24 seconds\n",
    "wuhu"
   ]
  },
  {
   "cell_type": "code",
   "execution_count": 3,
   "metadata": {
    "collapsed": false
   },
   "outputs": [
    {
     "data": {
      "text/html": [
       "<div>\n",
       "<table border=\"1\" class=\"dataframe\">\n",
       "  <thead>\n",
       "    <tr style=\"text-align: right;\">\n",
       "      <th></th>\n",
       "      <th>alias</th>\n",
       "      <th>holding_tr_dte</th>\n",
       "      <th>short_tr_dte</th>\n",
       "      <th>z1_initial</th>\n",
       "      <th>z1</th>\n",
       "      <th>QF_initial</th>\n",
       "      <th>QF</th>\n",
       "    </tr>\n",
       "  </thead>\n",
       "  <tbody>\n",
       "    <tr>\n",
       "      <th>9</th>\n",
       "      <td>BG2017H2017F2017G2017</td>\n",
       "      <td>2</td>\n",
       "      <td>218</td>\n",
       "      <td>1.64</td>\n",
       "      <td>2.23</td>\n",
       "      <td>92</td>\n",
       "      <td>95</td>\n",
       "    </tr>\n",
       "    <tr>\n",
       "      <th>3</th>\n",
       "      <td>LCV2016G2017M2016V2016</td>\n",
       "      <td>9</td>\n",
       "      <td>111</td>\n",
       "      <td>1.43</td>\n",
       "      <td>1.51</td>\n",
       "      <td>77</td>\n",
       "      <td>92</td>\n",
       "    </tr>\n",
       "    <tr>\n",
       "      <th>2</th>\n",
       "      <td>RBX2016Z2016V2016X2016</td>\n",
       "      <td>10</td>\n",
       "      <td>175</td>\n",
       "      <td>2.68</td>\n",
       "      <td>3.89</td>\n",
       "      <td>92</td>\n",
       "      <td>89</td>\n",
       "    </tr>\n",
       "    <tr>\n",
       "      <th>7</th>\n",
       "      <td>NGX2016F2017U2016X2016</td>\n",
       "      <td>5</td>\n",
       "      <td>152</td>\n",
       "      <td>2.04</td>\n",
       "      <td>2.12</td>\n",
       "      <td>64</td>\n",
       "      <td>87</td>\n",
       "    </tr>\n",
       "    <tr>\n",
       "      <th>1</th>\n",
       "      <td>CK2016N2016H2016K2016</td>\n",
       "      <td>10</td>\n",
       "      <td>35</td>\n",
       "      <td>1.28</td>\n",
       "      <td>1.26</td>\n",
       "      <td>95</td>\n",
       "      <td>75</td>\n",
       "    </tr>\n",
       "    <tr>\n",
       "      <th>4</th>\n",
       "      <td>LNZ2016G2017V2016Z2016</td>\n",
       "      <td>7</td>\n",
       "      <td>185</td>\n",
       "      <td>1.86</td>\n",
       "      <td>1.74</td>\n",
       "      <td>90</td>\n",
       "      <td>71</td>\n",
       "    </tr>\n",
       "    <tr>\n",
       "      <th>0</th>\n",
       "      <td>HON2016Q2016Q2016U2016</td>\n",
       "      <td>11</td>\n",
       "      <td>111</td>\n",
       "      <td>-0.85</td>\n",
       "      <td>-0.55</td>\n",
       "      <td>26</td>\n",
       "      <td>69</td>\n",
       "    </tr>\n",
       "    <tr>\n",
       "      <th>8</th>\n",
       "      <td>SN2016Q2016K2016N2016</td>\n",
       "      <td>5</td>\n",
       "      <td>78</td>\n",
       "      <td>1.13</td>\n",
       "      <td>1.17</td>\n",
       "      <td>72</td>\n",
       "      <td>64</td>\n",
       "    </tr>\n",
       "    <tr>\n",
       "      <th>10</th>\n",
       "      <td>SX2016F2017F2017H2017</td>\n",
       "      <td>2</td>\n",
       "      <td>206</td>\n",
       "      <td>-0.71</td>\n",
       "      <td>0.23</td>\n",
       "      <td>8</td>\n",
       "      <td>64</td>\n",
       "    </tr>\n",
       "    <tr>\n",
       "      <th>6</th>\n",
       "      <td>NGM2016N2016N2016Q2016</td>\n",
       "      <td>5</td>\n",
       "      <td>87</td>\n",
       "      <td>-2.48</td>\n",
       "      <td>-2.20</td>\n",
       "      <td>1</td>\n",
       "      <td>15</td>\n",
       "    </tr>\n",
       "    <tr>\n",
       "      <th>5</th>\n",
       "      <td>BX2016Z2016Z2016F2017</td>\n",
       "      <td>8</td>\n",
       "      <td>176</td>\n",
       "      <td>-4.18</td>\n",
       "      <td>-4.45</td>\n",
       "      <td>2</td>\n",
       "      <td>2</td>\n",
       "    </tr>\n",
       "    <tr>\n",
       "      <th>11</th>\n",
       "      <td>CCK2016N2016N2016U2016</td>\n",
       "      <td>1</td>\n",
       "      <td>78</td>\n",
       "      <td>-0.77</td>\n",
       "      <td>-0.86</td>\n",
       "      <td>5</td>\n",
       "      <td>2</td>\n",
       "    </tr>\n",
       "    <tr>\n",
       "      <th>12</th>\n",
       "      <td>CLU2016Z2016Z2016H2017</td>\n",
       "      <td>1</td>\n",
       "      <td>147</td>\n",
       "      <td>-0.82</td>\n",
       "      <td>-1.03</td>\n",
       "      <td>10</td>\n",
       "      <td>1</td>\n",
       "    </tr>\n",
       "  </tbody>\n",
       "</table>\n",
       "</div>"
      ],
      "text/plain": [
       "                     alias  holding_tr_dte  short_tr_dte  z1_initial    z1  \\\n",
       "9    BG2017H2017F2017G2017               2           218        1.64  2.23   \n",
       "3   LCV2016G2017M2016V2016               9           111        1.43  1.51   \n",
       "2   RBX2016Z2016V2016X2016              10           175        2.68  3.89   \n",
       "7   NGX2016F2017U2016X2016               5           152        2.04  2.12   \n",
       "1    CK2016N2016H2016K2016              10            35        1.28  1.26   \n",
       "4   LNZ2016G2017V2016Z2016               7           185        1.86  1.74   \n",
       "0   HON2016Q2016Q2016U2016              11           111       -0.85 -0.55   \n",
       "8    SN2016Q2016K2016N2016               5            78        1.13  1.17   \n",
       "10   SX2016F2017F2017H2017               2           206       -0.71  0.23   \n",
       "6   NGM2016N2016N2016Q2016               5            87       -2.48 -2.20   \n",
       "5    BX2016Z2016Z2016F2017               8           176       -4.18 -4.45   \n",
       "11  CCK2016N2016N2016U2016               1            78       -0.77 -0.86   \n",
       "12  CLU2016Z2016Z2016H2017               1           147       -0.82 -1.03   \n",
       "\n",
       "    QF_initial  QF  \n",
       "9           92  95  \n",
       "3           77  92  \n",
       "2           92  89  \n",
       "7           64  87  \n",
       "1           95  75  \n",
       "4           90  71  \n",
       "0           26  69  \n",
       "8           72  64  \n",
       "10           8  64  \n",
       "6            1  15  \n",
       "5            2   2  \n",
       "11           5   2  \n",
       "12          10   1  "
      ]
     },
     "execution_count": 3,
     "metadata": {},
     "output_type": "execute_result"
    }
   ],
   "source": [
    "import formats.strategy_followup_formats as sff\n",
    "sff.generate_futures_butterfly_followup_report()"
   ]
  },
  {
   "cell_type": "code",
   "execution_count": 1,
   "metadata": {
    "collapsed": false
   },
   "outputs": [],
   "source": [
    "import get_price.presave_price as psp\n",
    "psp.generate_and_update_futures_data_file_4tickerhead(ticker_head='CL')"
   ]
  },
  {
   "cell_type": "code",
   "execution_count": 7,
   "metadata": {
    "collapsed": false
   },
   "outputs": [
    {
     "data": {
      "text/plain": [
       "30000101"
      ]
     },
     "execution_count": 7,
     "metadata": {},
     "output_type": "execute_result"
    }
   ],
   "source": [
    "import ta.pnl as tapnl\n",
    "alias = 'HON2016Q2016Q2016U2016'\n",
    "pnl_out = tapnl.get_strategy_pnl(alias=alias)\n",
    "int(pnl_out['open_date'].strftime('%Y%m%d'))\n",
    "int(pnl_out['close_date'].strftime('%Y%m%d'))"
   ]
  },
  {
   "cell_type": "code",
   "execution_count": 3,
   "metadata": {
    "collapsed": false
   },
   "outputs": [
    {
     "data": {
      "text/plain": [
       "datetime.datetime(2016, 1, 7, 0, 0)"
      ]
     },
     "execution_count": 3,
     "metadata": {},
     "output_type": "execute_result"
    }
   ],
   "source": [
    "alias = 'HON2016Q2016Q2016U2016'\n",
    "import ta.strategy as ts\n",
    "import contract_utilities.expiration as exp\n",
    "strategy_info = ts.get_strategy_info_from_alias(alias=alias)\n",
    "strategy_info['open_date']"
   ]
  },
  {
   "cell_type": "code",
   "execution_count": 4,
   "metadata": {
    "collapsed": false
   },
   "outputs": [
    {
     "data": {
      "text/plain": [
       "20160108"
      ]
     },
     "execution_count": 4,
     "metadata": {},
     "output_type": "execute_result"
    }
   ],
   "source": [
    "date_from = strategy_info['open_date']\n",
    "exp.doubledate_shift_bus_days()"
   ]
  },
  {
   "cell_type": "code",
   "execution_count": 2,
   "metadata": {
    "collapsed": false
   },
   "outputs": [
    {
     "data": {
      "text/plain": [
       "[20160107, 20160108]"
      ]
     },
     "execution_count": 2,
     "metadata": {},
     "output_type": "execute_result"
    }
   ],
   "source": [
    "import contract_utilities.expiration as exp\n",
    "wuhu = exp.get_bus_day_list(date_from=20160107,date_to=20160108)\n",
    "wuhu"
   ]
  },
  {
   "cell_type": "code",
   "execution_count": 6,
   "metadata": {
    "collapsed": false
   },
   "outputs": [
    {
     "data": {
      "text/plain": [
       "[20160107, 20160108, 20160111]"
      ]
     },
     "execution_count": 6,
     "metadata": {},
     "output_type": "execute_result"
    }
   ],
   "source": []
  },
  {
   "cell_type": "code",
   "execution_count": null,
   "metadata": {
    "collapsed": true
   },
   "outputs": [],
   "source": []
  }
 ],
 "metadata": {
  "kernelspec": {
   "display_name": "Python 3",
   "language": "python",
   "name": "python3"
  },
  "language_info": {
   "codemirror_mode": {
    "name": "ipython",
    "version": 3
   },
   "file_extension": ".py",
   "mimetype": "text/x-python",
   "name": "python",
   "nbconvert_exporter": "python",
   "pygments_lexer": "ipython3",
   "version": "3.4.3"
  }
 },
 "nbformat": 4,
 "nbformat_minor": 0
}
