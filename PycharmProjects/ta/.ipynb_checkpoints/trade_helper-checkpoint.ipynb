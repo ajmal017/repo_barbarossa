{
 "cells": [
  {
   "cell_type": "code",
   "execution_count": null,
   "metadata": {},
   "outputs": [],
   "source": []
  },
  {
   "cell_type": "code",
   "execution_count": 5,
   "metadata": {},
   "outputs": [
    {
     "name": "stdout",
     "output_type": "stream",
     "text": [
      "Index(['ticker1', 'ticker2', 'ticker1L', 'ticker2L', 'tickerHead',\n",
      "       'front_tr_dte', 'front_tr_dteL', 'carry', 'q_carry', 'q_carry_average',\n",
      "       'q_carry_max', 'q_carry_min', 'butterfly_q', 'butterfly_z',\n",
      "       'reward_risk', 'price', 'priceL', 'butterfly_q10', 'butterfly_q25',\n",
      "       'butterfly_q35', 'butterfly_q50', 'butterfly_q65', 'butterfly_q75',\n",
      "       'butterfly_q90', 'butterfly_mean', 'butterfly_noise', 'q', 'upside',\n",
      "       'downside', 'upsideL', 'downsideL', 'change5', 'change10', 'change20'],\n",
      "      dtype='object')\n"
     ]
    },
    {
     "data": {
      "text/html": [
       "<div>\n",
       "<style scoped>\n",
       "    .dataframe tbody tr th:only-of-type {\n",
       "        vertical-align: middle;\n",
       "    }\n",
       "\n",
       "    .dataframe tbody tr th {\n",
       "        vertical-align: top;\n",
       "    }\n",
       "\n",
       "    .dataframe thead th {\n",
       "        text-align: right;\n",
       "    }\n",
       "</style>\n",
       "<table border=\"1\" class=\"dataframe\">\n",
       "  <thead>\n",
       "    <tr style=\"text-align: right;\">\n",
       "      <th></th>\n",
       "      <th>price</th>\n",
       "      <th>priceL</th>\n",
       "      <th>carry</th>\n",
       "    </tr>\n",
       "  </thead>\n",
       "  <tbody>\n",
       "    <tr>\n",
       "      <td>1</td>\n",
       "      <td>-0.005</td>\n",
       "      <td>-0.0125</td>\n",
       "      <td>-18.75</td>\n",
       "    </tr>\n",
       "  </tbody>\n",
       "</table>\n",
       "</div>"
      ],
      "text/plain": [
       "   price  priceL  carry\n",
       "1 -0.005 -0.0125 -18.75"
      ]
     },
     "execution_count": 5,
     "metadata": {},
     "output_type": "execute_result"
    }
   ],
   "source": [
    "import opportunity_constructs.spread_carry as sc\n",
    "spread_carry_output = sc.generate_spread_carry_sheet_4date(report_date=20200522)\n",
    "spread_report = spread_carry_output['spread_report']\n",
    "selected_line = spread_report[(spread_report['ticker1']=='EDN2020')&(spread_report['ticker2']=='EDQ2020')]\n",
    "print(selected_line.columns)\n",
    "selected_line[['price','priceL','carry']]"
   ]
  },
  {
   "cell_type": "code",
   "execution_count": 1,
   "metadata": {},
   "outputs": [
    {
     "data": {
      "text/plain": [
       "{'success': True,\n",
       " 'ticker1L': 'EDM2020',\n",
       " 'ticker2L': 'EDN2020',\n",
       " 'reward_risk': -0.1,\n",
       " 'q_carry': -3.0,\n",
       " 'butterfly_q': 53.0,\n",
       " 'butterfly_z': 1.070157255884593,\n",
       " 'spread_price': -0.005000000000009663,\n",
       " 'butterfly_q10': -0.020143624112980207,\n",
       " 'butterfly_q25': -0.007600710355804274,\n",
       " 'butterfly_q35': -0.00501529665479257,\n",
       " 'butterfly_q50': 0.0,\n",
       " 'butterfly_q65': 0.005012054013650112,\n",
       " 'butterfly_q75': 0.010038900797268806,\n",
       " 'butterfly_q90': 0.02528464911304195,\n",
       " 'butterfly_mean': -0.05355480245608853,\n",
       " 'butterfly_noise': 0.043014105843597675,\n",
       " 'noise_100': 0.0119724684171641,\n",
       " 'dollar_noise_100': 29.93117104291025,\n",
       " 'pnl1': nan,\n",
       " 'pnl1_instant': nan,\n",
       " 'pnl2': nan,\n",
       " 'pnl5': nan,\n",
       " 'pnl10': nan}"
      ]
     },
     "execution_count": 1,
     "metadata": {},
     "output_type": "execute_result"
    }
   ],
   "source": [
    "import signals.overnight_calendar_spread_signals as ocss\n",
    "output = ocss.get_overnight_calendar_signals(ticker_list=['EDN2020', 'EDQ2020'],date_to=20200522)\n",
    "\n",
    "output"
   ]
  },
  {
   "cell_type": "code",
   "execution_count": 5,
   "metadata": {},
   "outputs": [],
   "source": [
    "aligned_data['spread_price'] = aligned_data['c1']['close_price']-aligned_data['c2']['close_price']\n",
    "spread_price_current = current_data['c1']['close_price']-current_data['c2']['close_price']"
   ]
  },
  {
   "cell_type": "code",
   "execution_count": 8,
   "metadata": {},
   "outputs": [
    {
     "name": "stdout",
     "output_type": "stream",
     "text": [
      "-0.005000000000009663\n"
     ]
    },
    {
     "data": {
      "text/plain": [
       "c1            ticker                         EDN2020\n",
       "              ticker_head                         ED\n",
       "              ticker_month                         7\n",
       "              ticker_year                       2020\n",
       "              cal_dte                             52\n",
       "              tr_dte                              34\n",
       "              open_price                      99.715\n",
       "              high_price                       99.72\n",
       "              low_price                        99.69\n",
       "              close_price                     99.695\n",
       "              volume                            7442\n",
       "              cont_indx                       202007\n",
       "              change1                            NaN\n",
       "              change1_instant                    NaN\n",
       "              high1_instant                      NaN\n",
       "              low1_instant                       NaN\n",
       "              change2                            NaN\n",
       "              change5                            NaN\n",
       "              change10                           NaN\n",
       "              change20                           NaN\n",
       "              change_5                             0\n",
       "              change_1                        -0.015\n",
       "c2            ticker                         EDQ2020\n",
       "              ticker_head                         ED\n",
       "              ticker_month                         8\n",
       "              ticker_year                       2020\n",
       "              cal_dte                             87\n",
       "              tr_dte                              59\n",
       "              open_price                      99.715\n",
       "              high_price                       99.72\n",
       "              low_price                       99.695\n",
       "              close_price                       99.7\n",
       "              volume                            7854\n",
       "              cont_indx                       202008\n",
       "              change1                            NaN\n",
       "              change1_instant                    NaN\n",
       "              high1_instant                      NaN\n",
       "              low1_instant                       NaN\n",
       "              change2                            NaN\n",
       "              change5                            NaN\n",
       "              change10                           NaN\n",
       "              change20                           NaN\n",
       "              change_5                        -0.015\n",
       "              change_1                         -0.01\n",
       "settle_date                      2020-05-22 00:00:00\n",
       "tr_dte_match                                       0\n",
       "Name: 2020-05-22 00:00:00, dtype: object"
      ]
     },
     "execution_count": 8,
     "metadata": {},
     "output_type": "execute_result"
    }
   ],
   "source": [
    "print(spread_price_current)\n",
    "current_data"
   ]
  },
  {
   "cell_type": "code",
   "execution_count": 22,
   "metadata": {},
   "outputs": [],
   "source": [
    "\n",
    "\n",
    "import contract_utilities.expiration as exp\n",
    "report_date = exp.doubledate_shift_bus_days()"
   ]
  },
  {
   "cell_type": "code",
   "execution_count": 24,
   "metadata": {},
   "outputs": [
    {
     "data": {
      "text/plain": [
       "{'alias': 'NGU2021V2021Q2021U2021', 'strategy_id': 269}"
      ]
     },
     "execution_count": 24,
     "metadata": {},
     "output_type": "execute_result"
    }
   ],
   "source": [
    "# Create DB Strategy\n",
    "\n",
    "import ta.strategy as ts\n",
    "ts.generate_db_strategy_from_strategy_sheet(id=292,strategy_class='futures_butterfly',report_date=report_date)"
   ]
  },
  {
   "cell_type": "code",
   "execution_count": 9,
   "metadata": {
    "scrolled": true
   },
   "outputs": [
    {
     "data": {
      "text/plain": [
       "{'alias': 'CH21Z20VCS', 'strategy_id': 265}"
      ]
     },
     "execution_count": 9,
     "metadata": {},
     "output_type": "execute_result"
    }
   ],
   "source": [
    "# Create Misc Strategy\n",
    "import ta.strategy as ts\n",
    "alias= 'CH21Z20VCS'\n",
    "#description_string = 'strategy_class=optionInventory'\n",
    "description_string = 'strategy_class=vcs&betsize=71033'\n",
    "#description_string = 'strategy_class=delta'\n",
    "#description_string = 'strategy_class=scv&betsize=12913'\n",
    "#description_string = 'strategy_class=discretionary'\n",
    "#description_string = 'strategy_class=spread_carry&betsize=7068'\n",
    "output = ts.generate_db_strategy_from_alias(alias=alias,description_string=description_string)\n",
    "output"
   ]
  },
  {
   "cell_type": "code",
   "execution_count": 29,
   "metadata": {},
   "outputs": [],
   "source": [
    "import ta.trade_fill_loader as tfl\n",
    "import datetime as dt\n",
    "#wuhu = tfl.assign_trades_2strategies(trade_source='tt')\n",
    "#wuhu\n",
    "\n",
    "tfl.load_tt_trades(tags2exclude=['ifs','sc','ocs','DeltaHedge'])     # 'DeltaHedge','ocs','sc'\n",
    "\n",
    "#tfl.load_tagged_tt_trades()\n",
    "#tfl.load_cme_direct_trades()\n",
    "#tfl.load_manual_entry_trades()\n",
    "#wuhu = tfl.get_formatted_tt_fills()\n",
    "#wuhu['aggregate_trades']\n",
    "\n",
    "#tfl.load_latest_tt_fills()\n",
    "#dt.datetime.strptime(wuhu['Contract'].values[40],'%y-%b')\n",
    "\n",
    "\n",
    "#tfl.load_cme__fills()\n",
    "#wuhu = tfl.get_formatted_cme_direct_fills()\n",
    "#wuhu['aggregate_trades']"
   ]
  },
  {
   "cell_type": "code",
   "execution_count": 5,
   "metadata": {},
   "outputs": [],
   "source": [
    "import ta.trade_fill_loader as tfl\n",
    "tt_export_frame_filtered = tfl.load_latest_tt_fills(tags2exclude=['ifs','ocs','DeltaHedge'])\n",
    "\n",
    "tt_export_frame_filtered\n",
    "tags2exclude=['ifs','ocs','DeltaHedge']\n",
    "\n"
   ]
  },
  {
   "cell_type": "code",
   "execution_count": 3,
   "metadata": {},
   "outputs": [
    {
     "data": {
      "text/html": [
       "<div>\n",
       "<table border=\"1\" class=\"dataframe\">\n",
       "  <thead>\n",
       "    <tr style=\"text-align: right;\">\n",
       "      <th></th>\n",
       "      <th>ticker</th>\n",
       "      <th>option_type</th>\n",
       "      <th>strike_price</th>\n",
       "      <th>trade_price</th>\n",
       "      <th>trade_quantity</th>\n",
       "    </tr>\n",
       "  </thead>\n",
       "  <tbody>\n",
       "    <tr>\n",
       "      <th>0</th>\n",
       "      <td>SU2016</td>\n",
       "      <td>P</td>\n",
       "      <td>1040</td>\n",
       "      <td>24.875</td>\n",
       "      <td>5</td>\n",
       "    </tr>\n",
       "    <tr>\n",
       "      <th>1</th>\n",
       "      <td>SU2016</td>\n",
       "      <td>C</td>\n",
       "      <td>1040</td>\n",
       "      <td>90.625</td>\n",
       "      <td>5</td>\n",
       "    </tr>\n",
       "    <tr>\n",
       "      <th>2</th>\n",
       "      <td>SX2016</td>\n",
       "      <td>P</td>\n",
       "      <td>1020</td>\n",
       "      <td>32.250</td>\n",
       "      <td>-5</td>\n",
       "    </tr>\n",
       "    <tr>\n",
       "      <th>3</th>\n",
       "      <td>SX2016</td>\n",
       "      <td>C</td>\n",
       "      <td>1020</td>\n",
       "      <td>97.250</td>\n",
       "      <td>-5</td>\n",
       "    </tr>\n",
       "  </tbody>\n",
       "</table>\n",
       "</div>"
      ],
      "text/plain": [
       "   ticker option_type  strike_price  trade_price  trade_quantity\n",
       "0  SU2016           P          1040       24.875               5\n",
       "1  SU2016           C          1040       90.625               5\n",
       "2  SX2016           P          1020       32.250              -5\n",
       "3  SX2016           C          1020       97.250              -5"
      ]
     },
     "execution_count": 3,
     "metadata": {},
     "output_type": "execute_result"
    }
   ],
   "source": [
    "import ta.trade_fill_loader as tfl\n",
    "wuhu = tfl.get_formatted_manual_entry_fills()\n",
    "wuhu"
   ]
  },
  {
   "cell_type": "code",
   "execution_count": 31,
   "metadata": {
    "scrolled": true
   },
   "outputs": [
    {
     "data": {
      "text/html": [
       "<div>\n",
       "<style scoped>\n",
       "    .dataframe tbody tr th:only-of-type {\n",
       "        vertical-align: middle;\n",
       "    }\n",
       "\n",
       "    .dataframe tbody tr th {\n",
       "        vertical-align: top;\n",
       "    }\n",
       "\n",
       "    .dataframe thead th {\n",
       "        text-align: right;\n",
       "    }\n",
       "</style>\n",
       "<table border=\"1\" class=\"dataframe\">\n",
       "  <thead>\n",
       "    <tr style=\"text-align: right;\">\n",
       "      <th></th>\n",
       "      <th>ticker</th>\n",
       "      <th>option_type</th>\n",
       "      <th>strike_price</th>\n",
       "      <th>instrument</th>\n",
       "      <th>qty</th>\n",
       "    </tr>\n",
       "  </thead>\n",
       "  <tbody>\n",
       "    <tr>\n",
       "      <td>0</td>\n",
       "      <td>BON2020</td>\n",
       "      <td>None</td>\n",
       "      <td>NaN</td>\n",
       "      <td>F</td>\n",
       "      <td>-1.41</td>\n",
       "    </tr>\n",
       "    <tr>\n",
       "      <td>1</td>\n",
       "      <td>BOQ2020</td>\n",
       "      <td>None</td>\n",
       "      <td>NaN</td>\n",
       "      <td>F</td>\n",
       "      <td>1.74</td>\n",
       "    </tr>\n",
       "    <tr>\n",
       "      <td>2</td>\n",
       "      <td>ESM2020</td>\n",
       "      <td>None</td>\n",
       "      <td>NaN</td>\n",
       "      <td>F</td>\n",
       "      <td>36.00</td>\n",
       "    </tr>\n",
       "    <tr>\n",
       "      <td>3</td>\n",
       "      <td>ESU2020</td>\n",
       "      <td>None</td>\n",
       "      <td>NaN</td>\n",
       "      <td>F</td>\n",
       "      <td>-36.00</td>\n",
       "    </tr>\n",
       "    <tr>\n",
       "      <td>7</td>\n",
       "      <td>LNQ2020</td>\n",
       "      <td>None</td>\n",
       "      <td>NaN</td>\n",
       "      <td>F</td>\n",
       "      <td>2.00</td>\n",
       "    </tr>\n",
       "    <tr>\n",
       "      <td>8</td>\n",
       "      <td>LNV2020</td>\n",
       "      <td>None</td>\n",
       "      <td>NaN</td>\n",
       "      <td>F</td>\n",
       "      <td>-1.89</td>\n",
       "    </tr>\n",
       "    <tr>\n",
       "      <td>9</td>\n",
       "      <td>LNZ2020</td>\n",
       "      <td>None</td>\n",
       "      <td>NaN</td>\n",
       "      <td>F</td>\n",
       "      <td>-0.11</td>\n",
       "    </tr>\n",
       "    <tr>\n",
       "      <td>10</td>\n",
       "      <td>NGM2020</td>\n",
       "      <td>None</td>\n",
       "      <td>NaN</td>\n",
       "      <td>F</td>\n",
       "      <td>0.27</td>\n",
       "    </tr>\n",
       "    <tr>\n",
       "      <td>11</td>\n",
       "      <td>NGN2020</td>\n",
       "      <td>None</td>\n",
       "      <td>NaN</td>\n",
       "      <td>F</td>\n",
       "      <td>-0.14</td>\n",
       "    </tr>\n",
       "    <tr>\n",
       "      <td>12</td>\n",
       "      <td>SQ2020</td>\n",
       "      <td>None</td>\n",
       "      <td>NaN</td>\n",
       "      <td>F</td>\n",
       "      <td>0.09</td>\n",
       "    </tr>\n",
       "    <tr>\n",
       "      <td>13</td>\n",
       "      <td>SU2020</td>\n",
       "      <td>None</td>\n",
       "      <td>NaN</td>\n",
       "      <td>F</td>\n",
       "      <td>-0.20</td>\n",
       "    </tr>\n",
       "    <tr>\n",
       "      <td>14</td>\n",
       "      <td>WU2020</td>\n",
       "      <td>None</td>\n",
       "      <td>NaN</td>\n",
       "      <td>F</td>\n",
       "      <td>-0.42</td>\n",
       "    </tr>\n",
       "    <tr>\n",
       "      <td>15</td>\n",
       "      <td>WZ2020</td>\n",
       "      <td>None</td>\n",
       "      <td>NaN</td>\n",
       "      <td>F</td>\n",
       "      <td>0.81</td>\n",
       "    </tr>\n",
       "  </tbody>\n",
       "</table>\n",
       "</div>"
      ],
      "text/plain": [
       "     ticker option_type  strike_price instrument    qty\n",
       "0   BON2020        None           NaN          F  -1.41\n",
       "1   BOQ2020        None           NaN          F   1.74\n",
       "2   ESM2020        None           NaN          F  36.00\n",
       "3   ESU2020        None           NaN          F -36.00\n",
       "7   LNQ2020        None           NaN          F   2.00\n",
       "8   LNV2020        None           NaN          F  -1.89\n",
       "9   LNZ2020        None           NaN          F  -0.11\n",
       "10  NGM2020        None           NaN          F   0.27\n",
       "11  NGN2020        None           NaN          F  -0.14\n",
       "12   SQ2020        None           NaN          F   0.09\n",
       "13   SU2020        None           NaN          F  -0.20\n",
       "14   WU2020        None           NaN          F  -0.42\n",
       "15   WZ2020        None           NaN          F   0.81"
      ]
     },
     "execution_count": 31,
     "metadata": {},
     "output_type": "execute_result"
    }
   ],
   "source": [
    "\n",
    "#Daily Hedge\n",
    "\n",
    "import ta.strategy_hedger as sh\n",
    "import shared.calendar_utilities as cu\n",
    "import ta.strategy as tas\n",
    "#sh.strategy_hedge_report(delta_alias='delta_aug19')\n",
    "import ta.strategy as tas\n",
    "\n",
    "wuhu  = tas.get_net_position_4strategy_alias(alias='delta_apr20',as_of_date=cu.get_doubledate())\n",
    "wuhu\n",
    "\n"
   ]
  },
  {
   "cell_type": "code",
   "execution_count": 1,
   "metadata": {
    "scrolled": true
   },
   "outputs": [
    {
     "name": "stdout",
     "output_type": "stream",
     "text": [
      "-67.9495119269001\n"
     ]
    },
    {
     "data": {
      "text/html": [
       "<div>\n",
       "<style scoped>\n",
       "    .dataframe tbody tr th:only-of-type {\n",
       "        vertical-align: middle;\n",
       "    }\n",
       "\n",
       "    .dataframe tbody tr th {\n",
       "        vertical-align: top;\n",
       "    }\n",
       "\n",
       "    .dataframe thead th {\n",
       "        text-align: right;\n",
       "    }\n",
       "</style>\n",
       "<table border=\"1\" class=\"dataframe\">\n",
       "  <thead>\n",
       "    <tr style=\"text-align: right;\">\n",
       "      <th></th>\n",
       "      <th>ticker</th>\n",
       "      <th>option_type</th>\n",
       "      <th>strike_price</th>\n",
       "      <th>instrument</th>\n",
       "      <th>qty</th>\n",
       "      <th>theta</th>\n",
       "      <th>vega</th>\n",
       "      <th>delta</th>\n",
       "      <th>delta_diff</th>\n",
       "      <th>oev</th>\n",
       "      <th>total_oev</th>\n",
       "      <th>dollar_theta</th>\n",
       "      <th>dollar_vega</th>\n",
       "    </tr>\n",
       "  </thead>\n",
       "  <tbody>\n",
       "    <tr>\n",
       "      <th>0</th>\n",
       "      <td>ESM2019</td>\n",
       "      <td>C</td>\n",
       "      <td>2940.0</td>\n",
       "      <td>O</td>\n",
       "      <td>-34.0</td>\n",
       "      <td>-0.243703</td>\n",
       "      <td>950.085163</td>\n",
       "      <td>0.473640</td>\n",
       "      <td>0.026360</td>\n",
       "      <td>0.999259</td>\n",
       "      <td>-33.974803</td>\n",
       "      <td>414.295083</td>\n",
       "      <td>-16151.447766</td>\n",
       "    </tr>\n",
       "    <tr>\n",
       "      <th>1</th>\n",
       "      <td>ESM2019</td>\n",
       "      <td>P</td>\n",
       "      <td>2940.0</td>\n",
       "      <td>O</td>\n",
       "      <td>-34.0</td>\n",
       "      <td>-0.241173</td>\n",
       "      <td>950.082544</td>\n",
       "      <td>-0.507428</td>\n",
       "      <td>1.007428</td>\n",
       "      <td>0.999256</td>\n",
       "      <td>-33.974709</td>\n",
       "      <td>409.994746</td>\n",
       "      <td>-16151.403241</td>\n",
       "    </tr>\n",
       "  </tbody>\n",
       "</table>\n",
       "</div>"
      ],
      "text/plain": [
       "    ticker option_type  strike_price instrument   qty     theta        vega  \\\n",
       "0  ESM2019           C        2940.0          O -34.0 -0.243703  950.085163   \n",
       "1  ESM2019           P        2940.0          O -34.0 -0.241173  950.082544   \n",
       "\n",
       "      delta  delta_diff       oev  total_oev  dollar_theta   dollar_vega  \n",
       "0  0.473640    0.026360  0.999259 -33.974803    414.295083 -16151.447766  \n",
       "1 -0.507428    1.007428  0.999256 -33.974709    409.994746 -16151.403241  "
      ]
     },
     "execution_count": 1,
     "metadata": {},
     "output_type": "execute_result"
    }
   ],
   "source": [
    "import ta.strategy_greeks as sg\n",
    "import pandas as pd\n",
    "import get_price.get_options_price as gop\n",
    "output = sg.get_greeks_4strategy_4date(alias='ESM2019_short_scv')\n",
    "\n",
    "# SIU16Z16VCS\n",
    "output['ticker_portfolio']\n",
    "#output['strike_portfolio']\n",
    "# 2.6/ -5.2\n",
    "# 3/-6\n",
    "#output['strike_portfolio']\n",
    "\n",
    "# silver portfolio might cause problems\n",
    "#output\n",
    "\n",
    "# Z7 vol from 29.15 to 27.6\n",
    "# to 29.6 to 28\n",
    "output['ticker_portfolio']\n",
    "output['ticker_portfolio']\n",
    "print(output['strike_portfolio']['total_oev'].sum())\n",
    "output['ticker_portfolio']\n",
    "output['strike_portfolio']"
   ]
  },
  {
   "cell_type": "code",
   "execution_count": 14,
   "metadata": {
    "collapsed": true
   },
   "outputs": [
    {
     "data": {
      "text/html": [
       "<div>\n",
       "<table border=\"1\" class=\"dataframe\">\n",
       "  <thead>\n",
       "    <tr style=\"text-align: right;\">\n",
       "      <th></th>\n",
       "      <th>underlying_ticker</th>\n",
       "      <th>hedge_price</th>\n",
       "      <th>option_delta</th>\n",
       "      <th>underlying_delta</th>\n",
       "      <th>total_delta</th>\n",
       "      <th>hedge</th>\n",
       "    </tr>\n",
       "  </thead>\n",
       "  <tbody>\n",
       "    <tr>\n",
       "      <th>0</th>\n",
       "      <td>SIN2017</td>\n",
       "      <td>18.0775</td>\n",
       "      <td>4.90</td>\n",
       "      <td>-5.10</td>\n",
       "      <td>-0.20</td>\n",
       "      <td>0.20</td>\n",
       "    </tr>\n",
       "    <tr>\n",
       "      <th>1</th>\n",
       "      <td>SIU2017</td>\n",
       "      <td>18.1400</td>\n",
       "      <td>-4.76</td>\n",
       "      <td>5.13</td>\n",
       "      <td>0.37</td>\n",
       "      <td>-0.37</td>\n",
       "    </tr>\n",
       "  </tbody>\n",
       "</table>\n",
       "</div>"
      ],
      "text/plain": [
       "  underlying_ticker  hedge_price  option_delta  underlying_delta  total_delta  \\\n",
       "0           SIN2017      18.0775          4.90             -5.10        -0.20   \n",
       "1           SIU2017      18.1400         -4.76              5.13         0.37   \n",
       "\n",
       "   hedge  \n",
       "0   0.20  \n",
       "1  -0.37  "
      ]
     },
     "execution_count": 14,
     "metadata": {},
     "output_type": "execute_result"
    }
   ],
   "source": [
    "import ta.strategy_hedger as sh\n",
    "sh.get_hedge_4strategy(alias='SIN17U17VCS')"
   ]
  },
  {
   "cell_type": "code",
   "execution_count": 6,
   "metadata": {},
   "outputs": [],
   "source": [
    "import ta.strategy as ts\n",
    "ts.move_position_from_strategy_2_strategy(strategy_from='delta_apr20',strategy_to='delta_jun20')"
   ]
  },
  {
   "cell_type": "code",
   "execution_count": 6,
   "metadata": {},
   "outputs": [],
   "source": [
    "import ta.pnl as tapnl\n",
    "alias = 'SIZ2020_short_scv'\n",
    "tapnl.close_strategy(alias=alias,broker='abn')\n"
   ]
  },
  {
   "cell_type": "code",
   "execution_count": 34,
   "metadata": {
    "scrolled": true
   },
   "outputs": [
    {
     "data": {
      "text/html": [
       "<div>\n",
       "<style scoped>\n",
       "    .dataframe tbody tr th:only-of-type {\n",
       "        vertical-align: middle;\n",
       "    }\n",
       "\n",
       "    .dataframe tbody tr th {\n",
       "        vertical-align: top;\n",
       "    }\n",
       "\n",
       "    .dataframe thead th {\n",
       "        text-align: right;\n",
       "    }\n",
       "</style>\n",
       "<table border=\"1\" class=\"dataframe\">\n",
       "  <thead>\n",
       "    <tr style=\"text-align: right;\">\n",
       "      <th></th>\n",
       "      <th>generalized_ticker</th>\n",
       "      <th>qty_x</th>\n",
       "      <th>ticker</th>\n",
       "      <th>option_type</th>\n",
       "      <th>strike_price</th>\n",
       "      <th>instrument</th>\n",
       "      <th>qty_y</th>\n",
       "      <th>qty_diff</th>\n",
       "    </tr>\n",
       "  </thead>\n",
       "  <tbody>\n",
       "  </tbody>\n",
       "</table>\n",
       "</div>"
      ],
      "text/plain": [
       "Empty DataFrame\n",
       "Columns: [generalized_ticker, qty_x, ticker, option_type, strike_price, instrument, qty_y, qty_diff]\n",
       "Index: []"
      ]
     },
     "execution_count": 34,
     "metadata": {},
     "output_type": "execute_result"
    }
   ],
   "source": [
    "\n",
    "import ta.man_position_reconciler as mpr\n",
    "mpr.reconcile_position()"
   ]
  },
  {
   "cell_type": "code",
   "execution_count": 32,
   "metadata": {
    "scrolled": false
   },
   "outputs": [
    {
     "data": {
      "text/html": [
       "<div>\n",
       "<style scoped>\n",
       "    .dataframe tbody tr th:only-of-type {\n",
       "        vertical-align: middle;\n",
       "    }\n",
       "\n",
       "    .dataframe tbody tr th {\n",
       "        vertical-align: top;\n",
       "    }\n",
       "\n",
       "    .dataframe thead th {\n",
       "        text-align: right;\n",
       "    }\n",
       "</style>\n",
       "<table border=\"1\" class=\"dataframe\">\n",
       "  <thead>\n",
       "    <tr style=\"text-align: right;\">\n",
       "      <th></th>\n",
       "      <th>ticker</th>\n",
       "      <th>option_type</th>\n",
       "      <th>strike_price</th>\n",
       "      <th>instrument</th>\n",
       "      <th>qty</th>\n",
       "    </tr>\n",
       "  </thead>\n",
       "  <tbody>\n",
       "    <tr>\n",
       "      <td>0</td>\n",
       "      <td>CH2021</td>\n",
       "      <td>None</td>\n",
       "      <td>NaN</td>\n",
       "      <td>F</td>\n",
       "      <td>14.80</td>\n",
       "    </tr>\n",
       "    <tr>\n",
       "      <td>1</td>\n",
       "      <td>CZ2020</td>\n",
       "      <td>None</td>\n",
       "      <td>NaN</td>\n",
       "      <td>F</td>\n",
       "      <td>-14.65</td>\n",
       "    </tr>\n",
       "    <tr>\n",
       "      <td>2</td>\n",
       "      <td>ESH2021</td>\n",
       "      <td>None</td>\n",
       "      <td>NaN</td>\n",
       "      <td>F</td>\n",
       "      <td>27.87</td>\n",
       "    </tr>\n",
       "    <tr>\n",
       "      <td>4</td>\n",
       "      <td>ESU2020</td>\n",
       "      <td>None</td>\n",
       "      <td>NaN</td>\n",
       "      <td>F</td>\n",
       "      <td>2.00</td>\n",
       "    </tr>\n",
       "    <tr>\n",
       "      <td>5</td>\n",
       "      <td>ESZ2020</td>\n",
       "      <td>None</td>\n",
       "      <td>NaN</td>\n",
       "      <td>F</td>\n",
       "      <td>-29.47</td>\n",
       "    </tr>\n",
       "    <tr>\n",
       "      <td>6</td>\n",
       "      <td>LCV2020</td>\n",
       "      <td>None</td>\n",
       "      <td>NaN</td>\n",
       "      <td>F</td>\n",
       "      <td>0.14</td>\n",
       "    </tr>\n",
       "    <tr>\n",
       "      <td>7</td>\n",
       "      <td>LCZ2020</td>\n",
       "      <td>None</td>\n",
       "      <td>NaN</td>\n",
       "      <td>F</td>\n",
       "      <td>-0.08</td>\n",
       "    </tr>\n",
       "    <tr>\n",
       "      <td>8</td>\n",
       "      <td>LNV2020</td>\n",
       "      <td>None</td>\n",
       "      <td>NaN</td>\n",
       "      <td>F</td>\n",
       "      <td>0.20</td>\n",
       "    </tr>\n",
       "    <tr>\n",
       "      <td>9</td>\n",
       "      <td>LNZ2020</td>\n",
       "      <td>None</td>\n",
       "      <td>NaN</td>\n",
       "      <td>F</td>\n",
       "      <td>0.05</td>\n",
       "    </tr>\n",
       "    <tr>\n",
       "      <td>10</td>\n",
       "      <td>NGU2020</td>\n",
       "      <td>None</td>\n",
       "      <td>NaN</td>\n",
       "      <td>F</td>\n",
       "      <td>-0.43</td>\n",
       "    </tr>\n",
       "    <tr>\n",
       "      <td>11</td>\n",
       "      <td>NGV2020</td>\n",
       "      <td>None</td>\n",
       "      <td>NaN</td>\n",
       "      <td>F</td>\n",
       "      <td>0.24</td>\n",
       "    </tr>\n",
       "    <tr>\n",
       "      <td>12</td>\n",
       "      <td>NGX2020</td>\n",
       "      <td>None</td>\n",
       "      <td>NaN</td>\n",
       "      <td>F</td>\n",
       "      <td>-0.41</td>\n",
       "    </tr>\n",
       "    <tr>\n",
       "      <td>13</td>\n",
       "      <td>NGZ2020</td>\n",
       "      <td>None</td>\n",
       "      <td>NaN</td>\n",
       "      <td>F</td>\n",
       "      <td>0.29</td>\n",
       "    </tr>\n",
       "    <tr>\n",
       "      <td>16</td>\n",
       "      <td>WU2020</td>\n",
       "      <td>None</td>\n",
       "      <td>NaN</td>\n",
       "      <td>F</td>\n",
       "      <td>0.03</td>\n",
       "    </tr>\n",
       "    <tr>\n",
       "      <td>17</td>\n",
       "      <td>WZ2020</td>\n",
       "      <td>None</td>\n",
       "      <td>NaN</td>\n",
       "      <td>F</td>\n",
       "      <td>0.15</td>\n",
       "    </tr>\n",
       "  </tbody>\n",
       "</table>\n",
       "</div>"
      ],
      "text/plain": [
       "     ticker option_type  strike_price instrument    qty\n",
       "0    CH2021        None           NaN          F  14.80\n",
       "1    CZ2020        None           NaN          F -14.65\n",
       "2   ESH2021        None           NaN          F  27.87\n",
       "4   ESU2020        None           NaN          F   2.00\n",
       "5   ESZ2020        None           NaN          F -29.47\n",
       "6   LCV2020        None           NaN          F   0.14\n",
       "7   LCZ2020        None           NaN          F  -0.08\n",
       "8   LNV2020        None           NaN          F   0.20\n",
       "9   LNZ2020        None           NaN          F   0.05\n",
       "10  NGU2020        None           NaN          F  -0.43\n",
       "11  NGV2020        None           NaN          F   0.24\n",
       "12  NGX2020        None           NaN          F  -0.41\n",
       "13  NGZ2020        None           NaN          F   0.29\n",
       "16   WU2020        None           NaN          F   0.03\n",
       "17   WZ2020        None           NaN          F   0.15"
      ]
     },
     "execution_count": 32,
     "metadata": {},
     "output_type": "execute_result"
    }
   ],
   "source": [
    "import shared.calendar_utilities as cu\n",
    "import ta.strategy as tas\n",
    "wuhu  = tas.get_net_position_4strategy_alias(alias='delta_jun20',as_of_date=cu.get_doubledate())\n",
    "wuhu\n",
    "\n",
    "# buy SIN\n"
   ]
  },
  {
   "cell_type": "code",
   "execution_count": 8,
   "metadata": {
    "scrolled": false
   },
   "outputs": [
    {
     "data": {
      "text/html": [
       "<div>\n",
       "<style scoped>\n",
       "    .dataframe tbody tr th:only-of-type {\n",
       "        vertical-align: middle;\n",
       "    }\n",
       "\n",
       "    .dataframe tbody tr th {\n",
       "        vertical-align: top;\n",
       "    }\n",
       "\n",
       "    .dataframe thead th {\n",
       "        text-align: right;\n",
       "    }\n",
       "</style>\n",
       "<table border=\"1\" class=\"dataframe\">\n",
       "  <thead>\n",
       "    <tr style=\"text-align: right;\">\n",
       "      <th></th>\n",
       "      <th>ticker</th>\n",
       "      <th>option_type</th>\n",
       "      <th>strike_price</th>\n",
       "      <th>instrument</th>\n",
       "      <th>qty</th>\n",
       "    </tr>\n",
       "  </thead>\n",
       "  <tbody>\n",
       "  </tbody>\n",
       "</table>\n",
       "</div>"
      ],
      "text/plain": [
       "Empty DataFrame\n",
       "Columns: [ticker, option_type, strike_price, instrument, qty]\n",
       "Index: []"
      ]
     },
     "execution_count": 8,
     "metadata": {},
     "output_type": "execute_result"
    }
   ],
   "source": [
    "wuhu  = tas.get_net_position_4strategy_alias(alias='TYZ2018_short_scv')\n",
    "wuhu"
   ]
  },
  {
   "cell_type": "code",
   "execution_count": 9,
   "metadata": {},
   "outputs": [
    {
     "data": {
      "text/plain": [
       "{'structure_pnl': -770.0000000000032,\n",
       " 'futures_pnl': 36.00000000000051,\n",
       " 'structure_settle': 12.375}"
      ]
     },
     "execution_count": 9,
     "metadata": {},
     "output_type": "execute_result"
    }
   ],
   "source": [
    "import ta.position_close_helper as pch\n",
    "\n",
    "pch.calc_intrday_pnl_from_prices(alias='LCZ2020_long_scv',structure_price=12.2,LCZ2020=103.475)\n",
    "#pch.calc_intrday_pnl_from_prices(alias='WZ20U20VCS',structure_price=11.625,WU2020=514,WZ2020=524.5)\n",
    "#pch.calc_intrday_pnl_from_prices(alias='SU20X20VCS',structure_price=7.75,SU2020=964.25,SX2020=965)\n",
    "#pch.calc_intrday_pnl_from_prices(alias='SIZ2020_short_scv',structure_price=0.045,BON2020=26.45,BOQ2020=26.63)\n",
    "# buy one more ESM\n"
   ]
  },
  {
   "cell_type": "code",
   "execution_count": 4,
   "metadata": {},
   "outputs": [
    {
     "data": {
      "text/plain": [
       "{'structure_pnl': -131.25, 'futures_pnl': -153.375, 'structure_settle': 70.375}"
      ]
     },
     "execution_count": 4,
     "metadata": {},
     "output_type": "execute_result"
    }
   ],
   "source": [
    "import ta.position_close_helper as pch\n",
    "pch.calc_intrday_pnl_from_prices(alias='SF2020_long_scv',structure_price=70,SF2020=955.75)\n",
    "# sell 2 WH futures"
   ]
  },
  {
   "cell_type": "code",
   "execution_count": 6,
   "metadata": {},
   "outputs": [
    {
     "data": {
      "text/plain": [
       "52.0"
      ]
     },
     "execution_count": 6,
     "metadata": {},
     "output_type": "execute_result"
    }
   ],
   "source": [
    "0.8125*64"
   ]
  },
  {
   "cell_type": "code",
   "execution_count": 9,
   "metadata": {},
   "outputs": [
    {
     "name": "stderr",
     "output_type": "stream",
     "text": [
      "C:\\Research\\PycharmProjects\\ta\\position_close_helper.py:89: FutureWarning: from_items is deprecated. Please use DataFrame.from_dict(dict(items), ...) instead. DataFrame.from_dict(OrderedDict(items)) may be used to preserve the key order.\n",
      "  ('qty', [1, 1])])\n"
     ]
    },
    {
     "data": {
      "text/plain": [
       "{'total_pnl': -112.96068,\n",
       " 'structure_pnl': -200.0,\n",
       " 'delta_pnl': 87.03932,\n",
       " 'structure_price_yesterday': 74.875}"
      ]
     },
     "execution_count": 9,
     "metadata": {},
     "output_type": "execute_result"
    }
   ],
   "source": [
    "import ta.position_close_helper as pch\n",
    "pch.calc_intraday_structure_pnl_from_prices(ticker_list=['WH2019'],\n",
    "                                            structure_price = 74.375,\n",
    "                                            strike_list=[580],\n",
    "                                            underlying_price_list=[529.25],\n",
    "                                            qty = 8,\n",
    "                                            structure_type='straddle')\n",
    "\n",
    "\n",
    "# sell 2 LNM futures "
   ]
  },
  {
   "cell_type": "code",
   "execution_count": 7,
   "metadata": {},
   "outputs": [
    {
     "data": {
      "text/plain": [
       "{'total_pnl': -56.07016320000085,\n",
       " 'structure_pnl': -204.00000000000003,\n",
       " 'delta_pnl': 147.92983679999918,\n",
       " 'structure_price_yesterday': 0.0}"
      ]
     },
     "execution_count": 7,
     "metadata": {},
     "output_type": "execute_result"
    }
   ],
   "source": [
    "import ta.position_close_helper as pch\n",
    "pch.calc_intraday_structure_pnl_from_prices(ticker_list=['BON2020','BOQ2020'],\n",
    "                                            structure_price =-0.085,\n",
    "                                            strike_list=[30,30],\n",
    "                                            underlying_price_list=[25.46,25.66],\n",
    "                                            qty =4,\n",
    "                                            structure_type='straddle_spread')"
   ]
  },
  {
   "cell_type": "code",
   "execution_count": 5,
   "metadata": {
    "scrolled": true
   },
   "outputs": [
    {
     "data": {
      "text/plain": [
       "{'total_pnl': 75.073520000011,\n",
       " 'structure_pnl': -499.9999999999987,\n",
       " 'delta_pnl': 575.0735200000097,\n",
       " 'structure_price_yesterday': 0.056999999999999995}"
      ]
     },
     "execution_count": 5,
     "metadata": {},
     "output_type": "execute_result"
    }
   ],
   "source": [
    "import ta.position_close_helper as pch\n",
    "pch.calc_intraday_structure_pnl_from_prices(ticker_list=['NGU2020','NGV2020'],\n",
    "                                            structure_price =0.055,\n",
    "                                            strike_list=[2.15,2.2],\n",
    "                                            underlying_price_list=[1.928,2.019],\n",
    "                                            qty =25,\n",
    "                                            structure_type='straddle_spread')\n",
    "\n",
    "# sell 7 ZSN futures"
   ]
  },
  {
   "cell_type": "code",
   "execution_count": 15,
   "metadata": {},
   "outputs": [
    {
     "data": {
      "text/plain": [
       "{'total_pnl': 9535.553512500079,\n",
       " 'structure_pnl': 1399.9999999999568,\n",
       " 'delta_pnl': 8135.553512500122,\n",
       " 'structure_price_yesterday': -2.4499999999999957}"
      ]
     },
     "execution_count": 15,
     "metadata": {},
     "output_type": "execute_result"
    }
   ],
   "source": [
    "import ta.position_close_helper as pch\n",
    "pch.calc_intraday_structure_pnl_from_prices(ticker_list=['LCM2020','LCQ2020'],\n",
    "                                            structure_price =-2.31,\n",
    "                                            strike_list=[111,110],\n",
    "                                            underlying_price_list=[81.3,83.9],\n",
    "                                            qty =25,\n",
    "                                            structure_type='straddle_spread')"
   ]
  },
  {
   "cell_type": "code",
   "execution_count": 28,
   "metadata": {},
   "outputs": [
    {
     "data": {
      "text/plain": [
       "{'total_pnl': 232.20795150000004,\n",
       " 'structure_pnl': 0.0,\n",
       " 'delta_pnl': 232.20795150000004,\n",
       " 'structure_price_yesterday': 248.5}"
      ]
     },
     "execution_count": 28,
     "metadata": {},
     "output_type": "execute_result"
    }
   ],
   "source": [
    "import ta.position_close_helper as pch\n",
    "pch.calc_intraday_structure_pnl_from_prices(ticker_list=['ESZ2019'],\n",
    "                                            structure_price =248.5,\n",
    "                                            strike_list=[2890],\n",
    "                                            underlying_price_list=[2888],\n",
    "                                            qty =21,\n",
    "                                            structure_type='straddle')"
   ]
  },
  {
   "cell_type": "code",
   "execution_count": null,
   "metadata": {
    "collapsed": true
   },
   "outputs": [],
   "source": []
  }
 ],
 "metadata": {
  "kernelspec": {
   "display_name": "Python 3",
   "language": "python",
   "name": "python3"
  },
  "language_info": {
   "codemirror_mode": {
    "name": "ipython",
    "version": 3
   },
   "file_extension": ".py",
   "mimetype": "text/x-python",
   "name": "python",
   "nbconvert_exporter": "python",
   "pygments_lexer": "ipython3",
   "version": "3.7.4"
  }
 },
 "nbformat": 4,
 "nbformat_minor": 1
}
