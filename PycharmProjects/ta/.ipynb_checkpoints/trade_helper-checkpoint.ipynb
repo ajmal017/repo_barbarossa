{
 "cells": [
  {
   "cell_type": "code",
   "execution_count": 10,
   "metadata": {
    "collapsed": true
   },
   "outputs": [],
   "source": [
    "import contract_utilities.expiration as exp\n",
    "report_date = exp.doubledate_shift_bus_days()"
   ]
  },
  {
   "cell_type": "code",
   "execution_count": 13,
   "metadata": {
    "collapsed": false
   },
   "outputs": [
    {
     "data": {
      "text/plain": [
       "147"
      ]
     },
     "execution_count": 13,
     "metadata": {},
     "output_type": "execute_result"
    }
   ],
   "source": [
    "# Create DB Strategy\n",
    "\n",
    "import ta.strategy as ts\n",
    "ts.generate_db_strategy_from_strategy_sheet(id=171,strategy_class='futures_butterfly',report_date=report_date)"
   ]
  },
  {
   "cell_type": "code",
   "execution_count": 3,
   "metadata": {
    "collapsed": false
   },
   "outputs": [
    {
     "data": {
      "text/plain": [
       "149"
      ]
     },
     "execution_count": 3,
     "metadata": {},
     "output_type": "execute_result"
    }
   ],
   "source": [
    "# Create Misc Strategy\n",
    "import ta.strategy as ts\n",
    "ts.generate_db_strategy_from_alias(alias='CZ16H17VCS',description_string='strategy_class=vcs&betsize=6539')\n"
   ]
  },
  {
   "cell_type": "code",
   "execution_count": 21,
   "metadata": {
    "collapsed": false
   },
   "outputs": [],
   "source": [
    "import ta.trade_fill_loader as tfl\n",
    "import datetime as dt\n",
    "#wuhu = tfl.assign_trades_2strategies(trade_source='tt')\n",
    "#wuhu\n",
    "tfl.load_tt_trades()\n",
    "#tfl.load_cme_direct_trades()\n",
    "#tfl.load_manual_entry_trades()\n",
    "#wuhu = tfl.get_formatted_tt_fills()\n",
    "#wuhu\n",
    "\n",
    "#tfl.load_latest_tt_fills()\n",
    "#dt.datetime.strptime(wuhu['Contract'].values[40],'%y-%b')\n",
    "\n",
    "\n",
    "#tfl.load_cme__fills()\n",
    "#wuhu = tfl.get_formatted_cme_direct_fills()\n",
    "#wuhu"
   ]
  },
  {
   "cell_type": "code",
   "execution_count": 17,
   "metadata": {
    "collapsed": false
   },
   "outputs": [
    {
     "data": {
      "text/html": [
       "<div>\n",
       "<table border=\"1\" class=\"dataframe\">\n",
       "  <thead>\n",
       "    <tr style=\"text-align: right;\">\n",
       "      <th></th>\n",
       "      <th></th>\n",
       "      <th>trade_price</th>\n",
       "      <th>trade_quantity</th>\n",
       "      <th>ticker</th>\n",
       "      <th>ticker_head</th>\n",
       "      <th>instrument</th>\n",
       "      <th>option_type</th>\n",
       "      <th>strike_price</th>\n",
       "      <th>real_tradeQ</th>\n",
       "    </tr>\n",
       "    <tr>\n",
       "      <th>generalized_ticker</th>\n",
       "      <th>side</th>\n",
       "      <th></th>\n",
       "      <th></th>\n",
       "      <th></th>\n",
       "      <th></th>\n",
       "      <th></th>\n",
       "      <th></th>\n",
       "      <th></th>\n",
       "      <th></th>\n",
       "    </tr>\n",
       "  </thead>\n",
       "  <tbody>\n",
       "    <tr>\n",
       "      <th>CLX2016</th>\n",
       "      <th>Buy</th>\n",
       "      <td>51.30</td>\n",
       "      <td>1</td>\n",
       "      <td>CLX2016</td>\n",
       "      <td>CL</td>\n",
       "      <td>F</td>\n",
       "      <td>None</td>\n",
       "      <td>NaN</td>\n",
       "      <td>True</td>\n",
       "    </tr>\n",
       "    <tr>\n",
       "      <th>CLZ2016</th>\n",
       "      <th>Sell</th>\n",
       "      <td>51.63</td>\n",
       "      <td>-1</td>\n",
       "      <td>CLZ2016</td>\n",
       "      <td>CL</td>\n",
       "      <td>F</td>\n",
       "      <td>None</td>\n",
       "      <td>NaN</td>\n",
       "      <td>True</td>\n",
       "    </tr>\n",
       "    <tr>\n",
       "      <th>LCV2016</th>\n",
       "      <th>Sell</th>\n",
       "      <td>116.90</td>\n",
       "      <td>-1</td>\n",
       "      <td>LCV2016</td>\n",
       "      <td>LC</td>\n",
       "      <td>F</td>\n",
       "      <td>None</td>\n",
       "      <td>NaN</td>\n",
       "      <td>True</td>\n",
       "    </tr>\n",
       "    <tr>\n",
       "      <th>LCZ2016</th>\n",
       "      <th>Buy</th>\n",
       "      <td>116.90</td>\n",
       "      <td>1</td>\n",
       "      <td>LCZ2016</td>\n",
       "      <td>LC</td>\n",
       "      <td>F</td>\n",
       "      <td>None</td>\n",
       "      <td>NaN</td>\n",
       "      <td>True</td>\n",
       "    </tr>\n",
       "    <tr>\n",
       "      <th rowspan=\"2\" valign=\"top\">WU2016</th>\n",
       "      <th>Buy</th>\n",
       "      <td>508.25</td>\n",
       "      <td>4</td>\n",
       "      <td>WU2016</td>\n",
       "      <td>W</td>\n",
       "      <td>F</td>\n",
       "      <td>None</td>\n",
       "      <td>NaN</td>\n",
       "      <td>True</td>\n",
       "    </tr>\n",
       "    <tr>\n",
       "      <th>Sell</th>\n",
       "      <td>508.00</td>\n",
       "      <td>-1</td>\n",
       "      <td>WU2016</td>\n",
       "      <td>W</td>\n",
       "      <td>F</td>\n",
       "      <td>None</td>\n",
       "      <td>NaN</td>\n",
       "      <td>True</td>\n",
       "    </tr>\n",
       "    <tr>\n",
       "      <th>WZ2016</th>\n",
       "      <th>Sell</th>\n",
       "      <td>527.50</td>\n",
       "      <td>-2</td>\n",
       "      <td>WZ2016</td>\n",
       "      <td>W</td>\n",
       "      <td>F</td>\n",
       "      <td>None</td>\n",
       "      <td>NaN</td>\n",
       "      <td>True</td>\n",
       "    </tr>\n",
       "  </tbody>\n",
       "</table>\n",
       "</div>"
      ],
      "text/plain": [
       "                         trade_price  trade_quantity   ticker ticker_head  \\\n",
       "generalized_ticker side                                                     \n",
       "CLX2016            Buy         51.30               1  CLX2016          CL   \n",
       "CLZ2016            Sell        51.63              -1  CLZ2016          CL   \n",
       "LCV2016            Sell       116.90              -1  LCV2016          LC   \n",
       "LCZ2016            Buy        116.90               1  LCZ2016          LC   \n",
       "WU2016             Buy        508.25               4   WU2016           W   \n",
       "                   Sell       508.00              -1   WU2016           W   \n",
       "WZ2016             Sell       527.50              -2   WZ2016           W   \n",
       "\n",
       "                        instrument option_type  strike_price real_tradeQ  \n",
       "generalized_ticker side                                                   \n",
       "CLX2016            Buy           F        None           NaN        True  \n",
       "CLZ2016            Sell          F        None           NaN        True  \n",
       "LCV2016            Sell          F        None           NaN        True  \n",
       "LCZ2016            Buy           F        None           NaN        True  \n",
       "WU2016             Buy           F        None           NaN        True  \n",
       "                   Sell          F        None           NaN        True  \n",
       "WZ2016             Sell          F        None           NaN        True  "
      ]
     },
     "execution_count": 17,
     "metadata": {},
     "output_type": "execute_result"
    }
   ],
   "source": [
    "trade_frame = tfl.get_formatted_cme_direct_fills()\n",
    "trade_frame['aggregate_trades']"
   ]
  },
  {
   "cell_type": "code",
   "execution_count": 3,
   "metadata": {
    "collapsed": false
   },
   "outputs": [
    {
     "data": {
      "text/html": [
       "<div>\n",
       "<table border=\"1\" class=\"dataframe\">\n",
       "  <thead>\n",
       "    <tr style=\"text-align: right;\">\n",
       "      <th></th>\n",
       "      <th>ticker</th>\n",
       "      <th>option_type</th>\n",
       "      <th>strike_price</th>\n",
       "      <th>trade_price</th>\n",
       "      <th>trade_quantity</th>\n",
       "    </tr>\n",
       "  </thead>\n",
       "  <tbody>\n",
       "    <tr>\n",
       "      <th>0</th>\n",
       "      <td>SU2016</td>\n",
       "      <td>P</td>\n",
       "      <td>1040</td>\n",
       "      <td>24.875</td>\n",
       "      <td>5</td>\n",
       "    </tr>\n",
       "    <tr>\n",
       "      <th>1</th>\n",
       "      <td>SU2016</td>\n",
       "      <td>C</td>\n",
       "      <td>1040</td>\n",
       "      <td>90.625</td>\n",
       "      <td>5</td>\n",
       "    </tr>\n",
       "    <tr>\n",
       "      <th>2</th>\n",
       "      <td>SX2016</td>\n",
       "      <td>P</td>\n",
       "      <td>1020</td>\n",
       "      <td>32.250</td>\n",
       "      <td>-5</td>\n",
       "    </tr>\n",
       "    <tr>\n",
       "      <th>3</th>\n",
       "      <td>SX2016</td>\n",
       "      <td>C</td>\n",
       "      <td>1020</td>\n",
       "      <td>97.250</td>\n",
       "      <td>-5</td>\n",
       "    </tr>\n",
       "  </tbody>\n",
       "</table>\n",
       "</div>"
      ],
      "text/plain": [
       "   ticker option_type  strike_price  trade_price  trade_quantity\n",
       "0  SU2016           P          1040       24.875               5\n",
       "1  SU2016           C          1040       90.625               5\n",
       "2  SX2016           P          1020       32.250              -5\n",
       "3  SX2016           C          1020       97.250              -5"
      ]
     },
     "execution_count": 3,
     "metadata": {},
     "output_type": "execute_result"
    }
   ],
   "source": [
    "import ta.trade_fill_loader as tfl\n",
    "wuhu = tfl.get_formatted_manual_entry_fills()\n",
    "wuhu"
   ]
  },
  {
   "cell_type": "code",
   "execution_count": 16,
   "metadata": {
    "collapsed": false,
    "scrolled": true
   },
   "outputs": [
    {
     "data": {
      "text/html": [
       "<div>\n",
       "<table border=\"1\" class=\"dataframe\">\n",
       "  <thead>\n",
       "    <tr style=\"text-align: right;\">\n",
       "      <th></th>\n",
       "      <th>ticker</th>\n",
       "      <th>option_type</th>\n",
       "      <th>strike_price</th>\n",
       "      <th>instrument</th>\n",
       "      <th>qty</th>\n",
       "    </tr>\n",
       "  </thead>\n",
       "  <tbody>\n",
       "    <tr>\n",
       "      <th>1</th>\n",
       "      <td>BOV2016</td>\n",
       "      <td>None</td>\n",
       "      <td>NaN</td>\n",
       "      <td>F</td>\n",
       "      <td>0.61</td>\n",
       "    </tr>\n",
       "    <tr>\n",
       "      <th>2</th>\n",
       "      <td>BOZ2016</td>\n",
       "      <td>None</td>\n",
       "      <td>NaN</td>\n",
       "      <td>F</td>\n",
       "      <td>-0.87</td>\n",
       "    </tr>\n",
       "    <tr>\n",
       "      <th>3</th>\n",
       "      <td>CH2017</td>\n",
       "      <td>None</td>\n",
       "      <td>NaN</td>\n",
       "      <td>F</td>\n",
       "      <td>0.37</td>\n",
       "    </tr>\n",
       "    <tr>\n",
       "      <th>4</th>\n",
       "      <td>CLZ2016</td>\n",
       "      <td>None</td>\n",
       "      <td>NaN</td>\n",
       "      <td>F</td>\n",
       "      <td>-0.42</td>\n",
       "    </tr>\n",
       "    <tr>\n",
       "      <th>5</th>\n",
       "      <td>CZ2016</td>\n",
       "      <td>None</td>\n",
       "      <td>NaN</td>\n",
       "      <td>F</td>\n",
       "      <td>-0.22</td>\n",
       "    </tr>\n",
       "    <tr>\n",
       "      <th>6</th>\n",
       "      <td>ECU2016</td>\n",
       "      <td>None</td>\n",
       "      <td>NaN</td>\n",
       "      <td>F</td>\n",
       "      <td>3.00</td>\n",
       "    </tr>\n",
       "    <tr>\n",
       "      <th>7</th>\n",
       "      <td>ECZ2016</td>\n",
       "      <td>None</td>\n",
       "      <td>NaN</td>\n",
       "      <td>F</td>\n",
       "      <td>-2.57</td>\n",
       "    </tr>\n",
       "    <tr>\n",
       "      <th>8</th>\n",
       "      <td>GCG2017</td>\n",
       "      <td>None</td>\n",
       "      <td>NaN</td>\n",
       "      <td>F</td>\n",
       "      <td>2.90</td>\n",
       "    </tr>\n",
       "    <tr>\n",
       "      <th>9</th>\n",
       "      <td>GCZ2016</td>\n",
       "      <td>None</td>\n",
       "      <td>NaN</td>\n",
       "      <td>F</td>\n",
       "      <td>-3.05</td>\n",
       "    </tr>\n",
       "    <tr>\n",
       "      <th>10</th>\n",
       "      <td>JYU2016</td>\n",
       "      <td>None</td>\n",
       "      <td>NaN</td>\n",
       "      <td>F</td>\n",
       "      <td>1.00</td>\n",
       "    </tr>\n",
       "    <tr>\n",
       "      <th>11</th>\n",
       "      <td>JYZ2016</td>\n",
       "      <td>None</td>\n",
       "      <td>NaN</td>\n",
       "      <td>F</td>\n",
       "      <td>-0.80</td>\n",
       "    </tr>\n",
       "    <tr>\n",
       "      <th>12</th>\n",
       "      <td>LCJ2017</td>\n",
       "      <td>None</td>\n",
       "      <td>NaN</td>\n",
       "      <td>F</td>\n",
       "      <td>-0.10</td>\n",
       "    </tr>\n",
       "    <tr>\n",
       "      <th>13</th>\n",
       "      <td>LCV2016</td>\n",
       "      <td>None</td>\n",
       "      <td>NaN</td>\n",
       "      <td>F</td>\n",
       "      <td>-0.01</td>\n",
       "    </tr>\n",
       "    <tr>\n",
       "      <th>14</th>\n",
       "      <td>LCZ2016</td>\n",
       "      <td>None</td>\n",
       "      <td>NaN</td>\n",
       "      <td>F</td>\n",
       "      <td>0.60</td>\n",
       "    </tr>\n",
       "    <tr>\n",
       "      <th>15</th>\n",
       "      <td>LNV2016</td>\n",
       "      <td>None</td>\n",
       "      <td>NaN</td>\n",
       "      <td>F</td>\n",
       "      <td>-0.17</td>\n",
       "    </tr>\n",
       "    <tr>\n",
       "      <th>16</th>\n",
       "      <td>LNZ2016</td>\n",
       "      <td>None</td>\n",
       "      <td>NaN</td>\n",
       "      <td>F</td>\n",
       "      <td>-0.21</td>\n",
       "    </tr>\n",
       "    <tr>\n",
       "      <th>17</th>\n",
       "      <td>SIH2017</td>\n",
       "      <td>None</td>\n",
       "      <td>NaN</td>\n",
       "      <td>F</td>\n",
       "      <td>-2.71</td>\n",
       "    </tr>\n",
       "    <tr>\n",
       "      <th>18</th>\n",
       "      <td>SIU2016</td>\n",
       "      <td>None</td>\n",
       "      <td>NaN</td>\n",
       "      <td>F</td>\n",
       "      <td>5.64</td>\n",
       "    </tr>\n",
       "    <tr>\n",
       "      <th>19</th>\n",
       "      <td>SIZ2016</td>\n",
       "      <td>None</td>\n",
       "      <td>NaN</td>\n",
       "      <td>F</td>\n",
       "      <td>-3.23</td>\n",
       "    </tr>\n",
       "  </tbody>\n",
       "</table>\n",
       "</div>"
      ],
      "text/plain": [
       "     ticker option_type  strike_price instrument   qty\n",
       "1   BOV2016        None           NaN          F  0.61\n",
       "2   BOZ2016        None           NaN          F -0.87\n",
       "3    CH2017        None           NaN          F  0.37\n",
       "4   CLZ2016        None           NaN          F -0.42\n",
       "5    CZ2016        None           NaN          F -0.22\n",
       "6   ECU2016        None           NaN          F  3.00\n",
       "7   ECZ2016        None           NaN          F -2.57\n",
       "8   GCG2017        None           NaN          F  2.90\n",
       "9   GCZ2016        None           NaN          F -3.05\n",
       "10  JYU2016        None           NaN          F  1.00\n",
       "11  JYZ2016        None           NaN          F -0.80\n",
       "12  LCJ2017        None           NaN          F -0.10\n",
       "13  LCV2016        None           NaN          F -0.01\n",
       "14  LCZ2016        None           NaN          F  0.60\n",
       "15  LNV2016        None           NaN          F -0.17\n",
       "16  LNZ2016        None           NaN          F -0.21\n",
       "17  SIH2017        None           NaN          F -2.71\n",
       "18  SIU2016        None           NaN          F  5.64\n",
       "19  SIZ2016        None           NaN          F -3.23"
      ]
     },
     "execution_count": 16,
     "metadata": {},
     "output_type": "execute_result"
    }
   ],
   "source": [
    "\n",
    "#Daily Hedge\n",
    "\n",
    "import ta.strategy_hedger as sh\n",
    "import shared.calendar_utilities as cu\n",
    "import ta.strategy as tas\n",
    "#sh.strategy_hedge_report()\n",
    "import ta.strategy as tas\n",
    "\n",
    "wuhu  = tas.get_net_position_4strategy_alias(alias='delta_jul16',as_of_date=cu.get_doubledate())\n",
    "wuhu"
   ]
  },
  {
   "cell_type": "code",
   "execution_count": 5,
   "metadata": {
    "collapsed": false
   },
   "outputs": [
    {
     "data": {
      "text/html": [
       "<div>\n",
       "<table border=\"1\" class=\"dataframe\">\n",
       "  <thead>\n",
       "    <tr style=\"text-align: right;\">\n",
       "      <th></th>\n",
       "      <th>underlying_ticker</th>\n",
       "      <th>hedge_price</th>\n",
       "      <th>option_delta</th>\n",
       "      <th>underlying_delta</th>\n",
       "      <th>total_delta</th>\n",
       "      <th>hedge</th>\n",
       "    </tr>\n",
       "  </thead>\n",
       "  <tbody>\n",
       "    <tr>\n",
       "      <th>0</th>\n",
       "      <td>CLX2016</td>\n",
       "      <td>50.680</td>\n",
       "      <td>1.82</td>\n",
       "      <td>-1.34</td>\n",
       "      <td>0.48</td>\n",
       "      <td>-0.48</td>\n",
       "    </tr>\n",
       "    <tr>\n",
       "      <th>1</th>\n",
       "      <td>CLZ2016</td>\n",
       "      <td>50.915</td>\n",
       "      <td>-2.21</td>\n",
       "      <td>1.78</td>\n",
       "      <td>-0.43</td>\n",
       "      <td>0.43</td>\n",
       "    </tr>\n",
       "  </tbody>\n",
       "</table>\n",
       "</div>"
      ],
      "text/plain": [
       "  underlying_ticker  hedge_price  option_delta  underlying_delta  total_delta  \\\n",
       "0           CLX2016       50.680          1.82             -1.34         0.48   \n",
       "1           CLZ2016       50.915         -2.21              1.78        -0.43   \n",
       "\n",
       "   hedge  \n",
       "0  -0.48  \n",
       "1   0.43  "
      ]
     },
     "execution_count": 5,
     "metadata": {},
     "output_type": "execute_result"
    }
   ],
   "source": [
    "import ta.strategy_hedger as sh\n",
    "sh.get_hedge_4strategy(alias='CLX16Z16VCS')"
   ]
  },
  {
   "cell_type": "code",
   "execution_count": 8,
   "metadata": {
    "collapsed": false
   },
   "outputs": [
    {
     "data": {
      "text/html": [
       "<div>\n",
       "<table border=\"1\" class=\"dataframe\">\n",
       "  <thead>\n",
       "    <tr style=\"text-align: right;\">\n",
       "      <th></th>\n",
       "      <th>ticker</th>\n",
       "      <th>total_oev</th>\n",
       "      <th>theta</th>\n",
       "    </tr>\n",
       "  </thead>\n",
       "  <tbody>\n",
       "    <tr>\n",
       "      <th>0</th>\n",
       "      <td>CLX2016</td>\n",
       "      <td>33.801526</td>\n",
       "      <td>-610.57693</td>\n",
       "    </tr>\n",
       "    <tr>\n",
       "      <th>1</th>\n",
       "      <td>CLZ2016</td>\n",
       "      <td>-34.000042</td>\n",
       "      <td>551.97351</td>\n",
       "    </tr>\n",
       "  </tbody>\n",
       "</table>\n",
       "</div>"
      ],
      "text/plain": [
       "    ticker  total_oev      theta\n",
       "0  CLX2016  33.801526 -610.57693\n",
       "1  CLZ2016 -34.000042  551.97351"
      ]
     },
     "execution_count": 8,
     "metadata": {},
     "output_type": "execute_result"
    }
   ],
   "source": [
    "import ta.strategy_greeks as sg\n",
    "import pandas as pd\n",
    "import get_price.get_options_price as gop\n",
    "output = sg.get_greeks_4strategy_4date(alias='CLX16Z16VCS',as_of_date=20160705)\n",
    "\n",
    "# SIU16Z16VCS\n",
    "output['ticker_portfolio']\n",
    "#output['strike_portfolio']\n",
    "# 2.6/ -5.2\n",
    "# 3/-6\n",
    "\n",
    "# silver portfolio might cause problems\n",
    "#output\n",
    "\n",
    "# -2.36-3.24  5.6 OEVs 2 straddles\n"
   ]
  },
  {
   "cell_type": "code",
   "execution_count": 4,
   "metadata": {
    "collapsed": false
   },
   "outputs": [
    {
     "name": "stdout",
     "output_type": "stream",
     "text": [
      "CLN2017U2017K2017N2017 is not empty ! \n"
     ]
    }
   ],
   "source": [
    "import ta.pnl as tapnl\n",
    "alias = 'HON2016Q2016Q2016U2016'\n",
    "tapnl.close_strategy(alias='CLN2017U2017K2017N2017')\n"
   ]
  },
  {
   "cell_type": "code",
   "execution_count": 26,
   "metadata": {
    "collapsed": false,
    "scrolled": true
   },
   "outputs": [
    {
     "data": {
      "text/html": [
       "<div>\n",
       "<table border=\"1\" class=\"dataframe\">\n",
       "  <thead>\n",
       "    <tr style=\"text-align: right;\">\n",
       "      <th></th>\n",
       "      <th>generalized_ticker</th>\n",
       "      <th>qty_x</th>\n",
       "      <th>qty_y</th>\n",
       "      <th>qty_diff</th>\n",
       "    </tr>\n",
       "  </thead>\n",
       "  <tbody>\n",
       "  </tbody>\n",
       "</table>\n",
       "</div>"
      ],
      "text/plain": [
       "Empty DataFrame\n",
       "Columns: [generalized_ticker, qty_x, qty_y, qty_diff]\n",
       "Index: []"
      ]
     },
     "execution_count": 26,
     "metadata": {},
     "output_type": "execute_result"
    }
   ],
   "source": [
    "import ta.abn_position_reconciler as pr\n",
    "pr.reconcile_position()"
   ]
  },
  {
   "cell_type": "code",
   "execution_count": 6,
   "metadata": {
    "collapsed": false
   },
   "outputs": [
    {
     "data": {
      "text/html": [
       "<div>\n",
       "<table border=\"1\" class=\"dataframe\">\n",
       "  <thead>\n",
       "    <tr style=\"text-align: right;\">\n",
       "      <th></th>\n",
       "      <th>ticker</th>\n",
       "      <th>total_oev</th>\n",
       "      <th>theta</th>\n",
       "    </tr>\n",
       "  </thead>\n",
       "  <tbody>\n",
       "    <tr>\n",
       "      <th>0</th>\n",
       "      <td>LCV2016</td>\n",
       "      <td>-19.988474</td>\n",
       "      <td>157.53088</td>\n",
       "    </tr>\n",
       "    <tr>\n",
       "      <th>1</th>\n",
       "      <td>LCZ2016</td>\n",
       "      <td>19.999996</td>\n",
       "      <td>-120.84700</td>\n",
       "    </tr>\n",
       "  </tbody>\n",
       "</table>\n",
       "</div>"
      ],
      "text/plain": [
       "    ticker  total_oev      theta\n",
       "0  LCV2016 -19.988474  157.53088\n",
       "1  LCZ2016  19.999996 -120.84700"
      ]
     },
     "execution_count": 6,
     "metadata": {},
     "output_type": "execute_result"
    }
   ],
   "source": [
    "import ta.strategy_greeks as sg\n",
    "greeks_out = sg.get_greeks_4strategy_4date(alias='LCZ16V16VCS',as_of_date=20160614)\n",
    "greeks_out['ticker_portfolio']"
   ]
  },
  {
   "cell_type": "code",
   "execution_count": null,
   "metadata": {
    "collapsed": true
   },
   "outputs": [],
   "source": [
    "import ta.strategy_followup as sf"
   ]
  },
  {
   "cell_type": "code",
   "execution_count": 5,
   "metadata": {
    "collapsed": false
   },
   "outputs": [],
   "source": [
    "import ta.strategy as ts\n",
    "ts.move_position_from_strategy_2_strategy(strategy_from='delta_june16',strategy_to='delta_jul16')\n",
    "\n"
   ]
  },
  {
   "cell_type": "code",
   "execution_count": 13,
   "metadata": {
    "collapsed": false
   },
   "outputs": [
    {
     "data": {
      "text/html": [
       "<div>\n",
       "<table border=\"1\" class=\"dataframe\">\n",
       "  <thead>\n",
       "    <tr style=\"text-align: right;\">\n",
       "      <th></th>\n",
       "      <th>ticker</th>\n",
       "      <th>option_type</th>\n",
       "      <th>strike_price</th>\n",
       "      <th>instrument</th>\n",
       "      <th>qty</th>\n",
       "    </tr>\n",
       "  </thead>\n",
       "  <tbody>\n",
       "    <tr>\n",
       "      <th>0</th>\n",
       "      <td>NGK2017</td>\n",
       "      <td>None</td>\n",
       "      <td>None</td>\n",
       "      <td>F</td>\n",
       "      <td>13</td>\n",
       "    </tr>\n",
       "    <tr>\n",
       "      <th>1</th>\n",
       "      <td>NGN2017</td>\n",
       "      <td>None</td>\n",
       "      <td>None</td>\n",
       "      <td>F</td>\n",
       "      <td>-26</td>\n",
       "    </tr>\n",
       "    <tr>\n",
       "      <th>2</th>\n",
       "      <td>NGU2017</td>\n",
       "      <td>None</td>\n",
       "      <td>None</td>\n",
       "      <td>F</td>\n",
       "      <td>13</td>\n",
       "    </tr>\n",
       "  </tbody>\n",
       "</table>\n",
       "</div>"
      ],
      "text/plain": [
       "    ticker option_type strike_price instrument  qty\n",
       "0  NGK2017        None         None          F   13\n",
       "1  NGN2017        None         None          F  -26\n",
       "2  NGU2017        None         None          F   13"
      ]
     },
     "execution_count": 13,
     "metadata": {},
     "output_type": "execute_result"
    }
   ],
   "source": [
    "import ta.strategy as ts\n",
    "import shared.calendar_utilities as cu\n",
    "wuhu = ts.get_net_position_4strategy_alias(alias='NGK2017N2017N2017U2017_2')\n",
    "wuhu"
   ]
  },
  {
   "cell_type": "code",
   "execution_count": 24,
   "metadata": {
    "collapsed": false,
    "scrolled": true
   },
   "outputs": [
    {
     "data": {
      "text/html": [
       "<div>\n",
       "<table border=\"1\" class=\"dataframe\">\n",
       "  <thead>\n",
       "    <tr style=\"text-align: right;\">\n",
       "      <th></th>\n",
       "      <th>ticker</th>\n",
       "      <th>option_type</th>\n",
       "      <th>strike_price</th>\n",
       "      <th>instrument</th>\n",
       "      <th>qty</th>\n",
       "    </tr>\n",
       "  </thead>\n",
       "  <tbody>\n",
       "    <tr>\n",
       "      <th>0</th>\n",
       "      <td>BF2017</td>\n",
       "      <td>None</td>\n",
       "      <td>NaN</td>\n",
       "      <td>F</td>\n",
       "      <td>6</td>\n",
       "    </tr>\n",
       "    <tr>\n",
       "      <th>1</th>\n",
       "      <td>BX2016</td>\n",
       "      <td>None</td>\n",
       "      <td>NaN</td>\n",
       "      <td>F</td>\n",
       "      <td>5</td>\n",
       "    </tr>\n",
       "    <tr>\n",
       "      <th>2</th>\n",
       "      <td>BZ2016</td>\n",
       "      <td>None</td>\n",
       "      <td>NaN</td>\n",
       "      <td>F</td>\n",
       "      <td>-11</td>\n",
       "    </tr>\n",
       "  </tbody>\n",
       "</table>\n",
       "</div>"
      ],
      "text/plain": [
       "   ticker option_type  strike_price instrument  qty\n",
       "0  BF2017        None           NaN          F    6\n",
       "1  BX2016        None           NaN          F    5\n",
       "2  BZ2016        None           NaN          F  -11"
      ]
     },
     "execution_count": 24,
     "metadata": {},
     "output_type": "execute_result"
    }
   ],
   "source": [
    "import shared.calendar_utilities as cu\n",
    "import ta.strategy as tas\n",
    "wuhu  = tas.get_net_position_4strategy_alias(alias='BX2016Z2016Z2016F2017_2',as_of_date=cu.get_doubledate())\n",
    "wuhu\n",
    "\n",
    "# buy back two futures after\n"
   ]
  },
  {
   "cell_type": "code",
   "execution_count": 12,
   "metadata": {
    "collapsed": false,
    "scrolled": true
   },
   "outputs": [
    {
     "data": {
      "text/plain": [
       "{'futures_pnl': -922.0000000000109,\n",
       " 'structure_pnl': 1100.0,\n",
       " 'structure_settle': 0.52500000000000002}"
      ]
     },
     "execution_count": 12,
     "metadata": {},
     "output_type": "execute_result"
    }
   ],
   "source": [
    "import ta.position_close_helper as pch\n",
    "pch.calc_intrday_pnl_from_prices(alias='LCZ16V16VCS',structure_price=0.8,LCV2016=106.575,LCZ2016=108)"
   ]
  },
  {
   "cell_type": "code",
   "execution_count": 6,
   "metadata": {
    "collapsed": false
   },
   "outputs": [
    {
     "data": {
      "text/plain": [
       "{'futures_pnl': 1365.0, 'structure_pnl': -1375.0, 'structure_settle': 14.125}"
      ]
     },
     "execution_count": 6,
     "metadata": {},
     "output_type": "execute_result"
    }
   ],
   "source": [
    "import ta.position_close_helper as pch\n",
    "pch.calc_intrday_pnl_from_prices(alias='WU16Z16VCS',structure_price=15.5,WU2016=436.5,WZ2016=459)"
   ]
  },
  {
   "cell_type": "code",
   "execution_count": null,
   "metadata": {
    "collapsed": true
   },
   "outputs": [],
   "source": []
  }
 ],
 "metadata": {
  "kernelspec": {
   "display_name": "Python 3",
   "language": "python",
   "name": "python3"
  },
  "language_info": {
   "codemirror_mode": {
    "name": "ipython",
    "version": 3
   },
   "file_extension": ".py",
   "mimetype": "text/x-python",
   "name": "python",
   "nbconvert_exporter": "python",
   "pygments_lexer": "ipython3",
   "version": "3.4.3"
  }
 },
 "nbformat": 4,
 "nbformat_minor": 0
}
