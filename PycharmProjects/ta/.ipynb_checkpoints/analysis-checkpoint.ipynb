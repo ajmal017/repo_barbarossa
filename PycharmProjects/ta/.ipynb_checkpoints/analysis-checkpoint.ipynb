{
 "cells": [
  {
   "cell_type": "code",
   "execution_count": 1,
   "metadata": {
    "collapsed": true
   },
   "outputs": [],
   "source": [
    "import contract_utilities.expiration as exp\n",
    "report_date = exp.doubledate_shift_bus_days()"
   ]
  },
  {
   "cell_type": "code",
   "execution_count": 43,
   "metadata": {
    "collapsed": false
   },
   "outputs": [],
   "source": [
    "\n",
    "\n",
    "import futures_charts.futures_curve as fc\n",
    "#fc.get_futures_curve_chart_4date(ticker_head='RB',settle_date=report_date,tr_dte_limit=600)\n",
    "\n",
    "\n",
    "#aggreation_method, contracts_back\n",
    "\n",
    "bf_signals_output = fc.get_butterfly_panel_plot(report_date=report_date,id=184)\n",
    "#bf_signals_output = fc.get_butterfly_scatter_plot(report_date=report_date,id=272)\n",
    "\n",
    "\n",
    "\n"
   ]
  },
  {
   "cell_type": "code",
   "execution_count": 3,
   "metadata": {
    "collapsed": false
   },
   "outputs": [
    {
     "name": "stdout",
     "output_type": "stream",
     "text": [
      "Q:2\n",
      "QF:20\n",
      "zscore1:-1.93641915908\n",
      "zscore2:-1.93641915908\n",
      "theo_pnl:76.7326022718\n"
     ]
    }
   ],
   "source": [
    "print('Q:' + str(bf_signals_output['q']))\n",
    "print('QF:' + str(bf_signals_output['qf']))\n",
    "print('zscore1:' + str(bf_signals_output['zscore1']))\n",
    "print('zscore2:' + str(bf_signals_output['zscore2']))\n",
    "print('theo_pnl:' + str(bf_signals_output['theo_pnl']))"
   ]
  },
  {
   "cell_type": "code",
   "execution_count": 16,
   "metadata": {
    "collapsed": false
   },
   "outputs": [
    {
     "name": "stdout",
     "output_type": "stream",
     "text": [
      "Q:5\n",
      "QF:77\n",
      "zscore1:-0.861997455331\n",
      "zscore2:-0.891425652308\n",
      "theo_pnl:48.1427329024\n"
     ]
    }
   ],
   "source": [
    "print('Q:' + str(bf_signals_output['q']))\n",
    "print('QF:' + str(bf_signals_output['qf']))\n",
    "print('zscore1:' + str(bf_signals_output['zscore1']))\n",
    "print('zscore2:' + str(bf_signals_output['zscore2']))\n",
    "print('theo_pnl:' + str(bf_signals_output['theo_pnl']))"
   ]
  },
  {
   "cell_type": "code",
   "execution_count": null,
   "metadata": {
    "collapsed": true
   },
   "outputs": [],
   "source": []
  }
 ],
 "metadata": {
  "kernelspec": {
   "display_name": "Python 3",
   "language": "python",
   "name": "python3"
  },
  "language_info": {
   "codemirror_mode": {
    "name": "ipython",
    "version": 3
   },
   "file_extension": ".py",
   "mimetype": "text/x-python",
   "name": "python",
   "nbconvert_exporter": "python",
   "pygments_lexer": "ipython3",
   "version": "3.4.3"
  }
 },
 "nbformat": 4,
 "nbformat_minor": 0
}
