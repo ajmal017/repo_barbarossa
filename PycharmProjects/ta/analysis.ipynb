{
 "cells": [
  {
   "cell_type": "code",
   "execution_count": 2,
   "metadata": {
    "collapsed": true
   },
   "outputs": [],
   "source": [
    "import contract_utilities.expiration as exp\n",
    "report_date = exp.doubledate_shift_bus_days()"
   ]
  },
  {
   "cell_type": "code",
   "execution_count": 2,
   "metadata": {
    "collapsed": false
   },
   "outputs": [],
   "source": [
    "\n",
    "\n",
    "import futures_charts.futures_curve as fc\n",
    "#fc.get_futures_curve_chart_4date(ticker_head='LN',settle_date=report_date,tr_dte_limit=600)\n",
    "\n",
    "\n",
    "#aggregation_method, contracts_back\n",
    "\n",
    "bf_signals_output = fc.get_butterfly_panel_plot(report_date=20151230,id=291)\n",
    "#bf_signals_output = fc.get_butterfly_scatter_plot(report_date=20151230,id=291)\n",
    "\n",
    "\n",
    "\n"
   ]
  },
  {
   "cell_type": "code",
   "execution_count": 3,
   "metadata": {
    "collapsed": false
   },
   "outputs": [
    {
     "name": "stdout",
     "output_type": "stream",
     "text": [
      "Q:12\n",
      "QF:23\n",
      "zscore1:-0.808378889989\n",
      "zscore2:0.791538526169\n",
      "zscore3:-1.1038995176\n",
      "zscore4:-0.0570955762683\n",
      "theo_pnl:255.25077805\n"
     ]
    }
   ],
   "source": [
    "print('Q:' + str(bf_signals_output['q']))\n",
    "print('QF:' + str(bf_signals_output['qf']))\n",
    "print('zscore1:' + str(bf_signals_output['zscore1']))\n",
    "print('zscore2:' + str(bf_signals_output['zscore2']))\n",
    "print('zscore3:' + str(bf_signals_output['zscore3']))\n",
    "print('zscore4:' + str(bf_signals_output['zscore4']))\n",
    "print('theo_pnl:' + str(bf_signals_output['theo_pnl']))"
   ]
  },
  {
   "cell_type": "code",
   "execution_count": 4,
   "metadata": {
    "collapsed": false
   },
   "outputs": [
    {
     "name": "stdout",
     "output_type": "stream",
     "text": [
      "Q:10\n",
      "QF:3\n",
      "zscore1:-1.67605472697\n",
      "zscore2:-2.58212265375\n",
      "theo_pnl:103.880611985\n"
     ]
    }
   ],
   "source": [
    "print('Q:' + str(bf_signals_output['q']))\n",
    "print('QF:' + str(bf_signals_output['qf']))\n",
    "print('zscore1:' + str(bf_signals_output['zscore1']))\n",
    "print('zscore2:' + str(bf_signals_output['zscore2']))\n",
    "print('theo_pnl:' + str(bf_signals_output['theo_pnl']))"
   ]
  },
  {
   "cell_type": "code",
   "execution_count": 50,
   "metadata": {
    "collapsed": false
   },
   "outputs": [
    {
     "data": {
      "text/plain": [
       "array([[-0.00467772,  0.03873896],\n",
       "       [-0.25729764, -0.19520576]])"
      ]
     },
     "execution_count": 50,
     "metadata": {},
     "output_type": "execute_result"
    }
   ],
   "source": [
    "aligned_data = bf_signals_output['aligned_output']['aligned_data']\n",
    "\n",
    "\n",
    "grouped = aligned_data.groupby(aligned_data['c1']['cont_indx'])\n",
    "\n",
    "aligned_data['shifted_residuals'] = grouped['residuals'].shift(-5)\n",
    "\n",
    "aligned_data['residual_change'] = aligned_data['shifted_residuals']-aligned_data['residuals']\n",
    "\n",
    "import statsmodels.api as sm\n",
    "\n",
    "results = sm.OLS(aligned_data['residual_change'].values, aligned_data['residuals'].values, hasconst=True).fit()\n",
    "results.params\n",
    "\n",
    "import numpy as np\n",
    "\n",
    "x=aligned_data['residuals'] \n",
    "y=aligned_data['residual_change'] \n",
    "\n",
    "nan_indx_x = np.isnan(x)\n",
    "nan_indx_y = np.isnan(y)\n",
    "\n",
    "clean_y = [y[i] for i in range(len(y)) if not nan_indx_x[i] and not nan_indx_y[i]]\n",
    "clean_x = [x[i] for i in range(len(y)) if not nan_indx_x[i] and not nan_indx_y[i]]\n",
    "\n",
    "\n",
    "results = sm.OLS(clean_y, sm.add_constant(clean_x), hasconst=True).fit()\n",
    "results.conf_int()"
   ]
  },
  {
   "cell_type": "code",
   "execution_count": 5,
   "metadata": {
    "collapsed": false
   },
   "outputs": [
    {
     "data": {
      "text/plain": [
       "True"
      ]
     },
     "execution_count": 5,
     "metadata": {},
     "output_type": "execute_result"
    }
   ],
   "source": [
    "bf_signals_output['mean_reversion_signif']\n"
   ]
  },
  {
   "cell_type": "code",
   "execution_count": null,
   "metadata": {
    "collapsed": true
   },
   "outputs": [],
   "source": [
    "np"
   ]
  }
 ],
 "metadata": {
  "kernelspec": {
   "display_name": "Python 3",
   "language": "python",
   "name": "python3"
  },
  "language_info": {
   "codemirror_mode": {
    "name": "ipython",
    "version": 3
   },
   "file_extension": ".py",
   "mimetype": "text/x-python",
   "name": "python",
   "nbconvert_exporter": "python",
   "pygments_lexer": "ipython3",
   "version": "3.4.3"
  }
 },
 "nbformat": 4,
 "nbformat_minor": 0
}
