{
 "cells": [
  {
   "cell_type": "code",
   "execution_count": 2,
   "metadata": {
    "collapsed": true
   },
   "outputs": [],
   "source": [
    "import contract_utilities.expiration as exp\n",
    "report_date = exp.doubledate_shift_bus_days()"
   ]
  },
  {
   "cell_type": "code",
   "execution_count": 14,
   "metadata": {
    "collapsed": false
   },
   "outputs": [],
   "source": [
    "\n",
    "\n",
    "import futures_charts.futures_curve as fc\n",
    "#fc.get_futures_curve_chart_4date(ticker_head='S',settle_date=report_date,tr_dte_limit=600)\n",
    "\n",
    "\n",
    "#aggreation_method, contracts_back\n",
    "\n",
    "bf_signals_output = fc.get_butterfly_panel_plot(report_date=report_date,id=293,contracts_back=5)\n",
    "#bf_signals_output = fc.get_butterfly_scatter_plot(report_date=report_date,id=293)\n",
    "\n",
    "\n",
    "\n"
   ]
  },
  {
   "cell_type": "code",
   "execution_count": 6,
   "metadata": {
    "collapsed": false
   },
   "outputs": [
    {
     "name": "stdout",
     "output_type": "stream",
     "text": [
      "Q:86\n",
      "QF:94\n",
      "zscore1:0.534753162544\n",
      "zscore2:1.47934841237\n",
      "theo_pnl:-34.3853894642\n"
     ]
    }
   ],
   "source": [
    "print('Q:' + str(bf_signals_output['q']))\n",
    "print('QF:' + str(bf_signals_output['qf']))\n",
    "print('zscore1:' + str(bf_signals_output['zscore1']))\n",
    "print('zscore2:' + str(bf_signals_output['zscore2']))\n",
    "print('theo_pnl:' + str(bf_signals_output['theo_pnl']))"
   ]
  },
  {
   "cell_type": "code",
   "execution_count": 4,
   "metadata": {
    "collapsed": false
   },
   "outputs": [
    {
     "name": "stdout",
     "output_type": "stream",
     "text": [
      "Q:73\n",
      "QF:94\n",
      "zscore1:1.27358998263\n",
      "zscore2:1.98712391653\n",
      "theo_pnl:-36.5521569077\n"
     ]
    }
   ],
   "source": [
    "print('Q:' + str(bf_signals_output['q']))\n",
    "print('QF:' + str(bf_signals_output['qf']))\n",
    "print('zscore1:' + str(bf_signals_output['zscore1']))\n",
    "print('zscore2:' + str(bf_signals_output['zscore2']))\n",
    "print('theo_pnl:' + str(bf_signals_output['theo_pnl']))"
   ]
  },
  {
   "cell_type": "code",
   "execution_count": null,
   "metadata": {
    "collapsed": true
   },
   "outputs": [],
   "source": []
  }
 ],
 "metadata": {
  "kernelspec": {
   "display_name": "Python 3",
   "language": "python",
   "name": "python3"
  },
  "language_info": {
   "codemirror_mode": {
    "name": "ipython",
    "version": 3
   },
   "file_extension": ".py",
   "mimetype": "text/x-python",
   "name": "python",
   "nbconvert_exporter": "python",
   "pygments_lexer": "ipython3",
   "version": "3.4.3"
  }
 },
 "nbformat": 4,
 "nbformat_minor": 0
}
