{
 "cells": [
  {
   "cell_type": "code",
   "execution_count": 2,
   "metadata": {
    "collapsed": true
   },
   "outputs": [],
   "source": [
    "import contract_utilities.expiration as exp\n",
    "report_date = exp.doubledate_shift_bus_days()"
   ]
  },
  {
   "cell_type": "code",
   "execution_count": 10,
   "metadata": {
    "collapsed": false
   },
   "outputs": [],
   "source": [
    "\n",
    "\n",
    "import futures_charts.futures_curve as fc\n",
    "#fc.get_futures_curve_chart_4date(ticker_head='B',settle_date=report_date,tr_dte_limit=500)\n",
    "\n",
    "\n",
    "bf_signals_output = fc.get_butterfly_panel_plot(report_date=report_date,id=88, aggregation_method=12, contracts_back=20)\n",
    "#aligned_data = fc.get_butterfly_scatter_plot(report_date=20160104,id=94, aggregation_method=12, contracts_back=20)\n",
    "\n",
    "\n",
    "\n"
   ]
  },
  {
   "cell_type": "code",
   "execution_count": 7,
   "metadata": {
    "collapsed": false
   },
   "outputs": [
    {
     "name": "stdout",
     "output_type": "stream",
     "text": [
      "Q:6\n",
      "QF:92\n",
      "zscore1:-0.849525253584\n",
      "zscore2:-0.758302545195\n"
     ]
    }
   ],
   "source": [
    "print('Q:' + str(bf_signals_output['q']))\n",
    "print('QF:' + str(bf_signals_output['qf']))\n",
    "print('zscore1:' + str(bf_signals_output['zscore1']))\n",
    "print('zscore2:' + str(bf_signals_output['zscore2']))"
   ]
  },
  {
   "cell_type": "code",
   "execution_count": 9,
   "metadata": {
    "collapsed": false
   },
   "outputs": [
    {
     "name": "stdout",
     "output_type": "stream",
     "text": [
      "Q:1\n",
      "QF:18\n",
      "zscore1:-2.55949734776\n",
      "zscore2:-2.65187278376\n"
     ]
    }
   ],
   "source": [
    "print('Q:' + str(bf_signals_output['q']))\n",
    "print('QF:' + str(bf_signals_output['qf']))\n",
    "print('zscore1:' + str(bf_signals_output['zscore1']))\n",
    "print('zscore2:' + str(bf_signals_output['zscore2']))"
   ]
  },
  {
   "cell_type": "code",
   "execution_count": null,
   "metadata": {
    "collapsed": true
   },
   "outputs": [],
   "source": []
  }
 ],
 "metadata": {
  "kernelspec": {
   "display_name": "Python 3",
   "language": "python",
   "name": "python3"
  },
  "language_info": {
   "codemirror_mode": {
    "name": "ipython",
    "version": 3
   },
   "file_extension": ".py",
   "mimetype": "text/x-python",
   "name": "python",
   "nbconvert_exporter": "python",
   "pygments_lexer": "ipython3",
   "version": "3.4.3"
  }
 },
 "nbformat": 4,
 "nbformat_minor": 0
}
