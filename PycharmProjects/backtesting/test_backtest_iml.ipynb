{
 "cells": [
  {
   "cell_type": "code",
   "execution_count": 33,
   "metadata": {},
   "outputs": [],
   "source": [
    "import get_price.quantgo_data as qd\n",
    "import get_price.get_futures_price as gfp\n",
    "\n",
    "ticker = 'LCJ2018'\n",
    "date_to = 20180131\n",
    "candle_frame = qd.get_continuous_bar_data(ticker=ticker, date_to=date_to, num_days_back=0)\n",
    "\n",
    "history_frame = gfp.get_futures_price_preloaded(ticker=ticker, settle_date_to=date_to)\n",
    "history_frame = history_frame.iloc[:-1]\n",
    "history_frame['ma9'] = history_frame['close_price'].rolling(window=9,center=False).mean()"
   ]
  },
  {
   "cell_type": "code",
   "execution_count": 25,
   "metadata": {},
   "outputs": [],
   "source": [
    "high_1 = history_frame['high_price'].iloc[-1]\n",
    "low_1 = history_frame['low_price'].iloc[-1]\n",
    "\n",
    "trend_direction = 0\n",
    "\n",
    "if history_frame['ma9'].iloc[-1]>history_frame['ma9'].iloc[-2]:\n",
    "    trend_direction = 1\n",
    "elif history_frame['ma9'].iloc[-1]<history_frame['ma9'].iloc[-2]:\n",
    "    trend_direction = -1\n",
    "    \n",
    "\n",
    "\n"
   ]
  },
  {
   "cell_type": "code",
   "execution_count": 26,
   "metadata": {},
   "outputs": [
    {
     "data": {
      "text/plain": [
       "-0.7760416666666572"
      ]
     },
     "execution_count": 26,
     "metadata": {},
     "output_type": "execute_result"
    }
   ],
   "source": [
    "candle_frame830 = candle_frame[candle_frame['hour_minute']==830]\n",
    "candle_frame900 = candle_frame[candle_frame['hour_minute']==900]\n",
    "candle_frame_close = candle_frame[candle_frame['hour_minute']==1255]\n",
    "candle_frame830['open'].iloc[0]\n",
    "\n",
    "candle_frame900['close'].iloc[0]\n",
    "\n",
    "target_return = candle_frame_close['close'].iloc[0]-candle_frame900['close'].iloc[0]\n",
    "\n",
    "bullish_breakout = 0\n",
    "bearish_breakout = 0\n",
    "\n",
    "if (candle_frame830['open'].iloc[0]<high_1) and (candle_frame900['close'].iloc[0]>high_1):\n",
    "    bullish_breakout = 1\n",
    "    \n",
    "if (candle_frame830['open'].iloc[0]>low_1) and (candle_frame900['close'].iloc[0]<low_1):\n",
    "    bearish_breakout = 1    \n",
    "\n",
    "target_return"
   ]
  },
  {
   "cell_type": "code",
   "execution_count": null,
   "metadata": {
    "collapsed": true
   },
   "outputs": [],
   "source": [
    "import contract_utilities.expiration as exp\n",
    "date_to = 20180131\n",
    "\n",
    "[exp.doubledate_shift_bus_days(double_date=date_to, shift_in_days=x) for x in reversed(range(1, num_days_back))]"
   ]
  },
  {
   "cell_type": "code",
   "execution_count": 8,
   "metadata": {},
   "outputs": [
    {
     "data": {
      "text/plain": [
       "[]"
      ]
     },
     "execution_count": 8,
     "metadata": {},
     "output_type": "execute_result"
    }
   ],
   "source": [
    "list(range(1, 0))"
   ]
  },
  {
   "cell_type": "code",
   "execution_count": null,
   "metadata": {
    "collapsed": true
   },
   "outputs": [],
   "source": []
  }
 ],
 "metadata": {
  "kernelspec": {
   "display_name": "Python 3",
   "language": "python",
   "name": "python3"
  },
  "language_info": {
   "codemirror_mode": {
    "name": "ipython",
    "version": 3
   },
   "file_extension": ".py",
   "mimetype": "text/x-python",
   "name": "python",
   "nbconvert_exporter": "python",
   "pygments_lexer": "ipython3",
   "version": "3.6.3"
  }
 },
 "nbformat": 4,
 "nbformat_minor": 2
}
