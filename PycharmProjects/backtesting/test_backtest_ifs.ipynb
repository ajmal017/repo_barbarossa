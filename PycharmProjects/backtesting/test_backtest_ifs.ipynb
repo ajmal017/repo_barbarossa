{
 "cells": [
  {
   "cell_type": "code",
   "execution_count": 1,
   "metadata": {
    "collapsed": true
   },
   "outputs": [],
   "source": [
    "import contract_utilities.expiration as exp\n",
    "import opportunity_constructs.intraday_future_spreads as ifs\n",
    "date_list = exp.get_bus_day_list(date_from=20160901, date_to=20161011)"
   ]
  },
  {
   "cell_type": "code",
   "execution_count": null,
   "metadata": {
    "collapsed": false
   },
   "outputs": [],
   "source": [
    "\n",
    "# date_from=20160701, date_to=20160908\n",
    "\n",
    "for i in range(len(date_list)):\n",
    "        print(date_list[i])\n",
    "        ifs.generate_ifs_sheet_4date(date_to=date_list[i])\n",
    "        \n",
    "# last 0719        "
   ]
  },
  {
   "cell_type": "code",
   "execution_count": 3,
   "metadata": {
    "collapsed": false
   },
   "outputs": [
    {
     "name": "stdout",
     "output_type": "stream",
     "text": [
      "20160808\n",
      "20160809\n",
      "20160810\n",
      "20160811\n",
      "20160812\n",
      "20160815\n",
      "20160816\n",
      "20160817\n",
      "20160818\n",
      "20160819\n",
      "20160822\n",
      "20160823\n",
      "20160824\n",
      "20160825\n",
      "20160826\n",
      "20160829\n",
      "20160830\n",
      "20160831\n",
      "20160901\n",
      "20160902\n",
      "20160906\n",
      "20160907\n",
      "20160908\n",
      "20160909\n",
      "20160912\n",
      "20160913\n",
      "20160914\n",
      "20160915\n",
      "20160916\n",
      "20160919\n",
      "20160920\n",
      "20160921\n",
      "20160922\n",
      "20160923\n",
      "20160926\n",
      "20160927\n",
      "20160928\n",
      "20160929\n",
      "20160930\n",
      "20161003\n",
      "20161004\n",
      "20161005\n",
      "20161006\n",
      "20161007\n",
      "20161010\n",
      "20161011\n"
     ]
    }
   ],
   "source": [
    "import backtesting.backtest_ifs as bifs\n",
    "backtest_output_list = []\n",
    "for i in range(len(date_list)):\n",
    "        print(date_list[i])\n",
    "        backtest_output_list.append(bifs.backtest_ifs_4date(report_date=date_list[i]))"
   ]
  },
  {
   "cell_type": "code",
   "execution_count": 4,
   "metadata": {
    "collapsed": false
   },
   "outputs": [],
   "source": [
    "import pandas as pd\n",
    "backtest_results = pd.concat(backtest_output_list)\n",
    "backtest_results['report_date']\n",
    "\n",
    "pnl1_list = []\n",
    "pnl2_list = []\n",
    "pnl5_list = []\n",
    "pnl6_list = []\n",
    "\n",
    "pnl1_wc_list = []\n",
    "pnl2_wc_list = []\n",
    "pnl5_wc_list = []\n",
    "pnl6_wc_list = []\n",
    "\n",
    "for i in range(len(date_list)):\n",
    "    daily_results = backtest_results[backtest_results['report_date'] == date_list[i]]\n",
    "    pnl1_list.append(daily_results['pnl1'].mean())\n",
    "    pnl2_list.append(daily_results['pnl2'].mean())\n",
    "    pnl5_list.append(daily_results['pnl5'].mean())\n",
    "    pnl6_list.append(daily_results['pnl6'].mean())\n",
    "    pnl1_wc_list.append(daily_results['pnl1_wc'].mean())\n",
    "    pnl2_wc_list.append(daily_results['pnl2_wc'].mean())\n",
    "    pnl5_wc_list.append(daily_results['pnl5_wc'].mean())\n",
    "    pnl6_wc_list.append(daily_results['pnl6_wc'].mean())\n",
    "\n",
    "portfolio_pnl = pd.DataFrame.from_items([('report_date', date_list), \n",
    "                         ('pnl1', pnl1_list),\n",
    "                         ('pnl2', pnl2_list),\n",
    "                         ('pnl5', pnl5_list),\n",
    "                         ('pnl6', pnl6_list),\n",
    "                         ('pnl1_wc', pnl1_wc_list),\n",
    "                         ('pnl2_wc', pnl2_wc_list),\n",
    "                         ('pnl5_wc', pnl5_wc_list),\n",
    "                         ('pnl6_wc', pnl6_wc_list)])    "
   ]
  },
  {
   "cell_type": "code",
   "execution_count": 30,
   "metadata": {
    "collapsed": false
   },
   "outputs": [
    {
     "name": "stdout",
     "output_type": "stream",
     "text": [
      "W_KW\n",
      "682.5698255017234\n",
      "5.245508340271369\n"
     ]
    }
   ],
   "source": [
    "import math as m\n",
    "unique_spread_description_list = backtest_results['spread_description'].unique()\n",
    "\n",
    "i= 5\n",
    "selected_results = backtest_results[backtest_results['spread_description']==unique_spread_description_list[i]]\n",
    "print(unique_spread_description_list[i])\n",
    "print(selected_results['pnl6_wc'].mean())\n",
    "print(m.sqrt(252)*selected_results['pnl6_wc'].mean()/selected_results['pnl6_wc'].std())"
   ]
  },
  {
   "cell_type": "code",
   "execution_count": 5,
   "metadata": {
    "collapsed": false
   },
   "outputs": [
    {
     "ename": "NameError",
     "evalue": "name 'selected_results' is not defined",
     "output_type": "error",
     "traceback": [
      "\u001b[1;31m---------------------------------------------------------------------------\u001b[0m",
      "\u001b[1;31mNameError\u001b[0m                                 Traceback (most recent call last)",
      "\u001b[1;32m<ipython-input-5-66ea0447cd79>\u001b[0m in \u001b[0;36m<module>\u001b[1;34m()\u001b[0m\n\u001b[0;32m      1\u001b[0m \u001b[1;32mimport\u001b[0m \u001b[0mmatplotlib\u001b[0m\u001b[1;33m.\u001b[0m\u001b[0mpyplot\u001b[0m \u001b[1;32mas\u001b[0m \u001b[0mplt\u001b[0m\u001b[1;33m\u001b[0m\u001b[0m\n\u001b[1;32m----> 2\u001b[1;33m plt.plot(range(len(selected_results.index)),selected_results['pnl1'].cumsum(),\n\u001b[0m\u001b[0;32m      3\u001b[0m          range(len(selected_results.index)),selected_results['pnl1_wc'].cumsum())\n\u001b[0;32m      4\u001b[0m \u001b[0mplt\u001b[0m\u001b[1;33m.\u001b[0m\u001b[0mgrid\u001b[0m\u001b[1;33m(\u001b[0m\u001b[1;33m)\u001b[0m\u001b[1;33m\u001b[0m\u001b[0m\n\u001b[0;32m      5\u001b[0m \u001b[0mplt\u001b[0m\u001b[1;33m.\u001b[0m\u001b[0mlegend\u001b[0m\u001b[1;33m(\u001b[0m\u001b[1;33m[\u001b[0m\u001b[1;34m'pnl6'\u001b[0m\u001b[1;33m,\u001b[0m\u001b[1;34m'pnl6_wc'\u001b[0m\u001b[1;33m]\u001b[0m\u001b[1;33m,\u001b[0m\u001b[0mframeon\u001b[0m\u001b[1;33m=\u001b[0m\u001b[1;32mFalse\u001b[0m\u001b[1;33m)\u001b[0m\u001b[1;33m\u001b[0m\u001b[0m\n",
      "\u001b[1;31mNameError\u001b[0m: name 'selected_results' is not defined"
     ]
    }
   ],
   "source": [
    "import matplotlib.pyplot as plt\n",
    "plt.plot(range(len(selected_results.index)),selected_results['pnl1'].cumsum(),\n",
    "         range(len(selected_results.index)),selected_results['pnl1_wc'].cumsum())\n",
    "plt.grid()         \n",
    "plt.legend(['pnl6','pnl6_wc'],frameon=False)         \n",
    "plt.show()"
   ]
  },
  {
   "cell_type": "code",
   "execution_count": 25,
   "metadata": {
    "collapsed": false
   },
   "outputs": [],
   "source": [
    "import signals.intraday_futures_signals as ifs\n",
    "import datetime as dt\n",
    "import shared.calendar_utilities as cu\n",
    "\n",
    "ticker_list = ['SX2016','BOZ2016','SMZ2016']\n",
    "ticker_list = ['CLU2016','BU2016']\n",
    "ticker_list = ['CU2016','WU2016']\n",
    "ticker_list = ['WU2016','KWU2016']\n",
    "ticker_list = ['RBQ2016','CLQ2016']\n",
    "ticker_list = ['HOQ2016','CLQ2016']\n",
    "report_date = 20160711\n",
    "forward_date = [x for x in date_list if x>report_date][1]\n",
    "\n",
    "signals_output = ifs.get_intraday_spread_signals(ticker_list=ticker_list,date_to=forward_date,num_days_back_4intraday=3)\n",
    "intraday_data = signals_output['intraday_data']\n",
    "\n",
    "\n",
    "\n",
    "start_hour = dt.time(9, 0, 0, 0)\n",
    "end_hour = dt.time(12, 55, 0, 0)\n",
    "\n",
    "selection_indx = [x for x in range(len(intraday_data.index)) if\n",
    "                          (intraday_data.index[x].to_datetime().time() < end_hour)\n",
    "                          and(intraday_data.index[x].to_datetime().time() >= start_hour)]\n",
    "\n",
    "intraday_data = intraday_data.iloc[selection_indx]\n",
    "\n",
    "intraday_data_yesterday = intraday_data[intraday_data['settle_date'] == cu.convert_doubledate_2datetime(report_date).date()]\n",
    "\n",
    "\n",
    "intraday_mean1 = intraday_data_yesterday['spread'].mean()\n",
    "intraday_std1 = intraday_data_yesterday['spread'].std()\n",
    "\n",
    "import matplotlib.pyplot as plt\n",
    "plt.plot(range(len(intraday_data.index)),intraday_data['spread'])\n",
    "plt.axhline(intraday_mean1+intraday_std1,color='r')\n",
    "plt.axhline(intraday_mean1-intraday_std1,color='r')\n",
    "#plt.plot(range(len(intraday_data.index)),intraday_data['c1']['mid_p'])\n",
    "#plt.plot(range(len(intraday_data.index)),intraday_data['c2']['mid_p'])\n",
    "\n",
    "plt.grid()         \n",
    "         \n",
    "plt.show()\n",
    "\n",
    "#intraday_data[intraday_data['spread']<-3]\n"
   ]
  },
  {
   "cell_type": "code",
   "execution_count": 6,
   "metadata": {
    "collapsed": false
   },
   "outputs": [],
   "source": [
    "import matplotlib.pyplot as plt\n",
    "plt.plot(range(len(portfolio_pnl.index)),portfolio_pnl['pnl1'].cumsum(),\n",
    "         range(len(portfolio_pnl.index)),portfolio_pnl['pnl2'].cumsum(),\n",
    "         range(len(portfolio_pnl.index)),portfolio_pnl['pnl5'].cumsum(),\n",
    "         range(len(portfolio_pnl.index)),portfolio_pnl['pnl6'].cumsum(),\n",
    "         range(len(portfolio_pnl.index)),portfolio_pnl['pnl1_wc'].cumsum(),\n",
    "         range(len(portfolio_pnl.index)),portfolio_pnl['pnl2_wc'].cumsum(),\n",
    "         range(len(portfolio_pnl.index)),portfolio_pnl['pnl5_wc'].cumsum(),\n",
    "         range(len(portfolio_pnl.index)),portfolio_pnl['pnl6_wc'].cumsum())\n",
    "plt.grid()         \n",
    "plt.legend(['pnl1','pnl2','pnl5','pnl6','pnl1_wc','pnl2_wc','pnl5_wc','pnl6_wc'],frameon=False)         \n",
    "plt.show()\n"
   ]
  },
  {
   "cell_type": "code",
   "execution_count": 7,
   "metadata": {
    "collapsed": false
   },
   "outputs": [
    {
     "name": "stdout",
     "output_type": "stream",
     "text": [
      "8.499294412338827\n",
      "7.992983746443655\n",
      "5.92896345741934\n",
      "8.848171866251363\n",
      "6.390607341145249\n",
      "5.941697867611258\n",
      "4.353418570196607\n",
      "6.651298463361353\n"
     ]
    }
   ],
   "source": [
    "import math as m\n",
    "print(m.sqrt(252)*portfolio_pnl['pnl1'].mean()/portfolio_pnl['pnl1'].std())\n",
    "print(m.sqrt(252)*portfolio_pnl['pnl2'].mean()/portfolio_pnl['pnl2'].std())\n",
    "print(m.sqrt(252)*portfolio_pnl['pnl5'].mean()/portfolio_pnl['pnl5'].std())\n",
    "print(m.sqrt(252)*portfolio_pnl['pnl6'].mean()/portfolio_pnl['pnl6'].std())\n",
    "\n",
    "print(m.sqrt(252)*portfolio_pnl['pnl1_wc'].mean()/portfolio_pnl['pnl1_wc'].std())\n",
    "print(m.sqrt(252)*portfolio_pnl['pnl2_wc'].mean()/portfolio_pnl['pnl2_wc'].std())\n",
    "print(m.sqrt(252)*portfolio_pnl['pnl5_wc'].mean()/portfolio_pnl['pnl5_wc'].std())\n",
    "print(m.sqrt(252)*portfolio_pnl['pnl6_wc'].mean()/portfolio_pnl['pnl6_wc'].std())"
   ]
  },
  {
   "cell_type": "code",
   "execution_count": 7,
   "metadata": {
    "collapsed": false
   },
   "outputs": [
    {
     "data": {
      "text/plain": [
       "0        0.000000\n",
       "1      163.091158\n",
       "2     2237.962109\n",
       "3     1809.832457\n",
       "4    -1699.986213\n",
       "5     2833.966390\n",
       "6     1252.750953\n",
       "7    -1699.619044\n",
       "8      331.585265\n",
       "9      125.414446\n",
       "10   -1050.487193\n",
       "11     612.756834\n",
       "12     419.074468\n",
       "13     143.674685\n",
       "14    1346.557254\n",
       "15    -135.700653\n",
       "16      90.315362\n",
       "17     422.942793\n",
       "18     547.405439\n",
       "19     435.883016\n",
       "20     137.512958\n",
       "21    1887.172584\n",
       "22    -237.240214\n",
       "23    -113.924475\n",
       "24     556.071863\n",
       "25    1347.241473\n",
       "26     182.327360\n",
       "27     -17.817802\n",
       "28     940.953785\n",
       "29     494.338156\n",
       "30     321.604861\n",
       "31     794.815086\n",
       "32    -327.797200\n",
       "33     874.137788\n",
       "34    -872.953162\n",
       "35   -1315.379770\n",
       "36     297.597431\n",
       "37     714.188745\n",
       "38    -192.129994\n",
       "39     256.448172\n",
       "40     866.154367\n",
       "41   -1066.660872\n",
       "42    -353.322789\n",
       "43      59.942037\n",
       "44     437.934506\n",
       "45     186.725857\n",
       "46     801.520805\n",
       "47     714.361417\n",
       "48    -452.596903\n",
       "49     959.948404\n",
       "50     329.935207\n",
       "51   -1136.428664\n",
       "52    1257.901508\n",
       "53    -465.397922\n",
       "54     565.617993\n",
       "55     160.215719\n",
       "56     184.059339\n",
       "57     293.541145\n",
       "58     454.653565\n",
       "Name: pnl1_wc, dtype: float64"
      ]
     },
     "execution_count": 7,
     "metadata": {},
     "output_type": "execute_result"
    }
   ],
   "source": [
    "portfolio_pnl['pnl1_wc']"
   ]
  },
  {
   "cell_type": "code",
   "execution_count": null,
   "metadata": {
    "collapsed": true
   },
   "outputs": [],
   "source": []
  }
 ],
 "metadata": {
  "kernelspec": {
   "display_name": "Python 3",
   "language": "python",
   "name": "python3"
  },
  "language_info": {
   "codemirror_mode": {
    "name": "ipython",
    "version": 3
   },
   "file_extension": ".py",
   "mimetype": "text/x-python",
   "name": "python",
   "nbconvert_exporter": "python",
   "pygments_lexer": "ipython3",
   "version": "3.4.3"
  }
 },
 "nbformat": 4,
 "nbformat_minor": 0
}
