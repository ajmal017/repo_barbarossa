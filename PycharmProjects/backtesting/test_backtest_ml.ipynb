{
 "cells": [
  {
   "cell_type": "code",
   "execution_count": 36,
   "metadata": {
    "collapsed": false
   },
   "outputs": [],
   "source": [
    "import get_price.get_futures_price as gfp\n",
    "import pandas as pd\n",
    "data_out = gfp.get_futures_price_preloaded(ticker_head='EC')\n",
    "\n",
    "data_out.rename(columns={'open_price': 'open', 'high_price': 'high', 'low_price': 'low', 'close_price': 'close'}, inplace=True)\n",
    "\n",
    "\n",
    "contract_data = data_out[data_out['cont_indx']==201503]"
   ]
  },
  {
   "cell_type": "code",
   "execution_count": 19,
   "metadata": {
    "collapsed": false
   },
   "outputs": [
    {
     "data": {
      "text/plain": [
       "Index(['settle_date', 'ticker', 'ticker_head', 'ticker_month', 'ticker_year',\n",
       "       'cal_dte', 'tr_dte', 'open', 'high', 'low', 'close', 'volume',\n",
       "       'cont_indx', 'change1', 'change1_instant', 'high1_instant',\n",
       "       'low1_instant', 'change2', 'change5', 'change10', 'change20',\n",
       "       'change_5', 'change_1'],\n",
       "      dtype='object')"
      ]
     },
     "execution_count": 19,
     "metadata": {},
     "output_type": "execute_result"
    }
   ],
   "source": [
    "contract_data.columns"
   ]
  },
  {
   "cell_type": "code",
   "execution_count": 21,
   "metadata": {
    "collapsed": false
   },
   "outputs": [],
   "source": [
    "import pandas as pd\n",
    "\n",
    "momentum_window_list = [3, 6, 9, 12]\n",
    "\n",
    "for i in range(len(momentum_window_list)):\n",
    "    contract_data['momentum_' + str(momentum_window_list[i])] = \\\n",
    "    100*contract_data['close']/contract_data['close'].shift(momentum_window_list[i])\n"
   ]
  },
  {
   "cell_type": "code",
   "execution_count": 26,
   "metadata": {
    "collapsed": false
   },
   "outputs": [],
   "source": [
    "import signals.technical_indicators as ti\n",
    "\n",
    "# stochastic\n",
    "\n",
    "stochastic_window_list = [3, 6, 9, 12]\n",
    "\n",
    "for i in range(len(stochastic_window_list)):\n",
    "\n",
    "    contract_data = ti.stochastic(data_frame_input = contract_data,p1 = stochastic_window_list[i],p2=3, p3=3)\n",
    "    contract_data['stochastic_'+ str(stochastic_window_list[i])] = contract_data['D1']"
   ]
  },
  {
   "cell_type": "code",
   "execution_count": 33,
   "metadata": {
    "collapsed": false
   },
   "outputs": [],
   "source": [
    "# williams accumulation distribution line\n",
    "\n",
    "contract_data['close_1'] = contract_data['close'].shift(1)\n",
    "\n",
    "\n",
    "\n",
    "contract_data['trh'] = contract_data[['close_1', 'high']].max(axis=1)\n",
    "contract_data['trl'] = contract_data[['close_1', 'low']].min(axis=1)\n",
    "\n",
    "contract_data['price_move'] = 0\n",
    "\n",
    "up_day = contract_data['close']>contract_data['close_1']\n",
    "contract_data['price_move'].loc[up_day] = contract_data['close'].loc[up_day]-contract_data['trl'].loc[up_day]\n",
    "\n",
    "down_day = contract_data['close']<contract_data['close_1']\n",
    "contract_data['price_move'].loc[down_day] = contract_data['close'].loc[down_day]-contract_data['trh'].loc[down_day]\n",
    "contract_data['AD'] = contract_data['price_move']*contract_data['volume']\n",
    "contract_data['Williams_AD'] = pd.rolling_sum(contract_data['AD'].cumsum(),15)"
   ]
  },
  {
   "cell_type": "code",
   "execution_count": 37,
   "metadata": {
    "collapsed": true
   },
   "outputs": [],
   "source": [
    "# accumulation distribution oscillator\n",
    "\n",
    "contract_data['mfm'] = (2*contract_data['close']-contract_data['low']-contract_data['high'])/(contract_data['high']-contract_data['low'])\n",
    "contract_data['mfv'] = \n"
   ]
  },
  {
   "cell_type": "code",
   "execution_count": null,
   "metadata": {
    "collapsed": true
   },
   "outputs": [],
   "source": []
  }
 ],
 "metadata": {
  "kernelspec": {
   "display_name": "Python 3",
   "language": "python",
   "name": "python3"
  },
  "language_info": {
   "codemirror_mode": {
    "name": "ipython",
    "version": 3
   },
   "file_extension": ".py",
   "mimetype": "text/x-python",
   "name": "python",
   "nbconvert_exporter": "python",
   "pygments_lexer": "ipython3",
   "version": "3.4.3"
  }
 },
 "nbformat": 4,
 "nbformat_minor": 0
}
