{
 "cells": [
  {
   "cell_type": "code",
   "execution_count": 2,
   "metadata": {
    "collapsed": false
   },
   "outputs": [
    {
     "data": {
      "text/plain": [
       "['LNG2017', 'LNJ2017']"
      ]
     },
     "execution_count": 2,
     "metadata": {},
     "output_type": "execute_result"
    }
   ],
   "source": [
    "import get_price.get_futures_price as gfp\n",
    "data_out = gfp.get_futures_price_preloaded(ticker_head='LN',settle_date=20161216)\n",
    "data_out = data_out[data_out['tr_dte']>30]\n",
    "data_out.sort(['cont_indx'],inplace=True)\n",
    "\n",
    "ticker_list = [data_out['ticker'].iloc[0],data_out['ticker'].iloc[1]]\n",
    "ticker_list"
   ]
  },
  {
   "cell_type": "code",
   "execution_count": 22,
   "metadata": {
    "collapsed": false
   },
   "outputs": [],
   "source": [
    "import opportunity_constructs.utilities as opu\n",
    "aligned_output = opu.get_aligned_futures_data(contract_list=ticker_list,aggregation_method=12,contracts_back=10,\n",
    "                                              date_to=20161216,\n",
    "                                              tr_days_half_band_width_selected=100,\n",
    "                                              get_uniqe_data = False)\n",
    "\n",
    "aligned_data = aligned_output['aligned_data']\n",
    "\n",
    "aligned_data['spread_price'] = aligned_data['c1']['close_price']-aligned_data['c2']['close_price']\n",
    "aligned_data['spread_change5'] = (aligned_data['c1']['change5']-aligned_data['c2']['change5'])/aligned_data['c1']['close_price']\n",
    "\n",
    "\n",
    "\n",
    "import matplotlib.pyplot as plt\n",
    "plt.plot(aligned_data['c1']['cont_indx'])\n",
    "plt.grid()         \n",
    "         \n",
    "plt.show()"
   ]
  },
  {
   "cell_type": "code",
   "execution_count": 26,
   "metadata": {
    "collapsed": false
   },
   "outputs": [],
   "source": [
    "aligned_data['cont_indx'] = aligned_data['c1']['cont_indx']\n",
    "grouped = aligned_data.groupby('cont_indx')\n",
    "aligned_data['ma45'] = grouped['spread_price'].apply(pd.rolling_mean,45)\n",
    "aligned_data['ma15'] = grouped['spread_price'].apply(pd.rolling_mean,15)\n",
    "aligned_data['ppo'] = (aligned_data['ma15']-aligned_data['ma45'])/aligned_data['c1']['close_price']\n",
    "\n",
    "import matplotlib.pyplot as plt\n",
    "plt.plot(range(len(aligned_data.index)),aligned_data['spread_price'],\n",
    "         range(len(aligned_data.index)),aligned_data['ma45'],\n",
    "         range(len(aligned_data.index)),aligned_data['ma15'])\n",
    "plt.grid()         \n",
    "         \n",
    "plt.show()"
   ]
  },
  {
   "cell_type": "code",
   "execution_count": null,
   "metadata": {
    "collapsed": true
   },
   "outputs": [],
   "source": []
  },
  {
   "cell_type": "code",
   "execution_count": 107,
   "metadata": {
    "collapsed": false
   },
   "outputs": [],
   "source": [
    "selected_data = aligned_data[aligned_data['ma15']<aligned_data['ma45']]\n",
    "\n",
    "\n",
    "import matplotlib.pyplot as plt\n",
    "plt.plot(selected_data['spread_change5'].cumsum())\n",
    "plt.grid()         \n",
    "         \n",
    "plt.show()"
   ]
  },
  {
   "cell_type": "code",
   "execution_count": 30,
   "metadata": {
    "collapsed": false
   },
   "outputs": [],
   "source": [
    "aligned_data = aligned_data[aligned_data['ppo'].notnull()]\n",
    "aligned_data = aligned_data[aligned_data['spread_change5'].notnull()]"
   ]
  },
  {
   "cell_type": "code",
   "execution_count": 99,
   "metadata": {
    "collapsed": false
   },
   "outputs": [
    {
     "data": {
      "text/plain": [
       "SVC(C=100.0, cache_size=200, class_weight=None, coef0=0.0, degree=3,\n",
       "  gamma=0.001, kernel='linear', max_iter=-1, probability=False,\n",
       "  random_state=None, shrinking=True, tol=0.001, verbose=False)"
      ]
     },
     "execution_count": 99,
     "metadata": {},
     "output_type": "execute_result"
    }
   ],
   "source": [
    "from sklearn import svm\n",
    "import numpy as np\n",
    "model = svm.SVC(kernel='linear', C=100., gamma=0.001) \n",
    "\n",
    "model.fit(np.array(aligned_data['ppo'].values).reshape((852,1)), np.array(400*[40]+452*[30]))\n",
    "\n"
   ]
  },
  {
   "cell_type": "code",
   "execution_count": null,
   "metadata": {
    "collapsed": true
   },
   "outputs": [],
   "source": []
  },
  {
   "cell_type": "code",
   "execution_count": 104,
   "metadata": {
    "collapsed": false
   },
   "outputs": [
    {
     "data": {
      "text/plain": [
       "array([30])"
      ]
     },
     "execution_count": 104,
     "metadata": {},
     "output_type": "execute_result"
    }
   ],
   "source": [
    "model.predict(aligned_data['ppo'].values[370])"
   ]
  },
  {
   "cell_type": "code",
   "execution_count": 85,
   "metadata": {
    "collapsed": false
   },
   "outputs": [
    {
     "data": {
      "text/plain": [
       "SVC(C=100.0, cache_size=200, class_weight=None, coef0=0.0, degree=3,\n",
       "  gamma=0.001, kernel='rbf', max_iter=-1, probability=False,\n",
       "  random_state=None, shrinking=True, tol=0.001, verbose=False)"
      ]
     },
     "execution_count": 85,
     "metadata": {},
     "output_type": "execute_result"
    }
   ],
   "source": [
    "digits = datasets.load_digits()\n",
    "clf = svm.SVC(gamma=0.001, C=100.)\n",
    "clf.fit(digits.data[:-1], digits.target[:-1])  "
   ]
  },
  {
   "cell_type": "code",
   "execution_count": 97,
   "metadata": {
    "collapsed": false
   },
   "outputs": [
    {
     "data": {
      "text/plain": [
       "array([0, 1, 2, ..., 0, 8, 9])"
      ]
     },
     "execution_count": 97,
     "metadata": {},
     "output_type": "execute_result"
    }
   ],
   "source": [
    "digits.target[:-1]"
   ]
  },
  {
   "cell_type": "code",
   "execution_count": 87,
   "metadata": {
    "collapsed": false
   },
   "outputs": [
    {
     "data": {
      "text/plain": [
       "array([1, 2, 3, ..., 8, 9, 8])"
      ]
     },
     "execution_count": 87,
     "metadata": {},
     "output_type": "execute_result"
    }
   ],
   "source": [
    "clf.predict(digits.data[1:])"
   ]
  },
  {
   "cell_type": "code",
   "execution_count": null,
   "metadata": {
    "collapsed": true
   },
   "outputs": [],
   "source": []
  }
 ],
 "metadata": {
  "kernelspec": {
   "display_name": "Python 3",
   "language": "python",
   "name": "python3"
  },
  "language_info": {
   "codemirror_mode": {
    "name": "ipython",
    "version": 3
   },
   "file_extension": ".py",
   "mimetype": "text/x-python",
   "name": "python",
   "nbconvert_exporter": "python",
   "pygments_lexer": "ipython3",
   "version": "3.4.3"
  }
 },
 "nbformat": 4,
 "nbformat_minor": 0
}
