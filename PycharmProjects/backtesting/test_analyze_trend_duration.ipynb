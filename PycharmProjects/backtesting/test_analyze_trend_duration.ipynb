{
 "cells": [
  {
   "cell_type": "code",
   "execution_count": 1,
   "metadata": {},
   "outputs": [
    {
     "data": {
      "text/plain": [
       "[20180131,\n",
       " 20180103,\n",
       " 20171206,\n",
       " 20171108,\n",
       " 20171011,\n",
       " 20170913,\n",
       " 20170816,\n",
       " 20170719,\n",
       " 20170621,\n",
       " 20170524,\n",
       " 20170426,\n",
       " 20170329,\n",
       " 20170301,\n",
       " 20170201,\n",
       " 20170104,\n",
       " 20161207,\n",
       " 20161109,\n",
       " 20161012,\n",
       " 20160914,\n",
       " 20160817,\n",
       " 20160720,\n",
       " 20160622,\n",
       " 20160525,\n",
       " 20160427,\n",
       " 20160330,\n",
       " 20160302,\n",
       " 20160203,\n",
       " 20160106,\n",
       " 20151209,\n",
       " 20151111,\n",
       " 20151014,\n",
       " 20150916,\n",
       " 20150819,\n",
       " 20150722,\n",
       " 20150624,\n",
       " 20150527,\n",
       " 20150429,\n",
       " 20150401,\n",
       " 20150304,\n",
       " 20150204,\n",
       " 20150107,\n",
       " 20141210,\n",
       " 20141112,\n",
       " 20141015,\n",
       " 20140917,\n",
       " 20140820,\n",
       " 20140723,\n",
       " 20140625,\n",
       " 20140528,\n",
       " 20140430,\n",
       " 20140402,\n",
       " 20140305,\n",
       " 20140205]"
      ]
     },
     "execution_count": 1,
     "metadata": {},
     "output_type": "execute_result"
    }
   ],
   "source": [
    "import backtesting.utilities as bu\n",
    "backtest_dates_out = bu.get_backtesting_dates(date_to=20180131,years_back=4)\n",
    "double_dates = backtest_dates_out['double_dates']\n",
    "backtesting_dates = double_dates[0::4]\n",
    "backtesting_dates.reverse()\n",
    "backtesting_dates"
   ]
  },
  {
   "cell_type": "code",
   "execution_count": null,
   "metadata": {},
   "outputs": [
    {
     "name": "stderr",
     "output_type": "stream",
     "text": [
      "C:\\ProgramData\\Anaconda3\\lib\\site-packages\\h5py\\__init__.py:34: FutureWarning: Conversion of the second argument of issubdtype from `float` to `np.floating` is deprecated. In future, it will be treated as `np.float64 == np.dtype(float).type`.\n",
      "  from ._conv import register_converters as _register_converters\n"
     ]
    },
    {
     "name": "stdout",
     "output_type": "stream",
     "text": [
      "20180131\n",
      "20180103\n"
     ]
    }
   ],
   "source": [
    "import opportunity_constructs.intraday_futures_experimental as ife\n",
    "import boto3 as bt3\n",
    "import get_price.quantgo_data as qgd\n",
    "boto_client = bt3.client('s3',aws_access_key_id=qgd.aws_access_key_id,aws_secret_access_key=qgd.aws_secret_access_key)\n",
    "\n",
    "for i in range(len(backtesting_dates)):\n",
    "    print(backtesting_dates[i])\n",
    "    output = ife.get_result_sheet_4date(date_to=backtesting_dates[i],boto_client=boto_client)\n",
    "\n"
   ]
  },
  {
   "cell_type": "code",
   "execution_count": 8,
   "metadata": {},
   "outputs": [
    {
     "data": {
      "image/png": "[encoded data removed]",
      "text/plain": [
       "<matplotlib.figure.Figure at 0x104f62b0>"
      ]
     },
     "metadata": {},
     "output_type": "display_data"
    }
   ],
   "source": [
    "import matplotlib.pyplot as plt\n",
    "\n",
    "\n",
    "plt.plot(range(len(data_out.index)),data_out['close'],\n",
    "         range(len(data_out.index)),data_out['ema10'],\n",
    "         range(len(data_out.index)),data_out['ema30'])\n",
    "plt.grid()         \n",
    "         \n",
    "plt.show()"
   ]
  },
  {
   "cell_type": "code",
   "execution_count": 2,
   "metadata": {},
   "outputs": [
    {
     "data": {
      "text/plain": [
       "{'duration_25': 5.0,\n",
       " 'duration_75': 35.0,\n",
       " 'mean_duration': 26.73821989528796,\n",
       " 'num_crossovers': 192}"
      ]
     },
     "execution_count": 2,
     "metadata": {},
     "output_type": "execute_result"
    }
   ],
   "source": [
    "import signals.intraday_futures_experimental as ife\n",
    "summary_stats = ife.get_crossover_duration(ticker='CLH2018',date_to=20180108)\n",
    "summary_stats"
   ]
  },
  {
   "cell_type": "code",
   "execution_count": 6,
   "metadata": {},
   "outputs": [
    {
     "data": {
      "text/plain": [
       "5.0"
      ]
     },
     "execution_count": 6,
     "metadata": {},
     "output_type": "execute_result"
    }
   ],
   "source": [
    "quantile_out = crossover_data['crossover_duration'].quantile([0.25, 0.75])\n",
    "quantile_out[0.25]"
   ]
  },
  {
   "cell_type": "code",
   "execution_count": 1,
   "metadata": {},
   "outputs": [
    {
     "name": "stderr",
     "output_type": "stream",
     "text": [
      "C:\\ProgramData\\Anaconda3\\lib\\site-packages\\h5py\\__init__.py:34: FutureWarning: Conversion of the second argument of issubdtype from `float` to `np.floating` is deprecated. In future, it will be treated as `np.float64 == np.dtype(float).type`.\n",
      "  from ._conv import register_converters as _register_converters\n"
     ]
    },
    {
     "name": "stdout",
     "output_type": "stream",
     "text": [
      "An error occurred (404) when calling the HeadObject operation: Not Found\n"
     ]
    }
   ],
   "source": [
    "import get_price.quantgo_data as qd\n",
    "import warnings\n",
    "warnings.filterwarnings(\"ignore\")\n",
    "data_out = qd.get_continuous_bar_data(ticker='LCJ2018',date_to=20180108,num_days_back=10)\n"
   ]
  },
  {
   "cell_type": "code",
   "execution_count": null,
   "metadata": {
    "collapsed": true
   },
   "outputs": [],
   "source": [
    "quantgo_api."
   ]
  }
 ],
 "metadata": {
  "kernelspec": {
   "display_name": "Python 3",
   "language": "python",
   "name": "python3"
  },
  "language_info": {
   "codemirror_mode": {
    "name": "ipython",
    "version": 3
   },
   "file_extension": ".py",
   "mimetype": "text/x-python",
   "name": "python",
   "nbconvert_exporter": "python",
   "pygments_lexer": "ipython3",
   "version": "3.6.3"
  }
 },
 "nbformat": 4,
 "nbformat_minor": 2
}
