{
 "cells": [
  {
   "cell_type": "code",
   "execution_count": 1,
   "metadata": {
    "collapsed": false,
    "scrolled": true
   },
   "outputs": [
    {
     "data": {
      "text/plain": [
       "[20151223, 20151216, 20151209, 20151202, 20151125, 20151118, 20151111]"
      ]
     },
     "execution_count": 1,
     "metadata": {},
     "output_type": "execute_result"
    }
   ],
   "source": [
    "# Creating Date List For Backtesting\n",
    "import sys\n",
    "sys.path.append(r'C:\\Users\\kocat_000\\quantFinance\\PycharmProjects')\n",
    "import backtesting.utilities as bu\n",
    "dates_output = bu.get_backtesting_dates(date_to=20151228,years_back=10)\n",
    "double_dates = sorted(dates_output['double_dates'],reverse=True)\n",
    "selected_dates = double_dates[:7]\n",
    "selected_dates"
   ]
  },
  {
   "cell_type": "code",
   "execution_count": 2,
   "metadata": {
    "collapsed": false
   },
   "outputs": [],
   "source": [
    "import backtesting.backtest_futures_with_paths as bfp\n",
    "backtest_output = bfp.get_backtest_summary(date_list=selected_dates)"
   ]
  },
  {
   "cell_type": "code",
   "execution_count": 4,
   "metadata": {
    "collapsed": false
   },
   "outputs": [
    {
     "data": {
      "text/plain": [
       "0     NaN\n",
       "1     NaN\n",
       "2     NaN\n",
       "3     NaN\n",
       "4     NaN\n",
       "5     NaN\n",
       "6     NaN\n",
       "7     NaN\n",
       "8     NaN\n",
       "9     NaN\n",
       "10    NaN\n",
       "11    NaN\n",
       "12    NaN\n",
       "13    NaN\n",
       "14    NaN\n",
       "15    NaN\n",
       "16    NaN\n",
       "17    NaN\n",
       "18    NaN\n",
       "19    NaN\n",
       "20    NaN\n",
       "21    NaN\n",
       "22    NaN\n",
       "23    NaN\n",
       "24    NaN\n",
       "25    NaN\n",
       "26    NaN\n",
       "27    NaN\n",
       "28    NaN\n",
       "29    NaN\n",
       "       ..\n",
       "271     0\n",
       "272     0\n",
       "273   -19\n",
       "274   -15\n",
       "275     0\n",
       "276    -1\n",
       "277     0\n",
       "278     0\n",
       "279     0\n",
       "280    -2\n",
       "281    -3\n",
       "282    -2\n",
       "283     0\n",
       "284    -2\n",
       "285    -8\n",
       "286     0\n",
       "287     0\n",
       "288     0\n",
       "289     0\n",
       "290     0\n",
       "291     0\n",
       "292     0\n",
       "293     0\n",
       "294    -2\n",
       "295     0\n",
       "296     0\n",
       "297     0\n",
       "298     0\n",
       "299     0\n",
       "300    -1\n",
       "dtype: float64"
      ]
     },
     "execution_count": 4,
     "metadata": {},
     "output_type": "execute_result"
    }
   ],
   "source": [
    "big_data = backtest_output['big_data']\n",
    "big_data['holding_period20']-big_data['holding_period5']"
   ]
  },
  {
   "cell_type": "code",
   "execution_count": null,
   "metadata": {
    "collapsed": false
   },
   "outputs": [],
   "source": [
    "import opportunity_constructs.futures_butterfly as opfb\n",
    "import pandas as pd\n",
    "butt_out = opfb.generate_futures_butterfly_sheet_4date(date_to=20151223)\n",
    "butterflies = butt_out['butterflies']\n",
    "sheet_entry = butterflies.iloc[3]\n",
    "report_date = 20151223\n",
    "data_list = []\n",
    "\n",
    "for j in range(3):\n",
    "    \n",
    "    ticker_frame = gfp.get_futures_price_preloaded(ticker=sheet_entry['ticker'+str(j+1)],\n",
    "                                    futures_data_dictionary=futures_data_dictionary,\n",
    "                                    settle_date_from_exclusive=report_date)\n",
    "\n",
    "    ticker_frame.set_index('settle_date',drop=False,inplace=True)\n",
    "    data_list.append(ticker_frame)\n",
    "\n",
    "merged_data = pd.concat(data_list, axis=1, join='inner')\n",
    "merged_data"
   ]
  },
  {
   "cell_type": "code",
   "execution_count": null,
   "metadata": {
    "collapsed": false
   },
   "outputs": [],
   "source": [
    "sheet_entry"
   ]
  },
  {
   "cell_type": "code",
   "execution_count": 7,
   "metadata": {
    "collapsed": true
   },
   "outputs": [],
   "source": [
    "import matplotlib.pyplot as plt\n",
    "plt.plot(big_data['holding_period15'])\n",
    "plt.grid()\n",
    "plt.show()"
   ]
  },
  {
   "cell_type": "code",
   "execution_count": null,
   "metadata": {
    "collapsed": false
   },
   "outputs": [],
   "source": [
    "time_series = ratio_path.values\n",
    "trigger_value = sheet_entry['ratio_target5']\n",
    "exit_vector = ratio_path<trigger_value\n",
    "exit_vector_shifted = exit_vector.shift(-1)\n",
    "\n",
    "selection_vector = (exit_vector)&(exit_vector_shifted)\n",
    "sum(selection_vector)"
   ]
  },
  {
   "cell_type": "code",
   "execution_count": null,
   "metadata": {
    "collapsed": false
   },
   "outputs": [],
   "source": [
    "exit_vector_shifted\n",
    "obs_indx = list(range(len(time_series)))\n",
    "[x for x in range(len(time_series)) if selection_vector[x]]"
   ]
  },
  {
   "cell_type": "code",
   "execution_count": null,
   "metadata": {
    "collapsed": false
   },
   "outputs": [],
   "source": [
    "bu.find_exit_point(time_series=time_series,trigger_value=sheet_entry['ratio_target20'],\n",
    "                   trigger_direction='going_down',max_exit_point=20)"
   ]
  },
  {
   "cell_type": "code",
   "execution_count": null,
   "metadata": {
    "collapsed": false
   },
   "outputs": [],
   "source": [
    "exit_vector = time_series<trigger_value\n",
    "exit_vector."
   ]
  },
  {
   "cell_type": "code",
   "execution_count": null,
   "metadata": {
    "collapsed": false
   },
   "outputs": [],
   "source": [
    "trigger_value"
   ]
  },
  {
   "cell_type": "code",
   "execution_count": null,
   "metadata": {
    "collapsed": false
   },
   "outputs": [],
   "source": [
    "sheet_entry['ratio_target5']"
   ]
  },
  {
   "cell_type": "code",
   "execution_count": null,
   "metadata": {
    "collapsed": false
   },
   "outputs": [],
   "source": [
    "sheet_entry['ratio_target20']"
   ]
  },
  {
   "cell_type": "code",
   "execution_count": null,
   "metadata": {
    "collapsed": false
   },
   "outputs": [],
   "source": [
    "sheet_entry[['ratio_target5',\n",
    "             'ratio_target10',\n",
    "             'ratio_target15',\n",
    "             'ratio_target20',\n",
    "             'ratio_target25']]"
   ]
  },
  {
   "cell_type": "code",
   "execution_count": null,
   "metadata": {
    "collapsed": true
   },
   "outputs": [],
   "source": []
  }
 ],
 "metadata": {
  "kernelspec": {
   "display_name": "Python 3",
   "language": "python",
   "name": "python3"
  },
  "language_info": {
   "codemirror_mode": {
    "name": "ipython",
    "version": 3
   },
   "file_extension": ".py",
   "mimetype": "text/x-python",
   "name": "python",
   "nbconvert_exporter": "python",
   "pygments_lexer": "ipython3",
   "version": "3.4.3"
  }
 },
 "nbformat": 4,
 "nbformat_minor": 0
}
