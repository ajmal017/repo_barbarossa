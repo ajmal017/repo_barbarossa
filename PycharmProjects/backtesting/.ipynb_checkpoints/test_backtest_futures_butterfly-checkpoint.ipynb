{
 "cells": [
  {
   "cell_type": "code",
   "execution_count": null,
   "metadata": {
    "collapsed": false
   },
   "outputs": [],
   "source": [
    "# Creating Date List For Backtesting\n",
    "import sys\n",
    "sys.path.append(r'C:\\Users\\kocat_000\\quantFinance\\PycharmProjects')\n",
    "import backtesting.utilities as bu\n",
    "dates_output = bu.get_backtesting_dates(date_to=20151228,years_back=10)\n",
    "double_dates = sorted(dates_output['double_dates'],reverse=False)\n",
    "selected_dates = double_dates\n",
    "selected_dates\n"
   ]
  },
  {
   "cell_type": "code",
   "execution_count": null,
   "metadata": {
    "collapsed": false
   },
   "outputs": [],
   "source": [
    "# Historical Butterfly Report Run:\n",
    "\n",
    "import opportunity_constructs.futures_butterfly as fb\n",
    "\n",
    "for date_to in selected_dates:\n",
    "    fb.generate_futures_butterfly_sheet_4date(date_to=date_to)\n",
    "    \n",
    "\n",
    "    "
   ]
  },
  {
   "cell_type": "code",
   "execution_count": null,
   "metadata": {
    "collapsed": true
   },
   "outputs": [],
   "source": []
  },
  {
   "cell_type": "code",
   "execution_count": null,
   "metadata": {
    "collapsed": false
   },
   "outputs": [],
   "source": [
    "import backtesting.backtest_futures_butterfly as bfb\n",
    "import get_price.get_futures_price as gfp\n",
    "import contract_utilities.contract_meta_info as cmi\n",
    "import shared.directory_names as dn\n",
    "import pickle\n",
    "\n",
    "butterfly_output = bfb.backtest_futures_butterfly(date_list = selected_dates,\n",
    "                                                  use_existing_filesQ=True)\n",
    "\n",
    "big_data = butterfly_output['big_data']\n",
    "backtest_output = butterfly_output['backtest_output']\n"
   ]
  },
  {
   "cell_type": "code",
   "execution_count": null,
   "metadata": {
    "collapsed": false
   },
   "outputs": [],
   "source": [
    "# Basic Stats\n",
    "\n",
    "import backtesting.backtest_stats as bs\n",
    "import shared.statistics as stats\n",
    "import numpy as np\n",
    "import pandas as pd\n",
    "\n",
    "standard_short_stats1 = bs.get_summary_stats(big_data[(big_data['Q']>85) & (big_data['QF']>60)]['pnl_final'].values)\n",
    "standard_long_stats1 = bs.get_summary_stats(big_data[(big_data['Q']<15) & (big_data['QF']<40)]['pnl_final'].values)\n",
    "\n",
    "standard_short_stats2 = bs.get_summary_stats(big_data[(big_data['Q']>85) & (big_data['QF']>60)]['pnl_final'].values)\n",
    "standard_long_stats2 = bs.get_summary_stats(big_data[(big_data['Q']<15) & (big_data['QF']<40)]['pnl_final'].values)\n",
    "\n",
    "summary_table = pd.DataFrame({'class': ['Short1', 'Short2', 'Long1', 'Long2'],\n",
    "              'reward_risk': [standard_short_stats1['reward_risk'],\n",
    "                              standard_short_stats2['reward_risk'],\n",
    "                              standard_long_stats1['reward_risk'],\n",
    "                              standard_long_stats2['reward_risk']],\n",
    "              'mean_pnl': [standard_short_stats1['mean_pnl'],\n",
    "                              standard_short_stats2['mean_pnl'],\n",
    "                              standard_long_stats1['mean_pnl'],\n",
    "                              standard_long_stats2['mean_pnl']],\n",
    "              'total_pnl': [standard_short_stats1['total_pnl'],\n",
    "                              standard_short_stats2['total_pnl'],\n",
    "                              standard_long_stats1['total_pnl'],\n",
    "                              standard_long_stats2['total_pnl']]})\n",
    "\n",
    "summary_table[['class','reward_risk','mean_pnl','total_pnl']]\n",
    "\n"
   ]
  },
  {
   "cell_type": "code",
   "execution_count": null,
   "metadata": {
    "collapsed": false
   },
   "outputs": [],
   "source": [
    "# Z1 seems to be a good thing to look in general\n",
    "\n",
    "\n",
    "standard_short_stats = bs.get_summary_stats(big_data[(big_data['Q']>85) & \n",
    "                                                      (big_data['QF']>60)]['pnl_final'].values)\n",
    "\n",
    "standard_long_stats = bs.get_summary_stats(big_data[(big_data['Q']<15) & \n",
    "                                                     (big_data['QF']<40)]['pnl_final'].values)\n",
    "\n",
    "\n",
    "standard_short_stats2 = bs.get_summary_stats(big_data[(big_data['Q']>85) & \n",
    "                                                      (big_data['QF']>60) &\n",
    "                                                      (big_data['z1']>1)]['pnl_final'].values)\n",
    "\n",
    "standard_long_stats2 = bs.get_summary_stats(big_data[(big_data['Q']<15) & \n",
    "                                                     (big_data['QF']<40) &\n",
    "                                                      (big_data['z1']<-1)\n",
    "                                                    ]['pnl_final'].values)\n",
    "\n",
    "\n",
    "summary_table = pd.DataFrame({'class': ['Short1', 'Short2', 'Long1', 'Long2'],\n",
    "              'reward_risk': [standard_short_stats1['reward_risk'],\n",
    "                              standard_short_stats2['reward_risk'],\n",
    "                              standard_long_stats1['reward_risk'],\n",
    "                              standard_long_stats2['reward_risk']],\n",
    "              'mean_pnl': [standard_short_stats1['mean_pnl'],\n",
    "                              standard_short_stats2['mean_pnl'],\n",
    "                              standard_long_stats1['mean_pnl'],\n",
    "                              standard_long_stats2['mean_pnl']],\n",
    "              'total_pnl': [standard_short_stats1['total_pnl'],\n",
    "                              standard_short_stats2['total_pnl'],\n",
    "                              standard_long_stats1['total_pnl'],\n",
    "                              standard_long_stats2['total_pnl']]})\n",
    "\n",
    "summary_table[['class','reward_risk','mean_pnl','total_pnl']]\n"
   ]
  },
  {
   "cell_type": "code",
   "execution_count": null,
   "metadata": {
    "collapsed": false
   },
   "outputs": [],
   "source": [
    "# Z2 seems to be a good thing to look at for long butterflies\n",
    "\n",
    "\n",
    "standard_short_stats = bs.get_summary_stats(big_data[(big_data['Q']>85) & \n",
    "                                                      (big_data['QF']>60)]['pnl_final'].values)\n",
    "\n",
    "standard_long_stats = bs.get_summary_stats(big_data[(big_data['Q']<15) & \n",
    "                                                     (big_data['QF']<40)]['pnl_final'].values)\n",
    "\n",
    "\n",
    "standard_short_stats2 = bs.get_summary_stats(big_data[(big_data['Q']>85) & \n",
    "                                                      (big_data['QF']>60) &\n",
    "                                                      (big_data['z2']>1)]['pnl_final'].values)\n",
    "\n",
    "standard_long_stats2 = bs.get_summary_stats(big_data[(big_data['Q']<15) & \n",
    "                                                     (big_data['QF']<40) &\n",
    "                                                      (big_data['z2']<-1)\n",
    "                                                    ]['pnl_final'].values)\n",
    "\n",
    "\n",
    "summary_table = pd.DataFrame({'class': ['Short1', 'Short2', 'Long1', 'Long2'],\n",
    "              'reward_risk': [standard_short_stats1['reward_risk'],\n",
    "                              standard_short_stats2['reward_risk'],\n",
    "                              standard_long_stats1['reward_risk'],\n",
    "                              standard_long_stats2['reward_risk']],\n",
    "              'mean_pnl': [standard_short_stats1['mean_pnl'],\n",
    "                              standard_short_stats2['mean_pnl'],\n",
    "                              standard_long_stats1['mean_pnl'],\n",
    "                              standard_long_stats2['mean_pnl']],\n",
    "              'total_pnl': [standard_short_stats1['total_pnl'],\n",
    "                              standard_short_stats2['total_pnl'],\n",
    "                              standard_long_stats1['total_pnl'],\n",
    "                              standard_long_stats2['total_pnl']]})\n",
    "\n",
    "summary_table[['class','reward_risk','mean_pnl','total_pnl']]\n"
   ]
  },
  {
   "cell_type": "code",
   "execution_count": null,
   "metadata": {
    "collapsed": false
   },
   "outputs": [],
   "source": [
    "# R1 seems to be a good thing to look at in general \n",
    "\n",
    "standard_short_stats = bs.get_summary_stats(big_data[(big_data['Q']>85) & \n",
    "                                                      (big_data['QF']>60)]['pnl_final'].values)\n",
    "\n",
    "standard_long_stats = bs.get_summary_stats(big_data[(big_data['Q']<15) & \n",
    "                                                     (big_data['QF']<40)]['pnl_final'].values)\n",
    "\n",
    "\n",
    "standard_short_stats2 = bs.get_summary_stats(big_data[(big_data['Q']>85) & \n",
    "                                                      (big_data['QF']>60) &\n",
    "                                                      (big_data['r1']>50)]['pnl_final'].values)\n",
    "\n",
    "standard_long_stats2 = bs.get_summary_stats(big_data[(big_data['Q']<15) & \n",
    "                                                     (big_data['QF']<40) &\n",
    "                                                      (big_data['r1']>50)\n",
    "                                                    ]['pnl_final'].values)\n",
    "\n",
    "\n",
    "summary_table = pd.DataFrame({'class': ['Short1', 'Short2', 'Long1', 'Long2'],\n",
    "              'reward_risk': [standard_short_stats1['reward_risk'],\n",
    "                              standard_short_stats2['reward_risk'],\n",
    "                              standard_long_stats1['reward_risk'],\n",
    "                              standard_long_stats2['reward_risk']],\n",
    "              'mean_pnl': [standard_short_stats1['mean_pnl'],\n",
    "                              standard_short_stats2['mean_pnl'],\n",
    "                              standard_long_stats1['mean_pnl'],\n",
    "                              standard_long_stats2['mean_pnl']],\n",
    "              'total_pnl': [standard_short_stats1['total_pnl'],\n",
    "                              standard_short_stats2['total_pnl'],\n",
    "                              standard_long_stats1['total_pnl'],\n",
    "                              standard_long_stats2['total_pnl']]})\n",
    "\n",
    "summary_table[['class','reward_risk','mean_pnl','total_pnl']]\n"
   ]
  },
  {
   "cell_type": "code",
   "execution_count": null,
   "metadata": {
    "collapsed": false
   },
   "outputs": [],
   "source": [
    "# R2 seems to be a good thing to look at in general \n",
    "\n",
    "standard_short_stats = bs.get_summary_stats(big_data[(big_data['Q']>85) & \n",
    "                                                      (big_data['QF']>60)]['pnl_final'].values)\n",
    "\n",
    "standard_long_stats = bs.get_summary_stats(big_data[(big_data['Q']<15) & \n",
    "                                                     (big_data['QF']<40)]['pnl_final'].values)\n",
    "\n",
    "\n",
    "standard_short_stats2 = bs.get_summary_stats(big_data[(big_data['Q']>85) & \n",
    "                                                      (big_data['QF']>60) &\n",
    "                                                      (big_data['r2']>50)]['pnl_final'].values)\n",
    "\n",
    "standard_long_stats2 = bs.get_summary_stats(big_data[(big_data['Q']<15) & \n",
    "                                                     (big_data['QF']<40) &\n",
    "                                                      (big_data['r2']>50)\n",
    "                                                    ]['pnl_final'].values)\n",
    "\n",
    "\n",
    "summary_table = pd.DataFrame({'class': ['Short1', 'Short2', 'Long1', 'Long2'],\n",
    "              'reward_risk': [standard_short_stats1['reward_risk'],\n",
    "                              standard_short_stats2['reward_risk'],\n",
    "                              standard_long_stats1['reward_risk'],\n",
    "                              standard_long_stats2['reward_risk']],\n",
    "              'mean_pnl': [standard_short_stats1['mean_pnl'],\n",
    "                              standard_short_stats2['mean_pnl'],\n",
    "                              standard_long_stats1['mean_pnl'],\n",
    "                              standard_long_stats2['mean_pnl']],\n",
    "              'total_pnl': [standard_short_stats1['total_pnl'],\n",
    "                              standard_short_stats2['total_pnl'],\n",
    "                              standard_long_stats1['total_pnl'],\n",
    "                              standard_long_stats2['total_pnl']]})\n",
    "\n",
    "summary_table[['class','reward_risk','mean_pnl','total_pnl']]"
   ]
  },
  {
   "cell_type": "code",
   "execution_count": null,
   "metadata": {
    "collapsed": false
   },
   "outputs": [],
   "source": [
    "# Recent Vol Ratio Does Seem to Have Certain Implications For Sizing\n",
    "\n",
    "standard_short_stats = bs.get_summary_stats(big_data[(big_data['Q']>85) & \n",
    "                                                      (big_data['QF']>60)]['pnl_final'].values)\n",
    "\n",
    "standard_long_stats = bs.get_summary_stats(big_data[(big_data['Q']<15) & \n",
    "                                                     (big_data['QF']<40)]['pnl_final'].values)\n",
    "\n",
    "\n",
    "standard_short_stats2 = bs.get_summary_stats(big_data[(big_data['Q']>85) & \n",
    "                                                      (big_data['QF']>60) &\n",
    "                                                      (big_data['recent_vol_ratio']>1)]['pnl_final'].values)\n",
    "\n",
    "standard_long_stats2 = bs.get_summary_stats(big_data[(big_data['Q']<15) & \n",
    "                                                     (big_data['QF']<40) &\n",
    "                                                      (big_data['recent_vol_ratio']>1)\n",
    "                                                    ]['pnl_final'].values)\n",
    "\n",
    "\n",
    "summary_table = pd.DataFrame({'class': ['Short1', 'Short2', 'Long1', 'Long2'],\n",
    "              'reward_risk': [standard_short_stats1['reward_risk'],\n",
    "                              standard_short_stats2['reward_risk'],\n",
    "                              standard_long_stats1['reward_risk'],\n",
    "                              standard_long_stats2['reward_risk']],\n",
    "              'mean_pnl': [standard_short_stats1['mean_pnl'],\n",
    "                              standard_short_stats2['mean_pnl'],\n",
    "                              standard_long_stats1['mean_pnl'],\n",
    "                              standard_long_stats2['mean_pnl']],\n",
    "                'downside20': [standard_short_stats1['downside20'],\n",
    "                              standard_short_stats2['downside20'],\n",
    "                              standard_long_stats1['downside20'],\n",
    "                              standard_long_stats2['downside20']],                  \n",
    "              'total_pnl': [standard_short_stats1['total_pnl'],\n",
    "                              standard_short_stats2['total_pnl'],\n",
    "                              standard_long_stats1['total_pnl'],\n",
    "                              standard_long_stats2['total_pnl']]})\n",
    "\n",
    "summary_table[['class','reward_risk','mean_pnl','downside20','total_pnl']]"
   ]
  },
  {
   "cell_type": "code",
   "execution_count": null,
   "metadata": {
    "collapsed": false
   },
   "outputs": [],
   "source": [
    "# Recent Vol Ratio Does Seem to Have Certain Implications For Sizing\n",
    "\n",
    "standard_short_stats = bs.get_summary_stats(big_data[(big_data['Q']>85) & \n",
    "                                                      (big_data['QF']>60)]['pnl_final'].values)\n",
    "\n",
    "standard_long_stats = bs.get_summary_stats(big_data[(big_data['Q']<15) & \n",
    "                                                     (big_data['QF']<40)]['pnl_final'].values)\n",
    "\n",
    "\n",
    "standard_short_stats2 = bs.get_summary_stats(big_data[(big_data['Q']>85) & \n",
    "                                                      (big_data['QF']>60) &\n",
    "                                                      (big_data['recent_5day_pnl']<2*big_data['upside'])]['pnl_final'].values)\n",
    "\n",
    "standard_long_stats2 = bs.get_summary_stats(big_data[(big_data['Q']<15) & \n",
    "                                                     (big_data['QF']<40) &\n",
    "                                                      ((big_data['recent_5day_pnl']>2*big_data['downside']))\n",
    "                                                    ]['pnl_final'].values)\n",
    "\n",
    "\n",
    "summary_table = pd.DataFrame({'class': ['Short1', 'Short2', 'Long1', 'Long2'],\n",
    "              'reward_risk': [standard_short_stats1['reward_risk'],\n",
    "                              standard_short_stats2['reward_risk'],\n",
    "                              standard_long_stats1['reward_risk'],\n",
    "                              standard_long_stats2['reward_risk']],\n",
    "              'mean_pnl': [standard_short_stats1['mean_pnl'],\n",
    "                              standard_short_stats2['mean_pnl'],\n",
    "                              standard_long_stats1['mean_pnl'],\n",
    "                              standard_long_stats2['mean_pnl']],\n",
    "                'downside20': [standard_short_stats1['downside20'],\n",
    "                              standard_short_stats2['downside20'],\n",
    "                              standard_long_stats1['downside20'],\n",
    "                              standard_long_stats2['downside20']],                  \n",
    "              'total_pnl': [standard_short_stats1['total_pnl'],\n",
    "                              standard_short_stats2['total_pnl'],\n",
    "                              standard_long_stats1['total_pnl'],\n",
    "                              standard_long_stats2['total_pnl']]})\n",
    "\n",
    "summary_table[['class','reward_risk','mean_pnl','downside20','total_pnl']]"
   ]
  },
  {
   "cell_type": "code",
   "execution_count": null,
   "metadata": {
    "collapsed": false
   },
   "outputs": [],
   "source": [
    "standard_short_stats = bs.get_summary_stats(big_data[(big_data['Q']>85) & \n",
    "                                                      (big_data['QF']>60)]['pnl_final'].values)\n",
    "\n",
    "standard_long_stats = bs.get_summary_stats(big_data[(big_data['Q']<15) & \n",
    "                                                     (big_data['QF']<40)]['pnl_final'].values)\n",
    "\n",
    "\n",
    "\n",
    "standard_short_stats2 = bs.get_summary_stats(big_data[(big_data['Q']>85) & \n",
    "                                                      (big_data['QF']>60) &\n",
    "                                                      (big_data['r2']>50)&\n",
    "                                                      (big_data['z2']>1.5)\n",
    "                                                     ]['pnl_final'].values)\n",
    "\n",
    "standard_long_stats2 = bs.get_summary_stats(big_data[(big_data['Q']<15) & \n",
    "                                                     (big_data['QF']<40) &\n",
    "                                                      (big_data['r2']>50) &\n",
    "                                                      (big_data['z2']<-1.5)\n",
    "                                                    ]['pnl_final'].values)\n",
    "\n",
    "\n",
    "summary_table = pd.DataFrame({'class': ['Short1', 'Short2', 'Long1', 'Long2'],\n",
    "              'reward_risk': [standard_short_stats1['reward_risk'],\n",
    "                              standard_short_stats2['reward_risk'],\n",
    "                              standard_long_stats1['reward_risk'],\n",
    "                              standard_long_stats2['reward_risk']],\n",
    "              'mean_pnl': [standard_short_stats1['mean_pnl'],\n",
    "                              standard_short_stats2['mean_pnl'],\n",
    "                              standard_long_stats1['mean_pnl'],\n",
    "                              standard_long_stats2['mean_pnl']],\n",
    "              'total_pnl': [standard_short_stats1['total_pnl'],\n",
    "                              standard_short_stats2['total_pnl'],\n",
    "                              standard_long_stats1['total_pnl'],\n",
    "                              standard_long_stats2['total_pnl']]})\n",
    "\n",
    "summary_table[['class','reward_risk','mean_pnl','total_pnl']]\n"
   ]
  },
  {
   "cell_type": "code",
   "execution_count": null,
   "metadata": {
    "collapsed": false
   },
   "outputs": [],
   "source": [
    "# Ticker Head Based Analysis\n",
    "\n",
    "import contract_utilities.contract_meta_info as cmi\n",
    "ticker_head_list = cmi.futures_butterfly_strategy_tickerhead_list\n",
    "import pandas as pd\n",
    "import backtesting.backtest_stats as bs\n",
    "\n",
    "ticker_head_summary_dataframe = pd.DataFrame()\n",
    "ticker_head_summary_dataframe['ticker_head'] = ticker_head_list\n",
    "ticker_head_summary_dataframe['short_rr'] = float('NaN')\n",
    "ticker_head_summary_dataframe['long_rr'] = float('NaN')\n",
    "ticker_head_summary_dataframe['short_sum'] = float('NaN')\n",
    "ticker_head_summary_dataframe['long_sum'] = float('NaN')\n",
    "ticker_head_summary_dataframe['short_r1'] = float('NaN')\n",
    "ticker_head_summary_dataframe['short_z1'] = float('NaN')\n",
    "ticker_head_summary_dataframe['long_r1'] = float('NaN')\n",
    "ticker_head_summary_dataframe['long_z1'] = float('NaN')\n",
    "\n",
    "\n",
    "for i in range(len(ticker_head_list)):\n",
    "    \n",
    "    selected_short_trades = big_data[(big_data['Q']>85) & (big_data['QF']>60) &(big_data['tickerHead']==ticker_head_list[i])]\n",
    "    selected_long_trades = big_data[(big_data['Q']<15) & (big_data['QF']<40) &(big_data['tickerHead']==ticker_head_list[i])]\n",
    "    \n",
    "    \n",
    "    standard_short_stats = bs.get_summary_stats(selected_short_trades['pnl_final'].values)\n",
    "    standard_long_stats = bs.get_summary_stats(selected_long_trades['pnl_final'].values)\n",
    "    \n",
    "    \n",
    "    \n",
    "    ticker_head_summary_dataframe['short_rr'][i] = standard_short_stats['reward_risk']\n",
    "    ticker_head_summary_dataframe['long_rr'][i] = standard_long_stats['reward_risk']\n",
    "    \n",
    "    ticker_head_summary_dataframe['short_sum'][i] = standard_short_stats['total_pnl']\n",
    "    ticker_head_summary_dataframe['long_sum'][i] = standard_long_stats['total_pnl']\n",
    "    \n",
    "    ticker_head_summary_dataframe['short_r1'][i] = selected_short_trades['r1'].mean()\n",
    "    ticker_head_summary_dataframe['short_z1'][i] = selected_short_trades['z1'].mean()\n",
    "    \n",
    "    ticker_head_summary_dataframe['long_r1'][i] = selected_long_trades['r1'].mean()\n",
    "    ticker_head_summary_dataframe['long_z1'][i] = selected_long_trades['z1'].mean()\n",
    "    \n",
    "    \n",
    "ticker_head_summary_dataframe"
   ]
  },
  {
   "cell_type": "code",
   "execution_count": null,
   "metadata": {
    "collapsed": false
   },
   "outputs": [],
   "source": [
    "# Ticker Head Based Analysis\n",
    "\n",
    "import contract_utilities.contract_meta_info as cmi\n",
    "ticker_head_list = cmi.futures_butterfly_strategy_tickerhead_list\n",
    "import pandas as pd\n",
    "import backtesting.backtest_stats as bs\n",
    "\n",
    "ticker_head_summary_dataframe = pd.DataFrame()\n",
    "ticker_head_summary_dataframe['ticker_head'] = ticker_head_list\n",
    "ticker_head_summary_dataframe['short_rr'] = float('NaN')\n",
    "ticker_head_summary_dataframe['long_rr'] = float('NaN')\n",
    "ticker_head_summary_dataframe['short_sum'] = float('NaN')\n",
    "ticker_head_summary_dataframe['long_sum'] = float('NaN')\n",
    "ticker_head_summary_dataframe['short_r1'] = float('NaN')\n",
    "ticker_head_summary_dataframe['short_z1'] = float('NaN')\n",
    "ticker_head_summary_dataframe['long_r1'] = float('NaN')\n",
    "ticker_head_summary_dataframe['long_z1'] = float('NaN')\n",
    "\n",
    "\n",
    "for i in range(len(ticker_head_list)):\n",
    "    \n",
    "    selected_short_trades = big_data[(big_data['Q']>85) & \n",
    "                                     (big_data['QF']>60) &\n",
    "                                     (big_data['r2']>50)&\n",
    "                                     (big_data['z2']>1.5) &\n",
    "                                     (big_data['tickerHead']==ticker_head_list[i])]\n",
    "    selected_long_trades = big_data[(big_data['Q']<15) & \n",
    "                                    (big_data['QF']<40) &\n",
    "                                     (big_data['r2']>50) &\n",
    "                                     (big_data['z2']<-1.5) &\n",
    "                                    (big_data['tickerHead']==ticker_head_list[i])]\n",
    "    \n",
    "    \n",
    "    standard_short_stats = bs.get_summary_stats(selected_short_trades['pnl_2'].values)\n",
    "    standard_long_stats = bs.get_summary_stats(selected_long_trades['pnl_2'].values)\n",
    "    \n",
    "    \n",
    "    \n",
    "    ticker_head_summary_dataframe['short_rr'][i] = standard_short_stats['reward_risk']\n",
    "    ticker_head_summary_dataframe['long_rr'][i] = standard_long_stats['reward_risk']\n",
    "    \n",
    "    ticker_head_summary_dataframe['short_sum'][i] = standard_short_stats['total_pnl']\n",
    "    ticker_head_summary_dataframe['long_sum'][i] = standard_long_stats['total_pnl']\n",
    "    \n",
    "    ticker_head_summary_dataframe['short_r1'][i] = selected_short_trades['r1'].mean()\n",
    "    ticker_head_summary_dataframe['short_z1'][i] = selected_short_trades['z1'].mean()\n",
    "    \n",
    "    ticker_head_summary_dataframe['long_r1'][i] = selected_long_trades['r1'].mean()\n",
    "    ticker_head_summary_dataframe['long_z1'][i] = selected_long_trades['z1'].mean()\n",
    "    \n",
    "    \n",
    "ticker_head_summary_dataframe"
   ]
  },
  {
   "cell_type": "code",
   "execution_count": null,
   "metadata": {
    "collapsed": false
   },
   "outputs": [],
   "source": [
    "# Measuring Risk\n",
    "\n",
    "import matplotlib.pyplot as plt\n",
    "plt.scatter(big_data['recent_vol_ratio'],big_data['pnl_short5'])\n",
    "plt.grid()\n",
    "plt.show()\n",
    "\n",
    "\n",
    "\n"
   ]
  },
  {
   "cell_type": "code",
   "execution_count": null,
   "metadata": {
    "collapsed": false
   },
   "outputs": [],
   "source": [
    "import sys\n",
    "sys.path.append(r'C:\\Users\\kocat_000\\quantFinance\\PycharmProjects')\n",
    "import backtesting.backtest_futures_butterfly as bfb\n",
    "import pandas as pd\n",
    "import shared.directory_names as dn\n",
    "\n",
    "#portfolio_output2 = bfb.construct_futures_butterfly_portfolio(date_list = selected_dates)\n",
    "\n",
    "portfolio_output1 = pd.read_pickle(dn.backtest_results_folder + '/futures_butterfly/portfolio.pkl')\n",
    "\n",
    "\n",
    "import matplotlib.pyplot as plt\n",
    "plt.plot(range(len(portfolio_output2.index)),portfolio_output2['portfolio'].cumsum(),\n",
    "        range(len(portfolio_output2.index)),portfolio_output1['portfolio'].cumsum())\n",
    "plt.grid()\n",
    "plt.show()"
   ]
  },
  {
   "cell_type": "code",
   "execution_count": null,
   "metadata": {
    "collapsed": false
   },
   "outputs": [],
   "source": [
    "import backtesting.backtest_futures_butterfly as bfb\n",
    "#wuhu = bfb.construct_futures_butterfly_portfolio(rule_no=2,date_list=selected_dates)\n",
    "wuhu.loc[wuhu['pnl_short1'] < -1000,'pnl_final']=wuhu.loc[wuhu['pnl_short1'] < -1000,'pnl_short2']\n",
    "wuhu\n",
    "wuhu.loc[wuhu['pnl_short1'] < -1000]['pnl_short2']\n",
    "wuhu.loc[wuhu['pnl_short1'] < -1000]['pnl_final']"
   ]
  },
  {
   "cell_type": "code",
   "execution_count": null,
   "metadata": {
    "collapsed": false
   },
   "outputs": [],
   "source": [
    "\n",
    "import backtesting.backtest_futures_butterfly as bfb\n",
    "import contract_utilities.contract_meta_info as cmi\n",
    "import numpy as np\n",
    "import pandas as pd\n",
    "ticker_head_list = cmi.futures_butterfly_strategy_tickerhead_list\n",
    "\n",
    "\n",
    "\n",
    "contributors_output1 = bfb.analyze_portfolio_contributors(date_list=selected_dates,date_from = 20000101,date_to = 20160101,rule_no=1)\n",
    "contributors_output2 = bfb.analyze_portfolio_contributors(date_list=selected_dates,date_from = 20000101,date_to = 20160101,rule_no=2)\n",
    "\n",
    "\n",
    "\n",
    "\n"
   ]
  },
  {
   "cell_type": "code",
   "execution_count": null,
   "metadata": {
    "collapsed": false
   },
   "outputs": [],
   "source": [
    "import matplotlib.pyplot as plt\n",
    "total_pnl1 = contributors_output1['total_pnl_frame']\n",
    "total_pnl2 = contributors_output2['total_pnl_frame']\n",
    "plt.plot(range(len(total_pnl1.index)),total_pnl1['portfolio'].cumsum(),\n",
    "         range(len(total_pnl1.index)),total_pnl2['portfolio'].cumsum())\n",
    "plt.legend(['no stop','stop'],frameon=False)\n",
    "plt.grid()\n",
    "plt.show()"
   ]
  },
  {
   "cell_type": "code",
   "execution_count": null,
   "metadata": {
    "collapsed": false
   },
   "outputs": [],
   "source": [
    "total_pnl1[total_pnl1['portfolio']<-200000]\n",
    "\n",
    "sheet = backtest_output[58]\n",
    "\n",
    "ho_sheet = sheet[sheet['tickerHead']=='HO']\n",
    "ho_sheet.loc[(ho_sheet['Q']<=15)&(ho_sheet['QF']<=40)]\n"
   ]
  },
  {
   "cell_type": "code",
   "execution_count": null,
   "metadata": {
    "collapsed": false
   },
   "outputs": [],
   "source": [
    "import get_price.get_futures_price as gfp\n",
    "futures_data = gfp.get_futures_price_4ticker(ticker='HOQ2007')\n",
    "\n",
    "import matplotlib.pyplot as plt\n",
    "plt.plot(futures_data['close_price'])\n",
    "plt.grid()\n",
    "plt.show()\n",
    "\n"
   ]
  },
  {
   "cell_type": "code",
   "execution_count": null,
   "metadata": {
    "collapsed": false
   },
   "outputs": [],
   "source": [
    "import backtesting.backtest_stats as bs\n",
    "portfolio_stats1 = bs.get_summary_stats(total_pnl1['portfolio'])\n",
    "portfolio_stats2 = bs.get_summary_stats(total_pnl2['portfolio'])\n",
    "\n",
    "summary_table = pd.DataFrame({'class': ['Portfolio1', 'Portfolio2'],\n",
    "              'reward_risk': [portfolio_stats1['reward_risk'],\n",
    "                              portfolio_stats2['reward_risk']],\n",
    "              'mean_pnl': [portfolio_stats1['mean_pnl'],\n",
    "                           portfolio_stats2['mean_pnl']],\n",
    "                'downside20': [portfolio_stats1['downside20'],\n",
    "                              portfolio_stats2['downside20']],   \n",
    "                 'downside5': [portfolio_stats1['downside5'],\n",
    "                              portfolio_stats2['downside5']],              \n",
    "              'total_pnl': [portfolio_stats1['total_pnl'],\n",
    "                              portfolio_stats2['total_pnl']]})\n",
    "\n",
    "summary_table[['class','reward_risk','mean_pnl','downside20','downside5','total_pnl']]\n",
    "\n"
   ]
  },
  {
   "cell_type": "code",
   "execution_count": null,
   "metadata": {
    "collapsed": false
   },
   "outputs": [],
   "source": [
    "import get_price.get_futures_price as gfp\n",
    "import contract_utilities.contract_meta_info as cmi\n",
    "import shared.calendar_utilities as cu\n",
    "import opportunity_constructs.utilities as opUtil\n",
    "import contract_utilities.expiration as exp\n",
    "\n",
    "report_date=20120711\n",
    "post_report_date = exp.doubledate_shift_bus_days(double_date=report_date,shift_in_days=-20)\n",
    "\n",
    "futures_data_dictionary = {x: gfp.get_futures_price_preloaded(ticker_head=x) for x in cmi.futures_butterfly_strategy_tickerhead_list}\n",
    "\n",
    "\n",
    "butterflies = bfb.backtest_futures_butterfly_4date(report_date=report_date,futures_data_dictionary=futures_data_dictionary )\n",
    "\n",
    "ng_butterflies = butterflies[butterflies['tickerHead']=='S']\n",
    "ng_short = ng_butterflies[(ng_butterflies['Q']<15) & (ng_butterflies['QF'] < 40)]       \n",
    "\n",
    "ng_short.columns\n",
    "\n",
    "ng_short[['ticker1','ticker2','ticker3','r1','r2','z1','z2','Q','QF','pnl_2']]\n",
    "\n",
    "\n",
    "\n"
   ]
  },
  {
   "cell_type": "code",
   "execution_count": null,
   "metadata": {
    "collapsed": false
   },
   "outputs": [],
   "source": [
    "import sys\n",
    "sys.path.append(r'C:\\Users\\kocat_000\\quantFinance\\PycharmProjects')\n",
    "import signals.futures_signals as fs\n",
    "import shared.statistics as stats\n",
    "strategy_out = fs.get_futures_butterfly_signals({'ticker_list': ['NGV2016', 'NGX2016', 'NGF2017'],'date_to': 20151104})\n",
    "strategy_out['noise_ratio']"
   ]
  },
  {
   "cell_type": "code",
   "execution_count": 1,
   "metadata": {
    "collapsed": false
   },
   "outputs": [],
   "source": [
    "import futures_charts.futures_curve as fc\n",
    "#fc.get_futures_curve_chart_4date(ticker_head='HO',settle_date=20070214)\n",
    "aligned_output = fc.get_butterfly_panel_plot(report_date=20070214,id=124 )\n",
    "#fc.get_butterfly_scatter_plot(report_date=20070214,id=124)\n",
    "#wuhu['c1']['close_price'][0]-2*wuhu['c2']['close_price'][0]+wuhu['c3']['close_price'][0]"
   ]
  },
  {
   "cell_type": "code",
   "execution_count": 8,
   "metadata": {
    "collapsed": false
   },
   "outputs": [],
   "source": [
    "\n",
    "import matplotlib.pyplot as plt\n",
    "plt.plot(aligned_data['settle_date'],\n",
    "         aligned_data['c1']['close_price'])\n",
    "plt.grid()\n",
    "plt.show()"
   ]
  },
  {
   "cell_type": "code",
   "execution_count": null,
   "metadata": {
    "collapsed": false
   },
   "outputs": [],
   "source": [
    "# Basic Stats:\n",
    "\n",
    "import math as m\n",
    "import numpy as np\n",
    "\n",
    "total_pnl = [x['total_pnl'] for x in backtest_output]\n",
    "print('daily sd :' + str(round(np.std(total_pnl)/m.sqrt(5))))\n",
    "print('daily mean :' + str(round(np.mean(total_pnl)/5)))\n",
    "print('annualized sharp :' + str(m.sqrt(52)*np.mean(total_pnl)/np.std(total_pnl)))\n",
    "\n",
    "\n"
   ]
  },
  {
   "cell_type": "code",
   "execution_count": null,
   "metadata": {
    "collapsed": false
   },
   "outputs": [],
   "source": [
    "portfolio_pnl = [x['total_pnl'] for x in backtest_output]\n",
    "\n",
    "\n",
    "import matplotlib.pyplot as plt\n",
    "plt.plot(np.cumsum(portfolio_pnl))\n",
    "plt.grid()\n",
    "plt.show()"
   ]
  },
  {
   "cell_type": "code",
   "execution_count": null,
   "metadata": {
    "collapsed": false
   },
   "outputs": [],
   "source": [
    "\n",
    "# Tickerhead Based Results:\n",
    "\n",
    "import contract_utilities.contract_meta_info as cmi\n",
    "ticker_head_list = cmi.futures_butterfly_strategy_tickerhead_list\n",
    "pnl_ticker_head_dictionary = dict()\n",
    "\n",
    "for ticker_head in ticker_head_list:\n",
    "    \n",
    "    pnl_path_per_ticker_head = []\n",
    "    \n",
    "    for backtest_result in backtest_output:\n",
    "        ticker_head_result = backtest_result['pnl_per_tickerhead'][backtest_result['pnl_per_tickerhead']['tickerHead']==ticker_head]\n",
    "        pnl_path_per_ticker_head.append(ticker_head_result['mean_long'].sum()+ticker_head_result['mean_short'].sum())\n",
    "    \n",
    "    pnl_ticker_head_dictionary[ticker_head] = pnl_path_per_ticker_head\n",
    "  \n"
   ]
  },
  {
   "cell_type": "code",
   "execution_count": null,
   "metadata": {
    "collapsed": false
   },
   "outputs": [],
   "source": [
    "# Tickerhead Based Stats\n",
    "\n",
    "import shared.statistics as stats\n",
    "import pandas as pd\n",
    "import numpy as np\n",
    "\n",
    "ticker_head_stats = pd.DataFrame({'ticker_head': ticker_head_list})\n",
    "\n",
    "ticker_head_stats['long_mean'] = float('NaN')\n",
    "ticker_head_stats['long_rr'] = float('NaN')\n",
    "ticker_head_stats['short_mean'] = float('NaN')\n",
    "ticker_head_stats['short_rr'] = float('NaN')\n",
    "\n",
    "\n",
    "short_trades_list = [x['short_trades'] for x in backtest_output]\n",
    "long_trades_list = [x['long_trades'] for x in backtest_output]\n",
    "\n",
    "short_trades_frame  = pd.concat(short_trades_list)\n",
    "long_trades_frame  = pd.concat(long_trades_list)\n",
    "\n",
    "long_trades_frame\n",
    "\n",
    "for i in range(len(ticker_head_list)):\n",
    "    long_pnl_tickerhead = long_trades_frame['pnl'][long_trades_frame['tickerHead'] == ticker_head_list[i]]\n",
    "    short_pnl_tickerhead = short_trades_frame['pnl'][short_trades_frame['tickerHead'] == ticker_head_list[i]]\n",
    "    \n",
    "    if len(long_pnl_tickerhead) > 0:\n",
    "        ticker_head_stats['long_mean'][i] =np.nanmean(long_pnl_tickerhead)\n",
    "        long_downside = stats.get_number_from_quantile(y=long_pnl_tickerhead.values,quantile_list=[20],clean_num_obs=10)\n",
    "        ticker_head_stats['long_rr'][i] = ticker_head_stats['long_mean'][i]/abs(long_downside[0])\n",
    "        \n",
    "        \n",
    "        ticker_head_stats['short_mean'][i] =np.nanmean(short_pnl_tickerhead)\n",
    "        short_downside = stats.get_number_from_quantile(y=short_pnl_tickerhead.values,quantile_list=[20],clean_num_obs=10)\n",
    "        ticker_head_stats['short_rr'][i] = ticker_head_stats['short_mean'][i]/abs(short_downside[0])\n",
    "    \n",
    "    \n",
    "    \n",
    "    \n",
    "    \n",
    "\n",
    "\n",
    "ticker_head_stats\n",
    "\n"
   ]
  },
  {
   "cell_type": "code",
   "execution_count": null,
   "metadata": {
    "collapsed": false
   },
   "outputs": [],
   "source": [
    "# Impact of Z1\n",
    "\n",
    "selected_short = short_trades_frame[short_trades_frame['z1']>(short_trades_frame['z1'].mean())]\n",
    "selected_short_mean = selected_short['pnl'].mean()\n",
    "selected_short_downside = stats.get_number_from_quantile(y=selected_short['pnl'].values,quantile_list=[20],clean_num_obs=10)\n",
    "\n",
    "print('selected short mean: ' + str(selected_short_mean))\n",
    "print('selected short downside: ' + str(selected_short_downside[0]))\n",
    "print('selected short risk reward : ' + str(selected_short_mean/abs(selected_short_downside[0])))\n",
    "\n",
    "selected_long = long_trades_frame[long_trades_frame['z1']>(long_trades_frame['z1'].mean())]\n",
    "selected_long_mean = selected_long['pnl'].mean()\n",
    "selected_long_downside = stats.get_number_from_quantile(y=selected_long['pnl'].values,quantile_list=[20],clean_num_obs=10)\n",
    "\n",
    "print('selected long mean: ' + str(selected_long_mean))\n",
    "print('selected long downside: ' + str(selected_long_downside[0]))\n",
    "print('selected long risk reward : ' + str(selected_long_mean/abs(selected_long_downside[0])))\n",
    "\n",
    "# Results are Encouraging\n",
    "\n"
   ]
  },
  {
   "cell_type": "code",
   "execution_count": null,
   "metadata": {
    "collapsed": false
   },
   "outputs": [],
   "source": [
    "# Impact of R1\n",
    "\n",
    "selected_short = short_trades_frame[short_trades_frame['r1']<(short_trades_frame['r1'].mean())]\n",
    "selected_short_mean = selected_short['pnl'].mean()\n",
    "selected_short_downside = stats.get_number_from_quantile(y=selected_short['pnl'].values,quantile_list=[20],clean_num_obs=10)\n",
    "\n",
    "print('selected short mean: ' + str(selected_short_mean))\n",
    "print('selected short downside: ' + str(selected_short_downside[0]))\n",
    "print('selected short risk reward : ' + str(selected_short_mean/abs(selected_short_downside[0])))\n",
    "\n",
    "selected_long = long_trades_frame[long_trades_frame['r1']<(long_trades_frame['r1'].mean())]\n",
    "selected_long_mean = selected_long['pnl'].mean()\n",
    "selected_long_downside = stats.get_number_from_quantile(y=selected_long['pnl'].values,quantile_list=[20],clean_num_obs=10)\n",
    "\n",
    "print('selected long mean: ' + str(selected_long_mean))\n",
    "print('selected long downside: ' + str(selected_long_downside[0]))\n",
    "print('selected long risk reward : ' + str(selected_long_mean/abs(selected_long_downside[0])))\n",
    "\n",
    "# Results are Encouraging"
   ]
  },
  {
   "cell_type": "code",
   "execution_count": null,
   "metadata": {
    "collapsed": false
   },
   "outputs": [],
   "source": [
    "short_trades_frame['z1'].mean()"
   ]
  },
  {
   "cell_type": "code",
   "execution_count": null,
   "metadata": {
    "collapsed": false
   },
   "outputs": [],
   "source": [
    "backtest_output[1]['pnl_per_tickerhead']"
   ]
  },
  {
   "cell_type": "code",
   "execution_count": null,
   "metadata": {
    "collapsed": false
   },
   "outputs": [],
   "source": [
    "butt = backtest_output[1]['butterflies']\n",
    "butt['pnl'] = backtest_output[1]['butterfly_pnl']\n",
    "\n",
    "ng_trades = butt[butt['tickerHead']=='ED']\n",
    "\n",
    "\n",
    "short_trades = ng_trades[(ng_trades['Q']>85) & (ng_trades['QF']>60)]\n",
    "\n",
    "\n",
    "short_trades[['ticker1','ticker2','ticker3','z1','z2','second_spread_weight_1','Q','QF','pnl']]\n"
   ]
  },
  {
   "cell_type": "code",
   "execution_count": null,
   "metadata": {
    "collapsed": false
   },
   "outputs": [],
   "source": [
    "short_trades.columns\n"
   ]
  },
  {
   "cell_type": "code",
   "execution_count": null,
   "metadata": {
    "collapsed": true
   },
   "outputs": [],
   "source": []
  }
 ],
 "metadata": {
  "kernelspec": {
   "display_name": "Python 3",
   "language": "python",
   "name": "python3"
  },
  "language_info": {
   "codemirror_mode": {
    "name": "ipython",
    "version": 3
   },
   "file_extension": ".py",
   "mimetype": "text/x-python",
   "name": "python",
   "nbconvert_exporter": "python",
   "pygments_lexer": "ipython3",
   "version": "3.4.3"
  }
 },
 "nbformat": 4,
 "nbformat_minor": 0
}
