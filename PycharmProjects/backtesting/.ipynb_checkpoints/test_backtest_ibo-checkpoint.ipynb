{
 "cells": [
  {
   "cell_type": "code",
   "execution_count": null,
   "metadata": {
    "collapsed": true
   },
   "outputs": [],
   "source": [
    "# Notes: There seem to be some negative correlation between delta_60 and delta15 but I am going to need more data before this is \n",
    "# conclusive"
   ]
  },
  {
   "cell_type": "code",
   "execution_count": 2,
   "metadata": {
    "collapsed": true
   },
   "outputs": [],
   "source": [
    "import contract_utilities.expiration as exp\n",
    "import opportunity_constructs.intraday_future_spreads as ifs\n",
    "report_date = exp.doubledate_shift_bus_days(shift_in_days=3)\n",
    "date_list = exp.get_bus_day_list(date_from=20160915, date_to=report_date)"
   ]
  },
  {
   "cell_type": "code",
   "execution_count": null,
   "metadata": {
    "collapsed": true
   },
   "outputs": [],
   "source": [
    "import opportunity_constructs.intraday_breakouts as ib\n",
    "\n",
    "for i in range(len(date_list)):\n",
    "    print(date_list[i])\n",
    "    ib.generate_ibo_sheet_4date(date_to=date_list[i])"
   ]
  },
  {
   "cell_type": "code",
   "execution_count": 3,
   "metadata": {
    "collapsed": false
   },
   "outputs": [
    {
     "name": "stdout",
     "output_type": "stream",
     "text": [
      "20160915\n",
      "20160916\n",
      "20160919\n",
      "20160920\n",
      "20160921\n",
      "20160922\n",
      "20160923\n",
      "20160926\n",
      "20160927\n",
      "20160928\n",
      "20160929\n",
      "20160930\n",
      "20161003\n",
      "20161004\n",
      "20161005\n",
      "20161006\n",
      "20161007\n",
      "20161010\n",
      "20161011\n",
      "20161012\n",
      "20161013\n",
      "20161014\n",
      "20161017\n",
      "20161018\n",
      "20161019\n",
      "20161020\n",
      "20161021\n",
      "20161024\n",
      "20161025\n",
      "20161026\n",
      "20161027\n",
      "20161028\n",
      "20161031\n",
      "20161101\n",
      "20161102\n",
      "20161103\n",
      "20161104\n",
      "20161107\n",
      "20161108\n",
      "20161109\n",
      "20161110\n",
      "20161111\n",
      "20161114\n",
      "20161115\n",
      "20161116\n",
      "20161117\n",
      "20161118\n",
      "20161121\n",
      "20161122\n",
      "20161123\n",
      "20161125\n",
      "20161128\n",
      "20161129\n",
      "20161130\n",
      "20161201\n",
      "20161202\n",
      "20161205\n",
      "20161206\n",
      "20161207\n",
      "20161208\n",
      "20161209\n"
     ]
    }
   ],
   "source": [
    "import backtesting.backtest_ibo as bibo\n",
    "backtest_output_list = []\n",
    "\n",
    "for i in range(len(date_list)):\n",
    "    print(date_list[i])\n",
    "    backtest_output_list.append(bibo.backtest_continuous_ibo_4date(date_to=date_list[i]))"
   ]
  },
  {
   "cell_type": "code",
   "execution_count": 4,
   "metadata": {
    "collapsed": true
   },
   "outputs": [],
   "source": [
    "import pandas as pd\n",
    "big_data = pd.concat(backtest_output_list)\n",
    "big_data['delta60Short'] = -big_data['delta60']\n",
    "big_data['delta15Short'] = -big_data['delta15']\n",
    "big_data['delta_morningShort'] = -big_data['delta_morning']\n",
    "big_data['delta_afternoonShort'] = -big_data['delta_afternoon']"
   ]
  },
  {
   "cell_type": "code",
   "execution_count": 17,
   "metadata": {
    "collapsed": false
   },
   "outputs": [
    {
     "data": {
      "text/html": [
       "<div>\n",
       "<table border=\"1\" class=\"dataframe\">\n",
       "  <thead>\n",
       "    <tr style=\"text-align: right;\">\n",
       "      <th></th>\n",
       "      <th>indicator_ulimit</th>\n",
       "      <th>mean_pnl</th>\n",
       "      <th>reward_risk</th>\n",
       "    </tr>\n",
       "  </thead>\n",
       "  <tbody>\n",
       "    <tr>\n",
       "      <th>0</th>\n",
       "      <td>-0.423480</td>\n",
       "      <td>0.002339</td>\n",
       "      <td>0.017098</td>\n",
       "    </tr>\n",
       "    <tr>\n",
       "      <th>1</th>\n",
       "      <td>-0.257608</td>\n",
       "      <td>0.003471</td>\n",
       "      <td>0.033317</td>\n",
       "    </tr>\n",
       "    <tr>\n",
       "      <th>2</th>\n",
       "      <td>-0.157602</td>\n",
       "      <td>0.001053</td>\n",
       "      <td>0.011615</td>\n",
       "    </tr>\n",
       "    <tr>\n",
       "      <th>3</th>\n",
       "      <td>-0.081668</td>\n",
       "      <td>0.003060</td>\n",
       "      <td>0.035862</td>\n",
       "    </tr>\n",
       "    <tr>\n",
       "      <th>4</th>\n",
       "      <td>-0.003311</td>\n",
       "      <td>0.003680</td>\n",
       "      <td>0.047894</td>\n",
       "    </tr>\n",
       "    <tr>\n",
       "      <th>5</th>\n",
       "      <td>0.045745</td>\n",
       "      <td>-0.002466</td>\n",
       "      <td>-0.032095</td>\n",
       "    </tr>\n",
       "    <tr>\n",
       "      <th>6</th>\n",
       "      <td>0.128720</td>\n",
       "      <td>-0.002686</td>\n",
       "      <td>-0.032241</td>\n",
       "    </tr>\n",
       "    <tr>\n",
       "      <th>7</th>\n",
       "      <td>0.250810</td>\n",
       "      <td>-0.000093</td>\n",
       "      <td>-0.001035</td>\n",
       "    </tr>\n",
       "    <tr>\n",
       "      <th>8</th>\n",
       "      <td>NaN</td>\n",
       "      <td>0.005266</td>\n",
       "      <td>0.044483</td>\n",
       "    </tr>\n",
       "  </tbody>\n",
       "</table>\n",
       "</div>"
      ],
      "text/plain": [
       "   indicator_ulimit  mean_pnl  reward_risk\n",
       "0         -0.423480  0.002339     0.017098\n",
       "1         -0.257608  0.003471     0.033317\n",
       "2         -0.157602  0.001053     0.011615\n",
       "3         -0.081668  0.003060     0.035862\n",
       "4         -0.003311  0.003680     0.047894\n",
       "5          0.045745 -0.002466    -0.032095\n",
       "6          0.128720 -0.002686    -0.032241\n",
       "7          0.250810 -0.000093    -0.001035\n",
       "8               NaN  0.005266     0.044483"
      ]
     },
     "execution_count": 17,
     "metadata": {},
     "output_type": "execute_result"
    }
   ],
   "source": [
    "import pandas as pd\n",
    "import backtesting.backtest_stats as bs\n",
    "\n",
    "#big_data['tickerHead'] = big_data['spread_description']\n",
    "\n",
    "trade_data = big_data\n",
    "trade_data = big_data[big_data['z1']<0]\n",
    "bs.get_indicator_rr_table(trade_data=trade_data,indicator_name='delta_60',\n",
    "                                strategy_class='ibo',\n",
    "                                long_pnl_field='delta15',\n",
    "                                short_pnl_field='delta15Short')"
   ]
  },
  {
   "cell_type": "code",
   "execution_count": 99,
   "metadata": {
    "collapsed": false
   },
   "outputs": [
    {
     "name": "stdout",
     "output_type": "stream",
     "text": [
      "KC\n"
     ]
    }
   ],
   "source": [
    "settle_dates = big_data['settle_date'].unique()\n",
    "unique_tickerhead_list = big_data['ticker_head'].unique()\n",
    "long_pnl_list = []\n",
    "short_pnl_list = []\n",
    "\n",
    "j = 17\n",
    "print(unique_tickerhead_list[j])\n",
    "\n",
    "for i in range(len(settle_dates)):\n",
    "    daily_data = big_data[(big_data['settle_date']==settle_dates[i])&\n",
    "                          (big_data['ticker_head']==unique_tickerhead_list[j])&\n",
    "                          ((big_data['hour_minute']==900)|\n",
    "                           (big_data['hour_minute']==915)|\n",
    "                           (big_data['hour_minute']==930)|\n",
    "                           (big_data['hour_minute']==945)|\n",
    "                           (big_data['hour_minute']==1000)|\n",
    "                           (big_data['hour_minute']==1015)|\n",
    "                           (big_data['hour_minute']==1030)|\n",
    "                           (big_data['hour_minute']==1045)|\n",
    "                           (big_data['hour_minute']==1100)|\n",
    "                           (big_data['hour_minute']==1115)|\n",
    "                           (big_data['hour_minute']==1130)|\n",
    "                           (big_data['hour_minute']==1145)|\n",
    "                           (big_data['hour_minute']==1200)|\n",
    "                           (big_data['hour_minute']==1215)|\n",
    "                           (big_data['hour_minute']==1230)|\n",
    "                           (big_data['hour_minute']==1245))]\n",
    "    \n",
    "    short_trades = daily_data[(daily_data['delta_60']>0.4)&(daily_data['z1']>0)]\n",
    "    long_trades = daily_data[(daily_data['delta_60']<-0.4)&(daily_data['z1']<0)]\n",
    "    \n",
    "    #long_trades = daily_data[(daily_data['z5']>0)]\n",
    "    #short_trades = daily_data[(daily_data['z5']<0)]\n",
    "    \n",
    "    \n",
    "    #short_trades = daily_data[(daily_data['long_term_trend']==-1)]\n",
    "    #long_trades = daily_data[(daily_data['long_term_trend']==1)]\n",
    "    \n",
    "    #short_trades.sort(['ticker_head', 'hour_minute'], ascending=[True, True], inplace=True)\n",
    "    #long_trades.sort(['ticker_head', 'hour_minute'], ascending=[True, True], inplace=True)\n",
    "    \n",
    "    #short_trades.drop_duplicates(subset=['ticker_head'], take_last=False, inplace=True)\n",
    "    #long_trades.drop_duplicates(subset=['ticker_head'], take_last=False, inplace=True)\n",
    "    \n",
    "    #short_trades = daily_data[(daily_data['long_term_trend']==-1)&(daily_data['hour_minute']==1000)]\n",
    "    #long_trades = daily_data[(daily_data['long_term_trend']==1)&(daily_data['hour_minute']==1000)]\n",
    "    \n",
    "  \n",
    "    long_pnl_list.append(long_trades['delta15'].sum())\n",
    "    short_pnl_list.append(-short_trades['delta15'].sum())\n",
    "    \n",
    "    \n",
    "\n",
    "portfolio_frame = pd.DataFrame.from_items([('short_pnl', short_pnl_list), ('long_pnl', long_pnl_list)])\n",
    "portfolio_frame['pnl'] = portfolio_frame['short_pnl']+portfolio_frame['long_pnl']\n",
    "\n",
    "\n"
   ]
  },
  {
   "cell_type": "code",
   "execution_count": 91,
   "metadata": {
    "collapsed": false
   },
   "outputs": [
    {
     "data": {
      "text/plain": [
       "array(['AD', 'B', 'BO', 'BP', 'C', 'CC', 'CD', 'CL', 'CT', 'EC', 'ED',\n",
       "       'ES', 'FC', 'FV', 'GC', 'HO', 'JY', 'KC', 'KW', 'LC', 'LN', 'NG',\n",
       "       'NQ', 'OJ', 'RB', 'S', 'SB', 'SI', 'SM', 'TU', 'TY', 'US', 'W'], dtype=object)"
      ]
     },
     "execution_count": 91,
     "metadata": {},
     "output_type": "execute_result"
    }
   ],
   "source": [
    "unique_tickerhead_list"
   ]
  },
  {
   "cell_type": "code",
   "execution_count": 100,
   "metadata": {
    "collapsed": false
   },
   "outputs": [
    {
     "data": {
      "text/plain": [
       "-0.6309993353625631"
      ]
     },
     "execution_count": 100,
     "metadata": {},
     "output_type": "execute_result"
    }
   ],
   "source": [
    "16*portfolio_frame['pnl'].mean()/portfolio_frame['pnl'].std()\n",
    "\n",
    "# with delta_60 and z1: 3.7 sharp\n",
    "# with delta_60 and z2: 2.9 sharp\n",
    "# with delta_60 and z5: 3.0 sharp\n",
    "\n",
    "# AD Sharp: 0.25\n",
    "# B Sharp: 2\n",
    "# BO Sharp: 0.7\n",
    "# BP Sharp: 1.2\n",
    "# C Sharp: -1.9\n",
    "# CC Sharp: 0.5\n",
    "# CD Sharp: 3.1\n",
    "# CL Sharp: 3.1\n",
    "# CT Sharp: 2.6\n",
    "# EC Sharp: -0.32\n",
    "# ED Sharp: 1.4\n",
    "# ES Sharp: -3.5\n",
    "# FC Sharp: 1.3\n",
    "# FV Sharp: -1.4\n",
    "# GC Sharp: 1.9\n",
    "# HO Sharp: 2.7\n",
    "# JY Sharp: -1.1\n",
    "\n",
    "\n",
    "\n",
    "\n",
    "\n",
    "\n"
   ]
  },
  {
   "cell_type": "code",
   "execution_count": 96,
   "metadata": {
    "collapsed": true
   },
   "outputs": [],
   "source": [
    "import matplotlib.pyplot as plt\n",
    "plt.plot(range(len(portfolio_frame.index)),portfolio_frame['pnl'].cumsum(),\n",
    "         range(len(portfolio_frame.index)),portfolio_frame['short_pnl'].cumsum(),\n",
    "         range(len(portfolio_frame.index)),portfolio_frame['long_pnl'].cumsum())\n",
    "plt.grid()   \n",
    "plt.legend(['total','short','long'])\n",
    "         \n",
    "plt.show()"
   ]
  },
  {
   "cell_type": "code",
   "execution_count": null,
   "metadata": {
    "collapsed": true
   },
   "outputs": [],
   "source": []
  }
 ],
 "metadata": {
  "kernelspec": {
   "display_name": "Python 3",
   "language": "python",
   "name": "python3"
  },
  "language_info": {
   "codemirror_mode": {
    "name": "ipython",
    "version": 3
   },
   "file_extension": ".py",
   "mimetype": "text/x-python",
   "name": "python",
   "nbconvert_exporter": "python",
   "pygments_lexer": "ipython3",
   "version": "3.4.3"
  }
 },
 "nbformat": 4,
 "nbformat_minor": 0
}
